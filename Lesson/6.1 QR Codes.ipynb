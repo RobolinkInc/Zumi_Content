{
 "cells": [
  {
   "cell_type": "markdown",
   "metadata": {},
   "source": [
    "<img src=\"../Data/images/ZumiHeader.png\" width=700>"
   ]
  },
  {
   "cell_type": "markdown",
   "metadata": {},
   "source": [
    "# QR Codes\n",
    "\n",
    "<font size=3>You've probably seen **Quick Response (QR)** codes for a wide variety of things: to connect to WiFi, go to a URL, play games, or make payments. These codes are so popular because they are condensed labels that can easily be read by a computer. Many smartphones have built-in QR code scanners, but there are many other applications that can decode them. In this lesson, you will learn how QR codes work and how you can implement them into your Zumi world.\n",
    "</font>\n",
    "\n",
    "\n",
    "## Scanning a QR Code\n",
    "\n",
    "<font size = 3>QR codes may look like a random array of pixels to humans, but to a computer, they contain encoded information! Take a look at the following QR code. What do you think it says?\n",
    "</font>\n",
    "\n",
    "<img src=\"../Data/images/QR_hello.png\" width=300>\n",
    "\n",
    "<font size = 3>To read this QR code, you need to import a few libraries.</font>"
   ]
  },
  {
   "cell_type": "code",
   "execution_count": null,
   "metadata": {},
   "outputs": [],
   "source": [
    "from zumi.zumi import Zumi\n",
    "from zumi.util.camera import Camera\n",
    "from zumi.util.vision import Vision\n",
    "\n",
    "camera = Camera()\n",
    "vision = Vision()"
   ]
  },
  {
   "cell_type": "markdown",
   "metadata": {},
   "source": [
    "<font size = 3>Now run the following code and show Zumi's camera the same QR code. What does it say? Look at the output of the cell to see the hidden message...</font>\n",
    "<img src=\"../Data/images/QR_hello.png\" width=300>\n"
   ]
  },
  {
   "cell_type": "code",
   "execution_count": null,
   "metadata": {},
   "outputs": [],
   "source": [
    "camera.start_camera()\n",
    "try: \n",
    "    for i in range(50):\n",
    "        frame = camera.capture()\n",
    "        vision.find_QR_code(frame)\n",
    "        camera.show_image(frame)\n",
    "        camera.clear_output()\n",
    "finally:\n",
    "    print(\"Done!\")\n",
    "    camera.close()  "
   ]
  },
  {
   "cell_type": "markdown",
   "metadata": {},
   "source": [
    "### find_QR_code()\n",
    "<font size=3>It's time to introduce a new function! The function that you saw above, <font face=\"Courier\">find_QR_code()</font>, will process the image that is given as a parameter and draw a rectangle around the code with the decoded message on it."
   ]
  },
  {
   "cell_type": "markdown",
   "metadata": {},
   "source": [
    "## How does a QR code work?\n",
    "<font size=3>The QR code was encoded to read \"Hello!\", but how does this work? To understand, you need to learn a little bit about binary, the computer's language. </font>\n",
    "\n",
    "### Binary\n",
    "\n",
    "<font size=3>You have probably seen binary before but didn't know its name. Does this look familiar? <br> <br>\n",
    "\n",
    "<img src=\"../Data/images/binary_message.png\">\n",
    "\n",
    "**Binary** is the language that a computer uses. Since a computer is an electronic device, the computer has to send messages with electronic pulses. When the pulse is HIGH, it is interpreted as 1. When it is LOW, the computer interprets it as a 0. A computer can send these pulses extremely fast -- much faster than a human can even process! These individual values are called **bits**, which is short for **binary digit**, or a digit that can only have only two values. These two values are 0 and 1.</font>\n",
    "\n",
    "<img src=\"../Data/images/byte_bit.png\">\n",
    "\n",
    "<font size=3>A **byte** is 8 bits long. In the example above, there are 6 bytes of information. Each byte represents one letter or character. Let's decipher the first byte: 01001000. <br> </font>\n",
    "\n",
    "    \n",
    "### Decimal system\n",
    "    \n",
    "<font size=3>First, what is the value of the number below in the **decimal** system? \n",
    "\n",
    "<img src=\"../Data/images/decimal.png\" width=500>\n",
    "\n",
    "In the decimal system, you have 9 digits to use: 0, 1, 2, 3, 4, 5, 6, 7, 8, and 9. When you reach the number 10, we use a one and a zero to represent that there is a one in the tens place and zero ones. </font>\n",
    "    \n",
    "###  Binary system\n",
    "\n",
    "<font size=3>What if you only had ones and zeros to work with? Let's start counting up from zero. 0,1,... but how do we represent the number 2 without using another digit other than 1 or 0? Think about how we represent the number 10. Instead of having a unique symbol for every number, we represent 10 with a one and a zero. The one represents that there is one multiple of 10<sup>1</sup> (ten to the first power), and the zero represents that there are zero multiples of 10<sup>0</sup>. (Remember that anything raised to the power of zero is equal to one.) Adding these two together gives you 10+0=10.\n",
    "\n",
    "Back to binary: how can we represent the number 2 with only ones and zeros? Each place in the number will now represent a multiple of 2 instead of a multiple of 10.\n",
    "\n",
    "\n",
    "<img src=\"../Data/images/binary.png\" width=500>\n",
    "\n",
    "If you look at the diagram, you can see that two can be represented by 10. There is 1 multiple of 2<sup>1</sup>, and zero multiples of 2<sup>0</sup>. Adding these two together, 2+0 = 0.\n",
    "\n",
    "Following this idea, in the number 01001000, there is a 1 in the 2<sup>6</sup> place and a 1 in the 2<sup>3</sup> place. 2 * 2 * 2 * 2 * 2 * 2 = 64, and 2 * 2 * 2 = 8. If you add 64 and 8, you get 72. If you feel like you need extra practice with this, try this [code.org](https://studio.code.org/projects/applab/iukLbcDnzqgoxuu810unLw) binary game out!\n",
    "\n",
    " </font>\n",
    " \n",
    " <img src=\"../Data/images/binary_to_decimal.png\" width=500>\n",
    "\n",
    "### ASCII\n",
    "\n",
    "<font size=3>In code, each letter and character has a numerical representation. The number 72 represents the *capital* letter H. Since computers can't understand letters, the **ASCII**, or American Standard Code for Information Interchange, table was made to come up with a number to represent common characters and symbols. Take a look at the ASCII table below and try to decipher the rest of this binary message. You can use scratch paper to make diagrams like the ones above. <br> <br>\n",
    "\n",
    "<img src=\"../Data/images/binary_message.png\" width=1300>\n",
    "\n",
    "<img src=\"../Data/images/ascii_table.png\" width=800>\n",
    "\n",
    "Good job if you got \"Hello!\", the same message that was encoded in the QR code. How does this binary code get translated to the QR code’s matrix of black and white squares? Remember that binary only uses two digits. This can also be represented by a black square or a white square, \"on\" or \"off\". If you wrap that message around like a snake into the shape of a square, you will get a QR code! There are a few more details and rules about the formatting, but the general idea is the same. Here is the QR code for \"wikipedia.org\" broken down:</font>\n",
    "\n",
    "<img src=\"../Data/images/qr_format.png\" width=600>\n",
    "    <center>https://commons.wikimedia.org/wiki/File:Micro_QR_Encoding.svg</center>\n",
    "\n",
    "<font size=3>Now that you know how QR codes work, you can generate your own and use them in your programs!</font>\n",
    "\n",
    "\n",
    "## QR Messages\n",
    "<font size=3> The good news is that you don't need to write code that will decode the message. Now that you know how it works, you can use a new function to do this for you. First, you will need to take a picture and check if a QR code has been detected. This means you will have to use an if statement to check if a QR code was found. For example, assuming a picture was taken and saved in <font face=\"Courier\">frame</font>, first detect a QR code: <br>\n",
    "    \n",
    "<font face=\"Courier\">qr_code = vision.find_QR_code(frame)</font> <br><br>\n",
    "    \n",
    "Then you can show the message by printing the value of <font face=\"Courier\">get_QR_message(qr_code)</font>. Get one of the QR codes from the printouts and place it in front of Zumi's camera. Then run the code to see the message!"
   ]
  },
  {
   "cell_type": "code",
   "execution_count": null,
   "metadata": {},
   "outputs": [],
   "source": [
    "camera = Camera()\n",
    "camera.start_camera()\n",
    "frame = camera.capture()\n",
    "camera.close()\n",
    "qr_code = vision.find_QR_code(frame)\n",
    "message = vision.get_QR_message(qr_code)\n",
    "print(message)"
   ]
  },
  {
   "cell_type": "markdown",
   "metadata": {},
   "source": [
    "<font size=3>But what happens if Zumi doesn't see a QR code? Run the code again without a QR code. What is the output?</font>"
   ]
  },
  {
   "cell_type": "markdown",
   "metadata": {},
   "source": [
    "### Checking for equality\n",
    "<font size=3> Reading the message on a QR code is helpful, but only if you can use the information to make decisions! Do you remember the lesson on if statements? Now you are going to put it all together! In lesson 3.2 on obstacle avoidance, you learned how to use if statements to compare numbers. In this case, the message is a **string** of characters. Asking if \"apple\" is greater than \"banana\" doesn't really make sense, but you might see if the two messages match, or are equal. In Python, checking if two values are equal looks like this:<br> <br>\n",
    "    \n",
    "<font face=\"Courier\">\n",
    "if message == \"apples\":<br>\n",
    "<span style=\"margin-left: 40px;\"> # Do something here! </span><br><br>\n",
    "</font>\n",
    "    \n",
    "In this example, <font face=\"Courier\">message</font> is the variable. If the value inside the variable is exactly equal to \"apples\", then the if statement will execute. And yes, you need the two equal signs!\n",
    "\n",
    "### Making decisions with QR\n",
    "<font size=3> Choose two QR codes from the printable sheets and use the previous code to figure out what the message says. For example, if you pick \"school\" and \"museum\", set two locations in your area to represent each one. At the beginning of your program, show Zumi the QR code. If she detects a QR code, Zumi will drive to the destination.\n",
    "    \n",
    "<img src=\"../Data/images/qr_decision.png\" width=700>  \n",
    "\n",
    "Let's go over what the psuedocode would look like:<br><br>\n",
    "\n",
    "<font face=\"Courier\"> start the camera<br>\n",
    "take a picture and save it in a variable 'image'<br>\n",
    "close the camera<br>\n",
    "find a QR code (if any) in 'image' and save the result in a variable 'qr_code'<br>\n",
    "get the QR message and save it in a variable 'message'<br>\n",
    "if the message says \"school\", drive to the school<br>\n",
    "else if the message says \"museum\", drive to the museum<br><br>\n",
    "    </font>\n",
    "    \n",
    "Now, write your code below. Remember that you need to save the image, the QR code, and the message in variables so that you can use them in your if statements later. Don't forget colons and indentation for your if statements!  "
   ]
  },
  {
   "cell_type": "code",
   "execution_count": null,
   "metadata": {},
   "outputs": [],
   "source": [
    "zumi = Zumi() # This is for running your driving commands!\n",
    "# Write the rest here!"
   ]
  }
 ],
 "metadata": {
  "kernelspec": {
   "display_name": "Python 3",
   "language": "python",
   "name": "python3"
  },
  "language_info": {
   "codemirror_mode": {
    "name": "ipython",
    "version": 3
   },
   "file_extension": ".py",
   "mimetype": "text/x-python",
   "name": "python",
   "nbconvert_exporter": "python",
   "pygments_lexer": "ipython3",
   "version": "3.5.3"
  }
 },
 "nbformat": 4,
 "nbformat_minor": 2
}
