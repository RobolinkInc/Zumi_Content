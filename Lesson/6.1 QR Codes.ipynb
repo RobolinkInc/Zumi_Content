{
 "cells": [
  {
   "cell_type": "markdown",
   "metadata": {},
   "source": [
    "<img src=\"../Data/images/ZumiHeader.png\" width=700>"
   ]
  },
  {
   "cell_type": "markdown",
   "metadata": {},
   "source": [
    "\n",
    "# QR Codes\n",
    "\n",
    "<font size=3>You've probably seen Quick Response (QR) codes for a wide variety of things: to connect to WiFi, go to a URL, play games, or make payments. These codes are so popular because they are condensed labels that can easily be read by a computer. Many smartphones have built-in QR code scanners, but there are many other applications that can decode them. In this lesson, you will learn how QR codes work and how you can implement them into your Zumi world.\n",
    "</font>\n",
    "\n",
    "\n",
    "## QR Code Examples\n",
    "\n",
    "<font size = 3>QR codes may look like a random array of pixels to humans, but to a computer, they contain encoded information! Take a look at the following QR code. What do you think it says?\n",
    "</font>\n",
    "\n",
    "<img src=\"../Data/images/QR_hello.png\" width=300>\n",
    "\n",
    "<font size = 3>To read this QR code, you need to import a few libraries.</font>"
   ]
  },
  {
   "cell_type": "code",
   "execution_count": null,
   "metadata": {},
   "outputs": [],
   "source": [
    "import cv2\n",
    "import numpy as np\n",
    "import pyzbar.pyzbar as pyzbar\n",
    "import IPython.display\n",
    "import PIL.Image\n",
    "import time\n",
    "from zumi.util.camera import Camera\n"
   ]
  },
  {
   "cell_type": "markdown",
   "metadata": {},
   "source": [
    "<font size = 3>Now run the following code and show Zumi's camera the same QR code. What does it say? Look at the output of the cell to see the hidden message...</font>\n",
    "<img src=\"../Data/images/QR_hello.png\" width=300>\n"
   ]
  },
  {
   "cell_type": "code",
   "execution_count": null,
   "metadata": {},
   "outputs": [],
   "source": [
    "cam = Camera()\n",
    "font = cv2.FONT_HERSHEY_PLAIN\n",
    "cam.start_camera() # Turn on the camera\n",
    "\n",
    "try:\n",
    "    while True:\n",
    "        frame = cam.capture() # take a picture\n",
    "        h,w,channel = frame.shape # Get the height and width of the image in pixels\n",
    "        decodedObjects = pyzbar.decode(frame) # Run a function that looks for codes in that frame\n",
    "        if len(decodedObjects) > 0: # If the code finds more than one code...\n",
    "            for obj in decodedObjects: # For each code...\n",
    "                print(\"Found \", obj.type) # Print the type of code (barcode or QR code)\n",
    "                data = obj.data.decode(\"utf-8\") # Decode the message\n",
    "                print(\"Message: \", data) # Print the message\n",
    "        IPython.display.clear_output(wait=True) # Clear the output screen\n",
    "            \n",
    "finally:\n",
    "    cam.close()"
   ]
  },
  {
   "cell_type": "markdown",
   "metadata": {},
   "source": [
    "<font size=3>The QR code was encoded to read \"Hello!\". How does this work? To understand, you need to learn a little bit about binary, the computer's language.</font>\n",
    "\n",
    "## Binary\n",
    "\n",
    "<font size=3>You have probably seen binary before but didn't know its name. Does this look familiar?\n",
    "\n",
    "<font style=\"Courier\"> 01001000 01100101 01101100 01101100 01101111 00100001</font>\n",
    "\n",
    "**Binary** is the language that a computer uses. Since a computer is an electronic device, the computer has to send messages with electronic pulses. When the pulse is HIGH, it is interpreted as 1. When it is LOW, the computer interprets it as a 0. A computer can send these pulses extremely fast -- much faster than a human can even process! These individual values are called **bits**, which is short for **binary digit**, or a digit that can only have only two values. These two values are 0 and 1.</font>\n",
    "\n",
    "### How to read a byte\n",
    "<font size =3>A **byte** is 8 bits long. In the example above, there are 6 bytes of information. Each byte represents one letter or character. Let's decipher the first byte:\n",
    "\n",
    "01001000 <br><br>\n",
    "\n",
    "In the **decimal** system, you might read this number as one million one thousand, or 1,001,000. You interpret this number because each place is a multiple of 10. \n",
    "\n",
    "\n",
    "<img src=\"../Data/images/decimal_values.svg\" width=300>\n",
    "\n",
    "What if you only had ones and zeros to work with? Let's start counting up from zero. 0,1,... but how do we represent the number 2 without using another digit other than 1 or 0? Think about how we represent the number 10. Instead of having a unique symbol for every number, we represent 10 with a one and a zero. The one represents that there is one multiple of 10<sup>1</sup> (ten to the first power), and the zero represents that there are zero multiples of 10<sup>0</sup>. (Remember that anything raised to the power of zero is equal to one.) Adding these two together gives you 10+0=10.\n",
    "\n",
    "Back to binary: how can we represent the number 2 with only ones and zeros? Each place in the number will now represent a multiple of 2 instead of a multiple of 10.\n",
    "\n",
    "\n",
    "<img src=\"../Data/images/binary_values.png\" width=300>\n",
    "\n",
    "If you look at the diagram, you can see that two can be represented by 10. There is 1 multiple of 2<sup>1</sup>, and zero multiples of 2<sup>0</sup>. Adding these two together, 2+0 = 0.\n",
    "\n",
    "Following this idea, in the number 01001000, there is a 1 in the 2<sup>6</sup> place and a 1 in the 2<sup>3</sup> place. 2 * 2 * 2 * 2 * 2 * 2 = 64, and 2 * 2 * 2 = 8. If you add 64 and 8, you get 72. If you feel like you need extra practice with this, try this [code.org](https://studio.code.org/projects/applab/iukLbcDnzqgoxuu810unLw) binary game out!\n",
    "\n",
    " </font>\n",
    "\n",
    "### ASCII\n",
    "\n",
    "<font size=3>In code, each letter and character has a numerical representation. The number 72 represents the *capital* letter H. Since computers can't understand letters, the **ASCII**, or American Standard Code for Information Interchange, table was made to come up with a number to represent common characters and symbols. Take a look at the ASCII table below and try to decipher the rest of this binary message. You can use scratch paper to make diagrams like the ones above. <br> <br>\n",
    "\n",
    "01001000 <font color=\"#34c3eb\">01100101</font> 01101100 <font color=\"#34c3eb\">01101100</font> 01101111 <font color=\"#34c3eb\">00100001</font><br><br>\n",
    "\n",
    "\n",
    "<img src=\"../Data/images/ascii_table.png\" width=800>\n",
    "\n",
    "Good job if you got \"Hello!\", the same message that was encoded in the QR code. How does this binary code get translated to the QR code’s matrix of black and white squares? Remember that binary only uses two digits. This can also be represented by a black square or a white square, \"on\" or \"off\". If you wrap that message around like a snake into the shape of a square, you will get a QR code! There are a few more details and rules about the formatting, but the general idea is the same. Here is the QR code for \"wikipedia.org\" broken down:\n",
    "\n",
    "<img src=\"../Data/images/qr_format.png\" width=600>\n",
    "\n",
    "Now that you know how QR codes work, you can generate your own and use them in your programs!</font>\n",
    "\n",
    "#### Challenge\n",
    "Use the ASCII chart to write a short message in binary, and then swap with a friend to decode each other’s messages!\n"
   ]
  }
 ],
 "metadata": {
  "kernelspec": {
   "display_name": "Python 3",
   "language": "python",
   "name": "python3"
  },
  "language_info": {
   "codemirror_mode": {
    "name": "ipython",
    "version": 3
   },
   "file_extension": ".py",
   "mimetype": "text/x-python",
   "name": "python",
   "nbconvert_exporter": "python",
   "pygments_lexer": "ipython3",
   "version": "3.5.3"
  }
 },
 "nbformat": 4,
 "nbformat_minor": 2
}
