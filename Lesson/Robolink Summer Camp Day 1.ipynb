{
 "cells": [
  {
   "cell_type": "markdown",
   "metadata": {},
   "source": [
    "<img src=\"../Data/images/ZumiHeader.png\" width=700>"
   ]
  },
  {
   "cell_type": "markdown",
   "metadata": {},
   "source": [
    "# Lesson 1: Basic Drive Commands\n",
    "\n",
    "### Activity 1\n",
    "<font size=3> Import the necessary libraries to run Zumi code."
   ]
  },
  {
   "cell_type": "code",
   "execution_count": null,
   "metadata": {},
   "outputs": [],
   "source": [
    "from zumi.zumi import Zumi\n",
    "import time\n",
    "zumi = Zumi()"
   ]
  },
  {
   "cell_type": "markdown",
   "metadata": {},
   "source": [
    "### Activity 2\n",
    "<font size=3> Time to practice using the four drive commands! Use each of the following at least once in your program. Time to be creative! For an extra challenge, make a square that uses each of the commands at least once.\n",
    "<font face=\"Courier\">\n",
    "* zumi.forward()\n",
    "* zumi.reverse()\n",
    "* zumi.turn_left()\n",
    "* zumi.turn_right()"
   ]
  },
  {
   "cell_type": "code",
   "execution_count": null,
   "metadata": {},
   "outputs": [],
   "source": [
    "# Write code that uses each of the four commands"
   ]
  },
  {
   "cell_type": "markdown",
   "metadata": {},
   "source": [
    "### Activity 3\n",
    "<font size=3> Copy and paste your code from above (or write a new code) and add in wait commands. Simulate stopping at a stop sign!"
   ]
  },
  {
   "cell_type": "code",
   "execution_count": null,
   "metadata": {},
   "outputs": [],
   "source": [
    "# Include wait commands"
   ]
  },
  {
   "cell_type": "markdown",
   "metadata": {},
   "source": [
    "### Activity 4\n",
    "<font size=3> Program Zumi to drive in a small square, then a medium square, and finally a large square. Practice changing the parameters in <font face=\"Courier\">zumi.forward()</font> for this activity."
   ]
  },
  {
   "cell_type": "code",
   "execution_count": null,
   "metadata": {},
   "outputs": [],
   "source": [
    "# Change speed or duration to code bigger squares."
   ]
  },
  {
   "cell_type": "markdown",
   "metadata": {},
   "source": [
    "### Activity 5\n",
    "<font size=3> Find the minimum duration to complete a 360 degree turn by slowly increasing the duration parameter."
   ]
  },
  {
   "cell_type": "code",
   "execution_count": null,
   "metadata": {},
   "outputs": [],
   "source": [
    "zumi.turn_left(desired_angle=360, duration=1)"
   ]
  },
  {
   "cell_type": "markdown",
   "metadata": {},
   "source": [
    "### Activity 6\n",
    "<font size=3> Practice recalibrating Zumi while on a flat surface."
   ]
  },
  {
   "cell_type": "code",
   "execution_count": null,
   "metadata": {},
   "outputs": [],
   "source": [
    "zumi.mpu.calibrate_MPU()"
   ]
  },
  {
   "cell_type": "markdown",
   "metadata": {},
   "source": [
    "### Activity 7\n",
    "<font size=3>It's time to put togethe everything you have learned. Build a course or maze to navigate. Try to complete the course without crashing into anything! Remember that you can adjust parameters for speed and duration."
   ]
  },
  {
   "cell_type": "code",
   "execution_count": null,
   "metadata": {},
   "outputs": [],
   "source": [
    "# Write your own code here!"
   ]
  }
 ],
 "metadata": {
  "kernelspec": {
   "display_name": "Python 3",
   "language": "python",
   "name": "python3"
  }
 },
 "nbformat": 4,
 "nbformat_minor": 2
}
