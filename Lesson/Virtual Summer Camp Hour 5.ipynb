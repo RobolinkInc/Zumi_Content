{
 "cells": [
  {
   "cell_type": "markdown",
   "metadata": {},
   "source": [
    "<img src=\"../Data/images/ZumiHeader.png\" width=700>"
   ]
  },
  {
   "cell_type": "markdown",
   "metadata": {},
   "source": [
    "# Zumi's Adventure\n",
    "\n",
    "<font size =3> Congratulations! You have reached the end of the camp! It's time to put together everything you have learned and showcase it in the production of your very own Zumi adventure story. </font>\n",
    "\n",
    "## Import libraries\n",
    "<font size =3> We have imported all the libraries you have learned to use so that they are all ready! </font>"
   ]
  },
  {
   "cell_type": "code",
   "execution_count": null,
   "metadata": {},
   "outputs": [],
   "source": [
    "from zumi.zumi import Zumi\n",
    "from zumi.protocol import Note\n",
    "from zumi.util.screen import Screen\n",
    "from zumi.personality import Personality\n",
    "import time\n",
    "\n",
    "zumi = Zumi()\n",
    "screen = Screen()\n",
    "personality = Personality(zumi, screen)"
   ]
  },
  {
   "cell_type": "markdown",
   "metadata": {},
   "source": [
    "## Story\n",
    "<font size=3> Come up with a story for your Zumi. Maybe she's a policewoman, delivery car, or an autonomous ambulance! Plan out a driving path and use the drive commands, screen, and sounds to tell a story.\n",
    "\n",
    "    \n",
    "Try to include all of the following in your code:\n",
    "* Drive commands\n",
    "* For loops\n",
    "* IR sensors\n",
    "* If statements\n",
    "* Music\n",
    "* Personality\n",
    "* Text on the screen\n",
    "\n",
    "<img src=\"../Data/images/detective_zumi.png\" width=400>"
   ]
  },
  {
   "cell_type": "code",
   "execution_count": null,
   "metadata": {},
   "outputs": [],
   "source": [
    "# Write your code here!"
   ]
  }
 ],
 "metadata": {
  "kernelspec": {
   "display_name": "Python 3",
   "language": "python",
   "name": "python3"
  }
 },
 "nbformat": 4,
 "nbformat_minor": 2
}
