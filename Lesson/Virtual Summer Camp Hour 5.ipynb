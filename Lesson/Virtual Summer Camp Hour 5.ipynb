{
 "cells": [
  {
   "cell_type": "markdown",
   "metadata": {
    "deletable": false
   },
   "source": [
    "<img src=\"../Data/images/ZumiHeader.png\" width=700>"
   ]
  },
  {
   "cell_type": "markdown",
   "metadata": {
    "deletable": false
   },
   "source": [
    "# IR Sensors\n",
    "\n",
    "<font size =3> **Infrared** (IR for short) is a form of electromagnetic radiation that is not visible with the human eye. It’s also a form of energy. However, as scary as the name sounds, not all electromagnetic radiation is dangerous. There is a small portion of it that we can see, meaning this is visible light! The different colors that we see depend on the various wavelengths. As the wavelengths get longer, the colors become less visible to humans. However, special sensors can detect these waves. You will use the IR sensors on Zumi to detect objects that are covering the sensors. </font>\n",
    "\n",
    "<img src=\"../Data/images/electromagnetic_spectrum.jpg\" width=700>\n",
    "\n",
    "\n",
    "<center> https://imagine.gsfc.nasa.gov/science/toolbox/emspectrum1.html </center>\n",
    "\n",
    "## Zumi IR sensors\n",
    "\n",
    "<font size =3> Zumi is equipped with 6 IR sensors: two in the front, two in the back, and two on the bottom. They all have an index so that it's easier to read their data:\n",
    "   * IR 0 = front right\n",
    "   * IR 1 = bottom right\n",
    "   * IR 2 = back right\n",
    "   * IR 3 = bottom left\n",
    "   * IR 4 = back left\n",
    "   * IR 5 = front left\n",
    "\n",
    "</font>\n",
    "\n",
    "<img src=\"../Data/images/pcb_ir.jpg\" alt=\"pcb\" width=\"500\"/> "
   ]
  },
  {
   "cell_type": "markdown",
   "metadata": {
    "deletable": false
   },
   "source": [
    "## Display IR data on the screen\n",
    "<font size =3>You are going to display the IR data on Zumi’s screen. To get IR data you’ll need a Zumi object, and to display on the screen you need to create a Screen object. </font>\n",
    "\n",
    "### Import libraries"
   ]
  },
  {
   "cell_type": "code",
   "execution_count": null,
   "metadata": {
    "deletable": false
   },
   "outputs": [],
   "source": [
    "from zumi.zumi import Zumi\n",
    "from zumi.util.screen import Screen\n",
    "import time\n",
    "\n",
    "zumi = Zumi()\n",
    "screen = Screen()"
   ]
  },
  {
   "cell_type": "markdown",
   "metadata": {
    "deletable": false
   },
   "source": [
    "### What does the data mean?\n",
    "\n",
    "<font size =3> IR sensors work by emitting an infrared pulse and measuring the infrared light that returns after it bounces off an object. This number will be between 0 and 255.\n",
    "A lower number indicates that something in the vicinity is reflecting the IR light back to the sensor. \n",
    "\n",
    "Run each cell and watch the numbers on the screen change as you cover the sensors. The code will use a for loop to take 50 readings. </font>\n",
    "\n",
    "#### Front IR sensors"
   ]
  },
  {
   "cell_type": "code",
   "execution_count": null,
   "metadata": {
    "deletable": false
   },
   "outputs": [],
   "source": [
    "for i in range(0,50):\n",
    "    ir_readings = zumi.get_all_IR_data()\n",
    "    front_right_ir = ir_readings[0]\n",
    "    front_left_ir = ir_readings[5]\n",
    "    \n",
    "    message = \"    IR readings        \"\n",
    "    message = message + str(front_right_ir) + \", \" + str(front_left_ir)\n",
    "    screen.draw_text(message)\n",
    "    time.sleep(0.1)\n",
    "screen.draw_text_center(\"Done!\")"
   ]
  },
  {
   "cell_type": "markdown",
   "metadata": {
    "deletable": false
   },
   "source": [
    "#### Back IR sensors\n"
   ]
  },
  {
   "cell_type": "code",
   "execution_count": null,
   "metadata": {
    "deletable": false
   },
   "outputs": [],
   "source": [
    "for i in range(0,50):\n",
    "    ir_readings = zumi.get_all_IR_data()\n",
    "    back_right_ir = ir_readings[2]\n",
    "    back_left_ir = ir_readings[4]\n",
    "    \n",
    "    message = \"    IR readings        \"\n",
    "    message = message + str(back_right_ir) + \", \" + str(back_left_ir)\n",
    "    screen.draw_text(message)\n",
    "    time.sleep(0.1)\n",
    "screen.draw_text_center(\"Done!\")"
   ]
  },
  {
   "cell_type": "markdown",
   "metadata": {
    "deletable": false
   },
   "source": [
    "#### Bottom IR sensors\n",
    "\n",
    "<font size =3> Bottom IR sensors are great for line following or detection. Use the Bottom IR worksheet to test values between light and dark.</font>"
   ]
  },
  {
   "cell_type": "code",
   "execution_count": null,
   "metadata": {
    "deletable": false
   },
   "outputs": [],
   "source": [
    "for i in range(0,50):\n",
    "    ir_readings = zumi.get_all_IR_data()\n",
    "    bottom_right_ir = ir_readings[1]\n",
    "    bottom_left_ir = ir_readings[3]\n",
    "    \n",
    "    message = \"    IR readings        \"\n",
    "    message = message + str(bottom_right_ir) + \", \" + str(bottom_left_ir)\n",
    "    screen.draw_text(message)\n",
    "    time.sleep(0.1)\n",
    "screen.draw_text_center(\"Done!\")"
   ]
  },
  {
   "cell_type": "markdown",
   "metadata": {},
   "source": [
    "## Lists\n",
    "\n",
    "<font size=3> You may notice something about the IR data that you haven't seen yet. In all of the examples, we use a function called <font face=\"Courier\">get_all_IR_data()</font>. However, there are six IR sensors that each have a value. How can they all be in the same variable? All this data is actually stored in a **list**. In Python, lists can be used to store and organize data of the same type without creating multiple variables. </font> \n",
    "\n",
    "### Accessing values\n",
    "\n",
    "<font size=3> When you call <font face=\"Courier\">zumi.get_all_IR_data()</font>, the program requests all the sensor data and saves them in a list with, you guessed it, six items. In this example, the list name is <font face=\"Courier\">ir_readings</font>. Unlike a shopping list that is usually vertical, a list in Python is written horizontally and enclosed in [brackets]. The next cell will take a reading and print out the values."
   ]
  },
  {
   "cell_type": "code",
   "execution_count": null,
   "metadata": {},
   "outputs": [],
   "source": [
    "ir_readings = zumi.get_all_IR_data()\n",
    "print(ir_readings)\n",
    "    "
   ]
  },
  {
   "cell_type": "markdown",
   "metadata": {},
   "source": [
    "<font size=3> Printing the list name will print all of the values from each IR sensor, but what if you just want to check one or two values? You can access the data, or each **element**, by its **index**. The index is like the home address of where it lives in the list. As with for loops, Python lists start at 0. Take this list for example. What is value of the first element? What about the last? \n",
    "\n",
    "    \n",
    "<img src=\"../Data/images/indexing.png\" width=700>\n",
    "    \n",
    "Below is an example of accessing the first element at index 0. Practice printing all of the values. Make sure you save the IR values in a variable with a descriptive name! When your programs start getting more complicated, you don't want to forget which value corresponds to what sensor."
   ]
  },
  {
   "cell_type": "code",
   "execution_count": null,
   "metadata": {},
   "outputs": [],
   "source": [
    "ir_readings = zumi.get_all_IR_data()\n",
    "front_right_ir = ir_readings[0]\n",
    "print(front_right_ir)"
   ]
  },
  {
   "cell_type": "code",
   "execution_count": null,
   "metadata": {},
   "outputs": [],
   "source": [
    "# Practice getting all of the values from the list."
   ]
  },
  {
   "cell_type": "markdown",
   "metadata": {},
   "source": [
    "# Obstacle Avoidance (Front IR)\n",
    "\n",
    "<font size =3> Have you ever been in a car when the emergency auto brakes went on? What happened? How was the car able to tell when to stop? Self-driving cars need to be able to avoid obstacles in an emergency. Instead of infrared, they use more advanced sensors like **LIDAR** (Light Imaging Detection and Ranging) and **RADAR**. LIDAR uses laser light to map out the environment while RADAR uses radio waves. Despite not having this technology, Zumi can still avoid obstacles! </font>\n",
    "\n",
    "<img src=\"../Data/images/zumi_ir_detect.jpg\" width=600>\n",
    "\n",
    "## Import libraries"
   ]
  },
  {
   "cell_type": "code",
   "execution_count": null,
   "metadata": {},
   "outputs": [],
   "source": [
    "from zumi.zumi import Zumi\n",
    "import time\n",
    "\n",
    "zumi = Zumi()"
   ]
  },
  {
   "cell_type": "markdown",
   "metadata": {},
   "source": [
    "## Stop for Pedestrians\n",
    "<font size=3> It is extremely important for self-driving cars to be able to detect dangers up ahead, especially if they are pedestrians! In this activity, you will code Zumi to drive forward using <font face=\"Courier\">go_straight()</font> until she detects your hand with either the front left or front right IR sensor. now When you take your hand away, Zumi should keep driving.</font>\n",
    "\n",
    "\n",
    "### Pseudocode\n",
    "<font size=3> This time, you will be writing the pseudocode for this mission! In the cell below, write each line of pseudocode as a **comment**. You can do this by putting the pound sign (#) at the beginning of the line. The computer will ignore them but they are a great way to organize your code and provide documentation. "
   ]
  },
  {
   "cell_type": "code",
   "execution_count": null,
   "metadata": {},
   "outputs": [],
   "source": [
    "# Write pseudocode in here"
   ]
  },
  {
   "cell_type": "markdown",
   "metadata": {},
   "source": [
    "<font size=3> Once you have your pseudocode, translate each line of code into Python and fill it in the for loop below:"
   ]
  },
  {
   "cell_type": "code",
   "execution_count": null,
   "metadata": {},
   "outputs": [],
   "source": [
    "for x in range(300):\n",
    "    # Write your code here\n",
    "\n",
    "zumi.stop() # Don't forget to stop at the end!\n",
    "print(\"Done!\")"
   ]
  }
 ],
 "metadata": {
  "kernelspec": {
   "display_name": "Python 3",
   "language": "python",
   "name": "python3"
  },
  "language_info": {
   "codemirror_mode": {
    "name": "ipython",
    "version": 3
   },
   "file_extension": ".py",
   "mimetype": "text/x-python",
   "name": "python",
   "nbconvert_exporter": "python",
   "pygments_lexer": "ipython3",
   "version": "3.5.3"
  }
 },
 "nbformat": 4,
 "nbformat_minor": 2
}
