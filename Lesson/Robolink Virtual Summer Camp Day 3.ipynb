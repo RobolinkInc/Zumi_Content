{
 "cells": [
  {
   "cell_type": "markdown",
   "metadata": {},
   "source": [
    "<img src=\"../Data/images/ZumiHeader.png\" width=700>"
   ]
  },
  {
   "cell_type": "markdown",
   "metadata": {},
   "source": [
    "# Lesson 5: Gyroscope and Orientation\n",
    "\n",
    "### Import libraries\n",
    "<font size=3> Import the necessary libraries to run Zumi code."
   ]
  },
  {
   "cell_type": "code",
   "execution_count": null,
   "metadata": {},
   "outputs": [],
   "source": [
    "from zumi.zumi import Zumi\n",
    "from zumi.util.screen import Screen\n",
    "import time\n",
    "import IPython.display\n",
    "zumi = Zumi()\n",
    "screen = Screen()"
   ]
  },
  {
   "cell_type": "markdown",
   "metadata": {},
   "source": [
    "### Activity 1\n",
    "<font size=3> Test the x-axis. Pay attention to the screen to see the data."
   ]
  },
  {
   "cell_type": "code",
   "execution_count": null,
   "metadata": {},
   "outputs": [],
   "source": [
    "zumi.reset_gyro()\n",
    "for i in range(50):\n",
    "    current_angle = int(zumi.read_x_angle())\n",
    "    screen.draw_text_center(str(current_angle))\n",
    "    time.sleep(0.05)\n",
    "screen.draw_text_center(\"Done\")"
   ]
  },
  {
   "cell_type": "markdown",
   "metadata": {},
   "source": [
    "### Activity 2\n",
    "<font size=3> Test the y-axis. Pay attention to the screen to see the data."
   ]
  },
  {
   "cell_type": "code",
   "execution_count": null,
   "metadata": {},
   "outputs": [],
   "source": [
    "zumi.reset_gyro()\n",
    "for i in range(50):\n",
    "    current_angle = int(zumi.read_y_angle())\n",
    "    screen.draw_text_center(str(current_angle))\n",
    "    time.sleep(0.05)\n",
    "screen.draw_text_center(\"Done\")"
   ]
  },
  {
   "cell_type": "markdown",
   "metadata": {},
   "source": [
    "### Activity 3\n",
    "<font size=3> Test the z-axis. Pay attention to the screen to see the data."
   ]
  },
  {
   "cell_type": "code",
   "execution_count": null,
   "metadata": {},
   "outputs": [],
   "source": [
    "zumi.reset_gyro()\n",
    "for i in range(50):\n",
    "    current_angle = int(zumi.read_z_angle())\n",
    "    screen.draw_text_center(str(current_angle))\n",
    "    time.sleep(0.05)\n",
    "screen.draw_text_center(\"Done\")"
   ]
  },
  {
   "cell_type": "markdown",
   "metadata": {},
   "source": [
    "### Activity 4\n",
    "<font size=3> Verify the six Zumi states. Watch the output in Jupyter to see the states."
   ]
  },
  {
   "cell_type": "code",
   "execution_count": null,
   "metadata": {},
   "outputs": [],
   "source": [
    "zumi.reset_gyro()\n",
    "for i in range(50):\n",
    "    zumi.update_angles()\n",
    "    print(zumi.get_orientation())\n",
    "    time.sleep(0.01)\n",
    "    IPython.display.clear_output(wait=True)\n",
    "print(\"Done!\")"
   ]
  },
  {
   "cell_type": "markdown",
   "metadata": {},
   "source": [
    "### Activity 5\n",
    "<font size=3> Change the values of x and y to see how conditionals work."
   ]
  },
  {
   "cell_type": "code",
   "execution_count": null,
   "metadata": {},
   "outputs": [],
   "source": [
    "x = 10\n",
    "y = 30\n",
    "if x > y: \n",
    "    print(\"x is greater than y\")\n",
    "elif x == y:\n",
    "    print(\"x is equal to y\")\n",
    "else:\n",
    "    print(\"x is less than y\")\n"
   ]
  },
  {
   "cell_type": "markdown",
   "metadata": {},
   "source": [
    "### Activity 6\n",
    "<font size=3> Complete the code with if statements so Zumi only drives when she's right side up."
   ]
  },
  {
   "cell_type": "code",
   "execution_count": null,
   "metadata": {},
   "outputs": [],
   "source": [
    "# TODO Reset angles to zero\n",
    "\n",
    "for x in range(\"CHANGE ME\"):\n",
    "    zumi.update_angles()\n",
    "    orientation = get_orientation()\n",
    "\n",
    "    # TODO Add conditional statements here\n",
    "\n",
    "# TODO Add one more stop at the end of the loop\n",
    "\n"
   ]
  },
  {
   "cell_type": "markdown",
   "metadata": {},
   "source": [
    "# Lesson 6: Screen\n",
    "### Activity 7\n",
    "<font size=3> Practice with the Zumi screen. See docs.robolink.com for more documentation.\n",
    "    "
   ]
  },
  {
   "cell_type": "code",
   "execution_count": null,
   "metadata": {},
   "outputs": [],
   "source": [
    "# Practice with the screen"
   ]
  },
  {
   "cell_type": "code",
   "execution_count": null,
   "metadata": {},
   "outputs": [],
   "source": [
    "# Practice lookleft and lookright using screen.draw_image_by_name()"
   ]
  },
  {
   "cell_type": "markdown",
   "metadata": {},
   "source": [
    "### Activity 8\n",
    "<font size=3> Make Zumi look side to side as she's tilted left and right."
   ]
  },
  {
   "cell_type": "code",
   "execution_count": null,
   "metadata": {},
   "outputs": [],
   "source": [
    "# TODO Reset angles to zero\n",
    "\n",
    "for x in range(\"CHANGE ME\"):\n",
    "    zumi.update_angles()\n",
    "    orientation = get_orientation()\n",
    "\n",
    "    # TODO Add conditional statements here\n",
    "\n",
    "# TODO Give Zumi a happy face at the end!"
   ]
  }
 ],
 "metadata": {
  "kernelspec": {
   "display_name": "Python 3",
   "language": "python",
   "name": "python3"
  },
  "language_info": {
   "codemirror_mode": {
    "name": "ipython",
    "version": 3
   },
   "file_extension": ".py",
   "mimetype": "text/x-python",
   "name": "python",
   "nbconvert_exporter": "python",
   "pygments_lexer": "ipython3",
   "version": "3.5.3"
  }
 },
 "nbformat": 4,
 "nbformat_minor": 2
}
