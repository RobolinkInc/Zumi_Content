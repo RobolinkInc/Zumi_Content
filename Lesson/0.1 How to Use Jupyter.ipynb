{
 "cells": [
  {
   "cell_type": "markdown",
   "metadata": {},
   "source": [
    "<img src=\"../Data/images/ZumiHeader.png\" width=700>"
   ]
  },
  {
   "cell_type": "markdown",
   "metadata": {},
   "source": [
    "# What is Jupyter Notebook?\n",
    "\n",
    "A Jupyter Notebook is an environment where you can write and test code. You can also include descriptive text such as this to describe your code. Many researchers use it to write up their reports with embedded code examples that you can run and test for yourself. In the following lessons you will be using the Python programming language, however Jupyter Notebook supports over 40 programming languages!\n",
    "\n",
    "<img src=\"../Data/images/Jupyter.png\" width=400>\n",
    "\n",
    "## Opening Jupyter Notebook\n",
    "When you first open jupyter, you will see a screen similar to the one above. It shows you a list of all your current notebooks. The picture shows the different parts of the home screen. To open a notebook, click on the name of the notebook you would like to open. The color of the notebook icon will indicate which notebooks are already open. \n",
    "\n",
    "<img src=\"../Data/images/JupyterHome.png\">\n",
    "\n",
    "## Inside a Jupyter Notebook\n",
    "\n",
    "You write the code for your Zumi inside Jupyter Notebooks. When you open a lesson, you should already see cells filled with text and code. To go through the lesson, you will need to run code, stop code, and save your changes! The most important tools that you will use are highlighted for you below:\n",
    "\n",
    "<img src=\"../Data/images/jupyter_toolbar.png\">\n",
    "\n",
    "<hr>\n",
    "\n",
    "## Cells\n",
    "\n",
    "Jupyter Notebook is divided into cells. Some cells have text, such as the one you are currently reading, and some cells can run code. \n",
    "\n",
    "### Running code\n",
    "The cell below is an example of a code cell. To run the cell and execute code, select it so that is highlighted in <span style=\"color:dodgerblue\">blue </span> or <span style=\"color:#52BE80\">green </span>. For future reference, a cell outline in blue is selected but not in edit mode. A cell outlined is green is selected and in edit mode. In either state, you can click \"Run\" in the toolbar or press ```Shift``` + ```Enter```."
   ]
  },
  {
   "cell_type": "code",
   "execution_count": null,
   "metadata": {},
   "outputs": [],
   "source": [
    "print(\"This is a code cell!\")"
   ]
  },
  {
   "cell_type": "markdown",
   "metadata": {},
   "source": [
    "The output of the code will appear below the cell. The number next to the cell has also changed from ```In [ ]``` to ```In [1]```. The number indicates the order that the cells executed and completed their processes. In Jupyter Notebook you can run either all cells or sections of your code at a time! Try running the above code again and it will change from ```In [1]``` to ```In [2]```.\n",
    "\n",
    "If the ```In [ ]``` indicator does not appear next to a cell, that cell **cannot** run code. For example, try \"running\" the cell below.\n"
   ]
  },
  {
   "cell_type": "markdown",
   "metadata": {},
   "source": [
    "print(\"This is not a code cell\")"
   ]
  },
  {
   "cell_type": "markdown",
   "metadata": {},
   "source": [
    "This cell was formatted into text instead. These cells are called **markdown** cells. Sometimes you can switch your cell into a different type by accident. If this happens, go to ```Cell > Cell Type``` in the toolbar to switch between the two. Try changing the cell above from markdown to code.\n",
    "\n",
    "\n",
    "### Stopping the code\n",
    "Sometime you need to stop the code that is currently running. Maybe you have a while loop that is going forever and you are trying to escape! Next to the \"Run\" button in the toolbar you will find a black square. This will terminate the cell that is running. Run the cell below (which runs forever) and then stop the code."
   ]
  },
  {
   "cell_type": "code",
   "execution_count": null,
   "metadata": {},
   "outputs": [],
   "source": [
    "count=0\n",
    "while True:\n",
    "    print(count)\n",
    "    count+=1\n",
    "    "
   ]
  },
  {
   "cell_type": "markdown",
   "metadata": {},
   "source": [
    "Did you notice while the cell is running there's an **asterisk** next to the cell? It looks like this: ```In [*]```.\n",
    "Any cell with an asterisk is still running. \n",
    "\n",
    "### Adding cells\n",
    "If you want to create a new cell, go to the toolbar and click ```Insert```. In the menu you have options to insert a cell above or below the current cell.\n",
    "\n",
    "<img src=\"../Data/images/adding_cells.png\">\n",
    "\n",
    "### Deleting cells\n",
    "\n",
    "Under ```Edit``` in the toolbar, you will find many tools including \"Delete Cells\". This will delete any cells that are currently selected.\n",
    "\n",
    "<img src=\"../Data/images/deleting_cells.png\">\n",
    "\n",
    "### Locked cells\n",
    "Some cells that you see on tutorials (including this one) are locked. This means that you can't delete or edit them. Try editing the different cells below. You shouldn't be able to edit some of them.\n",
    "\n"
   ]
  },
  {
   "cell_type": "markdown",
   "metadata": {},
   "source": [
    "# I can be edited and deleted"
   ]
  },
  {
   "cell_type": "markdown",
   "metadata": {
    "deletable": false
   },
   "source": [
    "# I can be edited, but I can't be deleted"
   ]
  },
  {
   "cell_type": "markdown",
   "metadata": {
    "deletable": false,
    "editable": false
   },
   "source": [
    "# I can't be edited or deleted"
   ]
  },
  {
   "cell_type": "markdown",
   "metadata": {},
   "source": [
    "<hr>\n",
    "\n",
    "## Notebook functions\n",
    "\n",
    "### Restarting a notebook\n",
    "Suppose you want to clear all of the output and restart all of your code. In the toolbar there is a tab ```Kernel```. In the menu you will see an option to ```Restart & Clear Output```. Notice that all of the output has been erased and those cells are ready to be run again! Another way to double check is to note that the brackets ```In[]``` are empty. This time, try running the second one before the first one.\n",
    "\n",
    "<img src=\"../Data/images/restart_notebook.png\">\n",
    "\n",
    "### Shutting down a Jupyter Notebook\n",
    "Even if you close the tab, a notebook will remain open until shutdown. It is recommended you leave only one notebook open at a time. To shut down a notebook, select it and click on the orange \"Shutdown\" button. Be careful not to delete it by accident!\n",
    "\n",
    "<img src=\"../Data/images/shutdown_notebook.png\">\n",
    "\n",
    "These are all the basics you need to know to run the lessons In Jupyter Notebook. Head on over to Lesson 1.1 to start learning!"
   ]
  }
 ],
 "metadata": {
  "kernelspec": {
   "display_name": "Python 3",
   "language": "python",
   "name": "python3"
  },
  "language_info": {
   "codemirror_mode": {
    "name": "ipython",
    "version": 3
   },
   "file_extension": ".py",
   "mimetype": "text/x-python",
   "name": "python",
   "nbconvert_exporter": "python",
   "pygments_lexer": "ipython3",
   "version": "3.7.0"
  }
 },
 "nbformat": 4,
 "nbformat_minor": 2
}
