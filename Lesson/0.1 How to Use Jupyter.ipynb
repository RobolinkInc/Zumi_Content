{
 "cells": [
  {
   "cell_type": "markdown",
   "metadata": {},
   "source": [
    "![logo](images/robolink.png)"
   ]
  },
  {
   "cell_type": "markdown",
   "metadata": {},
   "source": [
    "# What is Jupyter Notebook?\n",
    "\n",
    "A Jupyter Notebook is an environment where you can write and test code. You can also include descriptive text such as this to describe your code. Many researchers use it to write up their reports with embedded code examples that you can run and test for yourself. In the following lessons you will be using the Python programming language, however Jupyter Notebook supports over 40 programming languages!\n",
    "\n",
    "\n",
    "## Cells\n",
    "\n",
    "Jupyter Notebook is divided into cells. Some cells have text, such as the one you are currently reading, and some cells can run code. \n",
    "\n",
    "### Running a cell\n",
    "The cell below is an example of a code cell. To run the cell and execute code, select it so that is highlighted in <span style=\"color:dodgerblue\">blue </span> or <span style=\"color:#52BE80\">green </span>. Then click \"Run\" in the toolbar or press ```Shift``` + ```Enter```."
   ]
  },
  {
   "cell_type": "code",
   "execution_count": 2,
   "metadata": {},
   "outputs": [
    {
     "name": "stdout",
     "output_type": "stream",
     "text": [
      "This is a code cell!\n"
     ]
    }
   ],
   "source": [
    "print(\"This is a code cell!\")"
   ]
  },
  {
   "cell_type": "markdown",
   "metadata": {},
   "source": [
    "The output of the code will appear below the cell. The number next to the cell has also changed from ```In [ ]``` to ```In [1]```. The number indicates the order that the cells executed and completed their processes. In Jupyter Notebook you can run either all cells or sections of your code at a time! Try running the above code again and it will change from ```In [1]``` to ```In [2]```.\n",
    "\n",
    "If the ```In [ ]``` indicator does not appear next to a cell, that cell **cannot** run code. For example, try \"running\" the cell below.\n"
   ]
  },
  {
   "cell_type": "markdown",
   "metadata": {},
   "source": [
    "print(\"This is not a code cell\")"
   ]
  },
  {
   "cell_type": "markdown",
   "metadata": {},
   "source": [
    "This cell was formatted into text instead. These cells are called **markdown** cells. If for any reason your cell type has switched, go to ```Cell>Cell Type``` in the toolbar to toggle between the two.\n",
    "\n",
    "\n",
    "### Terminating a process\n",
    "Sometimes you will want to terminate the code that is currently running. Maybe you have an endless while loop and you are trying to escape! Next to the \"Run\" button in the toolbar you will find a black square. This will terminate the cell that is running. \n",
    "\n",
    "![terminate cell](images/terminate_cell.png)\n",
    "\n",
    "### Inserting cells\n",
    "When you run a cell, a new cell will automatically be created. What if you want to make a new cell without running a previous one?\n",
    "\n",
    "Go to the toolbar and click \"Insert\". In the menu you have options to insert a cell above or below the current cell.\n",
    "\n",
    "### Deleting cells\n",
    "\n",
    "Under \"Edit\", you will find many tools including \"Delete Cells\". This will delete any cells that are currently selected.\n",
    "\n",
    "\n",
    "### Restarting a notebook\n",
    "Suppose you want to clear all of the output and restart all of your code. In the toolbar there is a tab \"Kernel\". In the menu you will see an option to \"Restart & Clear Output\". Notice that all of the output has been erased and those cells are ready to be run again! Another way to double check is to note that the brackets In[] are empty. This time, try running the second one before the first one."
   ]
  },
  {
   "cell_type": "code",
   "execution_count": null,
   "metadata": {},
   "outputs": [],
   "source": []
  }
 ],
 "metadata": {
  "kernelspec": {
   "display_name": "Python 3",
   "language": "python",
   "name": "python3"
  },
  "language_info": {
   "codemirror_mode": {
    "name": "ipython",
    "version": 3
   },
   "file_extension": ".py",
   "mimetype": "text/x-python",
   "name": "python",
   "nbconvert_exporter": "python",
   "pygments_lexer": "ipython3",
   "version": "3.5.3"
  }
 },
 "nbformat": 4,
 "nbformat_minor": 2
}
