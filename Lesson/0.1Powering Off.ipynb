{
 "cells": [
  {
   "cell_type": "markdown",
   "metadata": {},
   "source": [
    "![logo](images/robolink.png)"
   ]
  },
  {
   "cell_type": "code",
   "execution_count": null,
   "metadata": {},
   "outputs": [
    {
     "name": "stdout",
     "output_type": "stream",
     "text": [
      "Pi Zero I2C is available\n",
      "Gyro offset file already exists.\n",
      "Verified Pi Zero is the same\n",
      "Gyroscope previously calibrated\n"
     ]
    }
   ],
   "source": [
    "from zumi.zumi import Zumi\n",
    "from time import sleep\n",
    "from zumi.util.screen import Screen\n",
    "import os\n",
    "\n",
    "zumi = Zumi()\n",
    "screen = Screen()\n",
    "#this program will turn Zumi off\n",
    "#once 5 seconds pass you can switch zumi off\n",
    "zumi.stop(0)\n",
    "screen.draw_text(\"     Switch off             in                5 seconds\")\n",
    "os.system(\"sudo poweroff\")"
   ]
  },
  {
   "cell_type": "code",
   "execution_count": null,
   "metadata": {},
   "outputs": [],
   "source": []
  }
 ],
 "metadata": {
  "kernelspec": {
   "display_name": "Python 3",
   "language": "python",
   "name": "python3"
  }
 },
 "nbformat": 4,
 "nbformat_minor": 2
}
