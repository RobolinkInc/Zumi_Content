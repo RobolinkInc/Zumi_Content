{
 "cells": [
  {
   "cell_type": "markdown",
   "metadata": {
    "deletable": false
   },
   "source": [
    "<img src=\"../Data/images/ZumiHeader.png\" width=700>"
   ]
  },
  {
   "cell_type": "markdown",
   "metadata": {
    "deletable": false
   },
   "source": [
    "# Applications of KNN: Red Light Green Light\n",
    "<font size =3> Have you ever played the game \"Red Light Green Light\"? Here are the rules: a referee calls out \"red light\" or \"green light\" to players who are trying to race to a finish line. If the referee calls out red light, players must stop and freeze in their places. If the referee calls \"green light\", players race to the finish line. Whoever arrives first wins!\n",
    "\n",
    "In this lesson, you will teach Zumi that green means go and red means stop. This is pretty important for self-driving cars to know since cars stop (and go!) at traffic lights every day.</font>\n",
    "\n",
    "\n",
    "### Step 1: Import Libraries\n",
    "<font size =3> In this lesson, we are using the Zumi library for drive commands, the Camera library for training, the Screen library for printing text and emotions, and threading for running multiple processes at once. </font>\n"
   ]
  },
  {
   "cell_type": "code",
   "execution_count": null,
   "metadata": {
    "deletable": false
   },
   "outputs": [],
   "source": [
    "from zumi.zumi import Zumi\n",
    "from zumi.util.camera import Camera\n",
    "from zumi.util.screen import Screen\n",
    "from threading import Thread\n",
    "from zumi.util.color_classifier import ColorClassifier\n",
    "\n",
    "zumi = Zumi()\n",
    "camera = Camera()\n",
    "screen = Screen()"
   ]
  },
  {
   "cell_type": "markdown",
   "metadata": {
    "deletable": false
   },
   "source": [
    "### Step 2: Gather data\n",
    "\n",
    "<font size =3> Run the code below and train Zumi with green and red color cards. Name your demo ```red_green``` so you can find it again easily and use the following labels and key commands:\n",
    "\n",
    "* Label: ```green```   Key Command: ```g```\n",
    "* Label: ```red```     Key Command: ```r``` </font>\n"
   ]
  },
  {
   "cell_type": "code",
   "execution_count": null,
   "metadata": {
    "deletable": false
   },
   "outputs": [],
   "source": [
    "camera.start_camera()\n",
    "try:\n",
    "    knn = ColorClassifier()\n",
    "    train = knn.set_values()\n",
    "    \n",
    "    if train:\n",
    "        print(\"Start gathering data. If you want to stop, press q\")\n",
    "        cnt = int(input(\"Type the amount of the pictures that you want to take at once : \"))\n",
    "        while True:\n",
    "            knn.add_datas(camera, cnt)\n",
    "            if knn.check_enough_datas(balance=True):\n",
    "                break\n",
    "\n",
    "        knn.save_data_set()\n",
    "        knn.get_accuracy()\n",
    "finally:\n",
    "    camera.close()"
   ]
  },
  {
   "cell_type": "markdown",
   "metadata": {
    "deletable": false
   },
   "source": [
    "### Step 3: Test the model\n",
    "<font size =3> Before you start adding drive commands, test the model to check that your data has been trained correctly. Test it with some other objects too to see how reliable it is. If you need to, retrain the data under a different model name. </font> "
   ]
  },
  {
   "cell_type": "code",
   "execution_count": null,
   "metadata": {
    "deletable": false
   },
   "outputs": [],
   "source": [
    "try:\n",
    "    print(\"Start predicting, press enter to predict!\")\n",
    "    camera.start_camera()\n",
    "    knn.fit(\"hsv\")\n",
    "    while True:\n",
    "        if input(\"press enter (or q to exit) : \") == 'q':\n",
    "            break\n",
    "        image = camera.capture()\n",
    "        predict = knn.predict(image)\n",
    "        print(predict)\n",
    "finally:\n",
    "    camera.close()"
   ]
  },
  {
   "cell_type": "markdown",
   "metadata": {
    "deletable": false
   },
   "source": [
    "\n",
    "### Step 4: Program logic \n",
    "<font size =3> Once you’re finished testing your model, you can write out the logic with print statements.\n",
    "\n",
    "When you call ```knn.predict(image)```, it returns its prediction with a label. For example, if you train the model with labels named ```blue``` and ```yellow```, some code might look like this:\n",
    "\n",
    "```\n",
    "while True:\n",
    "    if input(\"Press \"enter\" to predict or \"q\" to exit.\") == \"q\":\n",
    "        break\n",
    "    image = camera.capture()\n",
    "    predict = knn.predict(image)\n",
    "    if predict == \"blue\":\n",
    "        zumi.forward()\n",
    "    if predict == \"yellow\":\n",
    "        zumi.reverse()\n",
    "camera.close()\n",
    "```\n",
    "The labels are in quotes because they are **string** data types. Strings are strings of characters, letters, or numbers that are treated as text. These labels must match your data labels EXACTLY. If you accidentally mistyped \"blu\" for your label but wrote your code to check if predict is equal to \"blue\", this code would never run.\n",
    "\n",
    "Try writing the Red Light Green Light program with print statements. If the code says \"CHANGE ME\", make sure to make those changes to the correct labels for this project. </font> \n"
   ]
  },
  {
   "cell_type": "code",
   "execution_count": null,
   "metadata": {
    "deletable": false
   },
   "outputs": [],
   "source": [
    "try:\n",
    "    print(\"Start predicting, press enter to predict!\")\n",
    "    camera.start_camera()\n",
    "    knn.fit(\"hsv\")\n",
    "    \n",
    "    while True:\n",
    "        if input(\"press enter (or q to exit) : \") == 'q':\n",
    "            break\n",
    "        image = camera.capture()\n",
    "        predict = knn.predict(image)\n",
    "        if predict == \"CHANGE ME\":\n",
    "            # Add a print statement here for driving forward\n",
    "        if predict == \"CHANGE ME\":\n",
    "            # Add a print statement here for stop\n",
    "\n",
    "finally:\n",
    "    camera.close()"
   ]
  },
  {
   "cell_type": "markdown",
   "metadata": {
    "deletable": false
   },
   "source": [
    "### Step 5: Threading and go_straight()\n",
    "<font size =3> Once you have tested your program logic with print statements, you need to add drive commands. Your first thought might be to write out your program logic like this:\n",
    "\n",
    "```\n",
    "if predict == \"green\":\n",
    "        zumi.forward()\n",
    "    if predict == \"red\":\n",
    "        zumi.stop()\n",
    "```\n",
    "\n",
    "```Forward()``` drives Zumi for a number of seconds that you specify and then stops, but you will want Zumi to stop driving *only* when she sees a red card. In this case, you need to use threading. This allows you to run multiple processes at the same time. Think of it like weaving two separate functions together so that they appear to be running simultaneously.\n",
    "\n",
    "When you start a thread, it starts running in the background and lets the rest of the program continue running. You can use a **boolean**, or a true/false statement, to start or stop Zumi. The variable that you make for your boolean needs to be **global** so it can be used throughout the entire program instead of just one section. We named our variable ```is_green``` and we set it to ```false``` so that Zumi begins the program at a stop. We also defined our function ```continue_straight()```, which needs to be running in the background while ```is_green``` is ```true```. Once Zumi sees red, ```is_green``` becomes false, which will break the while loop (you can see that at “while is_green”) and cause Zumi to stop.\n",
    "\n",
    "The cell below defines this function. Don't worry, Zumi won't start driving just yet. </font> \n",
    "\n"
   ]
  },
  {
   "cell_type": "code",
   "execution_count": null,
   "metadata": {
    "deletable": false
   },
   "outputs": [],
   "source": [
    "global is_green\n",
    "is_green = False\n",
    "\n",
    "def continue_straight():\n",
    "    while is_green:\n",
    "        zumi.go_straight(20, 0)\n",
    "    zumi.stop(0)"
   ]
  },
  {
   "cell_type": "markdown",
   "metadata": {
    "deletable": false
   },
   "source": [
    "<font size =3> Now you can weave these codes together with threading.  If Zumi sees green, you need to set the boolean to ```True``` and begin the thread. If Zumi sees red, ```is_green``` is now ```False```.\n",
    "\n",
    "```\n",
    "  if predict == \"green\":\n",
    "        is_green = True\n",
    "        drive_thread = Thread(target=continue_straight)\n",
    "        drive_thread.start()\n",
    "    if predict == \"red\":\n",
    "        is_green = False\n",
    "        zumi.stop()\n",
    "```\n",
    "\n",
    "\n",
    "Here is all of the code put together. Try it out! </font>\n",
    "### Step 6: Final code"
   ]
  },
  {
   "cell_type": "code",
   "execution_count": null,
   "metadata": {
    "deletable": false
   },
   "outputs": [],
   "source": [
    "try:\n",
    "    print(\"Start predicting, press enter to predict!\")\n",
    "    camera.start_camera()\n",
    "    knn.fit(\"hsv\")\n",
    "    \n",
    "    while True:\n",
    "        if input(\"press enter (or q to exit) : \") == 'q':\n",
    "            break\n",
    "        image = camera.capture()\n",
    "        predict = knn.predict(image)\n",
    "        if predict == \"green\":\n",
    "            is_green = True\n",
    "            drive_thread = Thread(target=continue_straight)\n",
    "            drive_thread.start()\n",
    "        if predict == \"red\":\n",
    "            is_green = False\n",
    "            zumi.stop()\n",
    "finally:\n",
    "    is_green = False\n",
    "    zumi.stop()\n",
    "    camera.close()"
   ]
  },
  {
   "cell_type": "markdown",
   "metadata": {
    "deletable": false
   },
   "source": [
    "## Challenge\n",
    "<font size =3> If you want, add more colors and have Zumi do different drive commands for each one! </font>"
   ]
  },
  {
   "cell_type": "code",
   "execution_count": null,
   "metadata": {},
   "outputs": [],
   "source": []
  }
 ],
 "metadata": {
  "kernelspec": {
   "display_name": "Python 3",
   "language": "python",
   "name": "python3"
  },
  "language_info": {
   "codemirror_mode": {
    "name": "ipython",
    "version": 3
   },
   "file_extension": ".py",
   "mimetype": "text/x-python",
   "name": "python",
   "nbconvert_exporter": "python",
   "pygments_lexer": "ipython3",
   "version": "3.7.4"
  }
 },
 "nbformat": 4,
 "nbformat_minor": 2
}
