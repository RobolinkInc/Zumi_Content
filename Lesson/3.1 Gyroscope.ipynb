{
 "cells": [
  {
   "cell_type": "markdown",
   "metadata": {
    "deletable": false
   },
   "source": [
    "<img src=\"../Data/images/ZumiHeader.png\" width=700>"
   ]
  },
  {
   "cell_type": "markdown",
   "metadata": {
    "deletable": false
   },
   "source": [
    "# Gyroscope\n",
    "When you made your remote control, Zumi turned left or right using the number of degrees that you gave as a parameter. How does Zumi know how many degrees she is turning? Zumi is equipped with an **MPU**, or motion processing unit, and has two very important sensors that are necessary for driving straight and making accurate turns: the **gyroscope** and **accelerometer**. This lesson is about the gyroscope. You’ll learn about the accelerometer later!\n",
    "\n",
    "\n",
    "## What is a gyroscope?\n",
    "A gyroscope is a device that measures rotation speed. Gyroscopes are important because we need rotation speed to calculate how many degrees Zumi has turned.\n",
    "\n",
    "You’re probably wondering why rotation speed is necessary to figure out how much Zumi has turned. Think about how you calculate distance when you're in a car. If Zumi was going 50 miles per hour for 2.5 hours, how far did she travel?\n",
    "\n",
    "Multiply 50 by 2.5 and you get 125 miles. So to get distance, you multiply the amount of time traveled by the speed.\n",
    "\n",
    "Using this logic, you can find out how many angles you've \"traveled\" as long as you know how many angles you’ve traveled over time, which is given by the gyroscope as the rotational speed.\n",
    "\n",
    "Don't worry about the math behind the concept! In this lesson, you’ll be learning how to use the heading function in forward, reverse, left, and right.\n",
    "\n",
    "To access gyroscope values, you’ll need the Zumi object and the screen object for displaying values.\n",
    "\n",
    "### Import libraries"
   ]
  },
  {
   "cell_type": "code",
   "execution_count": null,
   "metadata": {
    "deletable": false
   },
   "outputs": [],
   "source": [
    "from zumi.zumi import Zumi\n",
    "from zumi.util.screen import Screen\n",
    "import time\n",
    "\n",
    "zumi = Zumi()\n",
    "screen = Screen()"
   ]
  },
  {
   "cell_type": "markdown",
   "metadata": {
    "deletable": false
   },
   "source": [
    "### Axes\n",
    "There is more than one axis that you can use to measure rotational speed. The main axis is for turning left and right, but you can also measure if Zumi is tilting forward and backward or tilting left and right.\n",
    "\n",
    "There are three codes below reading all three axes: X, Y, and Z. Run each one and check Zumi's screen to figure out which is which!\n",
    "\n",
    "#### X angle"
   ]
  },
  {
   "cell_type": "code",
   "execution_count": null,
   "metadata": {
    "deletable": false
   },
   "outputs": [],
   "source": [
    "for i in range(0,50):\n",
    "    current_angle = int(zumi.update_angles()[0])\n",
    "    message = \" X Angle reading        \"\n",
    "    message = message + str(current_angle)\n",
    "    screen.draw_text(message)\n",
    "    time.sleep(0.1)\n",
    "    \n",
    "print(\"Done\")\n",
    "screen.draw_text(\"  Done\")"
   ]
  },
  {
   "cell_type": "markdown",
   "metadata": {
    "deletable": false
   },
   "source": [
    "#### Y angle"
   ]
  },
  {
   "cell_type": "code",
   "execution_count": null,
   "metadata": {
    "deletable": false
   },
   "outputs": [],
   "source": [
    "for i in range(0,50):\n",
    "    current_angle = int(zumi.update_angles()[1])\n",
    "    message = \" Y  Angle reading        \"\n",
    "    message = message + str(current_angle)\n",
    "    screen.draw_text(message)\n",
    "    time.sleep(0.1)\n",
    "    \n",
    "print(\"Done\")\n",
    "screen.draw_text(\"  Done\")"
   ]
  },
  {
   "cell_type": "markdown",
   "metadata": {
    "deletable": false
   },
   "source": [
    "#### Z angle"
   ]
  },
  {
   "cell_type": "code",
   "execution_count": null,
   "metadata": {
    "deletable": false
   },
   "outputs": [],
   "source": [
    "for i in range(0,50):\n",
    "    current_angle = int(zumi.update_angles()[2])\n",
    "    message = \" Z Angle reading        \"\n",
    "    message = message + str(current_angle)\n",
    "    screen.draw_text(message)\n",
    "    time.sleep(0.1)\n",
    "    \n",
    "print(\"Done\")\n",
    "screen.draw_text(\"  Done\")"
   ]
  },
  {
   "cell_type": "markdown",
   "metadata": {
    "deletable": false
   },
   "source": [
    "Based on the data, could you figure out which directions correspond to X, Y, and Z?\n",
    "\n",
    "\n",
    "* The first cell reads the Z-axis, otherwise known as **yaw**. Yaw is the left and right turning of Zumi.\n",
    "* The second cell reads the X-axis, otherwise known as **roll**. Roll is the tilt to the right or to the left.\n",
    "* The final cell reads the Y-axis, otherwise known as **pitch**. Pitch is the tilt forward or backward.\n",
    "\n",
    "For the purposes of driving, you will care the most about the Z-axis, or yaw, of Zumi's gyroscope. It's so important that there's a function just for reading the current Z-angle. If at any time you want to know which how many degrees off you are from when you initialized the Zumi object, you can run the following code.\n"
   ]
  },
  {
   "cell_type": "code",
   "execution_count": null,
   "metadata": {
    "deletable": false
   },
   "outputs": [],
   "source": [
    "for i in range(100):\n",
    "    z_angle = int(zumi.read_z_angle())\n",
    "    message = \" Z Angle reading        \"\n",
    "    message = message + str(z_angle)\n",
    "    screen.draw_text(message)\n",
    "    time.sleep(0.1)"
   ]
  },
  {
   "cell_type": "markdown",
   "metadata": {
    "deletable": false
   },
   "source": [
    "If the angles seem like they are all over the place, you may need to do a recalibration. Sometimes you may need to manually reset the gyro angles."
   ]
  },
  {
   "cell_type": "code",
   "execution_count": null,
   "metadata": {
    "deletable": false
   },
   "outputs": [],
   "source": [
    "zumi.mpu.calibrate_MPU()\n",
    "\n",
    "# Reset the angles to zero them out\n",
    "zumi.angle_list = [0,0,0,0,0,0,0,0,0,0]\n",
    "\n",
    "# Try the code again\n",
    "for i in range(100):\n",
    "    z_angle = int(zumi.read_z_angle())\n",
    "    message = \" Z Angle reading        \"\n",
    "    message = message + str(z_angle)\n",
    "    screen.draw_text(message)\n",
    "    time.sleep(0.1)"
   ]
  }
 ],
 "metadata": {
  "kernelspec": {
   "display_name": "Python 3",
   "language": "python",
   "name": "python3"
  },
  "language_info": {
   "codemirror_mode": {
    "name": "ipython",
    "version": 3
   },
   "file_extension": ".py",
   "mimetype": "text/x-python",
   "name": "python",
   "nbconvert_exporter": "python",
   "pygments_lexer": "ipython3",
   "version": "3.7.0"
  },
  "pycharm": {
   "stem_cell": {
    "cell_type": "raw",
    "metadata": {
     "collapsed": false
    },
    "source": []
   }
  }
 },
 "nbformat": 4,
 "nbformat_minor": 2
}
