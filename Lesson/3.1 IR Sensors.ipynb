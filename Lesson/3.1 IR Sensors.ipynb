{
 "cells": [
  {
   "cell_type": "markdown",
   "metadata": {
    "deletable": false
   },
   "source": [
    "<img src=\"../Data/images/ZumiHeader.png\" width=700>"
   ]
  },
  {
   "cell_type": "markdown",
   "metadata": {
    "deletable": false
   },
   "source": [
    "# IR Sensors\n",
    "\n",
    "<font size =3> **Infrared** (IR for short) is a form of electromagnetic radiation that is not visible with the human eye. It’s also a form of energy. However, as scary as the name sounds, not all electromagnetic radiation is dangerous. There is a small portion of it that we can see, meaning this is visible light! The different colors that we see depend on the various wavelengths. As the wavelengths get longer, the colors become less visible to humans. However, special sensors can detect these waves. You will use the IR sensors on Zumi to detect objects that are covering the sensors. </font>\n",
    "\n",
    "<img src=\"../Data/images/electromagnetic_spectrum.jpg\" width=700>\n",
    "\n",
    "\n",
    "<center> https://imagine.gsfc.nasa.gov/science/toolbox/emspectrum1.html </center>\n",
    "\n",
    "## Zumi IR sensors\n",
    "\n",
    "<font size =3> Zumi is equipped with 6 IR sensors: two in the front, two in the back, and two on the bottom. They all have an index so that it's easier to read their data:\n",
    "   * IR 0 = front right\n",
    "   * IR 1 = bottom right\n",
    "   * IR 2 = back right\n",
    "   * IR 3 = bottom left\n",
    "   * IR 4 = back left\n",
    "   * IR 5 = front left\n",
    "\n",
    "</font>\n",
    "\n",
    "<img src=\"../Data/images/pcb_ir.jpg\" alt=\"pcb\" width=\"700\"/> "
   ]
  },
  {
   "cell_type": "markdown",
   "metadata": {
    "deletable": false
   },
   "source": [
    "## Display IR data on the screen\n",
    "<font size =3>You are going to display the IR data on Zumi’s screen. To get IR data you’ll need a Zumi object, and to display on the screen you need to create a Screen object. </font>\n",
    "\n",
    "### Import libraries"
   ]
  },
  {
   "cell_type": "code",
   "execution_count": null,
   "metadata": {
    "deletable": false
   },
   "outputs": [],
   "source": [
    "from zumi.zumi import Zumi\n",
    "from zumi.util.screen import Screen\n",
    "import time\n",
    "\n",
    "zumi = Zumi()\n",
    "screen = Screen()"
   ]
  },
  {
   "cell_type": "markdown",
   "metadata": {
    "deletable": false
   },
   "source": [
    "### What does the data mean?\n",
    "\n",
    "<font size =3> IR sensors work by emitting an infrared pulse and measuring the infrared light that returns after it bounces off an object. This number will be between 0 and 255.\n",
    "A lower number indicates that something in the vicinity is reflecting the IR light back to the sensor. \n",
    "\n",
    "Run each cell and watch the numbers on the screen change as you cover the sensors. The code will use a for loop to take 50 readings. </font>\n",
    "\n",
    "#### Front IR sensors"
   ]
  },
  {
   "cell_type": "code",
   "execution_count": null,
   "metadata": {
    "deletable": false
   },
   "outputs": [],
   "source": [
    "for i in range(0,50):\n",
    "    ir_readings = zumi.get_all_IR_data()\n",
    "    front_right_ir = ir_readings[0]\n",
    "    front_left_ir = ir_readings[5]\n",
    "    \n",
    "    message = \"    IR readings        \"\n",
    "    message = message + str(front_right_ir) + \", \" + str(front_left_ir)\n",
    "    screen.draw_text(message)\n",
    "    time.sleep(0.1)\n",
    "screen.draw_text_center(\"Done!\")"
   ]
  },
  {
   "cell_type": "markdown",
   "metadata": {
    "deletable": false
   },
   "source": [
    "#### Back IR sensors\n"
   ]
  },
  {
   "cell_type": "code",
   "execution_count": null,
   "metadata": {
    "deletable": false
   },
   "outputs": [],
   "source": [
    "for i in range(0,50):\n",
    "    ir_readings = zumi.get_all_IR_data()\n",
    "    back_right_ir = ir_readings[2]\n",
    "    back_left_ir = ir_readings[4]\n",
    "    \n",
    "    message = \"    IR readings        \"\n",
    "    message = message + str(back_right_ir) + \", \" + str(back_left_ir)\n",
    "    screen.draw_text(message)\n",
    "    time.sleep(0.1)\n",
    "screen.draw_text_center(\"Done!\")"
   ]
  },
  {
   "cell_type": "markdown",
   "metadata": {
    "deletable": false
   },
   "source": [
    "#### Bottom IR sensors\n",
    "\n",
    "<font size =3> Bottom IR sensors are great for line following or detecting if something is underneath Zumi, such as a table. </font>"
   ]
  },
  {
   "cell_type": "code",
   "execution_count": null,
   "metadata": {
    "deletable": false
   },
   "outputs": [],
   "source": [
    "for i in range(0,50):\n",
    "    ir_readings = zumi.get_all_IR_data()\n",
    "    bottom_right_ir = ir_readings[1]\n",
    "    bottom_left_ir = ir_readings[3]\n",
    "    \n",
    "    message = \"    IR readings        \"\n",
    "    message = message + str(bottom_right_ir) + \", \" + str(bottom_left_ir)\n",
    "    screen.draw_text(message)\n",
    "    time.sleep(0.1)\n",
    "screen.draw_text_center(\"Done!\")"
   ]
  },
  {
   "cell_type": "markdown",
   "metadata": {
    "deletable": false
   },
   "source": [
    "## IR with Buzzer\n",
    "<font size =3> You can also combine the buzzer and the IR sensor to a sensor that makes music when it detects something nearby. Run the code and see what happens when you place your hand in front of Zumi's right IR sensor. </font>"
   ]
  },
  {
   "cell_type": "code",
   "execution_count": null,
   "metadata": {
    "deletable": false
   },
   "outputs": [],
   "source": [
    "for i in range(0,100):\n",
    "    \n",
    "    ir_readings = zumi.get_all_IR_data()\n",
    "    zumi.play_note(int(ir_readings[0]/4),20) # Scale down the value from 0-255 to 0-60\n",
    "    time.sleep(0.05) # Pause between readings"
   ]
  }
 ],
 "metadata": {
  "kernelspec": {
   "display_name": "Python 3",
   "language": "python",
   "name": "python3"
  },
  "language_info": {
   "codemirror_mode": {
    "name": "ipython",
    "version": 3
   },
   "file_extension": ".py",
   "mimetype": "text/x-python",
   "name": "python",
   "nbconvert_exporter": "python",
   "pygments_lexer": "ipython3",
   "version": "3.5.3"
  }
 },
 "nbformat": 4,
 "nbformat_minor": 2
}
