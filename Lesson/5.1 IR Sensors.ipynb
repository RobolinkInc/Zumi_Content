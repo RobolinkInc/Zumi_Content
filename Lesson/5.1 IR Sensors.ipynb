{
 "cells": [
  {
   "cell_type": "markdown",
   "metadata": {
    "deletable": false,
    "editable": false
   },
   "source": [
    "![logo](../Datas/images/robolink.png)"
   ]
  },
  {
   "cell_type": "markdown",
   "metadata": {
    "deletable": false,
    "editable": false
   },
   "source": [
    "# IR Sensors\n",
    "\n",
    "IR stands for **infrared**. Infrared is a form of electromagnetic radiation that is not visible with the human eye. This is a form of energy. However, not all electromagnetic radiation is dangerous. There is a small portion of it that we can see. This is visible light! The different colors that we see depend on the various wavelengths. As the wavelengths get longer and longer, we can no longer see them. However, special sensors can detect these waves. You will use the IR sensors on Zumi to detect objects that are covering the sensors.\n",
    "\n",
    "\n",
    "\n",
    "\n",
    "![logo](../Datas/images/electromagnetic_spectrum.jpg)\n",
    "\n",
    "<center> https://imagine.gsfc.nasa.gov/science/toolbox/emspectrum1.html </center>\n",
    "\n",
    "## Zumi IR sensors\n",
    "\n",
    "Zumi is equipped with 6 IR sensors: two in the front, two in the back, and two on the bottom. They all have an index so that it is easier to read their data:\n",
    "   * IR 0 = front right\n",
    "   * IR 1 = bottom right\n",
    "   * IR 2 = back right\n",
    "   * IR 3 = bottom left\n",
    "   * IR 4 = back left\n",
    "   * IR 5 = front left\n",
    "\n",
    "\n",
    "<img src=\"../Datas/images/pcb.jpg\" alt=\"pcb\" width=\"700\"/>"
   ]
  },
  {
   "cell_type": "markdown",
   "metadata": {
    "deletable": false,
    "editable": false
   },
   "source": [
    "### Display IR data on the screen\n",
    "We are going to display the IR data on the screen. To get IR data we need Zumi object and to display on the screen we need to create a Screen object."
   ]
  },
  {
   "cell_type": "code",
   "execution_count": null,
   "metadata": {
    "deletable": false,
    "editable": false
   },
   "outputs": [],
   "source": [
    "from zumi.zumi import Zumi\n",
    "from zumi.util.screen import Screen\n",
    "import time\n",
    "\n",
    "zumi = Zumi()\n",
    "screen = Screen()"
   ]
  },
  {
   "cell_type": "markdown",
   "metadata": {
    "deletable": false,
    "editable": false
   },
   "source": [
    "### What does the data mean?\n",
    "\n",
    "IR sensors work by emitting an infrared pulse and meausuring the infrared light that returns from bouncing off an object. This number will be between 0 and 255.\n",
    "\n",
    "A lower number indicates that something in the vicinity is reflecting the IR light back to the sensor. You will be able to see the numbers drop as you cover the sensors. For the front and back IR sensors, try placing Zumi in front or behind of various objects to see the values of the IR sensors change.  \n",
    "\n",
    "#### Front IR sensors"
   ]
  },
  {
   "cell_type": "code",
   "execution_count": null,
   "metadata": {
    "autoscroll": true,
    "deletable": false,
    "editable": false
   },
   "outputs": [],
   "source": [
    "#display the ir values\n",
    "for i in range(0,50):\n",
    "    ir_readings = zumi.get_all_IR_data()\n",
    "    front_right_ir = ir_readings[0]\n",
    "    front_left_ir = ir_readings[5]\n",
    "    \n",
    "    message = \"    IR readings        \"\n",
    "    message = message + str(front_right_ir) + \", \" + str(front_left_ir)\n",
    "    screen.draw_text(message)\n",
    "    time.sleep(0.1)"
   ]
  },
  {
   "cell_type": "markdown",
   "metadata": {
    "deletable": false,
    "editable": false
   },
   "source": [
    "#### Back IR sensors\n"
   ]
  },
  {
   "cell_type": "code",
   "execution_count": null,
   "metadata": {
    "deletable": false,
    "editable": false
   },
   "outputs": [],
   "source": [
    "#display the ir values\n",
    "for i in range(0,50):\n",
    "    ir_readings = zumi.get_all_IR_data()\n",
    "    back_right_ir = ir_readings[2]\n",
    "    back_left_ir = ir_readings[4]\n",
    "    \n",
    "    message = \"    IR readings        \"\n",
    "    message = message + str(back_right_ir) + \", \" + str(back_left_ir)\n",
    "    screen.draw_text(message)\n",
    "    time.sleep(0.1)"
   ]
  },
  {
   "cell_type": "markdown",
   "metadata": {
    "deletable": false,
    "editable": false
   },
   "source": [
    "#### Bottom IR sensors\n",
    "\n",
    "The bottom IR sensors are a bit more precise at detecting when light is bounced off. Bottom IR sensors are great for line following or detecting if something is underneath Zumi, such as a table."
   ]
  },
  {
   "cell_type": "code",
   "execution_count": null,
   "metadata": {
    "deletable": false,
    "editable": false
   },
   "outputs": [],
   "source": [
    "#display the ir values\n",
    "for i in range(0,50):\n",
    "    ir_readings = zumi.get_all_IR_data()\n",
    "    bottom_right_ir = ir_readings[1]\n",
    "    bottom_left_ir = ir_readings[3]\n",
    "    \n",
    "    message = \"    IR readings        \"\n",
    "    message = message + str(bottom_right_ir) + \", \" + str(bottom_left_ir)\n",
    "    screen.draw_text(message)\n",
    "    time.sleep(0.1)"
   ]
  },
  {
   "cell_type": "markdown",
   "metadata": {
    "deletable": false,
    "editable": false
   },
   "source": [
    "## IR with Buzzer\n",
    "You can also combine the buzzer and the IR sensor to make music or a simple prozimity sensor.\n",
    "Run the code and place your hand in front of zumi's right IR sensor..."
   ]
  },
  {
   "cell_type": "code",
   "execution_count": null,
   "metadata": {
    "deletable": false,
    "editable": false
   },
   "outputs": [],
   "source": [
    "for i in range(0,100):\n",
    "    # note can be a number between 0-60\n",
    "    ir_readings = zumi.get_all_IR_data()\n",
    "    zumi.play_note(int(ir_readings[0]/4),20)\n",
    "    # ir_readings[0] = front right\n",
    "    # Make sure to pause\n",
    "    time.sleep(0.05)"
   ]
  }
 ],
 "metadata": {
  "kernelspec": {
   "display_name": "Python 3",
   "language": "python",
   "name": "python3"
  },
  "language_info": {
   "codemirror_mode": {
    "name": "ipython",
    "version": 3
   },
   "file_extension": ".py",
   "mimetype": "text/x-python",
   "name": "python",
   "nbconvert_exporter": "python",
   "pygments_lexer": "ipython3",
   "version": "3.5.3"
  }
 },
 "nbformat": 4,
 "nbformat_minor": 2
}
