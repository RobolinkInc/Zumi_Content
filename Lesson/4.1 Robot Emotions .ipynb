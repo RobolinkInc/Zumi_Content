{
 "cells": [
  {
   "cell_type": "markdown",
   "metadata": {
    "deletable": false
   },
   "source": [
    "<img src=\"../Data/images/ZumiHeader.png\" width=700>"
   ]
  },
  {
   "cell_type": "markdown",
   "metadata": {
    "deletable": false
   },
   "source": [
    "# Robot Emotions\n",
    "\n",
    "Zumi has a personality! In this lesson, you will learn how Zumi detects human emotions as well as how to program Zumi’s personality. You will also learn about sound, how it’s measured, and how it corresponds with emotion.  Finally, you will train your Zumi to recognize and react to her favorite color.\n",
    "\n",
    "\n",
    "\n",
    "## How do we detect emotion?\n",
    "Take a look at the images below and see if you can identify each of the emotions. \n",
    "\n",
    "![emotions](../Data/images/emotions.png)\n",
    "\n",
    "How did you determine which emotion was which? There are many features that can be indicators, like eyes, mouth, eyebrows, and maybe gestures. How do we translate human emotions to a robot?\n",
    "\n",
    "If you have seen the movie *Cars*, you may know that each of the cars has a personality. How was each car able to express emotions? Was it through movements? Sounds? Eyes?\n",
    "\n",
    "\n",
    "### Import libraries"
   ]
  },
  {
   "cell_type": "code",
   "execution_count": null,
   "metadata": {
    "deletable": false
   },
   "outputs": [],
   "source": [
    "from zumi.zumi import Zumi\n",
    "from zumi.util.screen import Screen\n",
    "from zumi.personality import Personality\n",
    "import time\n",
    "\n",
    "zumi = Zumi()\n",
    "screen = Screen()\n",
    "personality = Personality(zumi, screen)"
   ]
  },
  {
   "cell_type": "markdown",
   "metadata": {
    "deletable": false
   },
   "source": [
    "###  Calling personality functions\n",
    "Here are some functions you can call:\n",
    "\n",
    "* happy()\n",
    "     \n",
    "* celebrate()\n",
    "       \n",
    "* angry()\n",
    "       \n",
    "* look_around()\n",
    "\n",
    "* look_around_open()\n",
    "       \n",
    "* disoriented_left()\n",
    "       \n",
    "* disoriented_right()\n",
    "\n",
    "* awake()\n",
    "\n",
    "For example, \n",
    "```personality.happy()```\n",
    "        \n",
    "        \n",
    "In the cell below,try testing out some of the pesonality functions to see what they do."
   ]
  },
  {
   "cell_type": "code",
   "execution_count": null,
   "metadata": {
    "deletable": false
   },
   "outputs": [],
   "source": [
    "# Test Personality code here!"
   ]
  },
  {
   "cell_type": "markdown",
   "metadata": {
    "deletable": false
   },
   "source": [
    "## Sounds\n",
    "\n",
    "Zumi can play sounds to match her emotions! Sound can be measured in frequency and amplitude. Frequency is the number of pulses or vibrations per second, and is measured in hertz. The higher the frequency, the higher the pitch of the sound is. Amplitude is how loud or strong the sound is and is measured in decibels. The higher the amplitude, the louder the sound is. \n",
    "\n",
    " Video: [Sound: Wavelength, Frequency, and Amplitude](https://www.youtube.com/watch?v=TsQL-sXZOLc)\n",
    "\n",
    "What does each emotion sounds like? Is happy a low or high frequency? Is angry a low or high amplitude? How does this apply to Zumi?\n",
    "\n",
    "You can use ```play_note()``` to play various notes. The first parameter is the note you want to play (anywhere from C2 to B6). The second parameter is optional and denotes the amount of time you want the note to play in milliseconds. The default value is set to 500ms but you can change that by adding a second parameter like this: ```play_note(Note.GS3, 400)```. This plays the note G Sharp below middle C for 400ms.\n"
   ]
  },
  {
   "cell_type": "code",
   "execution_count": null,
   "metadata": {
    "deletable": false
   },
   "outputs": [],
   "source": [
    "from zumi.protocol import Note \n",
    "zumi.play_note(Note.C4)\n",
    "zumi.play_note(Note.D4)\n",
    "zumi.play_note(Note.E4)\n",
    "zumi.play_note(Note.F4)\n",
    "zumi.play_note(Note.G4)\n",
    "zumi.play_note(Note.A4)\n",
    "zumi.play_note(Note.B4)\n",
    "zumi.play_note(Note.C5)"
   ]
  },
  {
   "cell_type": "markdown",
   "metadata": {
    "deletable": false
   },
   "source": [
    "Code your own sounds for happy, sad, angry, or excited. Try out different melodies until you find your favorites."
   ]
  },
  {
   "cell_type": "code",
   "execution_count": null,
   "metadata": {
    "deletable": false
   },
   "outputs": [],
   "source": [
    "# Make your melodies here 🎵 "
   ]
  },
  {
   "cell_type": "markdown",
   "metadata": {
    "deletable": false
   },
   "source": [
    "## Screen\n",
    "\n",
    "Zumi personality also uses the **OLED** (organic LED) screen to display emotions.\n",
    "There are many different \"eyes\" Zumi has:\n",
    "```\n",
    "* close_eyes()\n",
    "* sleepy_eyes()\n",
    "* sleepy_left()\n",
    "* sleepy_right()\n",
    "* blink()\n",
    "* look_around_open()\n",
    "* sleeping()\n",
    "* look_around()       \n",
    "* glimmer()\n",
    "* sad()\n",
    "* happy()\n",
    "* hello()\n",
    "* angry()\n",
    "```\n",
    "\n",
    "To use the screen, call the screen class with a function of your choice. Try \n",
    "      "
   ]
  },
  {
   "cell_type": "code",
   "execution_count": null,
   "metadata": {
    "deletable": false
   },
   "outputs": [],
   "source": [
    "screen.sad()"
   ]
  },
  {
   "cell_type": "markdown",
   "metadata": {
    "deletable": false
   },
   "source": [
    "### Draw Text\n",
    "\n",
    "Aside from drawing Zumi eyes, you can also have Zumi write messages on the screen! Use the ```draw_text()``` function to write a message like this:"
   ]
  },
  {
   "cell_type": "code",
   "execution_count": null,
   "metadata": {
    "deletable": false
   },
   "outputs": [],
   "source": [
    "screen.draw_text(\"hello!\")"
   ]
  },
  {
   "cell_type": "markdown",
   "metadata": {},
   "source": [
    "If you want to automatically center the text on the screen, call this function instead:"
   ]
  },
  {
   "cell_type": "code",
   "execution_count": null,
   "metadata": {},
   "outputs": [],
   "source": [
    "screen.draw_text_center(\"hello!\")"
   ]
  },
  {
   "cell_type": "markdown",
   "metadata": {
    "deletable": false
   },
   "source": [
    "If you want to to write text with numbers, you need to make sure everything is of the ```String``` data type."
   ]
  },
  {
   "cell_type": "code",
   "execution_count": null,
   "metadata": {
    "deletable": false
   },
   "outputs": [],
   "source": [
    "number = 10\n",
    "screen.draw_text(\"ten \" + str(number)) # the str() functions turns the number into a string"
   ]
  },
  {
   "cell_type": "markdown",
   "metadata": {
    "deletable": false
   },
   "source": [
    "You can even make Zumi display the time for you!"
   ]
  },
  {
   "cell_type": "code",
   "execution_count": null,
   "metadata": {
    "deletable": false
   },
   "outputs": [],
   "source": [
    "for i in range(0,50):\n",
    "    screen.draw_text(time.ctime())\n",
    "    time.sleep(0.1)"
   ]
  },
  {
   "cell_type": "markdown",
   "metadata": {
    "deletable": false
   },
   "source": [
    "## Add personality to Color classifier\n",
    "Go back to the previous lesson on color classifier and train Zumi on a variety of colors. Set a happy reaction to her favorite color and sad/angry reactions to the other colors. Have a partner show Zumi various colors and try and guess what Zumi's favorite color is!"
   ]
  }
 ],
 "metadata": {
  "kernelspec": {
   "display_name": "Python 3",
   "language": "python",
   "name": "python3"
  },
  "language_info": {
   "codemirror_mode": {
    "name": "ipython",
    "version": 3
   },
   "file_extension": ".py",
   "mimetype": "text/x-python",
   "name": "python",
   "nbconvert_exporter": "python",
   "pygments_lexer": "ipython3",
   "version": "3.5.3"
  }
 },
 "nbformat": 4,
 "nbformat_minor": 2
}
