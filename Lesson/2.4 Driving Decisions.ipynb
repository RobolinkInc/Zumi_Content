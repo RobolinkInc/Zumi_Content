{
 "cells": [
  {
   "cell_type": "markdown",
   "metadata": {},
   "source": [
    "<img src=\"../Data/images/ZumiHeader.png\" width=700>"
   ]
  },
  {
   "cell_type": "markdown",
   "metadata": {},
   "source": [
    "# Driving Decisions\n",
    "\n",
    "<font size =3> When we walk around, we are always sensing our environment. We need to be able to sense obstacles that might have come up along the way. This is a problem for Zumi with the <font face=\"Courier\">forward()</font> function. With <font face=\"Courier\">forward()</font> , Zumi cannot check her sensors or her surroundings while driving. Imagine walking around with your eyes closed, and only opening your eyes when you have stopped moving to decide your next move. In this lesson, you will learn how to use a new function that will let Zumi multitask. You will be able to drive and check sensors to make decisions.</font>\n",
    "\n",
    "## Include libraries"
   ]
  },
  {
   "cell_type": "code",
   "execution_count": null,
   "metadata": {},
   "outputs": [],
   "source": [
    "from zumi.zumi import Zumi\n",
    "import time\n",
    "import IPython.display\n",
    "zumi = Zumi()"
   ]
  },
  {
   "cell_type": "markdown",
   "metadata": {},
   "source": [
    "## forward()\n",
    "\n",
    "<font size=3> Run the following code and pick up Zumi as she's driving. What happens?</font>\n",
    "    "
   ]
  },
  {
   "cell_type": "code",
   "execution_count": null,
   "metadata": {},
   "outputs": [],
   "source": [
    "zumi.forward(duration=5)"
   ]
  },
  {
   "cell_type": "markdown",
   "metadata": {},
   "source": [
    "## go_straight()\n",
    "<font size=3> When you are walking, what actions are being repeated? Right foot, left foot, right foot, left foot... Zumi can also take \"steps\" forward. When these small steps are put in a loop, Zumi will drive forward. The driving function for a small step is <font face=\"Courier\"> zumi.go_straight()</font>. Unlike <font face=\"Courier\">forward()</font>, parameters are not optional. Zumi needs to know speed and **heading**, or direction. In the image below, what is Zumi's heading?\n",
    "    \n",
    "<img src=\"../Data/images/heading_straight.png\" width=\"200\">\n",
    "    \n",
    "Run the code below to see the code for this driving pattern using <font face=\"Courier\">go_straight()</font>."
   ]
  },
  {
   "cell_type": "code",
   "execution_count": null,
   "metadata": {},
   "outputs": [],
   "source": [
    "zumi.reset_gyro() # Resetting all angles to zero at the start\n",
    "\n",
    "for x in range(40): # Take 40 steps\n",
    "    zumi.go_straight(40, -30) # Drive at speed 40 at heading -30\n",
    "    \n",
    "zumi.stop() # Don't forget to stop!"
   ]
  },
  {
   "cell_type": "markdown",
   "metadata": {},
   "source": [
    "<font size=3> The <font face=\"Courier\">stop()</font> at the end of the program is really important! Since <font face=\"Courier\">go_straight()</font> allows for smooth driving without stops in between, there is nothing to stop Zumi from driving forever (or until the battery dies). After a for loop completes, the code will continue to the next line. Any code that is **not** part of the for loop should not be indented. <br><br>\n",
    "In the space below, practice using for loops and this new method of driving straight. Try changing the second heading parameter and estimate how many time it takes to drive a certain number of iterations."
   ]
  },
  {
   "cell_type": "code",
   "execution_count": null,
   "metadata": {},
   "outputs": [],
   "source": [
    "# Code here!"
   ]
  },
  {
   "cell_type": "markdown",
   "metadata": {},
   "source": [
    "## Conditionals\n",
    "<font size=3> Self-driving cars are always making decisions based on sensory input. In this section, you will learn how to write a program that stop Zumi from driving if she is upside down!</font>\n",
    "\n",
    "\n",
    "### Orientation\n",
    "<font size=3> To know if Zumi is upside down, you are going to learn about a new function: <font face=\"Courier\">get_orientation()</font>. There are six states that Zumi can be facing:\n",
    "    \n",
    "<img src=\"../Data/images/orientations.png\" width=\"750\">\n",
    "\n",
    "Use the code below to verify the six different states. If you see a 0,-1, or 7, Zumi is between states or the state is unknown.\n"
   ]
  },
  {
   "cell_type": "code",
   "execution_count": null,
   "metadata": {},
   "outputs": [],
   "source": [
    "for i in range(80):\n",
    "    zumi.update_angles()\n",
    "    orientation = zumi.get_orientation() # Save this value in a variable so that you can use it later...\n",
    "    print(orientation)\n",
    "    time.sleep(0.1)\n",
    "    IPython.display.clear_output(wait=True) \n",
    "print(\"Done!\")"
   ]
  },
  {
   "cell_type": "markdown",
   "metadata": {},
   "source": [
    "### Pseudocode\n",
    "<font size=3> Your goal is to write code that will only allow Zumi to drive while she is flat on the ground. In other words, Zumi will only drive *if* get_orientation is in state 5. Before writing the code in Python, it is helpful to write pseudocode, which is a program that’s written in plain language that a human can understand. Look at the pseudocode below to see what we mean:<br><br>\n",
    "    \n",
    "<font face=\"Courier\">\n",
    "check orientation<br>\n",
    "if orientation is 5, drive<br>\n",
    "else if orientation is not 5, stop<br>\n",
    "repeat for 100 iterations<br>\n",
    "</font>\n",
    "</font>\n",
    "\n",
    "### If statements\n",
    "<font size=3> Most of the pseudocode should be familiar except for the two middle lines where Zumi makes a decision based on the orientation. If statements, or conditionals, are used to make decisions within code. You actually use conditionals every day! \n",
    "<img src=\"../Data/images/conditional_flowchart.jpg\" width=700>\n",
    "\n",
    "The alarm is the **condition** that needs to be true to wake up. Else, if the condition is false, the program will execute something different. In Python, if statements follow a format similar to this one: <br> <br>\n",
    "    \n",
    "<font face=\"Courier\">\n",
    "if alarm goes off:<br>\n",
    "<span style=\"margin-left: 40px;\">I will wake up</span><br>\n",
    "else:<br>\n",
    "<span style=\"margin-left: 40px;\">I will stay asleep</span><br>\n",
    "</font>\n",
    "\n",
    "Before running the code cell below, see the values of variables x and y. Can you predict what the output will be?\n",
    "    \n",
    "    "
   ]
  },
  {
   "cell_type": "code",
   "execution_count": null,
   "metadata": {},
   "outputs": [],
   "source": [
    "x = 10\n",
    "y = 30 \n",
    "\n",
    "if x > y:\n",
    "    print(\"x is greater than y\")\n",
    "elif x == y:\n",
    "    print(\"x is equal to y\")\n",
    "else:\n",
    "    print(\"x is less than y\")\n"
   ]
  },
  {
   "cell_type": "markdown",
   "metadata": {},
   "source": [
    "<font size=3> Notice the double equal signs == for checking if two values are equal. This is the **comparator** you will be using to compare the value of the orientation to the values that you choose. Using your knowledge of for loops, <font face=\"Courier\">go_straight()</font>, and <font face=\"Courier\">get_orientation()</font>, fill in the code below to have Zumi drive forward for 200 steps unless Zumi's orientation is upside down. Don't forget to put a <font face=\"Courier\">stop()</font> at the end of the for loop!"
   ]
  },
  {
   "cell_type": "code",
   "execution_count": null,
   "metadata": {},
   "outputs": [],
   "source": [
    "# TODO: Reset angles to zero\n",
    "\n",
    "for x in range(\"CHANGE ME!\"):\n",
    "    zumi.update_angles()\n",
    "    orientation = zumi.get_orientation() \n",
    "    \n",
    "    # TODO Check if orientation is equal to 5 and go straight if true\n",
    "    # TODO Else, stop.\n",
    "    \n",
    "# TODO Add one more stop here"
   ]
  }
 ],
 "metadata": {
  "kernelspec": {
   "display_name": "Python 3",
   "language": "python",
   "name": "python3"
  },
  "language_info": {
   "codemirror_mode": {
    "name": "ipython",
    "version": 3
   },
   "file_extension": ".py",
   "mimetype": "text/x-python",
   "name": "python",
   "nbconvert_exporter": "python",
   "pygments_lexer": "ipython3",
   "version": "3.5.3"
  }
 },
 "nbformat": 4,
 "nbformat_minor": 2
}
