{
 "cells": [
  {
   "cell_type": "markdown",
   "metadata": {},
   "source": [
    "<img src=\"../Data/images/ZumiHeader.png\" width=700>"
   ]
  },
  {
   "cell_type": "markdown",
   "metadata": {
    "deletable": false
   },
   "source": [
    "<img src=\"../Data/images/lessonsicon.png\" width=80 align=\"left\">\n",
    "\n",
    "# Basic Drive Commands\n",
    "\n",
    "In the past lesson, Zumi learned how to obey traffic lights **autonomously**, which means that she was behaving without any human input or assistance. However, now Zumi needs help from you to learn how to go forward, reverse, left, and right. You will be making a custom remote control with if statements and your keyboard. First, you need to learn how to drive Zumi.\n",
    "\n",
    "\n",
    "### Import libraries and create objects\n",
    "You only need to run the following cell once unless you restart the Jupyter Notebook."
   ]
  },
  {
   "cell_type": "code",
   "execution_count": null,
   "metadata": {
    "deletable": false
   },
   "outputs": [],
   "source": [
    "from zumi.zumi import Zumi\n",
    "import time\n",
    "\n",
    "zumi = Zumi()"
   ]
  },
  {
   "cell_type": "markdown",
   "metadata": {
    "deletable": false
   },
   "source": [
    "## Drive Commands\n",
    "\n",
    "In the past, you saw Zumi drive straight and stop for green and red cards. In this lesson, we will go more in-depth with what functions are, what they do, and how you can use them to create your remote control.\n",
    "\n",
    "\n",
    "### What are functions?\n",
    "To make Zumi drive, we need to use some functions. These are sections of code that are already written so that you can use them to make your program more efficient. Zumi has a lot of functions that you can use! For example, the Red Light Green Light program used functions ```go_straight()``` and ```stop()```.\n",
    "\n",
    "\n",
    "### Zumi functions\n",
    "Below is a list of the basic commands that you will use for your remote control program along with how they work:\n",
    "\n",
    "* ```forward()```: Drive forward in the direction Zumi is facing at speed 40 for 1 second\n",
    "* ```reverse()```: Reverse in the direction Zumi is facing at speed 40 for 1 second\n",
    "* ```turn_left()```: Turn 10 degrees to the left\n",
    "* ```turn_left()```: Turn 10 degrees to the right \n",
    "\n",
    "\n",
    "### How to call functions\n",
    "In computer science, calling anything is basically asking it to run. Functions must be called using the object name, which in this case is zumi. The cell below has an example using the ```forward()``` function. Zumi will drive forward for one second, so make sure you have enough space in its area!\n"
   ]
  },
  {
   "cell_type": "code",
   "execution_count": null,
   "metadata": {
    "deletable": false
   },
   "outputs": [],
   "source": [
    "zumi.forward()"
   ]
  },
  {
   "cell_type": "markdown",
   "metadata": {
    "deletable": false
   },
   "source": [
    "Now try going in reverse..."
   ]
  },
  {
   "cell_type": "code",
   "execution_count": null,
   "metadata": {
    "deletable": false
   },
   "outputs": [],
   "source": [
    "# TODO Write code so Zumi reverses for 1 second"
   ]
  },
  {
   "cell_type": "markdown",
   "metadata": {
    "deletable": false
   },
   "source": [
    "Now that you have the hang of it, let's go over the next two functions. Calling ```turn_left()``` and ```turn_right()``` will cause Zumi to turn a little to the left or a little to the right.\n",
    "\n",
    "Test this code below and then add more commands in any order to see what happens. If you want to have some time between each command, include a ```time.sleep(seconds)``` to delay the program for the specified number of seconds.\n",
    "Run the code below to see how this works, and then try adding some more commands to the code.\n",
    "\n"
   ]
  },
  {
   "cell_type": "code",
   "execution_count": null,
   "metadata": {
    "deletable": false
   },
   "outputs": [],
   "source": [
    "zumi.forward() \n",
    "time.sleep(2)\n",
    "zumi.turn_right()\n",
    "# Add more code here!"
   ]
  },
  {
   "cell_type": "markdown",
   "metadata": {
    "deletable": false
   },
   "source": [
    "### Parameters\n",
    "At this point, you may want to change the duration, direction, and speed that Zumi drives forward. Some functions will allow you to input parameters, which are extra pieces of information that allow you to further customize your function for your needs. Right now ```forward()``` has a default speed, duration, and direction, but you can alter the parameters to change how fast Zumi drives, as well as for how long in a certain direction. \n",
    "\n",
    "We’re going to skip changing Zumi’s direction since it requires some more understanding of Zumi's sensors, but you can change the speed and duration by defining them inside of the function call. In the cell below, the code has been modified to reduce the speed to 30 and drive for 2 seconds. Make sure you have enough space!\n"
   ]
  },
  {
   "cell_type": "code",
   "execution_count": null,
   "metadata": {
    "deletable": false
   },
   "outputs": [],
   "source": [
    "zumi.forward(speed=30, duration=2)"
   ]
  },
  {
   "cell_type": "markdown",
   "metadata": {
    "deletable": false
   },
   "source": [
    "You can do the same for reverse. Change the speed and duration for ```reverse()``` below:"
   ]
  },
  {
   "cell_type": "code",
   "execution_count": null,
   "metadata": {
    "deletable": false
   },
   "outputs": [],
   "source": [
    "# TODO Modify reverse to go at speed 20 for 3 seconds"
   ]
  },
  {
   "cell_type": "markdown",
   "metadata": {
    "deletable": false
   },
   "source": [
    "### Degrees\n",
    "The functions ```turn_left()``` and ```turn_right()``` also have parameters you can change. The default value is set to 10 degrees, but that value can be changed as well.\n",
    "\n",
    "The code below will have Zumi turn right 90 degrees instead of 10:"
   ]
  },
  {
   "cell_type": "code",
   "execution_count": null,
   "metadata": {
    "deletable": false
   },
   "outputs": [],
   "source": [
    "zumi.turn_right(90)"
   ]
  },
  {
   "cell_type": "markdown",
   "metadata": {
    "deletable": false
   },
   "source": [
    "Use this diagram for reference if you need it! The angles only apply for turning right. If you are turning left, mirror the values and go counter-clockwise around the circle to find the right degree that you want.\n",
    "![degrees](../Data/images/degrees.png)"
   ]
  },
  {
   "cell_type": "code",
   "execution_count": null,
   "metadata": {
    "deletable": false
   },
   "outputs": [],
   "source": [
    "# Test some code here"
   ]
  },
  {
   "cell_type": "markdown",
   "metadata": {
    "deletable": false
   },
   "source": [
    "<img src=\"../Data/images/lessonsicon.png\" width=80 align=\"left\">\n",
    "\n",
    "## Recalibrating\n",
    "If you find that Zumi isn't going straight, you may need to recalibrate. Make sure you aren't picking up Zumi and she is resting on a flat surface."
   ]
  },
  {
   "cell_type": "code",
   "execution_count": null,
   "metadata": {
    "deletable": false
   },
   "outputs": [],
   "source": [
    "zumi.mpu.calibrate_MPU()"
   ]
  },
  {
   "cell_type": "markdown",
   "metadata": {
    "deletable": false
   },
   "source": [
    "Now you know the basics! Use the cell below to test out some more code. In the next lesson you will learn how to combine the drive commands with if statements to make your own remote control."
   ]
  },
  {
   "cell_type": "code",
   "execution_count": null,
   "metadata": {
    "deletable": false
   },
   "outputs": [],
   "source": [
    "# Write some more code here!"
   ]
  }
 ],
 "metadata": {
  "kernelspec": {
   "display_name": "Python 3",
   "language": "python",
   "name": "python3"
  },
  "language_info": {
   "codemirror_mode": {
    "name": "ipython",
    "version": 3
   },
   "file_extension": ".py",
   "mimetype": "text/x-python",
   "name": "python",
   "nbconvert_exporter": "python",
   "pygments_lexer": "ipython3",
   "version": "3.5.3"
  }
 },
 "nbformat": 4,
 "nbformat_minor": 2
}
