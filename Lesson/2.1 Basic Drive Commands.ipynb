{
 "cells": [
  {
   "cell_type": "markdown",
   "metadata": {},
   "source": [
    "![Logo](../Datas/images/robolink.png)"
   ]
  },
  {
   "cell_type": "markdown",
   "metadata": {},
   "source": [
    "# Basic Drive Commands\n",
    "\n",
    "In the past lesson, Zumi learned how to obey traffic lights **autonomously**! What does it mean for the code to be autonomous? Autonomous means behaving without any human input or assistance. However, now Zumi needs help from you to learn how to go forward, reverse, left, and right. You will be making a custom remote control with if statements and your keyboard. First, you need to learn how to drive Zumi.\n",
    "\n",
    "### Import libraries and create objects\n",
    "You only need to run the following cell once unless you restart the Jupyter Notebook."
   ]
  },
  {
   "cell_type": "code",
   "execution_count": null,
   "metadata": {},
   "outputs": [],
   "source": [
    "from zumi.zumi import Zumi\n",
    "import time\n",
    "\n",
    "zumi = Zumi()"
   ]
  },
  {
   "cell_type": "markdown",
   "metadata": {},
   "source": [
    "## Drive Commands\n",
    "\n",
    "In the past you saw Zumi drive straight and stop for green and red cards. In this lesson we will go more in depth with what functions are, what they do, and how you can use them to create your remote control.\n",
    "\n",
    "### What are functions?\n",
    "To make Zumi drive, we need to call on some **functions**. Think of functions as sections of code that are already written so that you can use them to build more efficient code. Zumi has many functions that you can use. *Red Light Green Light* was using functions ```go_straight()``` and ```stop()```. \n",
    "\n",
    "### Zumi functions\n",
    "Below is a list of the basic commands that you will use for your remote control program. They are listed along with documentation of how they work:\n",
    "\n",
    "* ```forward()```: Drive forward in the direction Zumi is facing at speed 40 for 1 second\n",
    "* ```reverse()```: Reverse in the direction Zumi is facing at speed 40 for 1 second\n",
    "* ```turn_left()```: Turn left 10 degrees\n",
    "* ```turn_left()```: Turn right 10 degrees\n",
    "\n",
    "\n",
    "### How to call functions\n",
    "Functions must be called in conjunction with the object name, which in this case is ```zumi```.\n",
    "The cell below has an example using the ```forward()``` function. Zumi will drive forward for one second so make sure you have enough space!"
   ]
  },
  {
   "cell_type": "code",
   "execution_count": null,
   "metadata": {},
   "outputs": [],
   "source": [
    "zumi.forward()"
   ]
  },
  {
   "cell_type": "markdown",
   "metadata": {},
   "source": [
    "Now try going in reverse..."
   ]
  },
  {
   "cell_type": "code",
   "execution_count": null,
   "metadata": {},
   "outputs": [],
   "source": [
    "# TODO Write code so Zumi reverses for 1 second"
   ]
  },
  {
   "cell_type": "markdown",
   "metadata": {},
   "source": [
    "Now that you have the hang of it, let's go over the next two functions. Calling ```turn_left()``` and ```turn_right()``` will cause Zumi to turn a little to the left or a little to the right. \n",
    "\n",
    "Test this code below and then add more commands in any order and see what happens. If you wish to have some time between each command, include a ```time.sleep(seconds)``` to delay the program the specified number of seconds.\n",
    "\n",
    "Run the code below to see how this works, then try adding some more commands to the code.\n"
   ]
  },
  {
   "cell_type": "code",
   "execution_count": null,
   "metadata": {},
   "outputs": [],
   "source": [
    "zumi.forward() \n",
    "time.sleep(2)\n",
    "zumi.turn_right()\n",
    "# Add more code here!"
   ]
  },
  {
   "cell_type": "markdown",
   "metadata": {},
   "source": [
    "### Parameters\n",
    "At this point you may want to change the duration, direction, and speed that Zumi drives forward. Some functions will allow you to input **parameters**. Parameters are like ingredients for the recipe. Right now forward() has a default speed, duration, and direction, but we can change those \"ingredients\" to customize our functions.\n",
    "\n",
    "In this lesson you will not be changing the direction because it requires some more understanding of Zumi's sensors, but we can change the speed and duration by defining them inside of the function call. In the cell below, the code has been modified to reduce the speed to 30 and drive for 2 seconds. Make sure you have enough space!"
   ]
  },
  {
   "cell_type": "code",
   "execution_count": null,
   "metadata": {},
   "outputs": [],
   "source": [
    "zumi.forward(speed=30, duration=2)"
   ]
  },
  {
   "cell_type": "markdown",
   "metadata": {},
   "source": [
    "You can do the same for reverse. Change the speed and duration for reverse() below:"
   ]
  },
  {
   "cell_type": "code",
   "execution_count": null,
   "metadata": {},
   "outputs": [],
   "source": [
    "# TODO Modify reverse to go at speed 20 for 3 seconds"
   ]
  },
  {
   "cell_type": "markdown",
   "metadata": {},
   "source": [
    "### Degrees\n",
    "The functions ```turn_left()``` and ```turn_right()``` also have parameters you can change. The default value is set to 10 degrees, but that value can be changed as well.\n",
    "\n",
    "The code below will have Zumi turn right 90 degrees instead of 10:"
   ]
  },
  {
   "cell_type": "code",
   "execution_count": null,
   "metadata": {},
   "outputs": [],
   "source": [
    "zumi.turn_right(90)"
   ]
  },
  {
   "cell_type": "markdown",
   "metadata": {},
   "source": [
    "Use this diagram for reference if you need it! The angles only apply for turning right. If you are turning left, mirror the values and go counter-clockwise around the circle to find the right degree that you want.\n",
    "![degrees](../Datas/images/degrees.png)"
   ]
  },
  {
   "cell_type": "code",
   "execution_count": null,
   "metadata": {},
   "outputs": [],
   "source": [
    "# Test some code here"
   ]
  },
  {
   "cell_type": "markdown",
   "metadata": {},
   "source": [
    "## Recalibrating\n",
    "If you find that Zumi isn't going straight, you may need to recalibrate. Make sure you aren't picking up Zumi and she is resting on a flat surface."
   ]
  },
  {
   "cell_type": "code",
   "execution_count": null,
   "metadata": {},
   "outputs": [],
   "source": [
    "zumi.mpu.calibrate_MPU()"
   ]
  },
  {
   "cell_type": "markdown",
   "metadata": {},
   "source": [
    "Now you know the basics! Use the cell below to test out some more code. In the next lesson you will learn how to combine the drive commands with if statements to make your own remote control."
   ]
  },
  {
   "cell_type": "code",
   "execution_count": null,
   "metadata": {},
   "outputs": [],
   "source": [
    "# Write some more code here!"
   ]
  }
 ],
 "metadata": {
  "kernelspec": {
   "display_name": "Python 3",
   "language": "python",
   "name": "python3"
  },
  "language_info": {
   "codemirror_mode": {
    "name": "ipython",
    "version": 3
   },
   "file_extension": ".py",
   "mimetype": "text/x-python",
   "name": "python",
   "nbconvert_exporter": "python",
   "pygments_lexer": "ipython3",
   "version": "3.5.3"
  }
 },
 "nbformat": 4,
 "nbformat_minor": 2
}
