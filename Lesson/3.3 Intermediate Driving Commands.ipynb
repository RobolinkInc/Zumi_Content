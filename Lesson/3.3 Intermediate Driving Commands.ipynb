{
 "cells": [
  {
   "cell_type": "markdown",
   "metadata": {},
   "source": [
    "![logo](../Datas/images/robolink.png)"
   ]
  },
  {
   "cell_type": "markdown",
   "metadata": {},
   "source": [
    "# Intermediate Driving Commands\n",
    "\n",
    "In the last lesson you learned how to use for loops to make your own shapes. The Zumi library has many of these shapes and other maneuvers programmed for you so that Zumi can drive just like a real self-driving car!\n",
    "\n",
    "### Import libraries and create objects"
   ]
  },
  {
   "cell_type": "code",
   "execution_count": null,
   "metadata": {},
   "outputs": [],
   "source": [
    "from zumi.zumi import Zumi\n",
    "\n",
    "zumi = Zumi()"
   ]
  },
  {
   "cell_type": "markdown",
   "metadata": {},
   "source": [
    "### Drive functions\n",
    "\n",
    "* ```right_u_turn(speed=30, step=4, delay=0.02)```\n",
    "        param speed: the forward speed you want Zumi to drive at.\n",
    "        param step: the angle step size as it goes from (0 - 180)\n",
    "        param delay: the delay between each angle step\n",
    "\n",
    "* ```left_u_turn(speed=30, step=4, delay=0.02)```\n",
    "        param speed: the forward speed you want Zumi to drive at.\n",
    "        param step: the angle step size as it goes from (0 - 180)\n",
    "        param delay: the delay between each angle step\n",
    "\n",
    "* ```circle(speed=30, step=2, direction=1, delay=0.02)```\n",
    "        param speed: the forward speed you want Zumi to drive at.\n",
    "        param step: the angle step size as it goes from (0 - 360)\n",
    "        param direction: -1 = right , +1 = left\n",
    "        param delay: the delay between each angle step\n",
    "\n",
    "* ```right_circle(speed=30, step=2)```\n",
    "\n",
    "* ```left_circle(speed=30, step=2)```\n",
    "\n",
    "* ```square(speed=40, seconds=1, direction=1)```\n",
    "         param direction will need to be either -1 or 1 to change direction\n",
    "\n",
    "* ```square_right(speed=40, seconds=1.0)```\n",
    "\n",
    "* ```square_left(speed=40, seconds=1.0)```\n",
    "\n",
    "* ```j_turn(speed=100, step=4, delay=0.005)```\n",
    "         param speed: the forward speed you want Zumi to drive at.\n",
    "         param step: the angle step size\n",
    "         param delay: the delay between each angle step\n",
    "\n",
    "* ```figure_8(speed=30, step=3, delay=0.02)```\n",
    "         param speed: the forward speed you want Zumi to drive at.\n",
    "         param step: the angle step size as it goes from (0 - 360)\n",
    "         param delay: the delay between each angle step\n",
    "\n",
    "* ```parallel_park(speed=15, step=1, delay=0.01)```\n",
    "\n",
    "* ```rectangle(speed=40, seconds=1.0, direction=1, ratio=2)```\n",
    "         param direction will need to be either -1 or 1 to change direction\n",
    "\n",
    "* ```triangle(speed=40, seconds=1.5, direction=1)```\n",
    "         param direction will need to be either -1 or 1 to change direction\n",
    "         \n",
    "In the cell below, test out some of these drive functions. Be aware that by changing the parameters you may need more space. It is recommend that you drive Zumi on the floor or keep at eye on your Zumi while driving at all times."
   ]
  },
  {
   "cell_type": "code",
   "execution_count": null,
   "metadata": {},
   "outputs": [],
   "source": [
    "# Write code here!"
   ]
  }
 ],
 "metadata": {
  "kernelspec": {
   "display_name": "Python 3",
   "language": "python",
   "name": "python3"
  },
  "language_info": {
   "codemirror_mode": {
    "name": "ipython",
    "version": 3
   },
   "file_extension": ".py",
   "mimetype": "text/x-python",
   "name": "python",
   "nbconvert_exporter": "python",
   "pygments_lexer": "ipython3",
   "version": "3.5.3"
  }
 },
 "nbformat": 4,
 "nbformat_minor": 2
}
