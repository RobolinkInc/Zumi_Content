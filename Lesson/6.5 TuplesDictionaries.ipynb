{
 "cells": [
  {
   "cell_type": "markdown",
   "metadata": {},
   "source": [
    "<img src=\"../Data/images/ZumiHeader.png\" width=700>"
   ]
  },
  {
   "cell_type": "code",
   "execution_count": 3,
   "metadata": {},
   "outputs": [
    {
     "name": "stdout",
     "output_type": "stream",
     "text": [
      " Starting Zumi \n",
      "Pi Zero I2C is available\n",
      "Gyro offset file already exists.\n",
      "Verified Pi Zero is the same\n",
      "Gyroscope previously calibrated\n",
      "Creating new offset file...\n",
      ".\n",
      ".\n"
     ]
    }
   ],
   "source": [
    "from zumi.zumi import Zumi\n",
    "from zumi.util.screen import Screen\n",
    "from zumi.personality import Personality\n",
    "import time\n",
    "\n",
    "zumi = Zumi()\n",
    "zumi.mpu.calibrate_MPU()\n",
    "screen = Screen()\n",
    "personality = Personality(zumi, screen)\n",
    "from zumi.protocol import Note \n",
    "\n",
    "#indexing\n",
    "e2 = Note.D4\n",
    "e4 = Note.F4\n",
    "\n",
    "# len and count\n",
    "occurAns = 6\n",
    "lenAns = 8"
   ]
  },
  {
   "cell_type": "markdown",
   "metadata": {},
   "source": [
    "# Tuples & Dictionaries"
   ]
  },
  {
   "cell_type": "markdown",
   "metadata": {},
   "source": [
    "### What is a Tuple?\n",
    "\n",
    "<font size =3>By now, you should be comfortable with Lists.  Lists store elements in a container-like structure in which we could **change** the elements if desired.  When an element is allowed to be changed in a list, the element is said to be **mutable**.  Tuples are almost identical to lists except the elements are **not** allowed to be changed.  More formally, we say a tuple is a data structure that contains **immutable** elements.  The tuple structure as a whole is immutable meaning we cannot add or delete elements once the structure is made.  Another difference is lists use square brackets whereas tuples use **parentheses** to enclose the elements. "
   ]
  },
  {
   "cell_type": "code",
   "execution_count": 1,
   "metadata": {},
   "outputs": [],
   "source": [
    "Tuple = (\"element1\", \"element2\", \"element3\")  "
   ]
  },
  {
   "cell_type": "markdown",
   "metadata": {},
   "source": [
    "###### Why is a tuple useful? \n",
    "\n",
    "There may be times where we do not want to change the data inside our list.  For example, if we had coordinates to indicate the locations of points on a map, such as x and y, a tuple would be suited for this task. Another example may be a collection of notes that create a song whose order can't be changed. "
   ]
  },
  {
   "cell_type": "markdown",
   "metadata": {},
   "source": [
    "### How to use a Tuple? \n",
    "\n",
    "<font size =3>Tuples, much like lists, have two components: a name and data.  The name of a tuple works in the same way a list does.  However, after the assignment operator, use parentheses \"( )\" to  create a tuple. Whatever goes inside the parentheses will be considered the data. <br>"
   ]
  },
  {
   "cell_type": "markdown",
   "metadata": {},
   "source": [
    "###### Creating a tuple\n",
    "<font size =3>In the example below, a tuple was created called <font face=\"Courier\">zumiSounds</font> with 4 elements.   "
   ]
  },
  {
   "cell_type": "code",
   "execution_count": 4,
   "metadata": {},
   "outputs": [],
   "source": [
    "zumiSounds  = (Note.C4, Note.D4, Note.E4, Note.F4)"
   ]
  },
  {
   "cell_type": "markdown",
   "metadata": {},
   "source": [
    "Element 1 is  Note.C4\n",
    "\n",
    "Element 2 is  Note.D4\n",
    "\n",
    "Element 3 is  Note.E4\n",
    "\n",
    "Element 4 is  Note.F4"
   ]
  },
  {
   "cell_type": "markdown",
   "metadata": {},
   "source": [
    "### Indexing a tuple\n",
    "\n",
    "<font size =3>Now that we have a tuple, you might be wondering how to access a particular element.  In programming, accessing an element or piece of data inside a tuple is called indexing.  Each item in the tuple is given an index which is an integer that refers to its position in the tuple starting from 0.We start from zero because Python structures use **zero-based numbering**, as most programming languages are. The first element in the tuple is at index 0 because it is \"0 steps\" away from the beginning of the tuple. <br> <br>\n",
    "In any case that involves counting, you will be starting from 0, so don't forget! Take the same tuple <font face=\"Courier\">zumiSounds</font> we saw earlier:"
   ]
  },
  {
   "cell_type": "code",
   "execution_count": null,
   "metadata": {},
   "outputs": [],
   "source": [
    "zumiSounds  = (Note.C4, Note.D4, Note.E4, Note.F4)"
   ]
  },
  {
   "cell_type": "markdown",
   "metadata": {},
   "source": [
    "Note.C4 is at **index 0**\n",
    "\n",
    "Note.D4 is at **index 1**\n",
    "\n",
    "Note.E4 is at **index 2**\n",
    "\n",
    "Note.F4 is at **index 3**\n",
    "\n",
    "\n",
    "<font size =3>Having an index is like having the address of where your information lives. A tuple would not be very useful if we were not able to access the data.  In order to access element 1 to play a sound, we'd have to write:"
   ]
  },
  {
   "cell_type": "code",
   "execution_count": 5,
   "metadata": {},
   "outputs": [],
   "source": [
    "element1 = zumiSounds[0]\n",
    "zumi.play_note(element1)"
   ]
  },
  {
   "cell_type": "markdown",
   "metadata": {},
   "source": [
    "##### Task: \n",
    "<font size =3>Play the second note of the tuple <font face=\"Courier\">ZumiSounds</font> and store the element in a variable called <font face=\"Courier\">element2</font>"
   ]
  },
  {
   "cell_type": "code",
   "execution_count": 9,
   "metadata": {},
   "outputs": [],
   "source": [
    "element2 = zumiSounds[1]# TODO: Play the second note in zumiSounds\n",
    "\n",
    "zumi.play_note(element2)\n"
   ]
  },
  {
   "cell_type": "markdown",
   "metadata": {},
   "source": [
    "### What is a dictionary?\n",
    "\n",
    "<font size =3> A dictionary in Python is a list of key-value pairs. Each key in dictionary has a corresponding value stored with it, much like a real dictionary where the keys are words and the values are definitions. Each of the keys are unique (no duplicate keys allowed!) and are denoted by curly braces { }. Pairs are separated by a colon.</font>"
   ]
  },
  {
   "cell_type": "code",
   "execution_count": null,
   "metadata": {},
   "outputs": [],
   "source": [
    "dictionary = { \"Key1\": \"Value1\", \"Key2\": \"Value2\", \"Key3\": \"Value3\" , \"Key4\": \"Value4\" }"
   ]
  },
  {
   "cell_type": "code",
   "execution_count": null,
   "metadata": {},
   "outputs": [],
   "source": [
    "notes_count = { Note.C4: 2, Note.D4:5, Note.E4:8 , Note.F4:3 , Note.G4:1}"
   ]
  },
  {
   "cell_type": "code",
   "execution_count": null,
   "metadata": {},
   "outputs": [],
   "source": [
    "function_call   = { 1: zumi.all_lights_on() , 2: zumi.all_lights_off(), 3: zumi.headlights_on()}"
   ]
  },
  {
   "cell_type": "code",
   "execution_count": null,
   "metadata": {},
   "outputs": [],
   "source": [
    "class Point:\n",
    "    \n",
    "    def __init__(self, x, y):\n",
    "        self.x = x\n",
    "        self.y = y\n",
    "\n",
    "\n",
    "letters = { 'S':Point(0,0) , 'A':Point(10,5) , 'B':Point(15,10) }\n"
   ]
  },
  {
   "cell_type": "markdown",
   "metadata": {},
   "source": [
    "<font size =3> All  of the above are examples of valid dictionaries."
   ]
  },
  {
   "cell_type": "markdown",
   "metadata": {},
   "source": [
    "#### Values\n",
    "<font size =3>Lets say we wanted to get the total distance traveled in the above <font face=\"Courier\"> letters</font> dictionary. For example, if we had the two points (10,10) and (0,2) we would have traveled a distance of  22 spaces (10+0+10+2).  One way to acomplish this is by traversing through the entire dictionary and adding both components of the x and y.  However, Python has a built in function called \".values()\" that will return all the values in the dictionary without creating a loop."
   ]
  },
  {
   "cell_type": "code",
   "execution_count": null,
   "metadata": {},
   "outputs": [],
   "source": [
    "#  S(0, 0) ->  A(10, 5) -> (15, 10) E(20, 20)\n",
    "dictX = { 'S':0, 'A': 10, 'B': 15, 'E': 20 }\n",
    "dictY = { 'S':0, 'A': 5,  'B': 10, 'E': 20 }\n",
    "\n",
    "distanceTraveledX = dictX.values()\n",
    "distanceTraveledY = dictY.values()\n",
    "\n",
    "TotalDistTraveled =  sum( distanceTraveledX ) + sum ( distanceTraveledY )\n",
    "print(TotalDistTraveled)"
   ]
  },
  {
   "cell_type": "markdown",
   "metadata": {},
   "source": [
    "#### Dictionary .items() method\n",
    "\n",
    "<font size =3>To save programmers time, python has a built in method to gather all the Key-Value pairs in a given dictionary and them in a list. This method is useful when it is important to traverse through the entire dictionary.\n"
   ]
  },
  {
   "cell_type": "code",
   "execution_count": null,
   "metadata": {},
   "outputs": [],
   "source": [
    "\n",
    "dtXpairs = dictX.items()\n",
    "dtYpairs = dictY.items()\n",
    "\n",
    "coordAbove9 = {}\n",
    "\n",
    "for i,v in dtXpairs:\n",
    "    if( v >= 10):\n",
    "        if coordAbove9.get(i) != None: \n",
    "            coordAbove9[i] = coordAbove9[i] + 1\n",
    "        else:\n",
    "            coordAbove9[i] = 1\n",
    "\n",
    "print(dtXpairs)\n",
    "        \n",
    "for i,v in dtYpairs:\n",
    "    if( v >= 10):\n",
    "        if coordAbove9.get(i) != None: \n",
    "            coordAbove9[i] = coordAbove9[i] + 1\n",
    "        else:\n",
    "            coordAbove9[i] = 1   \n",
    "\n",
    "print(dtYpairs)\n",
    "print()\n",
    "print(\"Coordinates above 9 \", coordAbove9)"
   ]
  },
  {
   "cell_type": "markdown",
   "metadata": {},
   "source": [
    "#### Dictionary .get() method\n",
    "\n",
    "<font size =3>One way to grab the value of a key in a dictionary is to use the .get() method.  For example, if we wanted to grab the 'B' and 'E' values that make up the point, the following code would do so:"
   ]
  },
  {
   "cell_type": "code",
   "execution_count": null,
   "metadata": {},
   "outputs": [],
   "source": [
    "print(\"B: (\", dictX.get('B'), \", \" , dictY.get('B'), \")\")\n",
    "print(\"E: (\", dictX.get('E'), \", \" , dictY.get('E'), \")\")"
   ]
  },
  {
   "cell_type": "markdown",
   "metadata": {},
   "source": [
    "#### Dictionary .clear() method\n",
    "\n",
    "The clear() method removes all items from the dictionary."
   ]
  },
  {
   "cell_type": "code",
   "execution_count": null,
   "metadata": {},
   "outputs": [],
   "source": [
    "dictX = { 'S':0, 'A': 10, 'B': 15, 'E': 20 }\n",
    "dictY = { 'S':0, 'A': 5,  'B': 10, 'E': 20 }\n",
    "\n",
    "print(  len(dictX ) )\n",
    "print(  len(dictY ) )"
   ]
  },
  {
   "cell_type": "code",
   "execution_count": null,
   "metadata": {},
   "outputs": [],
   "source": [
    "dictX.clear()\n",
    "dictY.clear()\n",
    "\n",
    "print(  len(dictX ) )\n",
    "print(  len(dictY ) )"
   ]
  },
  {
   "cell_type": "markdown",
   "metadata": {},
   "source": [
    "### Change the motor speed with a Dictionary"
   ]
  },
  {
   "cell_type": "code",
   "execution_count": null,
   "metadata": {},
   "outputs": [],
   "source": [
    "#  Left  Motor Speed  ==  LMS \n",
    "#  Right Motor Speed  ==  RMS\n",
    "\n",
    "zumiDash = { \"LMS\": 40, \"RMS\": 40, \"direction:\":0 , \"time\": 0}\n",
    "zumi.mpu.calibrate_MPU()\n",
    "\n",
    "\n",
    "while( zumiDash[\"LMS\"] > 0 and  zumiDash[\"RMS\"] > 0 ):\n",
    "    zumi.control_motors(zumiDash[\"LMS\"],zumiDash[\"RMS\"])\n",
    "    zumiDash[\"LMS\"]  = zumiDash[\"LMS\"] - 1\n",
    "    zumiDash[\"RMS\"]  = zumiDash[\"RMS\"] - 1\n",
    "    time.sleep(.5)\n",
    "    \n",
    "\n",
    "zumi.stop(0)"
   ]
  },
  {
   "cell_type": "code",
   "execution_count": null,
   "metadata": {},
   "outputs": [],
   "source": [
    "#^^^^^^^^^^\n",
    "#TO DO: have the zumi spin in circles instead of go foward"
   ]
  }
 ],
 "metadata": {
  "kernelspec": {
   "display_name": "Python 3",
   "language": "python",
   "name": "python3"
  },
  "language_info": {
   "codemirror_mode": {
    "name": "ipython",
    "version": 3
   },
   "file_extension": ".py",
   "mimetype": "text/x-python",
   "name": "python",
   "nbconvert_exporter": "python",
   "pygments_lexer": "ipython3",
   "version": "3.5.3"
  }
 },
 "nbformat": 4,
 "nbformat_minor": 2
}
