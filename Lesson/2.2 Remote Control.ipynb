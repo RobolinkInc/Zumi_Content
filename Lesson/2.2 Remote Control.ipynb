{
 "cells": [
  {
   "cell_type": "markdown",
   "metadata": {
    "deletable": false,
    "editable": false
   },
   "source": [
    "![logo](../Datas/images/robolink.png)"
   ]
  },
  {
   "cell_type": "markdown",
   "metadata": {
    "deletable": false,
    "editable": false
   },
   "source": [
    "# Remote Control\n",
    "With your new understanding of drive commands, now you will write your own remote control. Import the Zumi library and create the object before you begin.\n"
   ]
  },
  {
   "cell_type": "code",
   "execution_count": null,
   "metadata": {
    "deletable": false,
    "editable": false
   },
   "outputs": [],
   "source": [
    "from zumi.zumi import Zumi\n",
    "import time\n",
    "\n",
    "zumi = Zumi()"
   ]
  },
  {
   "cell_type": "markdown",
   "metadata": {
    "deletable": false,
    "editable": false
   },
   "source": [
    "## User input\n",
    "To make a remote control, we need a way to register your input and translate those to motor commands. Python includes a function ```input()``` that reads the keyboard input and saves it in a variable. For example, run the following code, type in your name, and hit enter. Any input that you typed will be saved in my_name."
   ]
  },
  {
   "cell_type": "code",
   "execution_count": null,
   "metadata": {
    "deletable": false,
    "editable": false
   },
   "outputs": [],
   "source": [
    "my_name = input(\"What is your name? \")\n",
    "print(\"Hello,\",my_name)"
   ]
  },
  {
   "cell_type": "markdown",
   "metadata": {
    "deletable": false,
    "editable": false
   },
   "source": [
    "## Pseudocode\n",
    "Now that we have all the tools we need, let's put it together in pseudocode. Pseudocode is a good way to map out the logic of the program before translating it to Python.\n",
    "Since the input() cannot read arrow key controls, our remote control code will be checking for inputs \"w\", \"a\", \"s\", and \"d\". See the pseudocode below.\n",
    "\n",
    "```\n",
    "get input from user\n",
    "if input is \"w\", go forward\n",
    "if input is \"s\", reverse\n",
    "if input is \"a\", turn left\n",
    "if input is \"d\", turn right\n",
    "```\n",
    "![keys](../Datas/images/keys_wasd.png)"
   ]
  },
  {
   "cell_type": "markdown",
   "metadata": {
    "deletable": false,
    "editable": false
   },
   "source": [
    "## Translate to Python\n",
    "Now let's translate this to code. Before inputting actual drive commands, use print statements for testing. In the cell below, one if statement is done for you. Feel free to change the variable names or the input statement."
   ]
  },
  {
   "cell_type": "code",
   "execution_count": null,
   "metadata": {},
   "outputs": [],
   "source": [
    "#TODO Finish the rest of the missing if statements\n",
    "\n",
    "direction = input(\"Please enter a command\")\n",
    "\n",
    "if direction == \"w\":\n",
    "    print(\"Go forward\")"
   ]
  },
  {
   "cell_type": "markdown",
   "metadata": {
    "deletable": false,
    "editable": false
   },
   "source": [
    "Did you notice it only ran the code once? However we want to be able to continously tell Zumi what to do. For this we use a while loop that runs forever. Remember that while True loops can be dangerous! To safely quit from this loop, make sure to include an if statement that checks for \"q\" input to break from the loop.\n",
    "```\n",
    "if direction ==\"q\":\n",
    "    break\n",
    "```\n",
    "Add this code to your code above and test that you can exit your code without errors.\n",
    "## Add drive commands\n",
    "Now that you have the logic down, add the drive commands with the correct command. The final code should look something like this:"
   ]
  },
  {
   "cell_type": "code",
   "execution_count": null,
   "metadata": {},
   "outputs": [],
   "source": [
    "while True:\n",
    "\n",
    "    direction = input(\"Please enter a command\")\n",
    "\n",
    "    if direction == \"w\":\n",
    "        zumi.forward()\n",
    "    elif direction == \"s\":\n",
    "        zumi.reverse()\n",
    "    elif direction == \"a\":\n",
    "        zumi.turn_left(90)\n",
    "    elif direction == \"d\":\n",
    "        zumi.turn_right(90)\n",
    "    elif direction == \"q\":\n",
    "        break"
   ]
  },
  {
   "cell_type": "markdown",
   "metadata": {
    "deletable": false,
    "editable": false
   },
   "source": [
    "Remember you can change the parameters for these controls or choose different keys to customize your remote control."
   ]
  }
 ],
 "metadata": {
  "kernelspec": {
   "display_name": "Python 3",
   "language": "python",
   "name": "python3"
  },
  "language_info": {
   "codemirror_mode": {
    "name": "ipython",
    "version": 3
   },
   "file_extension": ".py",
   "mimetype": "text/x-python",
   "name": "python",
   "nbconvert_exporter": "python",
   "pygments_lexer": "ipython3",
   "version": "3.5.3"
  }
 },
 "nbformat": 4,
 "nbformat_minor": 2
}
