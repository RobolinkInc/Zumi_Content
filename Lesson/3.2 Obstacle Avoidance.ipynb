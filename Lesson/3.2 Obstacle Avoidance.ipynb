{
 "cells": [
  {
   "cell_type": "markdown",
   "metadata": {
    "deletable": false
   },
   "source": [
    "<img src=\"../Data/images/ZumiHeader.png\" width=700>"
   ]
  },
  {
   "cell_type": "markdown",
   "metadata": {
    "deletable": false
   },
   "source": [
    "# Obstacle Avoidance\n",
    "\n",
    "Have you ever been in a car when the emergency auto brakes went on? What happened? How was the car able to tell when to stop? Self-driving cars need to be able to avoid obstacles in an emergency. Instead of infrared, they use more advanced sensors like **LIDAR** (Light Imaging Detection and Ranging) and **RADAR**. LIDAR uses laser light to map out the environment while RADAR uses radio waves. Despite not having this technology, Zumi can still avoid obstacles!\n",
    "\n",
    "### Import libraries"
   ]
  },
  {
   "cell_type": "code",
   "execution_count": null,
   "metadata": {
    "deletable": false
   },
   "outputs": [],
   "source": [
    "from zumi.zumi import Zumi\n",
    "import time\n",
    "\n",
    "zumi = Zumi()"
   ]
  },
  {
   "cell_type": "markdown",
   "metadata": {
    "deletable": false
   },
   "source": [
    "### Pseudocode\n",
    "\n",
    "Before going into code, let's discuss the pseudocode for this program. How should Zumi avoid obstacles?\n",
    "First think about how humans avoid obstacles. If something is on our right, we go left. If something is our left, we go right. If something is directly in front of us, we have to either turn around or go around by turning away from the obtacle. Zumi uses the IR sensors to \"see\" and will make a decision based on the sensor data:\n",
    "\n",
    "```\n",
    "read the data from IR sensors\n",
    "if both sensors are triggered, turn 180 degrees\n",
    "if right sensor is triggered, turn left\n",
    "if left sensor is triggered, turn right\n",
    "else keep going forward\n",
    "```\n",
    "\n",
    "Instead of turning when the sensor is trigged, we are actually going to change the heading by +30 or -30 degrees. You are going to use the same function from Red Light Green Light which is ```go_straight()``` because it needs to be continuously driving and checking. \n",
    "\n",
    "Therefore the pseudocode will look something like this:\n",
    "```\n",
    "read the data from IR sensors\n",
    "if both sensors are triggered, reverse and change heading by 180 degrees\n",
    "if right sensor is triggered, change heading by +30 degrees (for a left turn)\n",
    "if left sensor is triggered, change heading by -30 degrees (for a right turn)\n",
    "go in the direction set by heading\n",
    "```\n",
    "\n",
    "Here it is translated into code:"
   ]
  },
  {
   "cell_type": "code",
   "execution_count": null,
   "metadata": {
    "deletable": false
   },
   "outputs": [],
   "source": [
    "heading = 0 # Initialize heading to 0\n",
    "\n",
    "min_ir_threshold = 100 # Variable to hold the number value that indicates something is reflecting light\n",
    "turn_degrees = 30 # Variable to hold the number of degrees you will turn Zumi by\n",
    "\n",
    "time_start = time.time() # Get the current starting time\n",
    "time_elapsed = 0 # Initialize how much time has passed to 0\n",
    "\n",
    "while time_elapsed < 20: # while the timer is below \n",
    "\n",
    "    time_elapsed = time.time()-time_start # update time elapsed\n",
    "    ir_readings = zumi.get_all_IR_data()\n",
    "    front_right_ir = ir_readings[0]\n",
    "    front_left_ir = ir_readings[5]\n",
    "\n",
    "    if front_left_ir < min_ir_threshold and front_right_ir < min_ir_threshold:\n",
    "        print(\"something ahead\")\n",
    "        zumi.stop(0)\n",
    "        time.sleep(0.5)\n",
    "        zumi.reverse(40, 0.5, heading)\n",
    "        zumi.stop(0)\n",
    "        time.sleep(0.5)\n",
    "        \n",
    "        heading = heading - 180\n",
    "           \n",
    "    elif front_right_ir < min_ir_threshold:\n",
    "        print(\"something on right\")\n",
    "        heading = heading + turn_degrees\n",
    "\n",
    "    elif front_left_ir < min_ir_threshold:\n",
    "        print(\"something on left\")\n",
    "        heading = heading - turn_degrees\n",
    "\n",
    "    zumi.go_straight(30, heading, 60)\n",
    "    time.sleep(0.05)\n",
    "zumi.stop(0)\n"
   ]
  },
  {
   "cell_type": "markdown",
   "metadata": {
    "deletable": false
   },
   "source": [
    "###  Variable explanation\n",
    "\n",
    "First, ```heading``` is set to ```0``` because the very first time Zumi encounters an object it will reverse in the original direction. However, you have a variable to keep track of it because Zumi will constantly be turning around to avoid obstacles. Your heading will not be *constant*.\n",
    "\n",
    "```heading = 0```\n",
    "\n",
    "Second, this code uses a timer which will automatically stop when the desired time limit is up.\n",
    "The variable ```time_elapsed``` is initialized to ```0``` and ```time_start``` to the current time, which you can grab with the ```time.time()``` function.\n",
    "\n",
    "```\n",
    "time_start = time.time()\n",
    "time_elapsed = 0\n",
    "```\n",
    "Finally, the sensitivity level for triggering the obstacle avoidance and the default degrees Zumi will turn to avoid the obstacle are set. You can always change these values later and rerun the code to see how this affects your program.\n",
    "```\n",
    "min_ir_threshold = 100\n",
    "turn_degrees = 30\n",
    "```\n",
    "\n",
    "As an added activity, build an obstacle course and see if Zumi can avoid obstacles from start to finish!"
   ]
  },
  {
   "cell_type": "code",
   "execution_count": null,
   "metadata": {
    "deletable": false
   },
   "outputs": [],
   "source": [
    "# You can also right your own obstacle avoidance code here!"
   ]
  },
  {
   "cell_type": "markdown",
   "metadata": {},
   "source": [
    "### Challenge \n",
    "Write code for Zumi that uses the bottom IR sensors to stay within a circle of black electrical tape."
   ]
  }
 ],
 "metadata": {
  "kernelspec": {
   "display_name": "Python 3",
   "language": "python",
   "name": "python3"
  },
  "language_info": {
   "codemirror_mode": {
    "name": "ipython",
    "version": 3
   },
   "file_extension": ".py",
   "mimetype": "text/x-python",
   "name": "python",
   "nbconvert_exporter": "python",
   "pygments_lexer": "ipython3",
   "version": "3.7.0"
  }
 },
 "nbformat": 4,
 "nbformat_minor": 2
}
