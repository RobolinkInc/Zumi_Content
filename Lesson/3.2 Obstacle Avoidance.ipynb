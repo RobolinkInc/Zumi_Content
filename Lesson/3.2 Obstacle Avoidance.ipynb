{
 "cells": [
  {
   "cell_type": "markdown",
   "metadata": {
    "deletable": false
   },
   "source": [
    "<img src=\"../Data/images/ZumiHeader.png\" width=700>"
   ]
  },
  {
   "cell_type": "markdown",
   "metadata": {
    "deletable": false
   },
   "source": [
    "# Obstacle Avoidance\n",
    "\n",
    "<font size =3> Have you ever been in a car when the emergency auto brakes went on? What happened? How was the car able to tell when to stop? Self-driving cars need to be able to avoid obstacles in an emergency. Instead of infrared, they use more advanced sensors like **LIDAR** (Light Imaging Detection and Ranging) and **RADAR**. LIDAR uses laser light to map out the environment while RADAR uses radio waves. Despite not having this technology, Zumi can still avoid obstacles! </font>\n",
    "\n",
    "<img src=\"../Data/images/zumi_ir_detect.jpg\" width=600>\n",
    "\n",
    "### Import libraries"
   ]
  },
  {
   "cell_type": "code",
   "execution_count": null,
   "metadata": {
    "deletable": false
   },
   "outputs": [],
   "source": [
    "from zumi.zumi import Zumi\n",
    "import time\n",
    "\n",
    "zumi = Zumi()"
   ]
  },
  {
   "cell_type": "markdown",
   "metadata": {
    "deletable": false
   },
   "source": [
    "### Pseudocode\n",
    "\n",
    "<font size =3> Before going into code, let's discuss the pseudocode for this program. How should Zumi avoid obstacles?\n",
    "First think about how humans avoid obstacles. If something is on our right, we go left. If something is our left, we go right. If something is directly in front of us, we have to either turn around or go around by turning away from the obtacle. Zumi uses the IR sensors to \"see\" and will make a decision based on the sensor data: <br> <br>\n",
    "\n",
    "<font face=\"Courier\">\n",
    "read the data from IR sensors <br>\n",
    "if both sensors are triggered, turn 180 degrees <br>\n",
    "if right sensor is triggered, turn left <br>\n",
    "if left sensor is triggered, turn right <br>\n",
    "else keep going forward <br> \n",
    "</font>\n",
    "\n",
    "<img src=\"../Data/images/zumi_maze.jpg\" width=400>\n",
    "\n",
    "\n",
    "Instead of turning when the sensor is trigged, we are actually going to change the heading by +30 or -30 degrees. Instead of using <font face=\"Courier\">forward()</font> (which has a built-in stop), you will use <font face=\"Courier\">go_straight()</font> because it needs to be continuously driving and checking. This function *only* works inside of a loop.\n",
    "\n",
    "Therefore the pseudocode will look something like this: <br> <br>\n",
    "\n",
    "<font face=\"Courier\">\n",
    "read the data from IR sensors <br>\n",
    "if both sensors are triggered, reverse and change heading by 180 degrees <br>\n",
    "if right sensor is triggered, change heading by +30 degrees (for a left turn) <br>\n",
    "if left sensor is triggered, change heading by -30 degrees (for a right turn) <br>\n",
    "keep going in the direction set by heading <br>\n",
    "</font>\n",
    "\n",
    "Here it is translated into code: </font>"
   ]
  },
  {
   "cell_type": "code",
   "execution_count": null,
   "metadata": {
    "deletable": false
   },
   "outputs": [],
   "source": [
    "heading = 0 # Initialize heading to 0\n",
    "\n",
    "min_ir_threshold = 100 # Variable to hold the number value that indicates something is reflecting light\n",
    "turn_degrees = 30 # Variable to hold the number of degrees you will turn Zumi by\n",
    "\n",
    "time_start = time.time() # Get the current starting time\n",
    "time_elapsed = 0 # Initialize how much time has passed to 0\n",
    "\n",
    "while time_elapsed < 20: # while the timer is below \n",
    "\n",
    "    time_elapsed = time.time()-time_start # update time elapsed\n",
    "    ir_readings = zumi.get_all_IR_data()\n",
    "    front_right_ir = ir_readings[0]\n",
    "    front_left_ir = ir_readings[5]\n",
    "\n",
    "    if front_left_ir < min_ir_threshold and front_right_ir < min_ir_threshold:\n",
    "        print(\"something ahead\")\n",
    "        zumi.stop(0)\n",
    "        time.sleep(0.5)\n",
    "        zumi.reverse(40, 0.5, heading)\n",
    "        zumi.stop(0)\n",
    "        time.sleep(0.5)\n",
    "        \n",
    "        heading = heading - 180\n",
    "           \n",
    "    elif front_right_ir < min_ir_threshold:\n",
    "        print(\"something on right\")\n",
    "        heading = heading + turn_degrees\n",
    "\n",
    "    elif front_left_ir < min_ir_threshold:\n",
    "        print(\"something on left\")\n",
    "        heading = heading - turn_degrees\n",
    "\n",
    "    zumi.go_straight(30, heading, 60)\n",
    "    time.sleep(0.05)\n",
    "zumi.stop(0)\n"
   ]
  },
  {
   "cell_type": "markdown",
   "metadata": {
    "deletable": false
   },
   "source": [
    "###  Variable explanation\n",
    "\n",
    "<font size =3> First, <font face=\"Courier\">heading</font> is set to <font face=\"Courier\">0</font> because the very first time Zumi encounters an object it will reverse in the original direction. However, you have a variable to keep track of it because Zumi will constantly be turning around to avoid obstacles. Your heading will not be *constant*. <br>\n",
    "\n",
    "<font face=\"Courier\">heading = 0</font> <br> <br>\n",
    "\n",
    "Second, this code uses a timer which will automatically stop when the desired time limit is up.\n",
    "The variable <font face=\"Courier\">time_elapsed</font> is initialized to <font face=\"Courier\">0</font> and <font face=\"Courier\">time_start</font> to the current time, which you can grab with the <font face=\"Courier\">time.time()</font> function. <br> <br>\n",
    "\n",
    "<font face=\"Courier\">\n",
    "time_start = time.time() <br>\n",
    "time_elapsed = 0 <br> <br> \n",
    "</font>\n",
    "\n",
    "\n",
    "Finally, the sensitivity level for triggering the obstacle avoidance and the default degrees Zumi will turn to avoid the obstacle are set. You can always change these values later and rerun the code to see how this affects your program. <br> <br>\n",
    "\n",
    "<font face=\"Courier\">\n",
    "min_ir_threshold = 100 <br>\n",
    "turn_degrees = 30 <br> <br>\n",
    "</font>\n",
    "\n",
    "As an added activity, build an obstacle course and see if Zumi can avoid obstacles from start to finish! </font>"
   ]
  },
  {
   "cell_type": "code",
   "execution_count": null,
   "metadata": {
    "deletable": false
   },
   "outputs": [],
   "source": [
    "# You can also write your own obstacle avoidance code here!"
   ]
  },
  {
   "cell_type": "markdown",
   "metadata": {},
   "source": [
    "### Challenge \n",
    "<font size =3> Write code for Zumi that uses the bottom IR sensors to stay within a circle of black electrical tape. </font>\n",
    "\n",
    "<hr>\n",
    "\n",
    "# Extension Activities <br> \n",
    "\n",
    "<img src=\"../Data/images/math_extension.jpg\" width=70 align=\"left\">\n",
    "\n",
    "### Mean stopping distance <br> <br>\n",
    "As your Zumi stops,graph the IR sensor data and then analyze the data. Look for certain patterns, like mean stopping points and which obstacles Zumi stops closer to or farther away from. \n",
    "\n",
    "### Self-driving car ethics <br>\n",
    "Self-driving cars don’t operate exactly the way a human driver would. For example, pretend you’re driving and there’s a trashcan in the middle of the road. Would you run into the trashcan or would you drive off the road into a ditch? What do you think a self-driving car would do? Think about and discuss some of these questions:\n",
    "<ol> Which risks are worth taking? If a car makes a decision that would lower the amount of accidents involving people in cars but increases the amount of accidents for pedestrians, is that worth having self-driving cars on the road?</ol>\n",
    "<ol> Is there a moral code we can all agree on? And should we choose our car's moral code? For example, you could program your car to run through red lights if it was safe, but should that be allowed?\n",
    "</ol>\n",
    "\n",
    "\n",
    "\n",
    "\n",
    "\n",
    "\n"
   ]
  },
  {
   "cell_type": "code",
   "execution_count": null,
   "metadata": {},
   "outputs": [],
   "source": []
  }
 ],
 "metadata": {
  "kernelspec": {
   "display_name": "Python 3",
   "language": "python",
   "name": "python3"
  },
  "language_info": {
   "codemirror_mode": {
    "name": "ipython",
    "version": 3
   },
   "file_extension": ".py",
   "mimetype": "text/x-python",
   "name": "python",
   "nbconvert_exporter": "python",
   "pygments_lexer": "ipython3",
   "version": "3.7.4"
  }
 },
 "nbformat": 4,
 "nbformat_minor": 2
}
