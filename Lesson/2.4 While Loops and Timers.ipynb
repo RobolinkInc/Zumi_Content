{
 "cells": [
  {
   "cell_type": "markdown",
   "metadata": {},
   "source": [
    "<img src=\"../Data/images/ZumiHeader.png\" width=700>"
   ]
  },
  {
   "cell_type": "markdown",
   "metadata": {},
   "source": [
    "# While Loops and Timers\n",
    "\n",
    "<font size =3> For loops are great for running sections of code a specific number of times, but what if you want to run code for a certain number of seconds? In this lesson, you will learn a different kind of loop for running timers.</font>\n",
    "\n",
    "## Include libraries"
   ]
  },
  {
   "cell_type": "code",
   "execution_count": null,
   "metadata": {},
   "outputs": [],
   "source": [
    "from zumi.zumi import Zumi\n",
    "import time\n",
    "z = Zumi()"
   ]
  },
  {
   "cell_type": "markdown",
   "metadata": {},
   "source": [
    "## What is a while loop?\n",
    "<font size =3> A while loop is very similar to a for loop in that it has an initialization, a condition that needs to be true, and an increment or decrement to the value that was initialized. Here is a reminder of what a for loop looks like for driving in a square: <br><br>\n",
    "    \n",
    "<font face=\"Courier\">\n",
    "for x in range(4): <br>\n",
    "<span style=\"margin-left: 40px;\">print(x)</span> <br>\n",
    "</font>\n",
    "\n",
    "    \n",
    "<br>\n",
    "In the for loop, the variable <font face=\"Courier\">x</font> is **initialized** at zero and **increments** by one on the **condition** that the value is less than the number of iterations that you set. The same code written as a while loop would look like this:<br><br>\n",
    "    \n",
    "<font face=\"Courier\">\n",
    "x = 0 <br>\n",
    "while x < 4: <br>\n",
    "<span style=\"margin-left: 40px;\">print(x)</span> <br>\n",
    "<span style=\"margin-left: 40px;\">x = x + 1</span> <br>\n",
    "</font>\n",
    "\n",
    "Using a while loop, write a code that drives Zumi in an equilateral triangle."
   ]
  },
  {
   "cell_type": "code",
   "execution_count": null,
   "metadata": {},
   "outputs": [],
   "source": [
    "# Drive in an equilateral triangle using a while loop\n",
    "x = 0\n",
    "while x < 3:\n",
    "    zumi.forward()\n",
    "    x = x + 1"
   ]
  }
 ],
 "metadata": {
  "kernelspec": {
   "display_name": "Python 3",
   "language": "python",
   "name": "python3"
  },
  "language_info": {
   "codemirror_mode": {
    "name": "ipython",
    "version": 3
   },
   "file_extension": ".py",
   "mimetype": "text/x-python",
   "name": "python",
   "nbconvert_exporter": "python",
   "pygments_lexer": "ipython3",
   "version": "3.5.3"
  }
 },
 "nbformat": 4,
 "nbformat_minor": 2
}
