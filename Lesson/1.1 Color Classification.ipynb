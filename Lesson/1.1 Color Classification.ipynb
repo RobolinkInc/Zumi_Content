{
 "cells": [
  {
   "cell_type": "markdown",
   "metadata": {
    "deletable": false
   },
   "source": [
    "<img src=\"../Data/images/ZumiHeader.png\" width=700>"
   ]
  },
  {
   "cell_type": "markdown",
   "metadata": {
    "deletable": false
   },
   "source": [
    "# Lesson 1: KNN Color Classifier\n",
    "\n",
    "Have you ever thought about how a computer can see color and differentiate between colors? In this lesson you will learn how to using a special **algorithm** to teach Zumi different colors. This is a very basic example of machine learning. Machine learning can be summarized in three steps: \n",
    "* Gathering data\n",
    "* Generating a model\n",
    "* Making predictions\n",
    "\n",
    "Up until now, Zumi has only known about black and white. You will use Zumi's camera to take many pictures of your favorite colors, then run code that will use the color information to label each color. In the final step, you will be able to test your model and write code for Zumi to react to each one differently! For now, let's teach Zumi about colors.\n",
    "\n"
   ]
  },
  {
   "cell_type": "markdown",
   "metadata": {
    "deletable": false
   },
   "source": [
    "# How do computers see and interpret colors?\n",
    "\n",
    "## What is an image?\n",
    "An image is made up of an array of **pixels** (short for picture element). A pixel can be a single color or a combination of colors. The colors are represented by number values in a particular range. For example, you may have heard of the **RGB** colorspace before. If you look closely at your computer screen or phone with a microscope, you would find that each color is actually a combination of red, greed, and blue (RGB) pixels. We can create millions of combinations! Why? Each value of RGB can be between 0 and 255. With 256 values to choose from for each color, that results in 256^3 combinations, or 16,777,216!\n",
    "\n",
    "## What is a matrix?\n",
    "Since each pixel can be represented by numbers, a picture is a grid of numbers. Whereas humans see colors and shapes that we recognize as different objects, computers only see this grid of numbers.\n",
    "These grids of numbers are called **matrices** where each number represents the intensity of either red, green, or blue on a scale from 0 to 255. They look a little like this:\n",
    "\n",
    "\n",
    "![logo](../Data/images/RGB-matrix.png)\n",
    "\n",
    "\n",
    "\n",
    "\n",
    "\n",
    "\n"
   ]
  },
  {
   "cell_type": "markdown",
   "metadata": {
    "deletable": false
   },
   "source": [
    "## Using HSV instead of RGB\n",
    "In this activity, you will use train Zumi to recognize different colors. You will use the camera to collect training data pictures then run a special classifier to classify the colors. Remember that the computer will process all the number values of the image matrix to label each color, then use those values to guess the colors later. \n",
    "\n",
    "You learned about the RGB colorspace, but this program will be converting each RGB image to the **HSV colorspace**. HSV stands for hue, saturation, and value. \n",
    "\n",
    "* **Hue** ranges from 0-360 and determines the color\n",
    "* **Saturation** ranges from 0-100% and refers to how much gray is in the color, determining the color’s intensity\n",
    "* **Value** ranges from 0-100% and refers to how light or dark the color is\n",
    "\n",
    "In computer vision applications, it is better to use the HSV colorspace since it separates values for colors and intensity. This is important because shadows, reflections, and other factors may cause certain colors look very different. The HSV colorspace takes this into account for more accurate results.\n",
    "\n",
    "\n",
    "<img src=\"../Data/images/HSV_cylinder.png\" alt=\"hsv\" width=\"500\"/>\n",
    "\n",
    "\n",
    "https://commons.wikimedia.org/wiki/File:HSV_color_solid_cylinder.png"
   ]
  },
  {
   "cell_type": "markdown",
   "metadata": {
    "deletable": false
   },
   "source": [
    "### Step 1: Import libraries and create objects\n",
    "To use Zumi's features, you need to have access to certain code that has been generated for you. In all of the lessons, you will need to run this cell first before anything else. The good news is that you only need to run it once unless you restart the whole notebook.\n"
   ]
  },
  {
   "cell_type": "code",
   "execution_count": null,
   "metadata": {
    "deletable": false
   },
   "outputs": [],
   "source": [
    "from zumi.zumi import Zumi\n",
    "from zumi.util.camera import Camera\n",
    "from zumi.util.screen import Screen\n",
    "import sys\n",
    "sys.path.insert(0,'/home/pi/Zumi_Content/Data/knn-classifier')\n",
    "\n",
    "from color_classifier import ColorClassifier\n",
    "import time\n",
    "\n",
    "camera = Camera()\n",
    "screen = Screen()\n",
    "zumi = Zumi()"
   ]
  },
  {
   "cell_type": "markdown",
   "metadata": {
    "deletable": false
   },
   "source": [
    "### Step 1: Set & Collect Training Data\n",
    "You are now going to train Zumi to distinguish between three different colors. From the color cards, pick your favorite three colors and have them ready for training.\n",
    "\n",
    "Run the ```set_values()``` function to input labels and key commands you will be using in your project.\n",
    "\n",
    "```knn.set_values()``` will ask you to input the following:\n",
    "\n",
    "* **Demo Name:** The name of this activity. Keep it short so you remember which program you are working on. For example: RedBlueYellow\n",
    "\n",
    "* **Number of labels:** This is the number of colors you want to train Zumi to recognize. For example, if you have red, blue, and yellow cards you would input 3.\n",
    "\n",
    "* **Label Names and Key commands:** For each color, make sure you type the name of your color and the associated key that will tell Zumi which color it is. For example, the label name for red will be red and the keyboard command might be the letter ```r``` . The only key you cannot use as a command is the letter ```n``` because that key quits the program. Make sure you remember your key commands because you will need them later when you collect the training data.\n",
    "\n",
    "\n",
    "then,\n",
    "\n",
    "* Gather different colored objects that are the colors of the labels you chose. \n",
    "* Place each one about 5cm away from Zumi camera  and press the corresponding key command for that color on your keyboard. \n",
    "* Check the label on the terminal and press enter to confirm. \n",
    "* Take 10 pictures for each label\n",
    "\n",
    "When you are done, press the letter ```q``` to quit."
   ]
  },
  {
   "cell_type": "code",
   "execution_count": null,
   "metadata": {
    "deletable": false,
    "scrolled": true
   },
   "outputs": [],
   "source": [
    "try:\n",
    "    knn = ColorClassifier()\n",
    "    train = knn.set_values()\n",
    "\n",
    "    if train:\n",
    "        print(\"Start gathering data. If you want to stop, press q\")\n",
    "        camera.start_camera()\n",
    "        cnt = int(input(\"Type the amount of the pictures that you want to take at once : \"))\n",
    "        while True:\n",
    "            knn.add_datas(camera, cnt)\n",
    "            if knn.check_enough_datas(balance=True):\n",
    "                break\n",
    "\n",
    "        knn.save_data_set()\n",
    "        knn.get_accuracy()\n",
    "finally:\n",
    "    camera.close()"
   ]
  },
  {
   "cell_type": "markdown",
   "metadata": {
    "deletable": false
   },
   "source": [
    "### Step 2: Predict\n",
    "Run the following code to predict the values. Does Zumi get them right?"
   ]
  },
  {
   "cell_type": "code",
   "execution_count": null,
   "metadata": {
    "deletable": false
   },
   "outputs": [],
   "source": [
    "try:\n",
    "    print(\"Start predicting, press enter to predict!\")\n",
    "    camera.start_camera()\n",
    "    hsv = input(\"Type what do you want to use for prediction between <hsv>, ex)h , hv, hsv, v\")\n",
    "    \n",
    "    while True:\n",
    "        if input(\"press enter (or q to exit) : \") == 'q':\n",
    "            break\n",
    "        image = camera.capture()\n",
    "        predict = knn.predict(image,hsv)\n",
    "        print(predict)\n",
    "        screen.draw_text(predict)\n",
    "finally:\n",
    "    camera.close()"
   ]
  },
  {
   "cell_type": "markdown",
   "metadata": {
    "deletable": false
   },
   "source": [
    "\n",
    "\n",
    "\n",
    "## Challenge\n",
    "Use all of the colors in the box and then try testing out the predictions on different items around your environment. Run cells for step #1 and step #2 respectively. Make sure you name your demos some different every time!"
   ]
  },
  {
   "cell_type": "code",
   "execution_count": null,
   "metadata": {
    "deletable": false
   },
   "outputs": [],
   "source": [
    "try:\n",
    "    print(\"Start predicting, press enter to predict!\")\n",
    "    camera.start_camera()\n",
    "    hsv = input(\"Type what do you want to use for prediction between <hsv>, ex)h , hv, hsv, v\")\n",
    "\n",
    "    while True:\n",
    "        if input(\"press enter (or q to exit) : \") == 'q':\n",
    "            break\n",
    "        image = camera.capture()\n",
    "        predict = knn.predict(image,hsv)\n",
    "        print(predict)\n",
    "        screen.draw_text(predict)\n",
    "finally:\n",
    "    camera.close()"
   ]
  }
 ],
 "metadata": {
  "kernelspec": {
   "display_name": "Python 3",
   "language": "python",
   "name": "python3"
  },
  "language_info": {
   "codemirror_mode": {
    "name": "ipython",
    "version": 3
   },
   "file_extension": ".py",
   "mimetype": "text/x-python",
   "name": "python",
   "nbconvert_exporter": "python",
   "pygments_lexer": "ipython3",
   "version": "3.5.3"
  }
 },
 "nbformat": 4,
 "nbformat_minor": 2
}
