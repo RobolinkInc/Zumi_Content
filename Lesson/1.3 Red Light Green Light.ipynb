{
 "cells": [
  {
   "cell_type": "markdown",
   "metadata": {
    "deletable": false
   },
   "source": [
    "<img src=\"../Data/images/ZumiHeader.png\" width=700>"
   ]
  },
  {
   "cell_type": "markdown",
   "metadata": {
    "deletable": false
   },
   "source": [
    "# Applications of KNN: Red Light Green Light\n",
    "\n",
    "Have you ever played the game \"Red Light Green Light\"? If you aren't familiar with the game, a referee calls out \"red light\" or \"green light\" to players who are trying to race to a finish line. If the referee calls out red light, players must stop and freeze in their places. If the referee calls \"green light\", players race to the finish line. Whoever arrives first, wins!\n",
    "\n",
    "In this lesson, you will teach Zumi that green means go and red means stop. This is pretty important for self-driving cars to know because they encounter trafficlights on a daily basis. \n",
    "\n",
    "\n",
    "\n",
    "### Step 1: Import Libraries\n",
    "In this lesson we are using the Zumi library for drive commands, Camera library for training, Screen library for printing text and emotions, and threading for running multiple processes at once."
   ]
  },
  {
   "cell_type": "code",
   "execution_count": null,
   "metadata": {
    "deletable": false
   },
   "outputs": [],
   "source": [
    "from zumi.zumi import Zumi\n",
    "from zumi.util.camera import Camera\n",
    "from zumi.util.screen import Screen\n",
    "from threading import Thread\n",
    "\n",
    "import sys\n",
    "sys.path.insert(0,'/home/pi/Zumi_Content/Data/knn-classifier')\n",
    "from color_classifier import ColorClassifier\n",
    "\n",
    "\n",
    "zumi = Zumi()\n",
    "camera = Camera()\n",
    "screen = Screen()"
   ]
  },
  {
   "cell_type": "markdown",
   "metadata": {
    "deletable": false
   },
   "source": [
    "### Step 2: Gather data\n",
    "\n",
    "Train Zumi with the green and red color cards. Name your demo ```red_green``` so you can find it again easily and use the following labels and key commands:\n",
    "* Label: ```green``` Key Command: ```g```\n",
    "* Label: ```red``` Key Command: ```r```\n"
   ]
  },
  {
   "cell_type": "code",
   "execution_count": null,
   "metadata": {
    "deletable": false
   },
   "outputs": [],
   "source": [
    "try:\n",
    "    knn = ColorClassifier()\n",
    "    train = knn.set_values()\n",
    "    \n",
    "    if train:\n",
    "        print(\"Start gathering data. If you want to stop, press q\")\n",
    "        camera.start_camera()\n",
    "        cnt = int(input(\"Type the amount of the pictures that you want to take at once : \"))\n",
    "        while True:\n",
    "            knn.add_datas(camera, cnt)\n",
    "            if knn.check_enough_datas(balance=True):\n",
    "                break\n",
    "\n",
    "        knn.save_data_set()\n",
    "        knn.get_accuracy()\n",
    "finally:\n",
    "    camera.close()"
   ]
  },
  {
   "cell_type": "markdown",
   "metadata": {
    "deletable": false
   },
   "source": [
    "### Step 3: Test the model\n",
    "Before we start adding drive commands, let's test the model to check that the data has been trained correctly. Test it with some other objects too to see how reliable it is. If you need to, retrain the data under a different model name."
   ]
  },
  {
   "cell_type": "code",
   "execution_count": null,
   "metadata": {
    "deletable": false
   },
   "outputs": [],
   "source": [
    "try:\n",
    "    print(\"Start predicting, press enter to predict!\")\n",
    "    camera.start_camera()\n",
    "    hsv = input(\"Type what do you want to use for prediction between <hsv>, ex)h , hv, hsv, v\")\n",
    "    \n",
    "    while True:\n",
    "        if input(\"press enter (or q to exit) : \") == 'q':\n",
    "            break\n",
    "        image = camera.capture()\n",
    "        predict = knn.predict(image, hsv)\n",
    "        print(predict)\n",
    "finally:\n",
    "    camera.close()"
   ]
  },
  {
   "cell_type": "markdown",
   "metadata": {
    "deletable": false
   },
   "source": [
    "\n",
    "### Step 4: Program logic\n",
    "Now that the model has been tested, it's time to write out the logic with print statements.\n",
    "\n",
    "When you call ```knn.predict(image)```, it returns the label of its prediction. For example, if you train the model with labels ```blue``` and ```yellow```, some code might look like this:\n",
    "\n",
    "```\n",
    "while True:\n",
    "    if input(\"Press enter to predict or q to exit.\") == \"q\":\n",
    "        break\n",
    "    image = camera.capture()\n",
    "    predict = knn.predict(image)\n",
    "    if predict == \"blue\":\n",
    "        zumi.forward()\n",
    "    if predict == \"yellow\":\n",
    "        zumi.reverse()\n",
    "camera.close()\n",
    "```\n",
    "Notice that the labels are in quotes. This is because they are **string** data types. Strings are strings of characters, letters, or numbers which are treated as text. These labels must match exactly to your data labels. If you accidentally mistyped \"blu\" for your label but wrote your code to check if predict is equal to \"blue\", this code will never happen and you may be wondering what went wrong.\n",
    "\n",
    "\n",
    "Let's write the program logic for Red Light Green Light with print statements:"
   ]
  },
  {
   "cell_type": "code",
   "execution_count": null,
   "metadata": {
    "deletable": false
   },
   "outputs": [],
   "source": [
    "try:\n",
    "    print(\"Start predicting, press enter to predict!\")\n",
    "    camera.start_camera()\n",
    "    hsv = input(\"Type what do you want to use for prediction between <hsv>, ex)h , hv, hsv, v\")\n",
    "    \n",
    "    while True:\n",
    "        if input(\"press enter (or q to exit) : \") == 'q':\n",
    "            break\n",
    "        image = camera.capture()\n",
    "        predict = knn.predict(image,hsv)\n",
    "        if predict == \"green\":\n",
    "            print(\"Start driving forward\")\n",
    "        if predict == \"red\":\n",
    "            print(\"Stop\")\n",
    "\n",
    "finally:\n",
    "    camera.close()"
   ]
  },
  {
   "cell_type": "markdown",
   "metadata": {
    "deletable": false
   },
   "source": [
    "### Step 5: Threading and go_straight()\n",
    "It may be your intuition to write out the program logic in this way:\n",
    "```\n",
    "if predict == \"green\":\n",
    "        zumi.forward()\n",
    "    if predict == \"red\":\n",
    "        zumi.stop()\n",
    "```\n",
    "\n",
    "However, remember that ```forward()``` drives Zumi for a specified number of seconds and then stops. We want Zumi to stop driving only when she sees a red card. Therefore, we need to use threading. Threading allows us to run multiple processes at the same time. Think of it like weaving two separate functions together so that they appear to be running simultaneously.\n",
    "\n",
    "When we start a thread, it starts running in the background and allows the rest of the program to continue running. We use a **boolean** to escape from the thread when Zumi sees red. This variable must be declared as **global**, as in it can ben accessed by all functions. Here, we named our variable ```is_green``` and we initially set it to false so that Zumi begins at a stop. We also define out function ```continue_straight```, which will need to be running in the background while ```is_green``` is true. Once Zumi sees red, ```is_green``` becomes false, causing the while loop to break and Zumi to stop."
   ]
  },
  {
   "cell_type": "code",
   "execution_count": null,
   "metadata": {
    "deletable": false
   },
   "outputs": [],
   "source": [
    "global is_green\n",
    "is_green = False\n",
    "\n",
    "def continue_straight():\n",
    "    while is_green:\n",
    "        zumi.go_straight(20, 0)\n",
    "    zumi.stop(0)"
   ]
  },
  {
   "cell_type": "markdown",
   "metadata": {
    "deletable": false
   },
   "source": [
    "Now we need to \"weave\" these codes together with threading.  If Zumi sees green, we need to set the boolean to ```True``` and begin the thread. If Zumi sees red, ```is_green``` is now ```False```.\n",
    "\n",
    "```\n",
    "  if predict == \"green\":\n",
    "        is_green = True\n",
    "        drive_thread = Thread(target=continue_straight)\n",
    "        drive_thread.start()\n",
    "    if predict == \"red\":\n",
    "        is_green = False\n",
    "        zumi.stop()\n",
    "```\n",
    "\n",
    "\n",
    "Putting it altogether,here is the code. Try it out!"
   ]
  },
  {
   "cell_type": "code",
   "execution_count": null,
   "metadata": {
    "deletable": false
   },
   "outputs": [],
   "source": [
    "try:\n",
    "    print(\"Start predicting, press enter to predict!\")\n",
    "    camera.start_camera()\n",
    "    hsv = input(\"Type what do you want to use for prediction between <hsv>, ex)h , hv, hsv, v\")\n",
    "    \n",
    "    while True:\n",
    "        if input(\"press enter (or q to exit) : \") == 'q':\n",
    "            break\n",
    "        image = camera.capture()\n",
    "        predict = knn.predict(image, hsv)\n",
    "        if predict == \"green\":\n",
    "            is_green = True\n",
    "            drive_thread = Thread(target=continue_straight)\n",
    "            drive_thread.start()\n",
    "        if predict == \"red\":\n",
    "            is_green = False\n",
    "            zumi.stop()\n",
    "finally:\n",
    "    is_green = False\n",
    "    zumi.stop()\n",
    "    camera.close()"
   ]
  },
  {
   "cell_type": "markdown",
   "metadata": {
    "deletable": false
   },
   "source": [
    "If you want, add more colors to red and green and have Zumi do different drive commands based on the color she sees!"
   ]
  }
 ],
 "metadata": {
  "kernelspec": {
   "display_name": "Python 3",
   "language": "python",
   "name": "python3"
  },
  "language_info": {
   "codemirror_mode": {
    "name": "ipython",
    "version": 3
   },
   "file_extension": ".py",
   "mimetype": "text/x-python",
   "name": "python",
   "nbconvert_exporter": "python",
   "pygments_lexer": "ipython3",
   "version": "3.6.5"
  }
 },
 "nbformat": 4,
 "nbformat_minor": 2
}
