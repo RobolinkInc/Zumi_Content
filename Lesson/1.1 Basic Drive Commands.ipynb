{
 "cells": [
  {
   "cell_type": "markdown",
   "metadata": {},
   "source": [
    "<img src=\"../Data/images/ZumiHeader.png\" width=700>"
   ]
  },
  {
   "cell_type": "markdown",
   "metadata": {
    "deletable": false
   },
   "source": [
    "# Basic Drive Commands\n",
    "\n",
    "<font size =3>Welcome to your first lesson with Zumi! 🎉 Before you begin machine learning with Zumi, she needs help from you to learn how to go forward, reverse, left, and right. Later in this lesson, you will learn how to make a custom remote control.  </font>\n",
    "\n",
    "\n",
    "### Import libraries \n",
    "<font size =3> The first step to running any code with Zumi will be to import libraries. In other words, this cell imports all of Zumi’s necessary features, like the drive commands, camera, or screen. If you don’t run this cell, the rest of your program won’t work! You only need to run the following cell *once* in each lesson, unless you restart the Jupyter Notebook. </font>"
   ]
  },
  {
   "cell_type": "code",
   "execution_count": null,
   "metadata": {
    "deletable": false
   },
   "outputs": [],
   "source": [
    "from zumi.zumi import Zumi\n",
    "import time\n",
    "\n",
    "zumi = Zumi()"
   ]
  },
  {
   "cell_type": "markdown",
   "metadata": {
    "deletable": false
   },
   "source": [
    "## Drive Commands\n",
    "\n",
    "<font size =3> Zumi uses functions to drive. In this lesson, we will go more in-depth with what functions are, what they do, and how you can use them to create your remote control. </font>\n",
    "\n",
    "\n",
    "### What are functions?\n",
    "<font size =3> To make Zumi drive, we need to use some **functions**. Think of functions as packages of code that you can use to make your program more efficient. They can take **inputs** and can have **outputs**.</font>\n",
    "<img src=\"../Data/images/function.jpg\" width=700>\n",
    "\n",
    "### Zumi functions\n",
    "<font size=3>Below is a list of the basic drive functions:\n",
    "\n",
    "* <font face=\"Courier\">forward()</font>: Drive forward in the direction Zumi is facing at speed 40 for 1 second\n",
    "* <font face=\"Courier\">reverse()</font>: Reverse in the direction Zumi is facing at speed 40 for 1 second\n",
    "* <font face=\"Courier\">turn_left()</font>: Pivot 90 degrees to the left\n",
    "* <font face=\"Courier\">turn_right()</font>: Pivot 90 degrees to the right \n",
    "\n",
    "</font>\n",
    "\n",
    "### How to call functions\n",
    "<font size =3> In computer science, calling anything is basically asking it to run. Functions must be called using the object name, which in this case is <font face=\"Courier\">zumi</font>. \n",
    "    \n",
    "<img src=\"../Data/images/zumi_forward.jpg\" width=700>   \n",
    "    \n",
    "The cell below has an example using the <font face=\"Courier\">forward()</font> function. Zumi will drive forward for one second, so make sure you have enough space in its area! </font>\n"
   ]
  },
  {
   "cell_type": "code",
   "execution_count": null,
   "metadata": {
    "deletable": false
   },
   "outputs": [],
   "source": [
    "zumi.forward()"
   ]
  },
  {
   "cell_type": "markdown",
   "metadata": {
    "deletable": false
   },
   "source": [
    "<font size =3>  Now try going in reverse... </font>"
   ]
  },
  {
   "cell_type": "code",
   "execution_count": null,
   "metadata": {
    "deletable": false
   },
   "outputs": [],
   "source": [
    "# TODO Write code so Zumi reverses for 1 second"
   ]
  },
  {
   "cell_type": "markdown",
   "metadata": {
    "deletable": false
   },
   "source": [
    "<font size=3>Let's go over the next two functions. Calling <font face=\"Courier\">turn_left()</font> and <font face=\"Courier\">turn_right()</font> will cause Zumi to turn to the left or turn to the right.\n",
    "\n",
    "Test this code below and then add more commands in any order to see what happens. If you want to have some time between each command, include a <font face=\"Courier\">time.sleep(seconds)</font> to delay the program for the specified number of seconds.\n",
    "Run the code below to see how this works, and then try adding some more commands to the code. </font>"
   ]
  },
  {
   "cell_type": "code",
   "execution_count": null,
   "metadata": {
    "deletable": false
   },
   "outputs": [],
   "source": [
    "zumi.forward() # Drive forward for 1 second then stop\n",
    "time.sleep(2) # Wait 2 seconds\n",
    "zumi.turn_right() # Turn right 90 degrees\n",
    "# Add more code here!"
   ]
  },
  {
   "cell_type": "markdown",
   "metadata": {
    "deletable": false
   },
   "source": [
    "### Parameters\n",
    "<font size =3>  At this point, you may want to change the duration, direction, and speed that Zumi drives forward. Some functions will allow you to input **parameters**, which are extra pieces of information that allow you to further customize your function for your needs. Right now <font face=\"Courier\">forward()</font> has a default speed, duration, and direction, but you can alter the parameters to change how fast Zumi drives, as well as for how long in a certain direction. \n",
    "\n",
    "We’re going to skip changing Zumi’s direction since it requires some more understanding of Zumi's sensors, but you can change the speed and duration by defining them inside of the function call. In the cell below, the code has been modified to reduce the speed to 30 and drive for 2 seconds. Make sure you have enough space! </font>\n"
   ]
  },
  {
   "cell_type": "code",
   "execution_count": null,
   "metadata": {
    "deletable": false
   },
   "outputs": [],
   "source": [
    "zumi.forward(speed=30, duration=2)"
   ]
  },
  {
   "cell_type": "markdown",
   "metadata": {
    "deletable": false
   },
   "source": [
    "<font size =3> You can do the same for reverse. Change the speed and duration for <font face=\"Courier\">reverse()</font>below: </font>"
   ]
  },
  {
   "cell_type": "code",
   "execution_count": null,
   "metadata": {
    "deletable": false
   },
   "outputs": [],
   "source": [
    "# TODO Modify reverse() to go at speed 20 for 3 seconds"
   ]
  },
  {
   "cell_type": "markdown",
   "metadata": {
    "deletable": false
   },
   "source": [
    "### Degrees\n",
    "\n",
    "<font size=3>The functions <font face=\"Courier\">turn_left()</font> and <font face=\"Courier\">turn_right()</font> also have parameters you can change. The default value is set to 90 degrees, but that value can be changed as well.\n",
    "\n",
    "The code below will have Zumi turn right 45 degrees instead of 90:</font>"
   ]
  },
  {
   "cell_type": "code",
   "execution_count": null,
   "metadata": {
    "deletable": false
   },
   "outputs": [],
   "source": [
    "zumi.turn_right(45)"
   ]
  },
  {
   "cell_type": "markdown",
   "metadata": {
    "deletable": false
   },
   "source": [
    "<font size=3> Try out the accuracy of the turns by testing different angles. Use this diagram for reference if you need it! Zumi isn't perfect, so the actual angle that Zumi stops at might be off by one or two degrees.</font>\n",
    "\n",
    "<img src=\"../Data/images/zumi_angle.jpg\" width=700>\n",
    "\n",
    "<font size=3>**Note**: There is another hidden default parameter in <font face=\"Courier\">turn_right()</font> and <font face=\"Courier\">turn_left()</font>. When you call <font face=\"Courier\">turn_left(45)</font>, you are actually calling <font face=\"Courier\">turn_left(desired_angle=45, duration=1)</font>. The duration is what determines how much time Zumi has to complete that turn. One second is enough time for smaller turns, but what if you wanted to turn 135 degrees? You will also have to increase the time that Zumi needs to make the turn.\n",
    "\n",
    "<font face=\"Courier\">zumi.turn_left(120, 1.5)</font>\n",
    "\n",
    "Since Zumi is turning 120 degrees, you should increase the duration or Zumi will not be able to finish. You may need to adjust the second parameter because each Zumi is unique. Use the cell below to experiment driving and making turns. </font>"
   ]
  },
  {
   "cell_type": "code",
   "execution_count": null,
   "metadata": {
    "deletable": false
   },
   "outputs": [],
   "source": [
    "# Test some code here"
   ]
  },
  {
   "cell_type": "markdown",
   "metadata": {
    "deletable": false
   },
   "source": [
    "## Recalibrating\n",
    "<font size=3> If you find that Zumi isn't going straight, you may need to recalibrate. This may happen if Zumi starts to overheat. Make sure you aren't picking up Zumi and she is resting on a flat surface. </font>"
   ]
  },
  {
   "cell_type": "code",
   "execution_count": null,
   "metadata": {
    "deletable": false
   },
   "outputs": [],
   "source": [
    "zumi.mpu.calibrate_MPU()"
   ]
  },
  {
   "cell_type": "markdown",
   "metadata": {
    "deletable": false
   },
   "source": [
    "<font size=3> Now you know the basics! Use the cell below to test out some more code. For an added challenge, use some materials around you to build a simple obstacle course and write some code for Zumi to go through it without hitting anything. In the next lesson you will learn how to combine the drive commands with if statements to make your own remote control. </font>"
   ]
  },
  {
   "cell_type": "code",
   "execution_count": null,
   "metadata": {
    "deletable": false
   },
   "outputs": [],
   "source": [
    "# Write some more code here!"
   ]
  },
  {
   "cell_type": "markdown",
   "metadata": {},
   "source": [
    "<hr>\n",
    "\n",
    "# Extension Activities <br> \n",
    "\n",
    "<img src=\"../Data/images/engineering_extension.png\" width=75 align=\"left\">\n",
    "\n",
    "###  Bridge Challenge <br> <br>\n",
    "<font size=3> Build a bridge out of the object of your choice. However, this object should be flat and relatively wide so Zumi’s wheels don’t get stuck. Popsicle sticks will work well. Constraints like the degree of incline, height, width, and number of popsicle sticks can be used.\n",
    "After building the bridge, see if  a) Zumi is able to cross it and/or b) if the bridge can support Zumi’s weight. For an extra challenge, a payload can be added to Zumi.</font>\n",
    "\n",
    "<img src=\"../Data/images/math_extension.jpg\" width=70 align=\"left\">\n",
    "\n",
    "### Calculate Speed <br> <br>\n",
    "<font size=3> Drive your Zumi for a certain distance or time while measuring the other. Next, use the equation d=rt to find the rate of travel. Afterwards, graph your results either and analyze the results.\n",
    "To incorporate physics, add a payload to Zumi. How does this affect Zumi’s rate?</font>\n",
    "\n",
    "\n",
    "\n"
   ]
  }
 ],
 "metadata": {
  "kernelspec": {
   "display_name": "Python 3",
   "language": "python",
   "name": "python3"
  },
  "language_info": {
   "codemirror_mode": {
    "name": "ipython",
    "version": 3
   },
   "file_extension": ".py",
   "mimetype": "text/x-python",
   "name": "python",
   "nbconvert_exporter": "python",
   "pygments_lexer": "ipython3",
   "version": "3.5.3"
  },
  "pycharm": {
   "stem_cell": {
    "cell_type": "raw",
    "metadata": {
     "collapsed": false
    },
    "source": []
   }
  }
 },
 "nbformat": 4,
 "nbformat_minor": 2
}
