{
 "cells": [
  {
   "cell_type": "markdown",
   "metadata": {
    "deletable": false
   },
   "source": [
    "<img src=\"../Data/images/ZumiHeader.png\" width=700>"
   ]
  },
  {
   "cell_type": "markdown",
   "metadata": {
    "deletable": false
   },
   "source": [
    "# Gyroscope\n",
    "\n",
    "<font size =3> When you made your remote control, Zumi turned left or right using the number of degrees that you gave as a parameter. How does Zumi know how many degrees she is turning? Zumi is equipped with an **MPU**, or motion processing unit, and has two very important sensors that are necessary for driving straight and making accurate turns: the **gyroscope** and **accelerometer**. This lesson is about the gyroscope. You’ll learn about the accelerometer later! </font>\n",
    "\n",
    "\n",
    "## What is a gyroscope?\n",
    "<font size =3> When you think of a gyroscope, you may be thinking of a mounted, spinning wheel that stays balanced in the same orientation, no matter which direction you turn or flip the gyroscope. How? This can be explained by conservation of momentum. While you may not have heard of this term before, you have experienced this. For example, if you have ever spun around on an office chair, you probably noticed you spin faster when you bring your arms and legs in. Since momentum has to be conserved, your speed increases when you bring your mass (arms and legs) closer to you.\n",
    "    \n",
    "<img src=\"../Data/images/gyroscope.jpg\">\n",
    "\n",
    "In electronics, gyroscopes don't look like this. They are tiny chips that also use motion to detect changes in orientation. For robotics, this device that measures rotation speed. Gyroscopes are important because we need rotation speed to calculate how many degrees Zumi has turned in a given amount of time. <br><br>\n",
    "</font>\n",
    "\n",
    "### Import libraries"
   ]
  },
  {
   "cell_type": "code",
   "execution_count": null,
   "metadata": {
    "deletable": false
   },
   "outputs": [],
   "source": [
    "from zumi.zumi import Zumi\n",
    "from zumi.util.screen import Screen\n",
    "import time\n",
    "\n",
    "zumi = Zumi()\n",
    "screen = Screen()"
   ]
  },
  {
   "cell_type": "markdown",
   "metadata": {
    "deletable": false
   },
   "source": [
    "## Axes\n",
    "<font size =3> There is more than one axis that you can use to measure rotational speed. The axis you will be most concerned with is yaw, or measuring turns to the left and right. You can also measure if Zumi is tilting forward and backward or tilting left and right. These three axes are called roll, pitch, and yaw.\n",
    "    \n",
    "<img src=\"../Data/images/zumi_axes_names.png\" width=700>\n",
    "\n",
    "There are three codes below reading all three axes: X, Y, and Z. Run each one and check Zumi's screen to see how the angles are affected. Can you match X, Y, and Z with roll, pitch, and yaw? Make sure you start the code with Zumi flat on the ground before picking her up.</font>\n",
    "\n",
    "### X-angle"
   ]
  },
  {
   "cell_type": "code",
   "execution_count": null,
   "metadata": {
    "deletable": false
   },
   "outputs": [],
   "source": [
    "zumi.reset_gyro()\n",
    "for i in range(0,50):\n",
    "    current_angle = int(zumi.update_angles()[3])\n",
    "    message = \" X-Angle reading           \"\n",
    "    message = message + str(current_angle)\n",
    "    screen.draw_text(message)\n",
    "    time.sleep(0.05)\n",
    "    \n",
    "print(\"Done\")\n",
    "screen.draw_text_center(\"Done\")"
   ]
  },
  {
   "cell_type": "markdown",
   "metadata": {
    "deletable": false
   },
   "source": [
    "### Y-angle"
   ]
  },
  {
   "cell_type": "code",
   "execution_count": null,
   "metadata": {
    "deletable": false
   },
   "outputs": [],
   "source": [
    "zumi.reset_gyro()\n",
    "for i in range(0,50):\n",
    "    current_angle = int(zumi.update_angles()[4])\n",
    "    message = \" Y-Angle reading           \"\n",
    "    message = message + str(current_angle)\n",
    "    screen.draw_text(message)\n",
    "    time.sleep(0.05)\n",
    "    \n",
    "print(\"Done\")\n",
    "screen.draw_text_center(\"Done\")"
   ]
  },
  {
   "cell_type": "markdown",
   "metadata": {
    "deletable": false
   },
   "source": [
    "### Z-angle\n"
   ]
  },
  {
   "cell_type": "code",
   "execution_count": null,
   "metadata": {
    "deletable": false
   },
   "outputs": [],
   "source": [
    "zumi.reset_gyro()\n",
    "for i in range(0,50):\n",
    "    current_angle = int(zumi.update_angles()[2])\n",
    "    message = \" Z-Angle reading           \"\n",
    "    message = message + str(current_angle)\n",
    "    screen.draw_text(message)\n",
    "    time.sleep(0.05)\n",
    "    \n",
    "print(\"Done\")\n",
    "screen.draw_text_center(\"Done\")"
   ]
  },
  {
   "cell_type": "markdown",
   "metadata": {
    "deletable": false
   },
   "source": [
    "<font size =3> Based on the data, could you figure out which directions correspond to X, Y, and Z? \n",
    "\n",
    "\n",
    "<img src=\"../Data/images/zumi_axes.png\" width=600> \n",
    "\n",
    "For the purposes of driving, you will care the most about the Z-axis, or yaw, of Zumi's gyroscope. Calling <font face=\"Courier\"> zumi.read_z_angle()</font> will return the number of degrees you have turned from when you started your code. You will be using this in later programs. <br>\n",
    "Here is an example of getting the yaw value using <font face=\"Courier\">read_z_angle()</font>:</font>\n",
    "\n",
    "### Reset Gyroscope \n",
    "\n",
    "<font size=3>You may have noticed a function at the beginning of each code cell <font face=\"Courier\">reset_gyro()</font>. This function will set all angles for roll, pitch, and yaw back to zero. Running <font face=\"Courier\">zumi=Zumi()</font> will always do this for you, but if you ever need to reset your angles later in your program you can use this function. </font>"
   ]
  },
  {
   "cell_type": "code",
   "execution_count": null,
   "metadata": {
    "deletable": false
   },
   "outputs": [],
   "source": [
    "zumi.reset_gyro() \n",
    "for i in range(100):\n",
    "    z_angle = int(zumi.read_z_angle()) # <-- This function reads the angle\n",
    "    message = \" Z Angle reading        \"\n",
    "    message = message + str(z_angle)\n",
    "    screen.draw_text(message)\n",
    "    time.sleep(0.1)"
   ]
  },
  {
   "cell_type": "markdown",
   "metadata": {},
   "source": [
    "## go_straight()\n",
    "<font size=3> When you are walking, what actions are being repeated? Right foot, left foot, right foot, left foot... Zumi can also take \"steps\" forward. When these small steps are put in a loop, Zumi will drive forward. The driving function for a small step is <font face=\"Courier\"> zumi.go_straight()</font>. Unlike <font face=\"Courier\">forward()</font>, parameters are not optional. Zumi needs to know speed and **heading**, or direction. For this example, we will use heading 0 because we want to stay in the direction we are currently facing.\n",
    "    \n",
    "Run the code below to see the code for driving straight using <font face=\"Courier\">go_straight()</font>."
   ]
  },
  {
   "cell_type": "code",
   "execution_count": null,
   "metadata": {},
   "outputs": [],
   "source": [
    "zumi.reset_gyro() # Resetting all angles to zero at the start\n",
    "\n",
    "for x in range(40): # Take 40 steps\n",
    "    zumi.go_straight(40, 0) # Drive at speed 40 at heading 0 (straight ahead!)\n",
    "    \n",
    "zumi.stop() # Don't forget to stop!"
   ]
  },
  {
   "cell_type": "markdown",
   "metadata": {},
   "source": [
    "<font size=3> The <font face=\"Courier\">stop()</font> at the end of the program is really important! Since <font face=\"Courier\">go_straight()</font> allows for smooth driving without stops in between, there is nothing to stop Zumi from driving forever (or until the battery dies). After a for loop completes, the code will continue to the next line. Any code that is **not** part of the for loop should not be indented.</font>"
   ]
  },
  {
   "cell_type": "markdown",
   "metadata": {},
   "source": [
    "## Conditionals\n",
    "<font size=3> Self-driving cars are always making decisions based on sensory input. In this section, you will learn how to write a program that stop Zumi from driving if she is upside down!</font>\n",
    "\n",
    "\n",
    "### Orientation\n",
    "<font size=3> To know if Zumi is upside down, you are going to learn about a new function: <font face=\"Courier\">get_orientation()</font>. There are six states that Zumi can be facing:\n",
    "    \n",
    "<img src=\"../Data/images/orientations.png\" width=\"750\">\n",
    "\n",
    "Use the code below to verify the six different states. If you see a 0,-1, or 7, Zumi is between states or the state is unknown.\n"
   ]
  },
  {
   "cell_type": "code",
   "execution_count": null,
   "metadata": {},
   "outputs": [],
   "source": [
    "for i in range(80):\n",
    "    zumi.update_angles()\n",
    "    orientation = zumi.get_orientation() # Save this value in a variable so that you can use it later...\n",
    "    print(orientation)\n",
    "    IPython.display.clear_output(wait=True) \n",
    "print(\"Done!\")"
   ]
  },
  {
   "cell_type": "markdown",
   "metadata": {},
   "source": [
    "### Pseudocode\n",
    "<font size=3> Your goal is to write code that will only allow Zumi to drive while she is flat on the ground. In other words, Zumi should only drive *if* <font face=\"Courier\">get_orientation()</font> returns 5. Before writing the code in Python, it is helpful to write pseudocode, which is a program that’s written in plain language that a human can understand. Look at the pseudocode below to see what we mean:<br><br>\n",
    "    \n",
    "<font face=\"Courier\">\n",
    "check orientation<br>\n",
    "if orientation is 5, drive<br>\n",
    "else if orientation is not 5, stop<br>\n",
    "repeat for 100 iterations<br>\n",
    "</font>\n",
    "</font>\n",
    "\n",
    "### If statements\n",
    "<font size=3> Most of the pseudocode should be familiar except for the two middle lines where Zumi makes a decision based on the orientation. If statements, or conditionals, are used to make decisions within code. You actually use conditionals every day! \n",
    "<img src=\"../Data/images/conditional_flowchart.jpg\" width=700>\n",
    "\n",
    "The alarm is the **condition** that needs to be true to wake up. Else, if the condition is false, the program will execute something different. In Python, if statements follow a format similar to this one: <br> <br>\n",
    "    \n",
    "<font face=\"Courier\">\n",
    "if alarm goes off:<br>\n",
    "<span style=\"margin-left: 40px;\">I will wake up</span><br>\n",
    "else:<br>\n",
    "<span style=\"margin-left: 40px;\">I will stay asleep</span><br>\n",
    "</font>\n",
    "\n",
    "Before running the code cell below, see the values of variables x and y. Can you predict what the output will be?\n",
    "    \n",
    "    "
   ]
  },
  {
   "cell_type": "code",
   "execution_count": null,
   "metadata": {},
   "outputs": [],
   "source": [
    "x = 10\n",
    "y = 30 \n",
    "\n",
    "if x > y:\n",
    "    print(\"x is greater than y\")\n",
    "elif x == y:\n",
    "    print(\"x is equal to y\")\n",
    "else:\n",
    "    print(\"x is less than y\")\n"
   ]
  },
  {
   "cell_type": "markdown",
   "metadata": {},
   "source": [
    "<font size=3> Notice the double equal signs == for checking if two values are equal. This is the **comparator** you will be using to compare the value of the orientation to the values that you choose. Using your knowledge of for loops, <font face=\"Courier\">go_straight()</font>, and <font face=\"Courier\">get_orientation()</font>, fill in the code below to have Zumi drive forward for 200 steps unless Zumi's orientation is upside down. Don't forget to put a <font face=\"Courier\">stop()</font> at the end of the for loop!"
   ]
  },
  {
   "cell_type": "code",
   "execution_count": null,
   "metadata": {},
   "outputs": [],
   "source": [
    "# TODO: Reset angles to zero\n",
    "\n",
    "for x in range(\"CHANGE ME!\"):\n",
    "    zumi.update_angles()\n",
    "    orientation = zumi.get_orientation() \n",
    "    \n",
    "    # TODO Check if orientation is equal to 5 and go straight if true\n",
    "    # TODO Else, stop.\n",
    "    \n",
    "# TODO Add one more stop here to make sure Zumi stops when the loop is over"
   ]
  }
 ],
 "metadata": {
  "kernelspec": {
   "display_name": "Python 3",
   "language": "python",
   "name": "python3"
  },
  "language_info": {
   "codemirror_mode": {
    "name": "ipython",
    "version": 3
   },
   "file_extension": ".py",
   "mimetype": "text/x-python",
   "name": "python",
   "nbconvert_exporter": "python",
   "pygments_lexer": "ipython3",
   "version": "3.5.3"
  },
  "pycharm": {
   "stem_cell": {
    "cell_type": "raw",
    "metadata": {
     "collapsed": false
    },
    "source": []
   }
  }
 },
 "nbformat": 4,
 "nbformat_minor": 2
}
