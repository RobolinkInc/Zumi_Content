{
 "cells": [
  {
   "cell_type": "markdown",
   "metadata": {
    "deletable": false
   },
   "source": [
    "<img src=\"../Data/images/ZumiHeader.png\" width=700>"
   ]
  },
  {
   "cell_type": "markdown",
   "metadata": {
    "deletable": false
   },
   "source": [
    "# Shapes with Loops\n",
    "<font size =3> Now that you know how to use the gyroscope, you can to use the data to drive in different shapes! Shapes are two-dimensional figures made of straight or curved lines. Usually, certain shapes have a set number of degrees that the angles add up to. For example, a square's angles add up to 360°, while a triangle’s angles add up to 180°. </font>\n",
    "\n",
    "<img src=\"../Data/images/shapes.png\">"
   ]
  },
  {
   "cell_type": "markdown",
   "metadata": {
    "deletable": false
   },
   "source": [
    "## Square\n",
    "<font size =3> Start with a square. To drive in a square, you need to make four right or left turns. If you think back to the last lesson about gyroscopes, Zumi’s gyroscope relies on a heading. Remember to import your libraries and create the objects before running the code! </font>\n",
    "\n",
    "\n",
    "### Import libraries "
   ]
  },
  {
   "cell_type": "code",
   "execution_count": null,
   "metadata": {
    "deletable": false
   },
   "outputs": [],
   "source": [
    "from zumi.zumi import Zumi\n",
    "import time\n",
    "\n",
    "zumi = Zumi()"
   ]
  },
  {
   "cell_type": "markdown",
   "metadata": {
    "deletable": false
   },
   "source": [
    "### Square code\n",
    "<font size =3> Since a square has four sides, you will be writing the same set of code four times. </font>"
   ]
  },
  {
   "cell_type": "code",
   "execution_count": null,
   "metadata": {
    "deletable": false
   },
   "outputs": [],
   "source": [
    "zumi.forward()\n",
    "zumi.turn_left()\n",
    "zumi.forward()\n",
    "zumi.turn_left()\n",
    "zumi.forward()\n",
    "zumi.turn_left()\n",
    "zumi.forward()\n",
    "zumi.turn_left()"
   ]
  },
  {
   "cell_type": "markdown",
   "metadata": {},
   "source": [
    "<font size =3> If you want to make a bigger square, you can modify the duration of <font face=\"Courier\">forward()</font>. It’s a good idea to create a variable for this value so that you can quickly change all of your code at once. Try changing the value of <font face=\"Courier\">seconds</font> to make bigger squares! </font>"
   ]
  },
  {
   "cell_type": "code",
   "execution_count": null,
   "metadata": {},
   "outputs": [],
   "source": [
    "seconds=2\n",
    "\n",
    "zumi.forward(duration=seconds)\n",
    "zumi.turn_left()\n",
    "zumi.forward(duration=seconds)\n",
    "zumi.turn_left()\n",
    "zumi.forward(duration=seconds)\n",
    "zumi.turn_left()\n",
    "zumi.forward(duration=seconds)\n",
    "zumi.turn_left()"
   ]
  },
  {
   "cell_type": "markdown",
   "metadata": {
    "deletable": false
   },
   "source": [
    "## Loops\n",
    "<font size =3> You have probably noticed that you repeat the same section of code four times. To get around this, you can use a loop, which lets you repeat parts of your code. They're a great shortcut --- without them, you might have to write the same lines over and over again. \n",
    "In this lesson, you'll be learning about while loops and for loops. Both of them are conditional loops, so they repeat only for as long the condition that you set is true. </font>\n",
    "\n",
    "### For loops\n",
    "<font size =3> A for loop will repeat for a specific number of times that you set. The conditional statement for a for loop follows a very specific format that looks intimidating, but we'll break it down! <br> <br>\n",
    "\n",
    "<font face=\"Courier\">\n",
    "for private_variable in range(minimum, maximum, increment or decrement): <br>\n",
    "<span style=\"margin-left: 40px;\">write statements here</span> <br>\n",
    "</font>\n",
    "\n",
    "Private variables are variables that you only use for the loop and nothing else. In the example below, x is the private variable and is initialized to zero. The loop prints the value of x and then will increase, or increment,  x by 1 after each iteration. </font>\n"
   ]
  },
  {
   "cell_type": "code",
   "execution_count": null,
   "metadata": {
    "deletable": false
   },
   "outputs": [],
   "source": [
    "for x in range(0, 10, 1):\n",
    "    print(x)"
   ]
  },
  {
   "cell_type": "markdown",
   "metadata": {
    "deletable": false
   },
   "source": [
    "<font size =3> Did you see that 10 wasn’t printed? That’s because it was the maximum limit. When the private variable, which is x in our example, reaches the maximum limit, it does not print it or go past it.\n",
    "\n",
    "Python automatically starts a for loop at 0 and increments by 1 by default, so you can also leave these parameters out and achieve the same result: </font>\n"
   ]
  },
  {
   "cell_type": "code",
   "execution_count": null,
   "metadata": {},
   "outputs": [],
   "source": [
    "for x in range(10):\n",
    "    print(x)"
   ]
  },
  {
   "cell_type": "markdown",
   "metadata": {},
   "source": [
    "<font size =3> You can also count down, or decrement, with a negative third parameter: </font>"
   ]
  },
  {
   "cell_type": "code",
   "execution_count": null,
   "metadata": {
    "deletable": false
   },
   "outputs": [],
   "source": [
    "for j in range(9, -1, -1):\n",
    "    print(j)"
   ]
  },
  {
   "cell_type": "markdown",
   "metadata": {
    "deletable": false
   },
   "source": [
    "### Square with loop\n",
    "<font size =3> Now that you know how to use loops to repeat a section of code, rewrite the square code from the beginning of this lesson using a for loop. </font>"
   ]
  },
  {
   "cell_type": "code",
   "execution_count": null,
   "metadata": {
    "deletable": false
   },
   "outputs": [],
   "source": [
    "for i in range(4):\n",
    "    zumi.forward()\n",
    "    zumi.turn_left()"
   ]
  },
  {
   "cell_type": "markdown",
   "metadata": {},
   "source": [
    "### Square with loop and heading\n",
    "<font size =3> Hmm...the square code with loops isn't too accurate. Zumi may *think* she's driving straight for each of the square sides, but there may be some variation. There is another way to make the same square more accurately using heading. This is more accurate because Zumi is making the turns according to the gyroscope, instead of \"blindly\" trying to turn 90 degrees and hoping Zumi was facing in the right direction to begin with. </font>\n"
   ]
  },
  {
   "cell_type": "code",
   "execution_count": null,
   "metadata": {},
   "outputs": [],
   "source": [
    "initial_heading = zumi.read_z_angle() # read the current angle\n",
    "for angle in range(0, 361, 90): # From 0 to 360, increment by 90 degrees to make a square\n",
    "    zumi.forward()\n",
    "    zumi.turn(initial_heading + angle) # Add this value to the original angle"
   ]
  },
  {
   "cell_type": "markdown",
   "metadata": {
    "deletable": false
   },
   "source": [
    "### Triangle with loop\n",
    "<font size =3> A square is pretty simple because every turn is 90 degrees. What if you want to drive in an equilateral triangle?\n",
    "\n",
    "You may initially try turning 60 degrees for three iterations, but if you try this out Zumi will not drive in a triangle.\n",
    "\n",
    "Hint* In our square code, we turned a total of 360 degrees.</font>\n"
   ]
  },
  {
   "cell_type": "code",
   "execution_count": null,
   "metadata": {
    "deletable": false
   },
   "outputs": [],
   "source": [
    "# Write your code here for a triangle"
   ]
  },
  {
   "cell_type": "markdown",
   "metadata": {
    "deletable": false
   },
   "source": [
    "### Circle with loop\n",
    "<font size =3> For this case, think of a circle as a shape with 360 \"sides\". To create a circle, first we need to \n",
    "find the angle Zumi is facing this will be our starting point for our circle. Then we run a for loop from 0 to 361 increasing the angle by 4 every time. Decreasing the third parameter will result in a bigger circle.</font>"
   ]
  },
  {
   "cell_type": "code",
   "execution_count": null,
   "metadata": {
    "deletable": false
   },
   "outputs": [],
   "source": [
    "init_ang_z = zumi.read_z_angle()\n",
    "\n",
    "for i in range(0, 361, 4):\n",
    "    zumi.go_straight(30, init_ang_z-i)\n",
    "    time.sleep(0.02)\n",
    "zumi.stop(0)"
   ]
  },
  {
   "cell_type": "markdown",
   "metadata": {
    "deletable": false
   },
   "source": [
    "<font size =3> Try to write code for a counterclockwise circle: </font>"
   ]
  },
  {
   "cell_type": "code",
   "execution_count": null,
   "metadata": {
    "deletable": false
   },
   "outputs": [],
   "source": [
    "# Write your code for a counterclockwise circle"
   ]
  },
  {
   "cell_type": "markdown",
   "metadata": {
    "deletable": false
   },
   "source": [
    "<img src=\"../Data/images/shapes2.jpg\" width=700>\n",
    "\n",
    "<font size =3> There are many other shapes you can teach Zumi. Try pentagons, hexagons, or octagons. You can also attach a marker to Zumi's trunk and drive on a big piece of paper. </font>"
   ]
  },
  {
   "cell_type": "code",
   "execution_count": null,
   "metadata": {
    "deletable": false
   },
   "outputs": [],
   "source": [
    "# Space for more code here!"
   ]
  },
  {
   "cell_type": "markdown",
   "metadata": {},
   "source": [
    "<hr>\n",
    "\n",
    "# Extension Activities <br> \n",
    "\n",
    "<img src=\"../Data/images/math_extension.jpg\" width=70 align=\"left\">\n",
    "\n",
    "### Perimeters and areas<br> <br>\n",
    "Use tape or a large mat to design a coordinate plane on the floor. Mark when your Zumi stops and turn to determine the points of the shape. Next, measure the length of the shape’s sides and find the perimeter(or circumference) and area of the shape.\n",
    "\n",
    "\n",
    "<img src=\"../Data/images/math_extension.jpg\" width=70 align=\"left\">\n",
    "\n",
    "### Transformations <br> <br>\n",
    " For each shape you program, program a rotation, reflection, or translation of their original shape.<br> <br>\n",
    "**Rotation** means a shape is turned around one central point.<br>\n",
    "**Reflection** means a shape is flipped over a line.<br>\n",
    "**Transformation** means every point of a shape is moved the same distance in the same direction.<br> <br>\n",
    "\n",
    "In all three, the shape still has the same size, area, angles, and line lengths.\n",
    "\n",
    "\n",
    "\n",
    "\n",
    "\n",
    "\n",
    "\n",
    "\n"
   ]
  }
 ],
 "metadata": {
  "kernelspec": {
   "display_name": "Python 3",
   "language": "python",
   "name": "python3"
  },
  "language_info": {
   "codemirror_mode": {
    "name": "ipython",
    "version": 3
   },
   "file_extension": ".py",
   "mimetype": "text/x-python",
   "name": "python",
   "nbconvert_exporter": "python",
   "pygments_lexer": "ipython3",
   "version": "3.7.0"
  }
 },
 "nbformat": 4,
 "nbformat_minor": 2
}
