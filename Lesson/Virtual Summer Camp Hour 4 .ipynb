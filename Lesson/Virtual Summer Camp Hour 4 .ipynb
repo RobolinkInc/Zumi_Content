{
 "cells": [
  {
   "cell_type": "markdown",
   "metadata": {
    "deletable": false
   },
   "source": [
    "<img src=\"../Data/images/ZumiHeader.png\" width=700>"
   ]
  },
  {
   "cell_type": "markdown",
   "metadata": {
    "deletable": false
   },
   "source": [
    "# Lights, Sounds, Action!\n",
    "\n",
    "<font size =3>In this lesson, you will learn how to program Zumi's lights, sounds, and eyes to add some personality to your driving adventure!  </font> \n",
    "\n",
    "### Import libraries\n",
    "<font size =3> To use personality functions, we need to import the Zumi, screen, and personality libraries. </font> "
   ]
  },
  {
   "cell_type": "code",
   "execution_count": null,
   "metadata": {
    "deletable": false
   },
   "outputs": [],
   "source": [
    "from zumi.zumi import Zumi\n",
    "from zumi.protocol import Note\n",
    "from zumi.util.camera import Camera\n",
    "from zumi.util.screen import Screen\n",
    "from zumi.personality import Personality\n",
    "import time\n",
    "\n",
    "\n",
    "zumi = Zumi()\n",
    "screen = Screen()\n",
    "personality = Personality(zumi, screen)"
   ]
  },
  {
   "cell_type": "markdown",
   "metadata": {
    "deletable": false
   },
   "source": [
    "## Lights\n",
    "\n",
    "<font size =3> In electronics, we call Zumi's lights LEDs. **LED** stands for “light-emitting diode”. A diode is an electronic device that allows an electronic current to flow in only one direction. LEDs are replacing traditional incandescent light bulbs because they are more efficient. </font>\n",
    "\n",
    "### Zumi's LEDs\n",
    "<font size =3>Zumi has 8 LEDs on the board, but you can't program all of them. There are three LEDs on Zumi's left side that indicate the charging state, and one white LED on Zumi's right side that indicates the Pi started successfully. There are two LEDs at the front of the board for headlights. Don't get them confused with the Infrared (IR) sensors! You will learn about those later. The headlights are actually hidden by the shell. </font>\n",
    "\n",
    "<img src=\"../Data/images/pcb_front_LEDs.JPG\" width=500>\n",
    "\n",
    "<font size =3>The back LEDs are much easier to see. They are the red ones on the back of Zumi. </font>\n",
    "\n",
    "<img src=\"../Data/images/zumi_back_LEDs.jpg\">\n",
    "\n",
    "\n",
    "## Zumi LED Functions\n",
    "\n",
    "<font size =3> In addition to turning the headlights and brake lights on and off, you can also use turn signals! \n",
    "Here are all of the functions available for you to use:\n",
    "\n",
    "```\n",
    "* all_lights_on()\n",
    "\n",
    "* all_lights_off()\n",
    "\n",
    "* headlights_on()\n",
    "\n",
    "* headlights_off()\n",
    "       \n",
    "* brake_lights_on()\n",
    "       \n",
    "* brake_lights_off()\n",
    "        \n",
    "* hazard_lights_on()\n",
    "        \n",
    "* hazard_lights_off()\n",
    "\n",
    "* signal_left_on()\n",
    "       \n",
    "* signal_left_off()\n",
    "       \n",
    "* signal_right_on()\n",
    "       \n",
    "* signal_right_off()\n",
    "```     \n",
    "\n",
    "Now try incorporating turn signals into your remote control code or writing some new code.\n",
    "Here’s an example that you can test out. Make sure you have a lot of room.\n",
    "</font>\n"
   ]
  },
  {
   "cell_type": "code",
   "execution_count": null,
   "metadata": {},
   "outputs": [],
   "source": [
    "zumi.signal_right_on()\n",
    "zumi.forward(duration=3)\n",
    "zumi.turn_right()\n",
    "zumi.signal_right_off()\n",
    "zumi.forward()"
   ]
  },
  {
   "cell_type": "markdown",
   "metadata": {
    "deletable": false
   },
   "source": [
    "## Sounds\n",
    "\n",
    "<font size =3>Zumi can play sounds to match her emotions! Sound can be measured in frequency and amplitude. \n",
    "\n",
    "*   Frequency is the number of pulses or vibrations per second, and is measured in hertz. The higher the frequency, the higher the pitch of the sound is. \n",
    "*   Amplitude is how loud or strong the sound is and is measured in decibels. The higher the amplitude, the louder the sound is. \n",
    "\n",
    "Video: [Sound: Wavelength, Frequency, and Amplitude](https://www.youtube.com/watch?v=TsQL-sXZOLc)\n",
    "\n",
    "What does each emotion sounds like? Is happy a low or high frequency? Is angry a low or high amplitude? How does this apply to Zumi?\n",
    "\n",
    "You can use <font face=\"Courier\">play_note()</font> to play various notes. The first parameter is the note you want to play (anywhere from C2 to B6). The second parameter is optional and denotes the amount of time you want the note to play in milliseconds. The default value is set to 500ms, but you can change that by adding a second parameter like this: <br><br>\n",
    "<font face=\"Courier\">play_note(Note.GS3, 400)</font>. <br><br>\n",
    "This plays the note G Sharp below middle C for 400 milliseconds. Try the code below to hear a scale and then compose your own music!</font>\n"
   ]
  },
  {
   "cell_type": "code",
   "execution_count": null,
   "metadata": {
    "deletable": false
   },
   "outputs": [],
   "source": [
    "from zumi.protocol import Note \n",
    "zumi.play_note(Note.C4)\n",
    "zumi.play_note(Note.D4)\n",
    "zumi.play_note(Note.E4)\n",
    "zumi.play_note(Note.F4)\n",
    "zumi.play_note(Note.G4)\n",
    "zumi.play_note(Note.A4)\n",
    "zumi.play_note(Note.B4)\n",
    "zumi.play_note(Note.C5)"
   ]
  },
  {
   "cell_type": "markdown",
   "metadata": {
    "deletable": false
   },
   "source": [
    "<font size =3> Code your own sounds for happy, sad, angry, or excited. Try out different melodies and sound effects until you find your favorites. </font>"
   ]
  },
  {
   "cell_type": "code",
   "execution_count": null,
   "metadata": {
    "deletable": false
   },
   "outputs": [],
   "source": [
    "# Make your melodies here 🎵 "
   ]
  },
  {
   "cell_type": "code",
   "execution_count": null,
   "metadata": {},
   "outputs": [],
   "source": [
    "# Make your melodies here 🎵 "
   ]
  },
  {
   "cell_type": "code",
   "execution_count": null,
   "metadata": {},
   "outputs": [],
   "source": [
    "# Make your melodies here 🎵 "
   ]
  },
  {
   "cell_type": "markdown",
   "metadata": {},
   "source": [
    "## Personality\n",
    "<font size =3> Take a look at the images below and see if you can identify each of the emotions. \n",
    "\n",
    "<img src=\"../Data/images/emotions.png\" width=700> <br>\n",
    "\n",
    "How did you determine which emotion was which? There are many features that can be indicators, like the eyes, mouth, eyebrows, and maybe gestures. How do we translate human emotions to a robot?\n",
    "\n",
    "If you have seen the movie *Cars*, you may know that each of the cars has a personality. How was each car able to express emotions? Was it through movements? Sounds? Eyes? </font> \n",
    "\n",
    "###  Calling personality functions\n",
    "<font size =3> Here are some functions you can call:\n",
    "\n",
    "* happy()\n",
    "     \n",
    "* celebrate()\n",
    "       \n",
    "* angry()\n",
    "       \n",
    "* look_around()\n",
    "\n",
    "* look_around_open()\n",
    "       \n",
    "* disoriented_left()\n",
    "       \n",
    "* disoriented_right()\n",
    "\n",
    "* awake()\n",
    "\n",
    "For example, \n",
    "<font face=\"Courier\">personality.happy()</font> will make Zumi wiggle and make a sound!\n",
    "            \n",
    "In the cell below, try testing out some of the personality functions to see what they do. </font>"
   ]
  },
  {
   "cell_type": "code",
   "execution_count": null,
   "metadata": {
    "deletable": false
   },
   "outputs": [],
   "source": [
    "# Test Personality code here!"
   ]
  },
  {
   "cell_type": "markdown",
   "metadata": {
    "deletable": false
   },
   "source": [
    "## Screen\n",
    "\n",
    "<font size =3> Zumi personality also uses the **OLED** (organic LED) screen to display emotions.\n",
    "There are many different \"eyes\" Zumi has:\n",
    "\n",
    "* <font face=\"Courier\"> close_eyes()</font>\n",
    "* <font face=\"Courier\"> sleepy_eyes()</font>\n",
    "* <font face=\"Courier\"> sleepy_left()</font>\n",
    "* <font face=\"Courier\"> sleepy_right()</font>\n",
    "* <font face=\"Courier\"> blink()</font>\n",
    "* <font face=\"Courier\"> look_around_open()</font>\n",
    "* <font face=\"Courier\"> sleeping()</font>\n",
    "* <font face=\"Courier\"> look_around()</font>     \n",
    "* <font face=\"Courier\"> glimmer()</font>\n",
    "* <font face=\"Courier\"> sad()</font>\n",
    "* <font face=\"Courier\"> happy()</font>\n",
    "* <font face=\"Courier\"> hello()</font>\n",
    "* <font face=\"Courier\"> angry()</font>\n",
    "\n",
    "To use the screen, call the screen class with a function of your choice. Try this: </font>"
   ]
  },
  {
   "cell_type": "code",
   "execution_count": null,
   "metadata": {
    "deletable": false
   },
   "outputs": [],
   "source": [
    "screen.sad()"
   ]
  },
  {
   "cell_type": "markdown",
   "metadata": {
    "deletable": false
   },
   "source": [
    "## More Screen Functions\n",
    "\n",
    "<font size =3> Aside from drawing Zumi eyes, you can also have Zumi write messages on the screen! Use the <font face=\"Courier\">draw_text()</font> function to write a message like this: </font>"
   ]
  },
  {
   "cell_type": "code",
   "execution_count": null,
   "metadata": {
    "deletable": false
   },
   "outputs": [],
   "source": [
    "screen.draw_text(\"hello!\")"
   ]
  },
  {
   "cell_type": "markdown",
   "metadata": {},
   "source": [
    "<font size =3> If you want to automatically center the text on the screen, call this function instead: </font>"
   ]
  },
  {
   "cell_type": "code",
   "execution_count": null,
   "metadata": {},
   "outputs": [],
   "source": [
    "screen.draw_text_center(\"hello!\")"
   ]
  },
  {
   "cell_type": "markdown",
   "metadata": {
    "deletable": false
   },
   "source": [
    "<font size =3> If you want to write text with numbers, you need to make sure everything is of the <font face=\"Courier\">String</font> data type. </font>"
   ]
  },
  {
   "cell_type": "code",
   "execution_count": null,
   "metadata": {
    "deletable": false
   },
   "outputs": [],
   "source": [
    "number = 10\n",
    "screen.draw_text(\"ten \" + str(number)) # the str() functions turns the number into a string"
   ]
  },
  {
   "cell_type": "markdown",
   "metadata": {
    "deletable": false
   },
   "source": [
    "<font size =3> You can even make Zumi display the time for you! </font>"
   ]
  },
  {
   "cell_type": "code",
   "execution_count": null,
   "metadata": {
    "deletable": false
   },
   "outputs": [],
   "source": [
    "for i in range(0,50):\n",
    "    screen.draw_text_center(time.ctime())\n",
    "    time.sleep(0.1)"
   ]
  },
  {
   "cell_type": "markdown",
   "metadata": {},
   "source": [
    "## Put it all together\n",
    "<font size=3> Use the space below to practice and create your own projects to share!"
   ]
  },
  {
   "cell_type": "code",
   "execution_count": null,
   "metadata": {},
   "outputs": [],
   "source": []
  }
 ],
 "metadata": {
  "kernelspec": {
   "display_name": "Python 3",
   "language": "python",
   "name": "python3"
  },
  "language_info": {
   "codemirror_mode": {
    "name": "ipython",
    "version": 3
   },
   "file_extension": ".py",
   "mimetype": "text/x-python",
   "name": "python",
   "nbconvert_exporter": "python",
   "pygments_lexer": "ipython3",
   "version": "3.5.3"
  }
 },
 "nbformat": 4,
 "nbformat_minor": 2
}
