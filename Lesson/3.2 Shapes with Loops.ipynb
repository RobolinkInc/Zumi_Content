{
 "cells": [
  {
   "cell_type": "markdown",
   "metadata": {
    "deletable": false
   },
   "source": [
    "<img src=\"../Data/images/ZumiHeader.png\" width=700>"
   ]
  },
  {
   "cell_type": "markdown",
   "metadata": {
    "deletable": false
   },
   "source": [
    "# Shapes with Loops\n",
    "\n",
    "Now that you have learned about how to use the gyroscope, you are going to use the data to drive in many different shapes! Shapes are two-dimensional figures made of straight or curved lines. Usually, certain shapes have a set number of degrees that the angles add up to, so circles and squares both add up to 360°, while a triangle’s angles add up to 180°.\n",
    "\n",
    "![shapes](../Data/images/shapes.png)\n"
   ]
  },
  {
   "cell_type": "markdown",
   "metadata": {
    "deletable": false
   },
   "source": [
    "## Square\n",
    "Let's start with a square. To drive in a square, you need to make four right turns. If you recall from the previous lesson on the gyroscope, the gyroscope relies on a heading. Remember to import your libraries and create the objects before running the code. \n",
    "\n",
    "### Step 1: Import libraries and create Zumi object"
   ]
  },
  {
   "cell_type": "code",
   "execution_count": null,
   "metadata": {
    "deletable": false
   },
   "outputs": [],
   "source": [
    "from zumi.zumi import Zumi\n",
    "import time\n",
    "\n",
    "zumi = Zumi()"
   ]
  },
  {
   "cell_type": "markdown",
   "metadata": {
    "deletable": false
   },
   "source": [
    "### Step 2: Code\n",
    "Since a square has four sides, you will be writing a set of code four times. It is a good idea to create variables to hold the values for both speed and duration of the drie"
   ]
  },
  {
   "cell_type": "code",
   "execution_count": null,
   "metadata": {
    "deletable": false
   },
   "outputs": [],
   "source": [
    "zumi.forward()\n",
    "zumi.turn_left(90)\n",
    "zumi.forward()\n",
    "zumi.turn_left(90)\n",
    "zumi.forward()\n",
    "zumi.turn_left(90)\n",
    "zumi.forward()\n",
    "zumi.turn_left(90)"
   ]
  },
  {
   "cell_type": "markdown",
   "metadata": {
    "deletable": false
   },
   "source": [
    "## Loops\n",
    "When writing your square code, you probably noticed that you have the same section of code repeated four times. Loops et you repeat sections of your code. They're a great shortcut --- without them, you might have to write the same lines over and over again. If you've already been using loops in CoDrone with Arduino --- everything you use in void loop repeats!\n",
    "\n",
    "In this lesson you'll be learning about while loops and for loops. Both of them are conditional loops, so they repeat only for as long the condition that you set is true.\n",
    "\n",
    "\n",
    "### For loops\n",
    "A for loop will repeat for a set number of times that you set. The conditional statement for a for loop follows a very specific format that looks intimidating, but we'll break it down!\n",
    "\n",
    "```\n",
    "for private_variable in range(minimum, maximum, increment or decrement):\n",
    "       write statements here\n",
    "```\n",
    "\n",
    "Private variables are variables that you only use for the loop and nothing else. In the example below, x is the private variable and is initalized to zero. The loop prints the value of x and then will increment x by 1 after each iteration."
   ]
  },
  {
   "cell_type": "code",
   "execution_count": null,
   "metadata": {
    "deletable": false
   },
   "outputs": [],
   "source": [
    "for x in range(0, 10, 1):\n",
    "    print(x)"
   ]
  },
  {
   "cell_type": "markdown",
   "metadata": {
    "deletable": false
   },
   "source": [
    "Did you see that “10” wasn’t printed? That’s because it was the maximum limit. When the private variable, which is x in our example, reaches the maximum limit, it does not print it or go past it.\n",
    "\n",
    "You can also count down, or decrement, with a negative third parameter:"
   ]
  },
  {
   "cell_type": "code",
   "execution_count": null,
   "metadata": {
    "deletable": false
   },
   "outputs": [],
   "source": [
    "for j in range(9, -1, -1):\n",
    "    print(j)"
   ]
  },
  {
   "cell_type": "markdown",
   "metadata": {
    "deletable": false
   },
   "source": [
    "### Square with loop\n",
    "Now that you know how to use loops to repeat a section of code, rewrite the square code from the beginning of this lesson using a for loop.\n"
   ]
  },
  {
   "cell_type": "code",
   "execution_count": null,
   "metadata": {
    "deletable": false
   },
   "outputs": [],
   "source": [
    "for i in range(4):\n",
    "    zumi.forward()\n",
    "    zumi.turn_left(90)"
   ]
  },
  {
   "cell_type": "markdown",
   "metadata": {
    "deletable": false
   },
   "source": [
    "### Triangle with loop\n",
    "A square is pretty simple because every turn is 90 degrees. What if you want to drive in an equilateral triangle?\n",
    "\n",
    "You may initially try turning 60 degrees for three iterations, but if you try this out Zumi will not drive in a triangle.\n",
    "\n",
    "Hint* In our square code, we turned a total of 360 degrees.\n"
   ]
  },
  {
   "cell_type": "code",
   "execution_count": null,
   "metadata": {
    "deletable": false
   },
   "outputs": [],
   "source": [
    "# Write your code here for a triangle"
   ]
  },
  {
   "cell_type": "markdown",
   "metadata": {
    "deletable": false
   },
   "source": [
    "### Circle with loop\n",
    "For this case, think of a circle as a shape with 360 \"sides\". To create a circle, first we need to \n",
    "find the angle Zumi is facing this will be our starting point for our circle. Then we run a foor loop from 0 to 361 increasing by 4 angles every iteration. Decreasing the third parameter will result in a bigger circle."
   ]
  },
  {
   "cell_type": "code",
   "execution_count": null,
   "metadata": {
    "deletable": false
   },
   "outputs": [],
   "source": [
    "init_ang_z = zumi.read_z_angle()\n",
    "\n",
    "for i in range(0, 361, 4):\n",
    "    zumi.go_straight(30, init_ang_z-i)\n",
    "    time.sleep(0.02)\n",
    "zumi.stop(0)"
   ]
  },
  {
   "cell_type": "markdown",
   "metadata": {
    "deletable": false
   },
   "source": [
    "Try to write code for a counterclockwise circle:"
   ]
  },
  {
   "cell_type": "code",
   "execution_count": null,
   "metadata": {
    "deletable": false
   },
   "outputs": [],
   "source": [
    "# Write your code for a counterclockwise circle"
   ]
  },
  {
   "cell_type": "markdown",
   "metadata": {
    "deletable": false
   },
   "source": [
    "There are many other shapes you can teach Zumi. Try pentagons, hexagons, or octagons. You can also attach a marker to Zumi's trunk and see how accurate your shapes are."
   ]
  },
  {
   "cell_type": "code",
   "execution_count": null,
   "metadata": {
    "deletable": false
   },
   "outputs": [],
   "source": [
    "# Space for more code here!"
   ]
  }
 ],
 "metadata": {
  "kernelspec": {
   "display_name": "Python 3",
   "language": "python",
   "name": "python3"
  },
  "language_info": {
   "codemirror_mode": {
    "name": "ipython",
    "version": 3
   },
   "file_extension": ".py",
   "mimetype": "text/x-python",
   "name": "python",
   "nbconvert_exporter": "python",
   "pygments_lexer": "ipython3",
   "version": "3.6.5"
  }
 },
 "nbformat": 4,
 "nbformat_minor": 2
}
