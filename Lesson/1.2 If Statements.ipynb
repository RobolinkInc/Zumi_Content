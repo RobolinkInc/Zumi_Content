{
 "cells": [
  {
   "cell_type": "markdown",
   "metadata": {
    "deletable": false
   },
   "source": [
    "<img src=\"../Data/images/ZumiHeader.png\" width=700>"
   ]
  },
  {
   "cell_type": "markdown",
   "metadata": {
    "deletable": false
   },
   "source": [
    "<img src=\"../Data/images/lessonsicon.png\" width=80 align=\"left\">\n",
    "\n",
    "# If statements\n",
    "\n",
    "<br />\n",
    "\n",
    "### What are if statements?\n",
    "If statements are conditionals, which are used to help your program make decisions. You actually use conditionals every day! Some examples might include:\n",
    "\n",
    "* If my alarm goes off, then I will wake up. Else, I will stay asleep.\n",
    "* If I am hungry, I will eat something.\n",
    "* If it's sunny out, I will wear sunscreen.\n",
    "* If my room is clean, I will get my allowance. Else, I will make no money.\n",
    "\n",
    "If statements are written like this:\n",
    "\n",
    "```\n",
    "if insert condition here:\n",
    "    Insert statements here\n",
    "else:\n",
    "    Insert statements here\n",
    "\n",
    "if alarm goes off:\n",
    "    I will wake up\n",
    "else:\n",
    "    Stay asleep\n",
    "```\n",
    "\n",
    "The condition is what the computer checks to know if it is true or false.\n",
    "* If the condition is true, the computer will execute, or carry out, the statements underneath it.\n",
    "* If the condition is false, the computer will NOT execute the statements underneath it.\n",
    "* \"Else” has no condition! This is because “else” is the last option when using if-else statements.  When a computer reaches the “else” option after checking all the other conditions, then the else condition is automatically true and will run its statements.\n",
    "* One way to use “else” would be when something needs to happen when a condition is false. When the \"if\" condition is false and nothing needs to happen, don’t use an “else”.\n",
    "\n",
    "<img src=\"../Data/images/codingicon.png\" width=80 align=\"left\">\n",
    "\n",
    "### Indentation\n",
    "\n",
    "Indentation is very important in the Python programming language. The indentations indicate which statements belong to a particular section in the code.\n",
    "\n",
    "You may have noticed that the statements below the if and else statements are indented 4 spaces. Suppose you want to have multiple statements execute if a condition is true. Using proper indentation, it would look like this:\n",
    "\n"
   ]
  },
  {
   "cell_type": "code",
   "execution_count": null,
   "metadata": {
    "deletable": false
   },
   "outputs": [],
   "source": [
    "# Try modifying x to equal a different number\n",
    "x = 4\n",
    "\n",
    "if x == 4:\n",
    "    print(\"X equals 4!\")\n",
    "else:\n",
    "    print(\"x does not equal 4.\")"
   ]
  },
  {
   "cell_type": "markdown",
   "metadata": {
    "deletable": false
   },
   "source": [
    "Try running the code below. What happens?"
   ]
  },
  {
   "cell_type": "code",
   "execution_count": null,
   "metadata": {
    "deletable": false
   },
   "outputs": [],
   "source": [
    "zumi = 100\n",
    "bugs = 55\n",
    "if zumi  > bugs:\n",
    "print(\"Squish the bugs!\")\n",
    "if zumi + bugs > 90:\n",
    "print(\"Run away!\")"
   ]
  },
  {
   "cell_type": "markdown",
   "metadata": {
    "deletable": false
   },
   "source": [
    "**Challenge**: correct the example above by indenting the lines correctly. Rerun the code to check your work. Don't forget to modify the values of ```zumi``` and ```bugs```.\n",
    "\n",
    "### Comparators\n",
    "\n",
    "In the previous example, you were introduced to a new symbol. The ```>``` sign is an example of a **comparator**, but you may know it from your math class as an inequality sign. Comparators can be used inside conditions to compare values. If the statement is true, the statement below it will execute. These are comparators:\n",
    "\n",
    "\n",
    "* \\> Greater Than\n",
    "* \\< Less Than\n",
    "* \\>= Greater Than or Equal To\n",
    "* <= Less Than or Equal To\n",
    "* == Equal To\n",
    "* != Not Equal To\n",
    "\n",
    "Run the cell below and make some changes to the conditionals to see how these work!"
   ]
  },
  {
   "cell_type": "code",
   "execution_count": null,
   "metadata": {
    "deletable": false
   },
   "outputs": [],
   "source": [
    "X = 10\n",
    "Y = 100\n",
    "Z = 200\n",
    "\n",
    "if (X != Y):\n",
    "    print(\"Correct, X is not equal to Y\")\n",
    "    \n",
    "if (Z > Y):\n",
    "    print(\"Correct, Z is greater than Y\")"
   ]
  },
  {
   "cell_type": "markdown",
   "metadata": {
    "deletable": false
   },
   "source": [
    "### Nested if statements\n",
    "\n",
    "Nested if statements are useful in situations where you have multiple conditions for the same purpose or if you have follow-up questions. For example:\n",
    "\n",
    "```\n",
    "if it is sunny outside:\n",
    "    if it is hot:\n",
    "        I will go swimming\n",
    "    else:                        \n",
    "        I will play baseball\n",
    "else:                              \n",
    "    I will play inside\n",
    "```\n",
    "\n",
    "### Programming Challenge\n",
    "Below is an incorrect example. Your goal is to correct the example by indenting correctly.\n",
    "The output for the bottom example should print ```Student receives a C```.\n"
   ]
  },
  {
   "cell_type": "code",
   "execution_count": null,
   "metadata": {
    "deletable": false
   },
   "outputs": [],
   "source": [
    "Test = 75.50\n",
    "A = 90\n",
    "B = 80\n",
    "C = 70\n",
    "D = 60\n",
    "F = 50\n",
    "if Test == 100:\n",
    "print(\"Automatic pass!\")\n",
    "if Test > A:\n",
    "print(\"Student receives an A\")\n",
    "else:\n",
    "if Test > B:\n",
    "print(\"Student receives a B\")\n",
    "else:\n",
    "if Test > C:\n",
    "print(\"Student receives a C\")\n",
    "else:\n",
    "if Test > D:\n",
    "print(\"Student receives a D, please seek tutoring\")\n",
    "else:\n",
    "if Test > F:\n",
    "print(\"Student has failed, please seek tutoring\")"
   ]
  },
  {
   "cell_type": "markdown",
   "metadata": {
    "deletable": false
   },
   "source": [
    "<img src=\"../Data/images/lessonsicon.png\" width=80 align=\"left\">\n",
    "\n",
    "# Else If Statements\n",
    "\n",
    "Pretend that you have two buttons: one button opens a door and one button closes the door. You also have code that will check if the buttons are pressed. Your first thought might be to write something like this:\n",
    "\n",
    "```\n",
    "if button 1 is pressed:\n",
    "    Close the door\n",
    "if button 2 is pressed:\n",
    "    Open the door\n",
    "````\n",
    "\n",
    "What happens if you press both at the same time? Both are true and the door would try and open and close at the same time!\n",
    "\n",
    "Else if statements, written ```elif``` in Python, solve this problem. Once a condition is met, the code will not execute any of the other ```elif``` statements, no matter if they are true or not. Just like an if-else statement, if the code runs through all of the conditions and none are met, then the else statement will execute. It is a good idea to include an else statement in case of any errors or unexpected cases, but you don't need to.\n",
    "\n",
    "Here's an example that demonstrates why you should use else-if statements. Imagine that you want to go see a movie and you need to buy tickets. The movie theatre has different ticket prices depending on your age. Children less than 5 years old enter for free. However, if you are a child less than 18 years old then you pay 8 dollars. If you are younger than 55 then you pay 12 dollars. Else, you pay a discounted price of 10 dollars.\n",
    "\n",
    "Run the code that uses if statements:"
   ]
  },
  {
   "cell_type": "code",
   "execution_count": null,
   "metadata": {
    "deletable": false
   },
   "outputs": [],
   "source": [
    "age = 15\n",
    "\n",
    "if age < 5:\n",
    "    price = 0\n",
    "if age < 18:\n",
    "    price = 8\n",
    "if age < 55:\n",
    "    price = 12\n",
    "else:\n",
    "    price = 10\n",
    "    \n",
    "print(\"Age: \" + str(age))\n",
    "print(\"Your ticket price: $\" + str(price))"
   ]
  },
  {
   "cell_type": "markdown",
   "metadata": {
    "deletable": false
   },
   "source": [
    "What happened? The first conditional is false because 15 is not less than 5. The second conditional is true because 15 is less than 18, so the price of the ticket is set to 8. Since we were not using ```elif``` statements, the code would not stop there! It will check the next conditional, which would also be true because 15 is less than 55. The price would be set to 12! You would be overcharged for a movie! With elif statements, the code would find the second condition to be true and ignore the rest of the conditions.\n",
    "\n",
    "You can try this out by changing the code above! Change the second and third if statements from ```if``` to ```elif```.\n"
   ]
  }
 ],
 "metadata": {
  "kernelspec": {
   "display_name": "Python 3",
   "language": "python",
   "name": "python3"
  },
  "language_info": {
   "codemirror_mode": {
    "name": "ipython",
    "version": 3
   },
   "file_extension": ".py",
   "mimetype": "text/x-python",
   "name": "python",
   "nbconvert_exporter": "python",
   "pygments_lexer": "ipython3",
   "version": "3.5.3"
  }
 },
 "nbformat": 4,
 "nbformat_minor": 2
}
