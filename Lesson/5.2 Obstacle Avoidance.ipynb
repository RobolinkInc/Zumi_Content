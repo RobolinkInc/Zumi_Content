{
 "cells": [
  {
   "cell_type": "markdown",
   "metadata": {
    "deletable": false
   },
   "source": [
    "<img src=\"../Data/images/ZumiHeader.png\" width=700>"
   ]
  },
  {
   "cell_type": "markdown",
   "metadata": {
    "deletable": false
   },
   "source": [
    "# Obstacle Avoidance\n",
    "\n",
    "Have you ever been in a car when the emergency auto brakes went on? What happened? How was the car able to tell when to stop? Self-driving cars need to be able to avoid obstacles in an emergency. Instead of infrared, they use more advanced sensors like **LIDAR** (Light Imaging Detection and Ranging) and **RADAR**. LIDAR uses laser light to map out the environment while RADAR uses radio waves. Despite not having this technology, Zumi can still avoid obstacles!\n",
    "\n",
    "### Import libraries and create objects\n"
   ]
  },
  {
   "cell_type": "code",
   "execution_count": null,
   "metadata": {
    "deletable": false
   },
   "outputs": [],
   "source": [
    "from zumi.zumi import Zumi\n",
    "import time\n",
    "\n",
    "zumi = Zumi()"
   ]
  },
  {
   "cell_type": "markdown",
   "metadata": {
    "deletable": false
   },
   "source": [
    "###  Initialize variables \n",
    "\n",
    "First, we will initialize our heading to ```0``` because the very first time Zumi encounters an object it wil reverse in the original direction. However, we have a variable to keep track of it because Zumi will constantly be turning around to avoid obstacles. Our heading will not be *constant*.\n"
   ]
  },
  {
   "cell_type": "code",
   "execution_count": null,
   "metadata": {
    "deletable": false
   },
   "outputs": [],
   "source": [
    "heading = 0"
   ]
  },
  {
   "cell_type": "markdown",
   "metadata": {
    "deletable": false
   },
   "source": [
    "Second, this code will use a timer which will automatically stop when the desired time limit is up.\n",
    "We initialize ```time_elapsed``` to ```0``` and set our ```time_start``` to the current time, which we can grab with the ```time.time()``` function."
   ]
  },
  {
   "cell_type": "code",
   "execution_count": null,
   "metadata": {
    "deletable": false
   },
   "outputs": [],
   "source": [
    "time_start = time.time()\n",
    "time_elapsed = 0"
   ]
  },
  {
   "cell_type": "markdown",
   "metadata": {
    "deletable": false
   },
   "source": [
    "Next, we need to set the sensitivity level for triggering the obstacle avoidance and the default degrees Zumi will turn to avoid the obstacle. You can always change these values later and rerun the code to see how this affects your program."
   ]
  },
  {
   "cell_type": "code",
   "execution_count": null,
   "metadata": {
    "deletable": false
   },
   "outputs": [],
   "source": [
    "min_ir_threshold = 100\n",
    "turn_degrees = 30"
   ]
  },
  {
   "cell_type": "markdown",
   "metadata": {
    "deletable": false
   },
   "source": [
    "Before going into code, let's discuss the pseudocode for this program. How should Zumi avoid obstacles?\n",
    "First think about how humans avoid obstacles. If something is on our right, we go left. If something is our left, we go right. If something is directly in front of us, we have to either turn around or go around by turning away from the obtacle. Zumi uses the IR sensors to \"see\" and will make a decision based on the sensor data:\n",
    "\n",
    "```\n",
    "update timer\n",
    "read the data from IR sensors\n",
    "if both sensors are triggered, turn 180 degrees\n",
    "if right sensor is triggered, turn left\n",
    "if left sensor is triggered, turn right\n",
    "```\n",
    "Instead of turning when the sensor is trigged, we are actually going to change the heading by +30 or -30 degrees. You are going to use the same function from Red Light Green Light which is ```go_straight()``` because it needs to be continuously driving and checking. \n",
    "\n",
    "Therefore the pseudocode will look something like this:\n",
    "```\n",
    "update timer\n",
    "read the data from IR sensors\n",
    "if both sensors are triggered, reverse and change heading by 180 degrees\n",
    "if right sensor is triggered, change heading by +30 degrees (for a left turn)\n",
    "if left sensor is triggered, change heading by -30 degrees (for a right turn)\n",
    "go in the direction set by heading\n",
    "```\n",
    "\n",
    "Here it is translated into code:"
   ]
  },
  {
   "cell_type": "code",
   "execution_count": null,
   "metadata": {
    "deletable": false
   },
   "outputs": [],
   "source": [
    "# Change these values to see how it affects the code\n",
    "min_ir_threshold = 100\n",
    "turn_degrees = 30\n",
    "\n",
    "# repeat for 20 seconds\n",
    "while time_elapsed < 20:\n",
    "\n",
    "    time_elapsed = time.time()-time_start\n",
    "    ir_readings = zumi.get_all_IR_data()\n",
    "    front_right_ir = ir_readings[0]\n",
    "    front_left_ir = ir_readings[5]\n",
    "\n",
    "    if front_left_ir < min_ir_threshold and front_right_ir < min_ir_threshold:\n",
    "        print(\"something ahead\")\n",
    "        zumi.stop(0)\n",
    "        time.sleep(0.5)\n",
    "        zumi.reverse(40, 0.5, heading)\n",
    "        zumi.stop(0)\n",
    "        time.sleep(0.5)\n",
    "        \n",
    "        heading = heading - 180\n",
    "           \n",
    "    elif front_right_ir < min_ir_threshold:\n",
    "        print(\"something on right\")\n",
    "        heading = heading + turn_degrees\n",
    "\n",
    "    elif front_left_ir < min_ir_threshold:\n",
    "        print(\"something on left\")\n",
    "        heading = heading - turn_degrees\n",
    "\n",
    "    zumi.go_straight(30, heading, 60)\n",
    "    time.sleep(0.05)\n",
    "zumi.stop(0)\n"
   ]
  },
  {
   "cell_type": "markdown",
   "metadata": {
    "deletable": false
   },
   "source": [
    "We redefined the IR threshold and degrees for you at the top of this code so that you can change them.\n",
    "\n",
    "As an added activity, build an obstacle course and see if Zumi can avoid obstacles from start to finish!"
   ]
  },
  {
   "cell_type": "code",
   "execution_count": null,
   "metadata": {
    "deletable": false
   },
   "outputs": [],
   "source": [
    "# You can also right your own obstacle avoidance code here!"
   ]
  }
 ],
 "metadata": {
  "kernelspec": {
   "display_name": "Python 3",
   "language": "python",
   "name": "python3"
  },
  "language_info": {
   "codemirror_mode": {
    "name": "ipython",
    "version": 3
   },
   "file_extension": ".py",
   "mimetype": "text/x-python",
   "name": "python",
   "nbconvert_exporter": "python",
   "pygments_lexer": "ipython3",
   "version": "3.5.3"
  }
 },
 "nbformat": 4,
 "nbformat_minor": 2
}
