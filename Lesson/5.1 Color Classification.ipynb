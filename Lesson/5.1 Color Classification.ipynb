{
 "cells": [
  {
   "cell_type": "markdown",
   "metadata": {
    "deletable": false
   },
   "source": [
    "<img src=\"../Data/images/ZumiHeader.png\" width=700>"
   ]
  },
  {
   "cell_type": "markdown",
   "metadata": {
    "deletable": false
   },
   "source": [
    "# Color Classifier\n",
    "\n",
    "<font size =3> You can see colors and differentiate between them, but did you know computers can do this too? In this lesson, you will learn how to use a special **algorithm** to teach Zumi different colors. This is a very basic example of machine learning, which can be summarized in three steps:\n",
    "\n",
    "* Gathering data\n",
    "* Generating a model\n",
    "* Making predictions\n",
    "\n",
    "    You will use Zumi's camera to take many pictures of your favorite colors, then run code that will use the color information to label each color. In the final step, you will be able to test your model and write code for Zumi to react to each one differently! For now, let's teach Zumi about colors. You will need to have your activity color cards handy!</font>\n",
    "\n",
    "<img src=\"../Data/images/color_activity_cards.png\" width=700>\n",
    "\n",
    "# How do computers see and interpret colors?\n",
    "<font size =3> Before getting started with training Zumi to recognize colors, you need to learn how Zumi sees colors. It is very different than how you see colors!\n",
    "\n",
    "## What is an image?\n",
    "<font size =3> An image is made up of an array of small dots called **pixels** (short for picture element). A pixel can be a single color or a combination of colors, and each of those colors is represented by a series of three numbers that tell you exactly how much red, green, and blue are in it. This is called the **RGB** value, which stands for red, green, and blue. For example, a beautiful shade of turquoise might look something like (27, 209, 197) since there isn’t a lot of red, but there is a lot of green and blue. Because each value of RGB can be between 0 and 255, there are 256 values to choose from for each color. That results in 256^3, or 16,777,216, different color combinations! </font>\n",
    "\n",
    "\n",
    "## What is a matrix?\n",
    "<font size =3> Since each pixel can be represented by numbers, a picture is a grid of numbers. This is where humans and computers start to see images a little differently. Humans see colors and shapes that we recognize as different objects, but computers only see this grid of numbers, also called **matrices**. Each number represents the RGB value of each pixel. They look a little like this: </font>\n",
    "\n",
    "<img src=\"../Data/images/matriceszumi.png\" width=500> \n",
    "\n",
    "## Using HSV instead of RGB\n",
    "\n",
    "<font size =3> In this activity, you trained Zumi to recognize different colors. You used the camera to collect training data pictures, and then ran a special classifier to classify the colors. The computer processed all the number values of the image matrix to label each color, and then used those values to guess the colors.\n",
    "\n",
    "You learned about the RGB colorspace, but this program converted each RGB image to the **HSV** colorspace. HSV stands for hue, saturation, and value.\n",
    "\n",
    "\n",
    "* **Hue** normally ranges from 0-360 and represents the color (in this application however, it ranges from 0-180)\n",
    "* **Saturation** is the color's intensity\n",
    "* **Value** is how light or dark the color is\n",
    "\n",
    "In computer vision applications, it is better to use the HSV colorspace since it separates values for colors and intensity. This is important because shadows, reflections, and other factors may cause certain colors look very different. The HSV colorspace takes this into account for more accurate results. </font>\n",
    "\n",
    "\n",
    "<img src=\"../Data/images/HSV_cylinder.png\" alt=\"hsv\" width=\"400\"/>\n"
   ]
  },
  {
   "cell_type": "markdown",
   "metadata": {
    "deletable": false
   },
   "source": [
    "## Practice: Teach Zumi 3 Colors\n",
    "<font size=3> Head on over to the KNN Color Training Wizard and select three of your favorite colors from the packet of color cards in your Zumi box. See how Zumi plots each color as a 3D coordinate (for hue, saturation, and value). How do you think Zumi is predicting colors correctly? When you are done, don't get to save your model with a project name that is easy to remember. You will be using it in the next section.</font>\n",
    "\n",
    "## Loading Model\n",
    "<font size=3> The great thing about machine learning is that when you save a model you can use it again! In the previous activity, you chose three of your favorite colors to teach to Zumi. Now you will use Python code to load the model and have Zumi react differently to each of the colors!</font>\n",
    "    \n",
    "### Import libraries\n",
    "<font size=3> Import the following libraries to access the functions you need for driving, camera, and color classification."
   ]
  },
  {
   "cell_type": "code",
   "execution_count": null,
   "metadata": {},
   "outputs": [],
   "source": [
    "import sys\n",
    "sys.path.insert(0,\"/home/pi/zumi-python-library\") # branch feature/load-knn-model\n",
    "\n",
    "from zumi.zumi import Zumi\n",
    "from zumi.util.camera import Camera\n",
    "from zumi.util.screen import Screen\n",
    "from zumi.util.color_classifier import ColorClassifier\n",
    "import time\n",
    "\n",
    "camera = Camera()\n",
    "screen = Screen()\n",
    "zumi = Zumi()"
   ]
  },
  {
   "cell_type": "markdown",
   "metadata": {},
   "source": [
    "Some text here explaining how to load a model and user input."
   ]
  },
  {
   "cell_type": "code",
   "execution_count": null,
   "metadata": {},
   "outputs": [],
   "source": [
    "knn = ColorClassifier()\n",
    "train = knn.load_model(\"hello\")\n",
    "knn.fit(\"hsv\")\n",
    "camera.start_camera()\n",
    "while True:\n",
    "        user_input = input(\"Press 'enter' to predict or 'q to quit: \")\n",
    "\n",
    "        if user_input == \"q\":\n",
    "            break\n",
    "            \n",
    "        image = camera.capture()\n",
    "        predict = knn.predict(image)\n",
    "        screen.draw_text_center(predict)\n",
    "\n",
    "camera.close()"
   ]
  },
  {
   "cell_type": "markdown",
   "metadata": {},
   "source": [
    "Variable predict saves the label name. Remember that you picked the label names in each project"
   ]
  }
 ],
 "metadata": {
  "kernelspec": {
   "display_name": "Python 3",
   "language": "python",
   "name": "python3"
  },
  "language_info": {
   "codemirror_mode": {
    "name": "ipython",
    "version": 3
   },
   "file_extension": ".py",
   "mimetype": "text/x-python",
   "name": "python",
   "nbconvert_exporter": "python",
   "pygments_lexer": "ipython3",
   "version": "3.5.3"
  }
 },
 "nbformat": 4,
 "nbformat_minor": 2
}
