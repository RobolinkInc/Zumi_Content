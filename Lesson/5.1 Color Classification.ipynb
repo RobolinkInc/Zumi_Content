{
 "cells": [
  {
   "cell_type": "markdown",
   "metadata": {
    "deletable": false
   },
   "source": [
    "<img src=\"../Data/images/ZumiHeader.png\" width=700>"
   ]
  },
  {
   "cell_type": "markdown",
   "metadata": {
    "deletable": false
   },
   "source": [
    "# Lesson 1: KNN Color Classifier\n",
    "\n",
    "<font size =3> You can see colors and differentiate between them, but did you know computers can do this too? In this lesson, you will learn how to use a special **algorithm** to teach Zumi different colors. This is a very basic example of machine learning, which can be summarized in three steps:\n",
    "\n",
    "* Gathering data\n",
    "* Generating a model\n",
    "* Making predictions\n",
    "\n",
    "Up until now, Zumi has only known about black and white. You will use Zumi's camera to take many pictures of your favorite colors, then run code that will use the color information to label each color. In the final step, you will be able to test your model and write code for Zumi to react to each one differently! For now, let's teach Zumi about colors. </font>\n",
    "\n"
   ]
  },
  {
   "cell_type": "markdown",
   "metadata": {
    "deletable": false
   },
   "source": [
    "### Step 1: Import libraries and create objects\n",
    "<font size =3> This cell imports all of Zumi’s necessary features, like the camera. If you don’t run this cell, the rest of your program won’t work!</font>"
   ]
  },
  {
   "cell_type": "code",
   "execution_count": null,
   "metadata": {
    "deletable": false
   },
   "outputs": [],
   "source": [
    "from zumi.zumi import Zumi\n",
    "from zumi.util.camera import Camera\n",
    "from zumi.util.screen import Screen\n",
    "from zumi.util.color_classifier import ColorClassifier\n",
    "import time\n",
    "\n",
    "camera = Camera()\n",
    "screen = Screen()\n",
    "zumi = Zumi()"
   ]
  },
  {
   "cell_type": "markdown",
   "metadata": {
    "deletable": false
   },
   "source": [
    "### Step 2: Set & Collect Training Data\n",
    "<font size =3> You are going to train Zumi to distinguish between two different colors. Pick your two favorite colors from the color cards and have them ready for training.\n",
    "\n",
    "When you run the code, it will ask you to enter the following:\n",
    "\n",
    "* **Demo Name:** The name of this activity. Keep it short so you remember which program you are working on. For example: ```RedBlue```\n",
    "\n",
    "* **Number of labels:** This is the number of colors you want to train Zumi to recognize. For example, if you have red and blue, you would input ```2```.\n",
    "\n",
    "* **Label Names and Key commands:** For each color, make sure you type the name of your color and the associated key that will tell Zumi which color it is. For example, the label name for red might be red and the keyboard command can be the letter ```r``` . The only key you cannot use as a command is the letter ```q``` because that key quits the program. After each color, verify that your labels and commands are correct by pressing ```enter```.Make sure you remember your key commands because you will need them later when you collect the training data.\n",
    "\n",
    "\n",
    "then,\n",
    "\n",
    "* Gather the cards that are the colors of the labels you chose. \n",
    "* The program will ask you how many pictures you will take at a time. For this demo, input ```10```. You will need a minimum of 50 pictures for your project to work.\n",
    "* Place each one about 5in away from Zumi camera and press the corresponding key command for that color on your keyboard. \n",
    "* Check the label on the terminal and press enter to confirm. If you want to delete any data, follow the onscreen instructions. \n",
    "* Try taking pictures in different lighting and from different angles!\n",
    "\n",
    "When you are done, press the letter ```q``` to quit.\n",
    "\n",
    "\n",
    "**Note**: If you ever have errors with the camera, close the notebook and reopen it. A rule of thumb is to keep the ```try``` and ```finally``` statements in your code. You will learn later how this works. </font>"
   ]
  },
  {
   "cell_type": "code",
   "execution_count": null,
   "metadata": {
    "deletable": false,
    "scrolled": true
   },
   "outputs": [],
   "source": [
    "camera.start_camera()\n",
    "\n",
    "try:\n",
    "    knn = ColorClassifier()\n",
    "    train = knn.set_values()\n",
    "\n",
    "    if train:\n",
    "        print(\"Start gathering data. If you want to stop, press `q`\")\n",
    "        cnt = int(input(\"Enter the amount of the pictures that you want to take at once : \"))\n",
    "        while True:\n",
    "            knn.add_datas(camera, cnt)\n",
    "            if knn.check_enough_datas(balance=True):\n",
    "                break\n",
    "\n",
    "        knn.save_data_set()\n",
    "        knn.get_accuracy()\n",
    "finally:\n",
    "    camera.close()"
   ]
  },
  {
   "cell_type": "markdown",
   "metadata": {
    "deletable": false
   },
   "source": [
    "### Step 3: Predict\n",
    "<font size =3> Run the following code to predict the values. Gather various objects and place them in front of the camera. Press the ```enter``` key to have Zumi guess the color. Does Zumi get them right? When you are done, press ```q``` to quit. </font>"
   ]
  },
  {
   "cell_type": "code",
   "execution_count": null,
   "metadata": {
    "deletable": false
   },
   "outputs": [],
   "source": [
    "try:\n",
    "    print(\"Start predicting, press enter to predict!\")\n",
    "    camera.start_camera()\n",
    "    knn.fit(\"hsv\")\n",
    "    while True:\n",
    "        if input(\"Press `enter` to predict or `q` to exit): \") == 'q':\n",
    "            break\n",
    "        image = camera.capture()\n",
    "        predict = knn.predict(image)\n",
    "        print(predict)\n",
    "        screen.draw_text(predict)\n",
    "finally:\n",
    "    camera.close()"
   ]
  },
  {
   "cell_type": "markdown",
   "metadata": {
    "deletable": false
   },
   "source": [
    "# How do computers see and interpret colors?\n",
    "\n",
    "## What is an image?\n",
    "<font size =3> An image is made up of an array of small dots called The **pixels** (short for picture element). A pixel can be a single color or a combination of colors, and each of those colors is represented by a series of three numbers that tell you exactly how much red, green, and blue are in it. This is called the **RGB** value, which stands for red, green, and blue. For example, a beautiful shade of turquoise might look something like (27, 209, 197) since there isn’t a lot of red, but there is a lot of green and blue. Because each value of RGB can be between 0 and 255, there are 256 values to choose from for each color. That results in 256^3, or 16,777,216, different color combinations! </font>\n",
    "\n",
    "\n",
    "## What is a matrix?\n",
    "<font size =3> Since each pixel can be represented by numbers, a picture is a grid of numbers. This is where humans and computers start to see images a little differently. Humans see colors and shapes that we recognize as different objects, but computers only see this grid of numbers, also called **matrices**. Each number represents the RGB value of each pixel. They look a little like this: </font>\n",
    "\n",
    "<img src=\"../Data/images/matriceszumi.png\" width=500> \n",
    "\n",
    "## Using HSV instead of RGB\n",
    "\n",
    "<font size =3> In this activity, you trained Zumi to recognize different colors. You used the camera to collect training data pictures, and then ran a special classifier to classify the colors. The computer processed all the number values of the image matrix to label each color, and then used those values to guess the colors.\n",
    "\n",
    "You learned about the RGB colorspace, but this program converted each RGB image to the **HSV** colorspace. HSV stands for hue, saturation, and value.\n",
    "\n",
    "\n",
    "* **Hue** normally ranges from 0-360 and represents the color (in this application however, it ranges from 0-180)\n",
    "* **Saturation** is the color's intensity\n",
    "* **Value** is how light or dark the color is\n",
    "\n",
    "In computer vision applications, it is better to use the HSV colorspace since it separates values for colors and intensity. This is important because shadows, reflections, and other factors may cause certain colors look very different. The HSV colorspace takes this into account for more accurate results. </font>\n",
    "\n",
    "\n",
    "<img src=\"../Data/images/HSVdiagram.png\" alt=\"hsv\" width=\"400\"/>\n",
    "\n"
   ]
  },
  {
   "cell_type": "markdown",
   "metadata": {
    "deletable": false
   },
   "source": [
    "\n",
    "\n",
    "\n",
    "## Challenge\n",
    "<font size =3> Use all of the colors in the box and then try testing out the predictions on different items around your environment. Run cells for step #1 and step #2 respectively. Make sure you name your demos some different every time! </font>"
   ]
  }
 ],
 "metadata": {
  "kernelspec": {
   "display_name": "Python 3",
   "language": "python",
   "name": "python3"
  },
  "language_info": {
   "codemirror_mode": {
    "name": "ipython",
    "version": 3
   },
   "file_extension": ".py",
   "mimetype": "text/x-python",
   "name": "python",
   "nbconvert_exporter": "python",
   "pygments_lexer": "ipython3",
   "version": "3.7.4"
  }
 },
 "nbformat": 4,
 "nbformat_minor": 2
}
