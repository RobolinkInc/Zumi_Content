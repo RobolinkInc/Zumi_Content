{
 "cells": [
  {
   "cell_type": "markdown",
   "metadata": {
    "deletable": false
   },
   "source": [
    "<img src=\"../Data/images/ZumiHeader.png\" width=700>"
   ]
  },
  {
   "cell_type": "markdown",
   "metadata": {
    "deletable": false
   },
   "source": [
    "# Color Classifier\n",
    "\n",
    "<font size=3> <span style=\"color:red\">**Note!**</span> This activity requires the Color Training Wizard found in the \"Explore\" page.</font>\n",
    "\n",
    "<font size =3> You can see colors and differentiate between them, but did you know computers can do this too? In this lesson, you will learn how to use a special **algorithm** to teach Zumi different colors. This is a very basic example of machine learning, which can be summarized in three steps:\n",
    "\n",
    "* Gathering data\n",
    "* Generating a model\n",
    "* Making predictions\n",
    "\n",
    "You will use Zumi's camera to take many pictures of your favorite colors, and then run code that will use the color information to label each color. In the final step, you will be able to test your model and write code for Zumi to react to each color differently! For now, let's teach Zumi about colors. You will need to have your activity color cards handy!</font>\n",
    "\n",
    "<img src=\"../Data/images/color_activity_cards.png\" width=700>\n",
    "\n",
    "# How do computers see and interpret colors?\n",
    "<font size =3> Before getting started with training Zumi to recognize colors, you need to learn how Zumi sees colors. It is very different than how you see colors!\n",
    "\n",
    "## What is an image?\n",
    "<font size =3> An image is made up of an array of small dots called **pixels** (short for picture element). A pixel can be a single color or a combination of colors, and each of those colors is represented by a series of three numbers that tell you exactly how much red, green, and blue are in it. This is called the **RGB** value, which stands for red, green, and blue. For example, a beautiful shade of turquoise might look something like (27, 209, 197) since there isn’t a lot of red, but there is a lot of green and blue. Because each value of RGB can be between 0 and 255, there are 256 values to choose from for each color. That results in 256^3, or 16,777,216, different color combinations! </font>\n",
    "\n",
    "\n",
    "## What is a matrix?\n",
    "<font size =3> Since each pixel can be represented by numbers, a picture is a grid of numbers. This is where humans and computers start to see images a little differently. Humans see colors and shapes that we recognize as different objects, but computers only see these grids, also called **matrices**. Each number represents the RGB value of each pixel. They look a little like this: </font>\n",
    "\n",
    "<img src=\"../Data/images/matriceszumi.png\" width=500> \n",
    "\n",
    "## Using HSV instead of RGB\n",
    "\n",
    "<font size =3> \n",
    "\n",
    "Your program will convert each RGB image to the **HSV** colorspace. HSV stands for hue, saturation, and value.\n",
    "\n",
    "\n",
    "* **Hue** normally ranges from 0-360 and represents the color (in this application however, it ranges from 0-180)\n",
    "* **Saturation** is the color's intensity\n",
    "* **Value** is how light or dark the color is\n",
    "\n",
    "In computer vision applications, it is better to use the HSV colorspace since it separates values for colors and intensity. This is important because shadows, reflections, and other factors may cause certain colors to look very different. The HSV colorspace takes this into account for more accurate results. </font>\n",
    "\n",
    "<img src=\"../Data/images/HSV_cylinder.png\" alt=\"hsv\" width=\"400\"/>\n"
   ]
  },
  {
   "cell_type": "markdown",
   "metadata": {
    "deletable": false
   },
   "source": [
    "## Practice: Teach Zumi 3 Colors\n",
    "<font size=3> Head on over to the KNN Color Training Wizard and select three of your favorite colors from the packet of color cards in your Zumi box. Pay attention to how Zumi plots each color as a 3D coordinate (for hue, saturation, and value). How do you think Zumi is predicting colors correctly?<br> When you are done, don't forget to save your model with a project name that is easy to remember. You will be using it in the next section, so make sure to write it down in addition to all of your label names.</font>\n",
    "\n",
    "## Loading Model\n",
    "<font size=3> The great thing about machine learning is that when you save a model, you can use it again! In the previous activity, you chose three of your favorite colors to teach to Zumi. Now you will use Python code to load the model and have Zumi react differently to each of the colors!</font>\n",
    "    \n",
    "### Import libraries\n",
    "<font size=3> Import the following libraries to access the functions you need for driving, camera, and color classification."
   ]
  },
  {
   "cell_type": "code",
   "execution_count": null,
   "metadata": {},
   "outputs": [],
   "source": [
    "from zumi.zumi import Zumi\n",
    "from zumi.util.camera import Camera\n",
    "from zumi.util.screen import Screen\n",
    "from zumi.util.color_classifier import ColorClassifier\n",
    "import time\n",
    "\n",
    "camera = Camera()\n",
    "screen = Screen()\n",
    "zumi = Zumi()"
   ]
  },
  {
   "cell_type": "markdown",
   "metadata": {},
   "source": [
    "### Loading a Model\n",
    "<font size=3> To load the model, you will call a function from the ColorClassifier library: <font face=\"Courier\">load_model()</font>. This function needs a parameter, which is your project name. Remember what you named your project? Insert your user name AND the project name within the quotes below. Check that your spelling and punctuation is correct. If it doesn't exist, you will get an error. "
   ]
  },
  {
   "cell_type": "code",
   "execution_count": null,
   "metadata": {},
   "outputs": [],
   "source": [
    "user_name = ''\n",
    "demo_name = ''"
   ]
  },
  {
   "cell_type": "code",
   "execution_count": null,
   "metadata": {},
   "outputs": [],
   "source": [
    "knn = ColorClassifier(user_name=user_name)\n",
    "train = knn.load_model(demo_name)\n",
    "knn.fit(\"hsv\")"
   ]
  },
  {
   "cell_type": "markdown",
   "metadata": {},
   "source": [
    "<font size=3> Once your model has been successfully loaded, you can test it. Run the code below and pick a color card to show to Zumi. When you are ready, press enter to see the results on the screen. If you press \"q\", the program will break out of the loop and turn off the camera."
   ]
  },
  {
   "cell_type": "code",
   "execution_count": null,
   "metadata": {},
   "outputs": [],
   "source": [
    "camera.start_camera()\n",
    "\n",
    "while True:\n",
    "        user_input = input(\"Press 'enter' to predict or 'q to quit: \")\n",
    "\n",
    "        if user_input == \"q\":\n",
    "            break\n",
    "            \n",
    "        image = camera.capture()\n",
    "        predict = knn.predict(image)\n",
    "        screen.draw_text_center(predict)\n",
    "\n",
    "camera.close()"
   ]
  },
  {
   "cell_type": "markdown",
   "metadata": {},
   "source": [
    "## Traffic Light\n",
    "<font size=3> You have trained Zumi to recognize the colors, but Zumi should probably make some decisions depending on the color she sees! Think about a traffic light. There are three colors on the traffic light. What do each of the colors mean? <br>\n",
    "    \n",
    "<img src=\"../Data/images/traffic_light.png\" width=300>\n",
    "</font>\n",
    "\n",
    "### Data collection\n",
    "<font size=3> Go back to the Color Training Wizard and train the labels \"red\", \"yellow\", and \"green\". Next, save the model as \"trafficlight\".</font>\n",
    "\n",
    "### Making Decisions\n",
    "<font size=3> In this activity, you will make Zumi stop if she sees red, drive when she sees green, and drive at a slower speed if she sees yellow. Use the functions <font face=\"Courier\">stop()</font>, <font face=\"Courier\">forward(speed=30)</font>, and <font face=\"Courier\">forward(speed=70)</font> for red, yellow, and green. For example:\n",
    "    \n",
    "<font face=\"Courier\">\n",
    "    \n",
    "if predict == \"yellow\": <br>\n",
    "<span style=\"margin-left: 40px;\">zumi.forward(speed=30)</span> <br>\n",
    "</font>\n",
    "</font>\n",
    "    \n",
    "### Load the model\n",
    "<font size=3> Load the \"trafficlight\" project here by providing the project name in the quotes."
   ]
  },
  {
   "cell_type": "code",
   "execution_count": null,
   "metadata": {},
   "outputs": [],
   "source": [
    "knn = ColorClassifier()\n",
    "train = knn.load_model(\"trafficlight\")\n",
    "knn.fit(\"hsv\")"
   ]
  },
  {
   "cell_type": "markdown",
   "metadata": {},
   "source": [
    "### Insert If statements\n",
    "<font size=3> Fill in the code with the correct actions to go with the traffic light color. Then test it by showing Zumi a color card and pressing enter to see Zumi react!"
   ]
  },
  {
   "cell_type": "code",
   "execution_count": null,
   "metadata": {},
   "outputs": [],
   "source": [
    "camera.start_camera()\n",
    "\n",
    "while True:\n",
    "        user_input = input(\"Press 'enter' to predict or 'q to quit: \")\n",
    "\n",
    "        if user_input == \"q\":\n",
    "            break\n",
    "            \n",
    "        image = camera.capture()\n",
    "        predict = knn.predict(image)\n",
    "        screen.draw_text_center(predict)\n",
    "        \n",
    "        # Add your if statements here!\n",
    "        \n",
    "        Finish the code\n",
    "\n",
    "camera.close()"
   ]
  },
  {
   "cell_type": "markdown",
   "metadata": {},
   "source": [
    "## Design your own traffic light\n",
    "<font size=3> Who said traffic lights always have to be red, yellow, and green? In the real world, these are universal symbols and we should keep them that way, but in Zumi world, you can create your own traffic lights that signal different behaviors. Maybe purple means \"do a u-turn\", or blue means \"go left\". It's your world so you get to decide! <br>\n",
    "    \n",
    "<img src=\"../Data/images/trafficlight_custom.png\" width=300> \n",
    "    \n",
    "Go to the Color Training Wizard and train three (or more!) colors for your new traffic light. You can go beyond simply stopping and driving. Check out lesson 2.1 or the Zumi documentation for more ideas! Remember your project name and labels because you will need to load the model below when you are done.</font>\n",
    "\n",
    "### Load model for custom traffic light"
   ]
  },
  {
   "cell_type": "code",
   "execution_count": null,
   "metadata": {},
   "outputs": [],
   "source": [
    "knn = ColorClassifier()\n",
    "train = knn.load_model(\"PROJECT NAME HERE\")\n",
    "knn.fit(\"hsv\")"
   ]
  },
  {
   "cell_type": "markdown",
   "metadata": {},
   "source": [
    "### Fill in the labels\n",
    "<font size=3> Just like in the normal traffic light example, include if statements to tell Zumi what to do when she sees each of your colors. When you're finished, build a small city and have someone be your traffic light by holding up the color cards you trained."
   ]
  },
  {
   "cell_type": "code",
   "execution_count": null,
   "metadata": {},
   "outputs": [],
   "source": [
    "camera.start_camera()\n",
    "\n",
    "while True:\n",
    "        user_input = input(\"Press 'enter' to predict or 'q to quit: \")\n",
    "\n",
    "        if user_input == \"q\":\n",
    "            break\n",
    "            \n",
    "        image = camera.capture()\n",
    "        predict = knn.predict(image)\n",
    "        screen.draw_text_center(predict)\n",
    "        \n",
    "        # Add your if statements here!\n",
    "\n",
    "camera.close()"
   ]
  }
 ],
 "metadata": {
  "kernelspec": {
   "display_name": "Python 3",
   "language": "python",
   "name": "python3"
  },
  "language_info": {
   "codemirror_mode": {
    "name": "ipython",
    "version": 3
   },
   "file_extension": ".py",
   "mimetype": "text/x-python",
   "name": "python",
   "nbconvert_exporter": "python",
   "pygments_lexer": "ipython3",
   "version": "3.5.3"
  }
 },
 "nbformat": 4,
 "nbformat_minor": 2
}
