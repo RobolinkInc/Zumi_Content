{
 "cells": [
  {
   "cell_type": "markdown",
   "metadata": {},
   "source": [
    "<img src=\"../Data/images/ZumiHeader.png\" width=700>"
   ]
  },
  {
   "cell_type": "code",
   "execution_count": 11,
   "metadata": {},
   "outputs": [
    {
     "name": "stdout",
     "output_type": "stream",
     "text": [
      " Starting Zumi \n",
      "Pi Zero I2C is available\n",
      "Gyro offset file already exists.\n",
      "Verified Pi Zero is the same\n",
      "Gyroscope previously calibrated\n"
     ]
    }
   ],
   "source": [
    "from zumi.zumi import Zumi\n",
    "from zumi.util.screen import Screen\n",
    "from zumi.personality import Personality\n",
    "import time\n",
    "\n",
    "zumi = Zumi()\n",
    "screen = Screen()\n",
    "personality = Personality(zumi, screen)\n",
    "from zumi.protocol import Note \n",
    "\n",
    "#indexing\n",
    "e2 = Note.D4\n",
    "e4 = Note.F4\n",
    "\n",
    "# len and count\n",
    "occurAns = 6\n",
    "lenAns = 8"
   ]
  },
  {
   "cell_type": "markdown",
   "metadata": {},
   "source": [
    "# Lists"
   ]
  },
  {
   "cell_type": "markdown",
   "metadata": {},
   "source": [
    "### What is a List ?\n",
    "\n",
    "<font size =3>Chances are you have made a list to figure out what homework assignments are due this upcoming week or you’ve made a list of chores that need to be done.  The more useful lists tend to be ones that have information about one subject.   For example, we wouldn’t mix anything extra into our grocery list and cause confusion.  It turns out lists play an important role in programming to help organize information.   In Python, **lists** can be used to store and organize data of the same type without creating multiple variables. Because lists are able to do this, they are a **data structure**."
   ]
  },
  {
   "cell_type": "markdown",
   "metadata": {},
   "source": [
    "### How do you create a List in python ? \n",
    "\n",
    "<font size =3>Lists in python require two pieces of information, a name and data.  The name of a list works in the same way a varaiable does.  However, after the equal sign, the braces \"[ ]\" create a list.  Whatever goes inside those braces will be considered the data.  You can create an empty list. <br>"
   ]
  },
  {
   "cell_type": "markdown",
   "metadata": {},
   "source": [
    "###### creating an empty list ( no data inside )\n",
    "<font size =3>In the example below, an empty list called “container” was created.  This means there is no data inside the list to begin with."
   ]
  },
  {
   "cell_type": "code",
   "execution_count": null,
   "metadata": {},
   "outputs": [],
   "source": [
    "container = [] "
   ]
  },
  {
   "cell_type": "markdown",
   "metadata": {},
   "source": [
    "###### creating a list with data \n",
    "<font size =3>In the example below, a list was created called “zumiSounds” with 4 elements.  An element is a piece of data in the list.    "
   ]
  },
  {
   "cell_type": "code",
   "execution_count": null,
   "metadata": {},
   "outputs": [],
   "source": [
    "zumiSounds  = [Note.C4, Note.D4, Note.E4, Note.F4]"
   ]
  },
  {
   "cell_type": "markdown",
   "metadata": {},
   "source": [
    "Element 1 is  Note.C4\n",
    "\n",
    "Element 2 is  Note.D4\n",
    "\n",
    "Element 3 is  Note.E4\n",
    "\n",
    "Element 4 is  Note.F4"
   ]
  },
  {
   "cell_type": "markdown",
   "metadata": {},
   "source": [
    "### Indexing a list\n",
    "\n",
    "<font size =3>Now that we have a list with data inside, you might be wondering how to access a particular element.  In programming, accessing an element or piece of data inside a list is called indexing.  Each item in the list is given an index which is an integer that refers to its position in the list starting from 0. Notice that the items are just decremented by 1.  The first element in the list is at index 0 because it is 0 steps away from the beginning of the list. <br> <br>\n",
    "In any case that involves counting, you will be starting from 0, so don't forget!  Note that the reason we offset our indexing by one is because python is **zero indexed**.  Take the same list \"zumiSounds\" we saw earlier."
   ]
  },
  {
   "cell_type": "code",
   "execution_count": 3,
   "metadata": {},
   "outputs": [],
   "source": [
    "zumiSounds  = [Note.C4, Note.D4, Note.E4, Note.F4]"
   ]
  },
  {
   "cell_type": "markdown",
   "metadata": {},
   "source": [
    "Note.C4 is at **index 0**\n",
    "\n",
    "Note.D4 is at **index 1**\n",
    "\n",
    "Note.E4 is at **index 2**\n",
    "\n",
    "Note.F4 is at **index 3**\n",
    "\n",
    "\n",
    "<font size =3>Having an index is like having the address of where your information lives. A particular value can be accessed by the name of the list and its index:\n",
    "\n",
    "A list would not be very useful if we were not able to access the data.  In order to access element 1 to play a sound, we'd have to write:"
   ]
  },
  {
   "cell_type": "code",
   "execution_count": 4,
   "metadata": {},
   "outputs": [],
   "source": [
    "element1 = zumiSounds[0]\n",
    "zumi.play_note(element1)"
   ]
  },
  {
   "cell_type": "markdown",
   "metadata": {},
   "source": [
    "##### Task: \n",
    "<font size =3>Play the second note of the array \"ZumiSounds\" and store the element in a variable called \"element2\""
   ]
  },
  {
   "cell_type": "code",
   "execution_count": 17,
   "metadata": {},
   "outputs": [],
   "source": [
    "zumiSounds = [Note.C4, Note.D4, Note.E4, Note.F4]\n",
    "element2 = zumiSounds[0]\n",
    "zumi.play_note(element2)"
   ]
  },
  {
   "cell_type": "code",
   "execution_count": 18,
   "metadata": {
    "scrolled": true
   },
   "outputs": [],
   "source": [
    "assert element2 == e2, \"Incorrect.  Check var spelling and list name.\""
   ]
  },
  {
   "cell_type": "markdown",
   "metadata": {},
   "source": [
    "### Lists and Loops.\n",
    "\n",
    "<font size =3>Say you wanted to print the entire list out to the console.  If your list was small, writing a print statement for every element would not take that long.  However, it would be very inefficient if your list was large.  One tool we have access to in python  to traverse through the entire list, is a tool called a loop."
   ]
  },
  {
   "cell_type": "code",
   "execution_count": 20,
   "metadata": {},
   "outputs": [],
   "source": [
    "container = [\"Lists\", \"And\", \"Loops\", \"With\", \"Zumi\"]\n",
    "\n",
    "for element in container:\n",
    "    screen.draw_text_center(element)\n",
    "    time.sleep(0.5)"
   ]
  },
  {
   "cell_type": "markdown",
   "metadata": {},
   "source": [
    "##### Task: \n",
    "<font size =3>Use a for loop to play every note in the list \"zumiSounds\"."
   ]
  },
  {
   "cell_type": "code",
   "execution_count": 13,
   "metadata": {},
   "outputs": [],
   "source": [
    "zumiSounds  = [Note.C4, Note.D4, Note.E4, Note.F4]\n",
    "for note in zumiSounds:\n",
    "    zumi.play_note(note) # remember the line play a note"
   ]
  },
  {
   "cell_type": "markdown",
   "metadata": {},
   "source": [
    "###  Lists and if statements\n",
    "Let's say you have a list with the numbers 1-10."
   ]
  },
  {
   "cell_type": "code",
   "execution_count": 14,
   "metadata": {},
   "outputs": [],
   "source": [
    "numbers = [1,2,3,4,5,6,7,8,9,10]"
   ]
  },
  {
   "cell_type": "markdown",
   "metadata": {},
   "source": [
    "How can you use if statements to print only the even numbers? You can use a for loop to iterate through the elements in the list, and use an if statement to check if the number is even or odd."
   ]
  },
  {
   "cell_type": "code",
   "execution_count": 15,
   "metadata": {},
   "outputs": [
    {
     "name": "stdout",
     "output_type": "stream",
     "text": [
      "2\n",
      "4\n",
      "6\n",
      "8\n",
      "10\n"
     ]
    }
   ],
   "source": [
    "for num in numbers:\n",
    "    if num % 2 == 0:\n",
    "        print(num)"
   ]
  },
  {
   "cell_type": "markdown",
   "metadata": {},
   "source": [
    "### List  commands **len()** and **count()**\n",
    "\n",
    "<font size =3>In certain situations, you may want to know the size of your list or the number of times a particular element appears in the list.  Creating functions or manually calculating the size or occurances every time you write a program would be miserable.  Instead, python has built in functions to do this for you.  Say we have a list called **container** with 3 elements 'a', 'b', and 'a.  To better illustrate:"
   ]
  },
  {
   "cell_type": "code",
   "execution_count": 21,
   "metadata": {},
   "outputs": [],
   "source": [
    "container = ['a', 'b', 'a']\n",
    "\n",
    "size       = len( container )      #  The var \"size\" would hold the value 3 \n",
    "occurances = container.count('a')  #  The var \"occurances\" would hold the value 2 "
   ]
  },
  {
   "cell_type": "code",
   "execution_count": 22,
   "metadata": {},
   "outputs": [
    {
     "name": "stdout",
     "output_type": "stream",
     "text": [
      "Size:  3\n",
      "Occurances:  2\n"
     ]
    }
   ],
   "source": [
    "print(\"Size: \",  size )\n",
    "print(\"Occurances: \", occurances)"
   ]
  },
  {
   "cell_type": "markdown",
   "metadata": {},
   "source": [
    "###### count() \n",
    "<font size =3>The .count() command counts the number of times an element appears in a list.  As you would expect, the .count() command takes 1 argument.  This means we need to put something inside of the parentheses.  Example list.count('food') or list.count(4).\n",
    "\n",
    "Run the code below:"
   ]
  },
  {
   "cell_type": "code",
   "execution_count": 23,
   "metadata": {},
   "outputs": [],
   "source": [
    "duration = [ 1, 2, 1, 2 , 1 , 1 , 1 , 1 ]\n",
    "POWER = 40\n",
    "\n",
    "for t in duration:\n",
    "    zumi.forward(POWER,t)\n",
    "    zumi.turn_left(90)"
   ]
  },
  {
   "cell_type": "markdown",
   "metadata": {},
   "source": [
    "######  Task:\n",
    "<font size =3>Given the following list, \"duration\", determine how many times the number **1** appears in the list and store it in the varible **answer**."
   ]
  },
  {
   "cell_type": "code",
   "execution_count": null,
   "metadata": {},
   "outputs": [],
   "source": [
    "raise NotImplementedError\n",
    "answer = "
   ]
  },
  {
   "cell_type": "code",
   "execution_count": null,
   "metadata": {},
   "outputs": [],
   "source": [
    "assert answer == occurAns, \"Incorrect.  Check var spelling and list name.  use the .count() FX \""
   ]
  },
  {
   "cell_type": "markdown",
   "metadata": {},
   "source": [
    "###### len()\n",
    "\n",
    "######  Task\n",
    "<font size =3>Given a list of house locations, called \"locs\", determine how many times you will visit house **a**."
   ]
  },
  {
   "cell_type": "code",
   "execution_count": null,
   "metadata": {},
   "outputs": [],
   "source": [
    "locs = ['a', 'b', 'z', 'a', 'a', 'x', 'h', 'l']"
   ]
  },
  {
   "cell_type": "code",
   "execution_count": null,
   "metadata": {},
   "outputs": [],
   "source": [
    "# YOUR CODE HERE (make sure to DELETE the line \"raise NotImplementedError\")\n",
    "raise NotImplementedError"
   ]
  },
  {
   "cell_type": "code",
   "execution_count": null,
   "metadata": {},
   "outputs": [],
   "source": [
    "assert answer == lenAns, \"Incorrect.  Check var spelling and list name.\""
   ]
  },
  {
   "cell_type": "markdown",
   "metadata": {},
   "source": [
    "### Nested Lists\n",
    "\n",
    "<font size =3>Python programming language allows to store one list inside of another. One reason this may be helpful is if we stored the Competition Field as a matrix.  Each number represents where on the Field the location of the house is. Below is an illusration."
   ]
  },
  {
   "cell_type": "code",
   "execution_count": null,
   "metadata": {},
   "outputs": [],
   "source": [
    "from IPython.display import Image\n",
    "Image(filename='/home/pi/OfficialField.png',width=300, height=200) "
   ]
  },
  {
   "cell_type": "code",
   "execution_count": null,
   "metadata": {},
   "outputs": [],
   "source": [
    "TopRowHouses = ['G', 'H', 'I']\n",
    "MidRowHouses = ['D', 'E', 'F']\n",
    "BotRowHouses = ['A', 'B', 'C']\n",
    "\n",
    "CompetitionFieldLayout = [TopRowHouses, MidRowHouses, BotRowHouses ]"
   ]
  },
  {
   "cell_type": "markdown",
   "metadata": {},
   "source": [
    "<font size =3>Say you were tasked with printing the letters of the locations starting at the top left, going from left to right, and top to bottom order. So G->H->I->D->E->F->A->B->C. In order to do this, nested for loops are needed.\n",
    "\n",
    "The syntax for a nested for loop statement in Python programming language is as follows:"
   ]
  },
  {
   "cell_type": "code",
   "execution_count": null,
   "metadata": {},
   "outputs": [],
   "source": [
    "lengthRow = len(CompetitionFieldLayout)\n",
    "lengthCol = len(CompetitionFieldLayout[0])\n",
    "\n",
    "for index1 in range( lengthRow ):\n",
    "    for index2 in range( lengthCol ):\n",
    "        screen.draw_text_center( CompetitionFieldLayout[index1][index2]  )\n",
    "        time.sleep(1.0)\n",
    "\n",
    "screen.draw_text_center( \"Done\" )"
   ]
  },
  {
   "cell_type": "markdown",
   "metadata": {},
   "source": [
    "### Adding an element to a list\n",
    "\n",
    "<font size =3>Run the following cell:"
   ]
  },
  {
   "cell_type": "code",
   "execution_count": 24,
   "metadata": {},
   "outputs": [],
   "source": [
    "screenFaces = [ screen.sad, screen.happy]\n",
    "\n",
    "for e in screenFaces:\n",
    "    e()\n",
    "    time.sleep(2.0)\n",
    "\n",
    "screen.clear_display()"
   ]
  },
  {
   "cell_type": "markdown",
   "metadata": {},
   "source": [
    "<font size =3>In the above cell, a sad and happy face should have appeared on your Zumi's screen.  However, what if you wanted to add a thrid face later on in the program ? \n",
    "\n",
    "The command that will do that very job is the **.append()** command.  The contents of your original list not be lost and the new data will be stored at the last index.  Let's take a look"
   ]
  },
  {
   "cell_type": "code",
   "execution_count": 25,
   "metadata": {},
   "outputs": [],
   "source": [
    "screenFaces.append(screen.angry)"
   ]
  },
  {
   "cell_type": "markdown",
   "metadata": {},
   "source": [
    "<font size =3>The append command added \"screen.angry\" to the end of the list.  Run the following cell to see."
   ]
  },
  {
   "cell_type": "code",
   "execution_count": 26,
   "metadata": {},
   "outputs": [],
   "source": [
    "for e in screenFaces:\n",
    "    e()\n",
    "    time.sleep(2.0)\n",
    "\n",
    "screen.clear_display()"
   ]
  },
  {
   "cell_type": "markdown",
   "metadata": {},
   "source": [
    "### Deleting an element in a list\n",
    "\n",
    "<font size =3> Python has multiple ways in which you can delete an item from your list.  Below are the methods to delete elements from a given list:\n",
    "```\n",
    "* clear()  - deletes all elements from the list\n",
    "* pop()    - deletes the last element of the list Or by index\n",
    "* remove() - deletes an element, provided the elements value\n",
    "* del      - deleted an element by index \n",
    "```\n",
    "For this lesson, **pop()** will be the method used to delete an element.\n",
    "\n",
    "Run the following cell:"
   ]
  },
  {
   "cell_type": "code",
   "execution_count": null,
   "metadata": {},
   "outputs": [],
   "source": [
    "duration   = [1,2,2,1]\n",
    "POWER = 40\n",
    "\n",
    "for t in duration:\n",
    "    zumi.forward(POWER,t)\n",
    "    zumi.turn_left(90)"
   ]
  },
  {
   "cell_type": "markdown",
   "metadata": {},
   "source": [
    "<font size =3>Zumi should have moved in a square like pattern but ended up in roughly the same spot it started.  Let's delete the last element."
   ]
  },
  {
   "cell_type": "code",
   "execution_count": null,
   "metadata": {},
   "outputs": [],
   "source": [
    "duration.pop() # Pop will also return the elements value when it's deleted"
   ]
  },
  {
   "cell_type": "markdown",
   "metadata": {},
   "source": [
    "<font size =3>Run the following code now and pay attention to where zumi stops:"
   ]
  },
  {
   "cell_type": "code",
   "execution_count": null,
   "metadata": {},
   "outputs": [],
   "source": [
    "for t in duration:\n",
    "    zumi.forward(POWER,t)\n",
    "    zumi.turn_left(90)"
   ]
  },
  {
   "cell_type": "markdown",
   "metadata": {},
   "source": [
    "### Changing an element in a list"
   ]
  },
  {
   "cell_type": "markdown",
   "metadata": {},
   "source": [
    "<font size =3>Altering an elements value in a list requires indexing.  The element we wish to change will be on the left hand side of the equal sign with the list name and index value.  The value we desire to change it to will be on the right hand side of the equality symbol.\n",
    "    \n",
    "**List[index] = newValue**\n",
    "<br><br>For example, take the list below and pay attention to the sounds:"
   ]
  },
  {
   "cell_type": "code",
   "execution_count": null,
   "metadata": {},
   "outputs": [],
   "source": [
    "zumiSounds  = [Note.C4, Note.D4, Note.E4, Note.F4]\n",
    "\n",
    "for n in zumiSounds:\n",
    "    zumi.play_note( n )\n",
    "    print( n )"
   ]
  },
  {
   "cell_type": "markdown",
   "metadata": {},
   "source": [
    "<font size =3>The code to change element 1 from \"Note.C4\" to \"Note.F4\" is: "
   ]
  },
  {
   "cell_type": "code",
   "execution_count": null,
   "metadata": {},
   "outputs": [],
   "source": [
    "zumiSounds[0] = Note.F4"
   ]
  },
  {
   "cell_type": "markdown",
   "metadata": {},
   "source": [
    "<font size =3>Lets change the rest of the list so that it is reveresed "
   ]
  },
  {
   "cell_type": "code",
   "execution_count": null,
   "metadata": {},
   "outputs": [],
   "source": [
    "zumiSounds[1] = Note.E4\n",
    "zumiSounds[2] = Note.D4\n",
    "zumiSounds[3] = Note.C4"
   ]
  },
  {
   "cell_type": "markdown",
   "metadata": {},
   "source": [
    "<font size =3>Pay attention to the start sound now:"
   ]
  },
  {
   "cell_type": "code",
   "execution_count": 16,
   "metadata": {},
   "outputs": [
    {
     "name": "stdout",
     "output_type": "stream",
     "text": [
      "25\n",
      "27\n",
      "29\n",
      "30\n"
     ]
    }
   ],
   "source": [
    "for n in zumiSounds:\n",
    "    zumi.play_note( n )\n",
    "    print( n )"
   ]
  }
 ],
 "metadata": {
  "kernelspec": {
   "display_name": "Python 3",
   "language": "python",
   "name": "python3"
  },
  "language_info": {
   "codemirror_mode": {
    "name": "ipython",
    "version": 3
   },
   "file_extension": ".py",
   "mimetype": "text/x-python",
   "name": "python",
   "nbconvert_exporter": "python",
   "pygments_lexer": "ipython3",
   "version": "3.5.3"
  }
 },
 "nbformat": 4,
 "nbformat_minor": 2
}
