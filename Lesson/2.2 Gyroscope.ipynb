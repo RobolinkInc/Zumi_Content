{
 "cells": [
  {
   "cell_type": "markdown",
   "metadata": {
    "deletable": false
   },
   "source": [
    "<img src=\"../Data/images/ZumiHeader.png\" width=700>"
   ]
  },
  {
   "cell_type": "markdown",
   "metadata": {
    "deletable": false
   },
   "source": [
    "# Gyroscope\n",
    "\n",
    "<font size =3> When you made your remote control, Zumi turned left or right using the number of degrees that you gave as a parameter. How does Zumi know how many degrees she is turning? Zumi is equipped with an **MPU**, or motion processing unit, and has two very important sensors that are necessary for driving straight and making accurate turns: the **gyroscope** and **accelerometer**. This lesson is about the gyroscope. You’ll learn about the accelerometer later! </font>\n",
    "\n",
    "\n",
    "## What is a gyroscope?\n",
    "<font size =3> When you think of a gyroscope, you may be thinking of a mounted, spinning wheel that stays balanced in the same orientation, no matter which direction you turn or flip the gyroscope. How? This can be explained by conservation of momentum. While you may not have heard of this term before, you have experienced this. For example, if you have ever spun around on an office chair, you probably noticed you spin faster when you bring your arms and legs in. Since momentum has to be conserved, your speed increases when you bring your mass (arms and legs) closer to you.\n",
    "    \n",
    "<img src=\"../Data/images/gyroscope.jpg\">\n",
    "\n",
    "In electronics, gyroscopes don't look like this. They are tiny chips that also use motion to detect changes in orientation. For robotics, this device that measures rotation speed. Gyroscopes are important because we need rotation speed to calculate how many degrees Zumi has turned in a given amount of time. <br><br>\n",
    "</font>\n",
    "\n",
    "### Import libraries"
   ]
  },
  {
   "cell_type": "code",
   "execution_count": null,
   "metadata": {
    "deletable": false
   },
   "outputs": [],
   "source": [
    "from zumi.zumi import Zumi\n",
    "from zumi.util.screen import Screen\n",
    "import time\n",
    "\n",
    "zumi = Zumi()\n",
    "screen = Screen()"
   ]
  },
  {
   "cell_type": "markdown",
   "metadata": {
    "deletable": false
   },
   "source": [
    "### Axes\n",
    "<font size =3> There is more than one axis that you can use to measure rotational speed. The axis you will be most concrned with is yaw, or measuring turns to the left and right. You can also measure if Zumi is tilting forward and backward or tilting left and right. These three axes are called roll, pitch, and yaw.\n",
    "    \n",
    "<img src=\"../Data/images/zumi_axes_names.png\" width=700>\n",
    "\n",
    "There are three codes below reading all three axes: X, Y, and Z. Run each one and check Zumi's screen to see how the angles are affected. Can you match X, Y, and Z with roll, pitch, and yaw? Make sure you start the code with Zumi flat on the ground before picking her up.</font>\n",
    "\n",
    "#### X-angle"
   ]
  },
  {
   "cell_type": "code",
   "execution_count": null,
   "metadata": {
    "deletable": false
   },
   "outputs": [],
   "source": [
    "zumi.reset_gyro()\n",
    "for i in range(0,50):\n",
    "    current_angle = int(zumi.update_angles()[3])\n",
    "    message = \" X-Angle reading           \"\n",
    "    message = message + str(current_angle)\n",
    "    screen.draw_text(message)\n",
    "    time.sleep(0.05)\n",
    "    \n",
    "print(\"Done\")\n",
    "screen.draw_text_center(\"Done\")"
   ]
  },
  {
   "cell_type": "markdown",
   "metadata": {
    "deletable": false
   },
   "source": [
    "#### Y-angle"
   ]
  },
  {
   "cell_type": "code",
   "execution_count": null,
   "metadata": {
    "deletable": false
   },
   "outputs": [],
   "source": [
    "zumi.reset_gyro()\n",
    "for i in range(0,50):\n",
    "    current_angle = int(zumi.update_angles()[4])\n",
    "    message = \" Y-Angle reading           \"\n",
    "    message = message + str(current_angle)\n",
    "    screen.draw_text(message)\n",
    "    time.sleep(0.05)\n",
    "    \n",
    "print(\"Done\")\n",
    "screen.draw_text_center(\"Done\")"
   ]
  },
  {
   "cell_type": "markdown",
   "metadata": {
    "deletable": false
   },
   "source": [
    "#### Z-angle\n"
   ]
  },
  {
   "cell_type": "code",
   "execution_count": null,
   "metadata": {
    "deletable": false
   },
   "outputs": [],
   "source": [
    "zumi.reset_gyro()\n",
    "for i in range(0,50):\n",
    "    current_angle = int(zumi.update_angles()[2])\n",
    "    message = \" Z-Angle reading           \"\n",
    "    message = message + str(current_angle)\n",
    "    screen.draw_text(message)\n",
    "    time.sleep(0.05)\n",
    "    \n",
    "print(\"Done\")\n",
    "screen.draw_text_center(\"Done\")"
   ]
  },
  {
   "cell_type": "markdown",
   "metadata": {
    "deletable": false
   },
   "source": [
    "<font size =3> Based on the data, could you figure out which directions correspond to X, Y, and Z?\n",
    "\n",
    "<img src=\"../Data/images/zumi_axes.png\" width=600>\n",
    "\n",
    "For the purposes of driving, you will care the most about the Z-axis, or yaw, of Zumi's gyroscope. It's so important that there's a function just for reading the current Z-angle. If at any time you want to know which how many degrees off you are from when you initialized the Zumi object, you can run the following code.  </font>\n"
   ]
  },
  {
   "cell_type": "code",
   "execution_count": null,
   "metadata": {
    "deletable": false
   },
   "outputs": [],
   "source": [
    "for i in range(100):\n",
    "    z_angle = int(zumi.read_z_angle())\n",
    "    message = \" Z Angle reading        \"\n",
    "    message = message + str(z_angle)\n",
    "    screen.draw_text(message)\n",
    "    time.sleep(0.1)"
   ]
  },
  {
   "cell_type": "markdown",
   "metadata": {
    "deletable": false
   },
   "source": [
    "<font size =3> If the angles seem like they are all over the place, you may need to do a recalibration. Sometimes you may need to manually reset the gyro angles.</font>"
   ]
  },
  {
   "cell_type": "code",
   "execution_count": null,
   "metadata": {
    "deletable": false
   },
   "outputs": [],
   "source": [
    "zumi.mpu.calibrate_MPU()\n",
    "\n",
    "# Reset the angles to zero them out\n",
    "zumi.angle_list = [0,0,0,0,0,0,0,0,0,0]\n",
    "\n",
    "# Try the code again\n",
    "for i in range(100):\n",
    "    z_angle = int(zumi.read_z_angle())\n",
    "    message = \" Z Angle reading        \"\n",
    "    message = message + str(z_angle)\n",
    "    screen.draw_text(message)\n",
    "    time.sleep(0.1)"
   ]
  },
  {
   "cell_type": "markdown",
   "metadata": {},
   "source": [
    "<hr>\n",
    "\n",
    "# Extension Activities <br> \n",
    "\n",
    "<img src=\"../Data/images/math_extension.jpg\" width=70 align=\"left\">\n",
    "\n",
    "### Human gyroscope <br> <br>\n",
    "<font size=3> Stand facing front, close your eyes, and rotate to the left or to the right. Next, guess how many degrees you turned before opening you eyes and seeing how accurate you were with a protractor. How many degrees on average are you off? If you are in groups, have another person tell you how many degrees they want you to turn. Can you devise a way to make this accurate using rotational speed? </font>\n"
   ]
  }
 ],
 "metadata": {
  "kernelspec": {
   "display_name": "Python 3",
   "language": "python",
   "name": "python3"
  },
  "language_info": {
   "codemirror_mode": {
    "name": "ipython",
    "version": 3
   },
   "file_extension": ".py",
   "mimetype": "text/x-python",
   "name": "python",
   "nbconvert_exporter": "python",
   "pygments_lexer": "ipython3",
   "version": "3.5.3"
  },
  "pycharm": {
   "stem_cell": {
    "cell_type": "raw",
    "metadata": {
     "collapsed": false
    },
    "source": []
   }
  }
 },
 "nbformat": 4,
 "nbformat_minor": 2
}
