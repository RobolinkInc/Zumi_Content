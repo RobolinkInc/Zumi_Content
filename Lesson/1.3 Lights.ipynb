{
 "cells": [
  {
   "cell_type": "markdown",
   "metadata": {
    "deletable": false
   },
   "source": [
    "<img src=\"../Data/images/ZumiHeader.png\" width=700>"
   ]
  },
  {
   "cell_type": "markdown",
   "metadata": {
    "deletable": false
   },
   "source": [
    "# Lights\n",
    "\n",
    "<font size =3> Like every car should have, Zumi has headlights and brake lights that you can program. On a circuit board, these lights are known as **LEDs**. </font>\n",
    "\n",
    "### Import libraries"
   ]
  },
  {
   "cell_type": "code",
   "execution_count": 1,
   "metadata": {
    "deletable": false
   },
   "outputs": [
    {
     "name": "stdout",
     "output_type": "stream",
     "text": [
      " Starting Zumi \n",
      "Pi Zero I2C is available\n",
      "Gyro offset file already exists.\n",
      "Verified Pi Zero is the same\n",
      "Gyroscope previously calibrated\n"
     ]
    }
   ],
   "source": [
    "from zumi.zumi import Zumi\n",
    "import time\n",
    "\n",
    "zumi = Zumi()"
   ]
  },
  {
   "cell_type": "markdown",
   "metadata": {
    "deletable": false
   },
   "source": [
    "## What is an LED?\n",
    "\n",
    "<font size =3> LED stands for “light-emitting diode”. A diode is an electronic device that allows an electronic current to flow in only one direction. LEDs are replacing traditional incandescent light bulbs because they are more efficient. </font>\n",
    "\n",
    "### Zumi's LEDs\n",
    "<font size =3>Zumi has 8 LEDs on the board, but you can't program all of them. There are three LEDs on Zumi's left side that indicate the charging state, and one white LED on Zumi's right side that indicates the Pi started successfully. There are two LEDs at the front of the board for headlights. Don't get them confused with the Infrared (IR) sensors! You will learn about those later. The headlights are actually hidden by the shell. </font>\n",
    "\n",
    "<img src=\"../Data/images/pcb_front_LEDs.JPG\" width=500>\n",
    "\n",
    "<font size =3>The back LEDs are much easier to see. They are the red ones on the back of Zumi. </font>\n",
    "\n",
    "<img src=\"../Data/images/zumi_back_LEDs.jpg\">\n",
    "\n",
    "\n",
    "## Zumi LED Functions\n",
    "\n",
    "<font size =3> In addition to turning the headlights and brake lights on and off, you can also use turn signals! \n",
    "Here are all of the functions available for you to use:\n",
    "\n",
    "```\n",
    "* all_lights_on()\n",
    "\n",
    "* all_lights_off()\n",
    "\n",
    "* headlights_on()\n",
    "\n",
    "* headlights_off()\n",
    "       \n",
    "* brake_lights_on()\n",
    "       \n",
    "* brake_lights_off()\n",
    "        \n",
    "* hazard_lights_on()\n",
    "        \n",
    "* hazard_lights_off()\n",
    "\n",
    "* signal_left_on()\n",
    "       \n",
    "* signal_left_off()\n",
    "       \n",
    "* signal_right_on()\n",
    "       \n",
    "* signal_right_off()\n",
    "```     \n",
    "\n",
    "Now try incorporating turn signals into your remote control code or writing some new code.\n",
    "Here’s an example that you can test out. Make sure you have a lot of room.\n",
    "</font>"
   ]
  },
  {
   "cell_type": "code",
   "execution_count": 2,
   "metadata": {
    "deletable": false
   },
   "outputs": [],
   "source": [
    "zumi.signal_right_on()\n",
    "zumi.forward(duration=2)\n",
    "zumi.turn_right()\n",
    "zumi.signal_right_off()\n",
    "zumi.forward()"
   ]
  }
 ],
 "metadata": {
  "kernelspec": {
   "display_name": "Python 3",
   "language": "python",
   "name": "python3"
  },
  "language_info": {
   "codemirror_mode": {
    "name": "ipython",
    "version": 3
   },
   "file_extension": ".py",
   "mimetype": "text/x-python",
   "name": "python",
   "nbconvert_exporter": "python",
   "pygments_lexer": "ipython3",
   "version": "3.5.3"
  },
  "pycharm": {
   "stem_cell": {
    "cell_type": "raw",
    "metadata": {
     "collapsed": false
    },
    "source": []
   }
  }
 },
 "nbformat": 4,
 "nbformat_minor": 2
}
