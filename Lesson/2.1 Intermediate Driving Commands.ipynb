{
 "cells": [
  {
   "cell_type": "markdown",
   "metadata": {
    "deletable": false
   },
   "source": [
    "<img src=\"../Data/images/ZumiHeader.png\" width=700>"
   ]
  },
  {
   "cell_type": "markdown",
   "metadata": {
    "deletable": false
   },
   "source": [
    "# Intermediate Driving Commands\n",
    "\n",
    "<font size =3> You know basic drive commands, but there are many driving maneuvers that cars need to perform other than go forward, reverse, left, and right. The Zumi library has many of these shapes and other commands programmed for you so that Zumi can operate just like a real self-driving car! </font>\n",
    "\n",
    "\n",
    "### Import libraries "
   ]
  },
  {
   "cell_type": "code",
   "execution_count": null,
   "metadata": {
    "deletable": false
   },
   "outputs": [],
   "source": [
    "from zumi.zumi import Zumi\n",
    "import time\n",
    "zumi = Zumi()"
   ]
  },
  {
   "cell_type": "markdown",
   "metadata": {
    "deletable": false
   },
   "source": [
    "### Drive functions\n",
    "\n",
    "<font size =3> Remember when you learned about <font face=\"Courier\">forward()</font>? Even though it set Zumi to drive at a set speed of 40 for one second in the current direction, you could also change these values. The function all listed below are all listed with their default parameters. If you call a function by name, such as <font face=\"Courier\">right_u_turn()</font>, Zumi will do the u-turn with the defined parameters. However, just like with <font face=\"Courier\">forward()</font>, you can change these to whatever values you would like. </font>\n",
    "    \n",
    "<hr>\n",
    "\n",
    "<font size =3>\n",
    "\n",
    "* <font face=\"Courier\">right_u_turn(speed=30, step=4, delay=0.02) </font>\n",
    "<ul>\n",
    "    <li>speed: the forward speed you want Zumi to drive at</li>\n",
    "    <li>step: the angle step size as it goes from (0 - 180)</li>\n",
    "    <li>delay: the delay between each angle step</li>\n",
    "</ul>\n",
    "\n",
    "<img src=\"../Data/images/zumi_right_u_turn.jpg\" width=300>\n",
    "\n",
    "<br>\n",
    "\n",
    "* <font face=\"Courier\">left_u_turn(speed=30, step=4, delay=0.02)</font>\n",
    "<ul>\n",
    "    <li>speed: the forward speed you want Zumi to drive at</li>\n",
    "    <li>step: the angle step size as it goes from (0 - 180)</li>\n",
    "    <li>delay: the delay between each angle step</li>\n",
    "</ul>\n",
    "\n",
    "<img src=\"../Data/images/zumi_left_u_turn.jpg\" width=250>\n",
    "\n",
    "<br>\n",
    "\n",
    "* <font face=\"Courier\">circle(speed=30, step=2, direction=1, delay=0.02)</font>\n",
    "<ul>\n",
    "    <li>speed: the forward speed you want Zumi to drive at</li>\n",
    "    <li>step: the angle step size as it goes from (0 - 360)</li>\n",
    "    <li>direction: -1 for clockwise , +1 for counterclockwise</li>\n",
    "    <li>delay: the delay between each angle step</li>\n",
    "</ul>\n",
    "\n",
    "<img src=\"../Data/images/zumi_circle.jpg\" width=600>\n",
    "\n",
    "<br>\n",
    "\n",
    "* <font face=\"Courier\">right_circle(speed=30, step=2)</font>\n",
    "<ul>\n",
    "    <li>speed: the forward speed you want Zumi to drive at</li>\n",
    "    <li>step: the angle step size as it goes from (0 - 360)</li>\n",
    "</ul>\n",
    "\n",
    "<img src=\"../Data/images/zumi_right_circle.jpg\" width=600>\n",
    "\n",
    "<br>\n",
    "\n",
    "* <font face=\"Courier\">left_circle(speed=30, step=2)</font>\n",
    "<ul>\n",
    "    <li>speed: the forward speed you want Zumi to drive at</li>\n",
    "    <li>step: the angle step size as it goes from (0 - 360)</li>\n",
    "</ul>\n",
    "\n",
    "<img src=\"../Data/images/zumi_left_circle.jpg\" width=600>\n",
    "\n",
    "<br>\n",
    "\n",
    "* <font face=\"Courier\">square(speed=40, seconds=1, direction=1)</font>\n",
    "<ul>\n",
    "    <li>speed: the forward speed you want Zumi to drive at</li>\n",
    "    <li>seconds: the duration Zumi will drive for each side</li>\n",
    "    <li>direction: -1 for clockwise , +1 for counterclockwise</li>     \n",
    "</ul>\n",
    "\n",
    "<img src=\"../Data/images/zumi_square.jpg\" width=700>\n",
    "\n",
    "<br>\n",
    "\n",
    "* <font face=\"Courier\">square_right(speed=40, seconds=1.0)</font>\n",
    "<ul>\n",
    "    <li>speed: the forward speed you want Zumi to drive at</li>\n",
    "    <li>seconds: the duration Zumi will drive for each side</li>\n",
    "</ul>\n",
    "\n",
    "<img src=\"../Data/images/zumi_right_square.jpg\" width=300>\n",
    "\n",
    "<br>\n",
    "\n",
    "* <font face=\"Courier\">square_left(speed=40, seconds=1.0)</font>\n",
    "    <ul>\n",
    "    <li>speed: the forward speed you want Zumi to drive at</li>\n",
    "    <li>seconds: the duration Zumi will drive for each side</li>\n",
    "</ul>\n",
    "\n",
    "<img src=\"../Data/images/zumi_left_square.jpg\" width=300>\n",
    "\n",
    "<br>\n",
    "\n",
    "* <font face=\"Courier\">j_turn(speed=100, step=4, delay=0.005)</font>\n",
    "<ul>\n",
    "    <li>speed: the forward speed you want Zumi to drive at</li>\n",
    "    <li>step: the angle step size</li>\n",
    "    <li>delay: the delay between each angle step</li>\n",
    "</ul>\n",
    "\n",
    "<img src=\"../Data/images/zumi_j_turn.jpg\" width=300>\n",
    "\n",
    "<br>\n",
    "\n",
    "* <font face=\"Courier\">figure_8(speed=30, step=3, delay=0.02)</font>\n",
    "<ul>\n",
    "    <li>speed: the forward speed you want Zumi to drive at</li>\n",
    "    <li>step: the angle step size as it goes from (0 - 360)</li>\n",
    "    <li>delay: the delay between each angle step</li>\n",
    "</ul>\n",
    "\n",
    "<img src=\"../Data/images/zumi_figure_8.jpg\" width=700>\n",
    "\n",
    "<br>\n",
    "\n",
    "* <font face=\"Courier\">parallel_park(speed=15, step=1, delay=0.01)</font>\n",
    "<ul>\n",
    "    <li>speed: the forward speed you want Zumi to drive at</li>\n",
    "    <li>step: the angle step size as it turns</li>\n",
    "    <li>delay: the delay between each angle step</li>\n",
    "</ul>\n",
    "\n",
    "<img src=\"../Data/images/zumi_parallel_park.jpg\" width=700>\n",
    "\n",
    "<br>\n",
    "\n",
    "* <font face=\"Courier\">rectangle(speed=40, seconds=1.0, direction=1, ratio=2)</font>\n",
    "<ul>\n",
    "    <li>speed: the forward speed you want Zumi to drive at</li>\n",
    "    <li>seconds: the duration Zumi will drive for the shorter side</li>\n",
    "    <li>direction: -1 for clockwise , +1 for counterclockwise</li>\n",
    "    <li>ratio: the ratio of the longer side to the shorter side</li>\n",
    "</ul>\n",
    "\n",
    "<img src=\"../Data/images/zumi_rectangle.jpg\" width=700>\n",
    "\n",
    "<br>\n",
    "\n",
    "* <font face=\"Courier\">triangle(speed=40, seconds=1.5, direction=1)</font>\n",
    "<ul>\n",
    "    <li>speed: the forward speed you want Zumi to drive at</li>\n",
    "    <li>seconds: the duration Zumi will drive for each side</li>\n",
    "    <li>direction: -1 for clockwise , +1 for counterclockwise</li>      \n",
    "</ul>\n",
    "\n",
    "<img src=\"../Data/images/zumi_triangle.jpg\" width=700>\n",
    "\n",
    "<br>\n",
    "         \n",
    "Let's see an example of these in action! </font>"
   ]
  },
  {
   "cell_type": "code",
   "execution_count": null,
   "metadata": {},
   "outputs": [],
   "source": [
    "zumi.figure_8() # Runs figure 8 at default values\n",
    "time.sleep(1)\n",
    "zumi.figure_8(speed = 50) # Changing one value\n",
    "time.sleep(1)\n",
    "zumi.figure_8(step=4, delay=0.03) # Changing two values\n",
    "time.sleep(1)\n",
    "zumi.figure_8(speed=40, step=4, delay=0.03) # Changing all three values"
   ]
  },
  {
   "cell_type": "markdown",
   "metadata": {},
   "source": [
    "<font size =3> Test out some of these drive functions in the cell below. Just know that as you change the parameters, you may need more space. We recommend that you drive Zumi on the floor and keep an eye on it while it’s driving. </font>"
   ]
  },
  {
   "cell_type": "code",
   "execution_count": null,
   "metadata": {
    "deletable": false
   },
   "outputs": [],
   "source": [
    "\n",
    "# Write code here!"
   ]
  }
 ],
 "metadata": {
  "kernelspec": {
   "display_name": "Python 3",
   "language": "python",
   "name": "python3"
  },
  "language_info": {
   "codemirror_mode": {
    "name": "ipython",
    "version": 3
   },
   "file_extension": ".py",
   "mimetype": "text/x-python",
   "name": "python",
   "nbconvert_exporter": "python",
   "pygments_lexer": "ipython3",
   "version": "3.7.0"
  }
 },
 "nbformat": 4,
 "nbformat_minor": 2
}
