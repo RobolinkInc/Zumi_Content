{
 "cells": [
  {
   "cell_type": "markdown",
   "metadata": {
    "deletable": false
   },
   "source": [
    "<img src=\"../Data/images/ZumiHeader.png\" width=700>"
   ]
  },
  {
   "cell_type": "markdown",
   "metadata": {
    "deletable": false
   },
   "source": [
    "# Intermediate Driving Commands\n",
    "\n",
    "<font size =3> In the last lesson, you learned how to use for loops to make your own shapes. The Zumi library has many of these shapes and other maneuvers programmed for you so that Zumi can operate just like a real self-driving car! </font>\n",
    "\n",
    "\n",
    "### Import libraries "
   ]
  },
  {
   "cell_type": "code",
   "execution_count": null,
   "metadata": {
    "deletable": false
   },
   "outputs": [],
   "source": [
    "from zumi.zumi import Zumi\n",
    "import time\n",
    "zumi = Zumi()"
   ]
  },
  {
   "cell_type": "markdown",
   "metadata": {
    "deletable": false
   },
   "source": [
    "### Drive functions\n",
    "\n",
    "<font size =3> Remember when you learned about ```forward()```? Even though it set Zumi to drive at a set speed of 40 for one second in the current direction, you could also change these values. The function all listed below are all listed with their default parameters. If you call a function by name, such as ```right_u_turn()```, Zumi will do the u-turn with the defined parameters. However, just like with ```forward()```, you can change these to whatever values you would like. \n",
    "\n",
    "* ```right_u_turn(speed=30, step=4, delay=0.02)```\n",
    "        speed: the forward speed you want Zumi to drive at\n",
    "        step: the angle step size as it goes from (0 - 180)\n",
    "        delay: the delay between each angle step\n",
    "\n",
    "* ```left_u_turn(speed=30, step=4, delay=0.02)```\n",
    "        speed: the forward speed you want Zumi to drive at\n",
    "        step: the angle step size as it goes from (0 - 180)\n",
    "        delay: the delay between each angle step\n",
    "\n",
    "* ```circle(speed=30, step=2, direction=1, delay=0.02)```\n",
    "        speed: the forward speed you want Zumi to drive at\n",
    "        step: the angle step size as it goes from (0 - 360)\n",
    "        direction: -1 for clockwise , +1 for counterclockwise\n",
    "        delay: the delay between each angle step\n",
    "\n",
    "* ```right_circle(speed=30, step=2)```\n",
    "        speed: the forward speed you want Zumi to drive at\n",
    "        step: the angle step size as it goes from (0 - 360)\n",
    "\n",
    "* ```left_circle(speed=30, step=2)```\n",
    "        speed: the forward speed you want Zumi to drive at\n",
    "        step: the angle step size as it goes from (0 - 360)\n",
    "\n",
    "* ```square(speed=40, seconds=1, direction=1)```\n",
    "        speed: the forward speed you want Zumi to drive at\n",
    "        seconds: the duration Zumi will drive for each side\n",
    "        direction: -1 for clockwise , +1 for counterclockwise      \n",
    "\n",
    "* ```square_right(speed=40, seconds=1.0)```\n",
    "        speed: the forward speed you want Zumi to drive at\n",
    "        seconds: the duration Zumi will drive for each side\n",
    "\n",
    "* ```square_left(speed=40, seconds=1.0)```\n",
    "        speed: the forward speed you want Zumi to drive at\n",
    "        seconds: the duration Zumi will drive for each side\n",
    "\n",
    "* ```j_turn(speed=100, step=4, delay=0.005)```\n",
    "         speed: the forward speed you want Zumi to drive at\n",
    "         step: the angle step size\n",
    "         delay: the delay between each angle step\n",
    "\n",
    "* ```figure_8(speed=30, step=3, delay=0.02)```\n",
    "         speed: the forward speed you want Zumi to drive at\n",
    "         step: the angle step size as it goes from (0 - 360)\n",
    "         delay: the delay between each angle step\n",
    "\n",
    "* ```parallel_park(speed=15, step=1, delay=0.01)```\n",
    "        speed: the forward speed you want Zumi to drive at\n",
    "        step: the angle step size as it turns\n",
    "        delay: the delay between each angle step\n",
    "\n",
    "* ```rectangle(speed=40, seconds=1.0, direction=1, ratio=2)```\n",
    "        speed: the forward speed you want Zumi to drive at\n",
    "        seconds: the duration Zumi will drive for the shorter side\n",
    "        direction: -1 for clockwise , +1 for counterclockwise \n",
    "        ratio: the ratio of the longer side to the shorter side\n",
    "         \n",
    "\n",
    "* ```triangle(speed=40, seconds=1.5, direction=1)```\n",
    "        speed: the forward speed you want Zumi to drive at\n",
    "        seconds: the duration Zumi will drive for each side\n",
    "        direction: -1 for clockwise , +1 for counterclockwise      \n",
    "         \n",
    "         \n",
    "Let's see an example of these in action! </font>"
   ]
  },
  {
   "cell_type": "code",
   "execution_count": null,
   "metadata": {},
   "outputs": [],
   "source": [
    "zumi.figure_8() # Runs figure 8 at default values\n",
    "time.sleep(1)\n",
    "zumi.figure_8(speed = 50) # Changing one value\n",
    "time.sleep(1)\n",
    "zumi.figure_8(step=4, delay=0.03) # Changing two values\n",
    "time.sleep(1)\n",
    "zumi.figure_8(speed=40, step=4, delay=0.03) # Changing all three values"
   ]
  },
  {
   "cell_type": "markdown",
   "metadata": {},
   "source": [
    "<font size =3> Test out some of these drive functions in the cell below. Just know that as you change the parameters, you may need more space. We recommend that you drive Zumi on the floor and keep an eye on it while it’s driving. </font>"
   ]
  },
  {
   "cell_type": "code",
   "execution_count": null,
   "metadata": {
    "deletable": false
   },
   "outputs": [],
   "source": [
    "\n",
    "# Write code here!"
   ]
  }
 ],
 "metadata": {
  "kernelspec": {
   "display_name": "Python 3",
   "language": "python",
   "name": "python3"
  },
  "language_info": {
   "codemirror_mode": {
    "name": "ipython",
    "version": 3
   },
   "file_extension": ".py",
   "mimetype": "text/x-python",
   "name": "python",
   "nbconvert_exporter": "python",
   "pygments_lexer": "ipython3",
   "version": "3.7.4"
  }
 },
 "nbformat": 4,
 "nbformat_minor": 2
}
