{
 "cells": [
  {
   "cell_type": "markdown",
   "metadata": {},
   "source": [
    "<img src=\"../Data/images/ZumiHeader.png\" width=700>"
   ]
  },
  {
   "cell_type": "markdown",
   "metadata": {},
   "source": [
    "# Simple ML: Regression\n",
    "\n",
    "<font size=3>When driving Zumi forward, you can only give Zumi commands in terms of duration and speed. What if you measured that the distance to your target is 10.5 inches? How many seconds should you drive (and at which speed) to arrive at your target? You would need to know the relationship between duration and distance traveled. In this lesson, you will collect data from your Zumi and see how you can use basic machine learning to predict the time needed to travel a specified distance </font>\n",
    "\n",
    "## Import libraries"
   ]
  },
  {
   "cell_type": "markdown",
   "metadata": {},
   "source": [
    "<font size=3>Import the Zumi library. You will also need to import <font face=\"Courier\">matplotlib</font> which will handle all of our graphs.</font>"
   ]
  },
  {
   "cell_type": "code",
   "execution_count": null,
   "metadata": {},
   "outputs": [],
   "source": [
    "from zumi.zumi import Zumi\n",
    "import matplotlib.pyplot as plt\n",
    "zumi = Zumi()"
   ]
  },
  {
   "cell_type": "markdown",
   "metadata": {},
   "source": [
    "## How do we plot data?\n",
    "<font size=3> When we plot data, we have a list of ordered pairs, or a table of x and y values, that we plot on a graph. In a math class, you may have a table like this:\n",
    "    \n",
    "<table style=\"width:50%\">\n",
    "  <tr>\n",
    "    <th>Temperature (x)</th>\n",
    "    <th>Ice cream sales $ (y)</th> \n",
    "  </tr>\n",
    "    <tr>\n",
    "    <td>60</td>\n",
    "    <td>15</td>\n",
    "  </tr>\n",
    "  <tr>\n",
    "    <td>62</td>\n",
    "    <td>20</td>\n",
    "  </tr>\n",
    "     <tr>\n",
    "    <td>64</td>\n",
    "    <td>22</td>\n",
    "  </tr>\n",
    "     <tr>\n",
    "    <td>65</td>\n",
    "    <td>26</td>\n",
    "  </tr>\n",
    "     <tr>\n",
    "    <td>70</td>\n",
    "    <td>34</td>\n",
    "  </tr>\n",
    "    <tr>\n",
    "    <td>74</td>\n",
    "    <td>39</td>\n",
    "  </tr>\n",
    "    <tr>\n",
    "    <td>82</td>\n",
    "    <td>59</td>\n",
    "  </tr>\n",
    " \n",
    "</table>\n",
    "\n",
    "<br>\n",
    "\n",
    "Then you would plot the ordered pairs onto a graph and find the relationship between these two sets of data by drawing a line or curve that best fits the data. In this case, the relationship between temperature and ice cream sales is linear. You can use the plot to predict the sales of ice cream based on the temperature! \n",
    "\n",
    "<img src=\"../Data/images/best_fit_example.png\" width=500>\n",
    "\n",
    "While in math class you might make a table, how can we tell the computer we have two sets of data we want to plot? In Python you can use **lists**. Lists are data structures that can hold lots of data. They look like a variable but they are initialized with brackets <font face=\"Courier\"> []</font>.  You would use lists like the ones below: <br><br>\n",
    "<font face=\"Courier\">\n",
    "temperature = [60,62,64,65,70,74,82] <br>\n",
    "ice_cream_sales = [15,20,22,26,34,39,59] <br>\n",
    "</font>\n",
    "\n",
    "This is how we are going to save our data that we take when we measure distances with Zumi. Get your ruler ready!<br> <br>**Note**: Zumi will likely reach a maximum driving distance of about 15 inches. You can make a paper ruler that goes up to ~15 inches or put two rulers together.</font>\n",
    "\n",
    "## Code\n",
    "\n",
    "### List initializiation\n",
    "\n",
    "<font size=3>Instead of temperature and ice cream, we are going to have one list to hold the independent variable (duration Zumi drove in seconds) and one for the dependent variable (distance Zumi drove). Use empty brackets to indicate that the list is empty at the start of your program.</font> "
   ]
  },
  {
   "cell_type": "code",
   "execution_count": null,
   "metadata": {},
   "outputs": [],
   "source": [
    "duration = []\n",
    "distance = []\n"
   ]
  },
  {
   "cell_type": "markdown",
   "metadata": {},
   "source": [
    "### List operations\n",
    "\n",
    "<font size=3> Here is a list with three numbers. Run the code to see the output. </font>"
   ]
  },
  {
   "cell_type": "code",
   "execution_count": null,
   "metadata": {},
   "outputs": [],
   "source": [
    "numbers = [5,2,8]\n",
    "print(numbers)"
   ]
  },
  {
   "cell_type": "markdown",
   "metadata": {},
   "source": [
    "<font size=3> To add data to your lists, there is a list opperation called <font face=\"Courier\"> append() </font> To use the function, <font face=\"Courier\"> append() </font> is called as a method of the list name. Here is how you append a number to the list. Call <font face=\"Courier\"> append() </font> with the name of the list you are modifying:\n",
    "    \n",
    "   <font face=\"Courier\"> numbers.append(78) </font> <br>\n",
    "\n",
    "Now append any number you would like to the list and reprint the list to see the added value: </font>"
   ]
  },
  {
   "cell_type": "code",
   "execution_count": null,
   "metadata": {},
   "outputs": [],
   "source": [
    "#TODO Append any number to the list then print the list to see the changes"
   ]
  },
  {
   "cell_type": "markdown",
   "metadata": {},
   "source": [
    "## Data collection\n",
    "<font size=3>Now you will collect data of Zuma driving from a duration 0.5 to 2.0 seconds in intervals of 0.1 seconds. To help automate the process, there is a while loop that will continue until time is 2.1 seconds. Set Zumi up parallel to a ruler and take your data. For consistency, we recommend lining up the 0 inches mark with the center of Zumi's wheel. Make sure to input everything correctly! If you finish and want to start over, clear the lists first by running the cell with the empty lists.</font>"
   ]
  },
  {
   "cell_type": "code",
   "execution_count": null,
   "metadata": {},
   "outputs": [],
   "source": [
    "time = 0.5 # Starting time\n",
    "while time < 2.1: # While driving time is less than 2.1 seconds\n",
    "    go_again = input(\"Line up Zumi and press 'enter' to run: \") # Press enter to continue\n",
    "    zumi.forward(duration=time) # Drive forward for that many seconds\n",
    "    duration.append(time) # Add this data point to our indepedent variable list\n",
    "    dist = input(\"Input distance in inches for \" + str(time) + \" seconds: \") # Look at your rule and input distance\n",
    "    distance.append(float(dist)) # Add this data point to the dependent variable list\n",
    "    time += 0.1 # Make sure that next time Zumi drives 0.1 seconds longer than the previous time\n",
    "\n",
    "    "
   ]
  },
  {
   "cell_type": "markdown",
   "metadata": {},
   "source": [
    "<font size=3>Matplotlib has a built-in function to plot data given two lists. Run the code below to see the graph.</font>"
   ]
  },
  {
   "cell_type": "code",
   "execution_count": null,
   "metadata": {},
   "outputs": [],
   "source": [
    "plt.plot(duration,distance, 'ms')\n",
    "plt.show()"
   ]
  },
  {
   "cell_type": "markdown",
   "metadata": {},
   "source": [
    "<font size=3>Now try to draw a imaginary line that represents this data. Remember that the equation for a line is <font face=\"Courier\">y=mx+b</font>. What would be the slope? The y-intercept? Below there is a function that calculates these values for you given any set of x,y data. Run the code to get the equation of the line for your data.</font>"
   ]
  },
  {
   "cell_type": "code",
   "execution_count": null,
   "metadata": {},
   "outputs": [],
   "source": [
    "def best_fit(X, Y):\n",
    "\n",
    "    xbar = sum(X)/len(X)\n",
    "    ybar = sum(Y)/len(Y)\n",
    "    n = len(X) # or len(Y)\n",
    "\n",
    "    numer = sum([xi*yi for xi,yi in zip(X, Y)]) - n * xbar * ybar\n",
    "    denum = sum([xi**2 for xi in X]) - n * xbar**2\n",
    "\n",
    "    b = numer / denum\n",
    "    a = ybar - b * xbar\n",
    "\n",
    "    print('Best fit line: y = {:.2f} + {:.2f}x'.format(a, b))\n",
    "\n",
    "    return a, b\n",
    "\n",
    "intercept, slope = best_fit(duration,distance)\n",
    "\n"
   ]
  },
  {
   "cell_type": "markdown",
   "metadata": {},
   "source": [
    "<font size=3> Great! Now you have an equation, but let's see what it looks like against the data points:"
   ]
  },
  {
   "cell_type": "code",
   "execution_count": null,
   "metadata": {},
   "outputs": [],
   "source": [
    "approx = []\n",
    "for data in duration: # For each time (0.5, 0.6, 0.7, etc)...\n",
    "    approx.append(intercept + (slope*data)) # Plot the predicted value using the line of best fit\n",
    "\n",
    "plt.plot(duration,distance, 'ms') # Original data points\n",
    "plt.plot(duration,approx) # Line of best fit\n",
    "plt.show() # Show graph                  \n",
    "\n",
    "    "
   ]
  },
  {
   "cell_type": "markdown",
   "metadata": {},
   "source": [
    "<font size =3> Now you have a way to estimate distance traveled from seconds driven. You will need a new function <font face=\"Courier\">move_inches()</font> to make the conversion. Given the distance you want to drive, you can solve for the variable <font face=\"Courier\"> duration </font> by rearranging the equation of the line.\n",
    "    \n",
    "<img src=\"../Data/images/algebra.png\" width=500>\n",
    "\n",
    "Remember that \"x\" is a variable for the number of seconds you need to drive and \"y\" is the distance traveled in *inches*."
   ]
  },
  {
   "cell_type": "code",
   "execution_count": null,
   "metadata": {},
   "outputs": [],
   "source": [
    "def move_inches(distance):\n",
    "    # Write the code to convert the distance to seconds you need to drive\n",
    "    # Then call the forward() function with the right duratio\n",
    "    "
   ]
  },
  {
   "cell_type": "markdown",
   "metadata": {},
   "source": [
    "<font size=3> Now you have a new function that you can call to drive a particular distance in inches. This function can work for any Zumi, but keep in mind that the slope and y-intercept will vary for each Zumi,so you should retake your data if you ever switch your motors. Get your ruler out and try driving 5 inches! </font>"
   ]
  },
  {
   "cell_type": "code",
   "execution_count": null,
   "metadata": {},
   "outputs": [],
   "source": [
    "# Check your function with this code. Did Zumi drive 5 inches?\n",
    "move_inches(5)"
   ]
  },
  {
   "cell_type": "markdown",
   "metadata": {},
   "source": [
    "## How is this related to machine learning?\n",
    "<font size=3> Given some data points, Zumi was able to find patterns between the distance driven and the seconds driven. In this case, we used a known mathematical formula. However, where are many more variables and a lot more data, that simple equation wouldn't work. An algorithm would have to find patterns in the data by testing different patterns in order to find \"the best fit\". The algorithm would try and reduce error with every attempt. You will see more examples of this in more advanced machine learning lessons.\n",
    "    \n",
    "### Challenges\n",
    "* Use the equation you generated to predict distances for 3.0, 4.0, 5.0, and 6.0 seconds. Next, have Zumi drive for those times and see if your prediction was correct!\n",
    "* Make your own function called move_centimeters that takes in a number for how many centimeters you want to drive. Remember how many centimeters are in an inch?\n",
    "* Try and navigate an obstacle or drive in complicated patterns using distances instead of seconds"
   ]
  }
 ],
 "metadata": {
  "kernelspec": {
   "display_name": "Python 3",
   "language": "python",
   "name": "python3"
  },
  "language_info": {
   "codemirror_mode": {
    "name": "ipython",
    "version": 3
   },
   "file_extension": ".py",
   "mimetype": "text/x-python",
   "name": "python",
   "nbconvert_exporter": "python",
   "pygments_lexer": "ipython3",
   "version": "3.5.3"
  }
 },
 "nbformat": 4,
 "nbformat_minor": 2
}
