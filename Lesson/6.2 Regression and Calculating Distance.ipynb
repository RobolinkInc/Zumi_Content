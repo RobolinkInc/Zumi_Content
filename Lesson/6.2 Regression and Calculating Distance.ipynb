{
 "cells": [
  {
   "cell_type": "markdown",
   "metadata": {},
   "source": [
    "<img src=\"../Data/images/ZumiHeader.png\" width=700>"
   ]
  },
  {
   "cell_type": "markdown",
   "metadata": {},
   "source": [
    "# Simple Machine Learning: Regression\n",
    "\n",
    "<font size=3> <span style=\"color:red\">**Note!**</span> You will need the Regression Training Wizard found in the \"Explore\" page.\n",
    "\n",
    "<font size=3>If you want Zumi to drive forward, you can give two commands: duration (time) and speed. But what if you know that the distance to your target is 10.5 inches? How many seconds would you need to drive, and at what speed, to reach that target? For a situation like this, you would need to know the relationship between duration and the distance traveled.<br>\n",
    "In this lesson, you will collect data from your Zumi and see how you can use basic machine learning to predict the time needed to travel for a specified distance.</font>\n",
    "\n",
    "### Import libraries\n",
    "<font size=3>Import the Zumi library.</font>"
   ]
  },
  {
   "cell_type": "code",
   "execution_count": null,
   "metadata": {},
   "outputs": [],
   "source": [
    "from zumi.zumi import Zumi\n",
    "zumi = Zumi()"
   ]
  },
  {
   "cell_type": "markdown",
   "metadata": {},
   "source": [
    "## How do I plot data?\n",
    "<font size=3> When you plot data, you have a list of ordered pairs, or a table of x and y values, that you can then plot on a graph. In math class, that table might look like this:\n",
    "    \n",
    "<table style=\"width:50%\">\n",
    "  <tr>\n",
    "    <th>Temperature (x)</th>\n",
    "    <th>Ice cream sales (y)</th> \n",
    "  </tr>\n",
    "    <tr>\n",
    "    <td>60</td>\n",
    "    <td>15</td>\n",
    "  </tr>\n",
    "  <tr>\n",
    "    <td>62</td>\n",
    "    <td>20</td>\n",
    "  </tr>\n",
    "     <tr>\n",
    "    <td>64</td>\n",
    "    <td>22</td>\n",
    "  </tr>\n",
    "     <tr>\n",
    "    <td>65</td>\n",
    "    <td>26</td>\n",
    "  </tr>\n",
    "     <tr>\n",
    "    <td>70</td>\n",
    "    <td>34</td>\n",
    "  </tr>\n",
    "    <tr>\n",
    "    <td>74</td>\n",
    "    <td>39</td>\n",
    "  </tr>\n",
    "    <tr>\n",
    "    <td>82</td>\n",
    "    <td>59</td>\n",
    "  </tr>\n",
    " \n",
    "</table>\n",
    "\n",
    "<br>\n",
    "\n",
    "<font size=3>You would then plot the ordered pairs onto a graph and find the relationship between these two sets of data by drawing a line or curve that best fits the data. This is very creatively called the line of best fit. In this case, the relationship between temperature and ice cream sales is linear. You can use the plot to predict the sales of ice cream based on the temperature!</font>\n",
    "\n",
    "<img src=\"../Data/images/best_fit_example.png\" width=500>\n",
    "\n",
    "While you might make a table in math class, how can you tell the computer that you have two sets of data that you want to plot? In Python, you can use **lists**, which are data structures that can hold lots of data. They look like a variable but they are initialized with brackets <font face=\"Courier\"> []</font>.  Instead of using a table, you can use lists like the ones below. This is how the program is going to save the data that you take when you measure distances with Zumi: <br><br>\n",
    "<font face=\"Courier\">\n",
    "x = [60,62,64,65,70,74,82] <br>\n",
    "y = [15,20,22,26,34,39,59] <br>\n",
    "</font>\n",
    "<br>\n",
    "Get your ruler ready! Visit the Linear Regression wizard to get your line equation specifically for your Zumi. Then come back here to learn how to translate the prediction into driving commands. </font>\n",
    "\n",
    "## Equation for a Line\n",
    "<font size=3> You should have an equation for a line that represents the relationship between your Zumi's driving speed and distance. For any duration, you can now estimate how far Zumi drives. However, how can you do the opposite? If you have the distance that you want to drive, you can solve for the variable <font face=\"Courier\"> duration </font> by rearranging the equation of the line.\n",
    "    \n",
    "<img src=\"../Data/images/algebra.png\" width=500>\n",
    "\n",
    "Remember that \"x\" is a variable for the number of seconds you need to drive and \"y\" is the distance traveled in *inches*. When translated, the function looks like the code below. Replace the slope and intercept values with the ones that you got from the Linear Regression Wizard. Make sure to run this cell to define this function in your program!"
   ]
  },
  {
   "cell_type": "code",
   "execution_count": null,
   "metadata": {},
   "outputs": [],
   "source": [
    "def move_inches(distance):\n",
    "    intercept = #Insert your intercept value here\n",
    "    slope = #Insert your slope value here\n",
    "    seconds = (distance - intercept)/slope\n",
    "    zumi.forward(speed=40,duration=seconds)   "
   ]
  },
  {
   "cell_type": "markdown",
   "metadata": {},
   "source": [
    "<font size=3> Now you have a new function that you can call to drive a particular distance in inches. This function can work for any Zumi, but keep in mind that the slope and y-intercept will vary between Zumis, so you should retake your data if you ever switch your motors. Get your ruler out and try driving 5 inches! </font>"
   ]
  },
  {
   "cell_type": "code",
   "execution_count": null,
   "metadata": {},
   "outputs": [],
   "source": [
    "move_inches(5)"
   ]
  },
  {
   "cell_type": "markdown",
   "metadata": {},
   "source": [
    "## How is this related to machine learning?\n",
    "<font size=3> Given some data points, Zumi was able to find patterns between the distance driven and the seconds driven. In this case, we used a known mathematical formula. However, when there are many more variables and a lot more data, that simple equation wouldn't work. An algorithm would have to find trends in the data by testing different patterns in order to find \"the best fit\". The algorithm would try and reduce error with every attempt. You will see more examples of this in more advanced machine learning lessons.\n",
    "    \n",
    "### Challenges\n",
    "* Use the equation you generated to predict distances for 3.0, 4.0, 5.0, and 6.0 seconds. Next, have Zumi drive for those times and see if your prediction was correct!\n",
    "* Make your own function called <font face=\"Courier\">move_centimeters()</font> that takes in a number for how many centimeters you want to drive. Remember how many centimeters are in an inch?\n",
    "* Try to navigate an obstacle course or drive in complicated patterns using distances instead of seconds."
   ]
  }
 ],
 "metadata": {
  "kernelspec": {
   "display_name": "Python 3",
   "language": "python",
   "name": "python3"
  },
  "language_info": {
   "codemirror_mode": {
    "name": "ipython",
    "version": 3
   },
   "file_extension": ".py",
   "mimetype": "text/x-python",
   "name": "python",
   "nbconvert_exporter": "python",
   "pygments_lexer": "ipython3",
   "version": "3.5.3"
  }
 },
 "nbformat": 4,
 "nbformat_minor": 2
}
