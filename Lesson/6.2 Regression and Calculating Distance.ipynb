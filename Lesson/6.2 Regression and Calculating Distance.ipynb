{
 "cells": [
  {
   "cell_type": "markdown",
   "metadata": {},
   "source": [
    "# Simple ML: Regression\n",
    "<font size=3>When using Zumi with <font face=\"Courier\">forward()</font>, you can only give Zumi commands in terms of duration and speed. What if you measured that the distance to your target is 10.5 inches? How many seconds should you drive (and at which speed) to arrive at your target? You need to know the relationship between duration and distance traveled. In this lesson, you will collect data from your Zumi and see how you can use basic machine learning to predict the time needed to travel a specified distance </font>\n",
    "\n",
    "## Import libraries"
   ]
  },
  {
   "cell_type": "markdown",
   "metadata": {},
   "source": [
    "<font size=3>Import the Zumi library. You will also need to import <font face=\"Courier\">matplotlib</font> which will handle all of our graphs.</font>"
   ]
  },
  {
   "cell_type": "code",
   "execution_count": 2,
   "metadata": {},
   "outputs": [
    {
     "name": "stdout",
     "output_type": "stream",
     "text": [
      "Pi Zero I2C is available\n",
      "Gyro offset file already exists.\n",
      "Verified Pi Zero is the same\n",
      "Gyroscope previously calibrated\n"
     ]
    }
   ],
   "source": [
    "from zumi.zumi import Zumi\n",
    "import matplotlib.pyplot as plt\n",
    "zumi = Zumi()"
   ]
  },
  {
   "cell_type": "markdown",
   "metadata": {},
   "source": [
    "## How do we plot data?\n",
    "<font size=3> When we plot data, we have a list of ordered pairs, or a table of x and y values, that we plot on a graph. In a math class, you may have a table like this:\n",
    "    \n",
    "<table style=\"width:50%\">\n",
    "  <tr>\n",
    "    <th>Temperature (x)</th>\n",
    "    <th>Ice cream sales (y)</th> \n",
    "  </tr>\n",
    "    <tr>\n",
    "    <td>60</td>\n",
    "    <td>15</td>\n",
    "  </tr>\n",
    "  <tr>\n",
    "    <td>62</td>\n",
    "    <td>20</td>\n",
    "  </tr>\n",
    "     <tr>\n",
    "    <td>64</td>\n",
    "    <td>22</td>\n",
    "  </tr>\n",
    "     <tr>\n",
    "    <td>65</td>\n",
    "    <td>26</td>\n",
    "  </tr>\n",
    "     <tr>\n",
    "    <td>70</td>\n",
    "    <td>34</td>\n",
    "  </tr>\n",
    "    <tr>\n",
    "    <td>74</td>\n",
    "    <td>39</td>\n",
    "  </tr>\n",
    "    <tr>\n",
    "    <td>82</td>\n",
    "    <td>59</td>\n",
    "  </tr>\n",
    " \n",
    "</table>\n",
    "\n",
    "<br>\n",
    "\n",
    "Then you would plot the ordered pairs onto a graph and find the relationship between these two sets of data by drawing a line or curve that best fits the data. In this case, the relationship between temperature and ice cream sales is linear. You can use the plot to predict the sales of ice cream based on the temperature! \n",
    "\n",
    "<img src=\"best_fit_example.png\" width=500>\n",
    "\n",
    "Remember when you learned about **lists** in the lesson about IR? Lists are a data structure that can hold lots of data. They look like a variable but they are initialized with brackets <font face=\"Courier\"> []</font>. While in math class you might make a table, how can we tell the computer we have two sets of data we want to plot? You would use lists like the ones below: <br><br>\n",
    "<font face=\"Courier\">\n",
    "x = [60,62,64,65,70,74,82] <br>\n",
    "y = [15,20,22,26,34,39,59] <br>\n",
    "</font>\n",
    "\n",
    "This is how we are going to save our data that we take when we measure distances with Zumi. Get your ruler ready! </font>\n",
    "\n",
    "## Code\n",
    "\n",
    "### List initializiation\n",
    "\n",
    "<font size=3>Instead of x and y, we are going to have two lists: one to hold information about the duration Zumi drove and one for the distance Zumi drove. Use empty brackets to indicate that the list is empty at the start of your program.</font> "
   ]
  },
  {
   "cell_type": "code",
   "execution_count": null,
   "metadata": {},
   "outputs": [],
   "source": [
    "duration = []\n",
    "distance = []\n"
   ]
  },
  {
   "cell_type": "markdown",
   "metadata": {},
   "source": [
    "### List operations\n",
    "\n",
    "<font size=3> How do you add data to a list? There is a list opperation called <font face=\"Courier\"> append() </font> which you will use to add data to our \"x\" and \"y\" lists. To use the function, <font face=\"Courier\"> append() </font> is called as a method of the list name. For example, here is a list with three numbers. Run the code to see the output. </font>"
   ]
  },
  {
   "cell_type": "code",
   "execution_count": 1,
   "metadata": {},
   "outputs": [
    {
     "name": "stdout",
     "output_type": "stream",
     "text": [
      "[5, 2, 8]\n"
     ]
    }
   ],
   "source": [
    "numbers = [5,2,8]\n",
    "print(numbers)"
   ]
  },
  {
   "cell_type": "markdown",
   "metadata": {},
   "source": [
    "<font size=3> Here is how you append a number to the list. Call <font face=\"Courier\"> append() </font> with the name of the list you are modifying:\n",
    "    \n",
    "   <font face=\"Courier\"> numbers.append(78) </font> <br>\n",
    "\n",
    "Now append any number you would like to the list and reprint the list to see the added value: </font>"
   ]
  },
  {
   "cell_type": "code",
   "execution_count": 2,
   "metadata": {},
   "outputs": [
    {
     "name": "stdout",
     "output_type": "stream",
     "text": [
      "[5, 2, 8, 56]\n"
     ]
    }
   ],
   "source": [
    "numbers.append(56)\n",
    "print(numbers)"
   ]
  },
  {
   "cell_type": "markdown",
   "metadata": {},
   "source": [
    "## Data collection\n",
    "Now you will collect data of Zuma driving from 0.5 duration to 2.0 duration. To help automate the process, there is a while loop that will continue until time is 2.1 seconds. Set up Zumi parallel to a ruler and take your data. Make sure to input everything correctly!"
   ]
  },
  {
   "cell_type": "code",
   "execution_count": 7,
   "metadata": {},
   "outputs": [
    {
     "name": "stdout",
     "output_type": "stream",
     "text": [
      "Input distance in inches for 0.5seconds: 3.0\n",
      "Enter to calibrate and run again\n",
      "Input distance in inches for 0.6seconds: 3.75\n",
      "Enter to calibrate and run again\n",
      "Input distance in inches for 0.7seconds: 4.125\n",
      "Enter to calibrate and run again\n",
      "Input distance in inches for 0.7999999999999999seconds: 4.875\n",
      "Enter to calibrate and run again\n",
      "Input distance in inches for 0.8999999999999999seconds: 5.375\n",
      "Enter to calibrate and run again\n",
      "Input distance in inches for 0.9999999999999999seconds: 6.25\n",
      "Enter to calibrate and run again\n",
      "Input distance in inches for 1.0999999999999999seconds: 6.813\n",
      "Enter to calibrate and run again\n",
      "Input distance in inches for 1.2seconds: 7.75\n",
      "Enter to calibrate and run again\n",
      "Input distance in inches for 1.3seconds: 8.5\n",
      "Enter to calibrate and run again\n",
      "Input distance in inches for 1.4000000000000001seconds: 8.875\n",
      "Enter to calibrate and run again\n",
      "Input distance in inches for 1.5000000000000002seconds: 9.875\n",
      "Enter to calibrate and run again\n",
      "Input distance in inches for 1.6000000000000003seconds: 10.5\n",
      "Enter to calibrate and run again\n",
      "Input distance in inches for 1.7000000000000004seconds: 11.0\n",
      "Enter to calibrate and run again\n",
      "Input distance in inches for 1.8000000000000005seconds: 11.875\n",
      "Enter to calibrate and run again\n",
      "Input distance in inches for 1.9000000000000006seconds: 12.375\n",
      "Enter to calibrate and run again\n",
      "Input distance in inches for 2.0000000000000004seconds: 13.125\n",
      "Enter to calibrate and run again\n"
     ]
    }
   ],
   "source": [
    "while time < 2.1:\n",
    "    zumi.forward(duration=time)\n",
    "    duration.append(time)\n",
    "    dist = input(\"Input distance in inches for \" + str(time) + \"seconds: \")\n",
    "    distance.append(float(dist))\n",
    "    go_again = input(\"Press 'enter' to run again: \")\n",
    "    time += 0.1\n",
    "\n",
    "    "
   ]
  },
  {
   "cell_type": "code",
   "execution_count": null,
   "metadata": {},
   "outputs": [],
   "source": [
    "plt.plot(duration,distance)\n",
    "plt.show()"
   ]
  },
  {
   "cell_type": "code",
   "execution_count": 1,
   "metadata": {},
   "outputs": [],
   "source": [
    "import matplotlib.pyplot as plt"
   ]
  },
  {
   "cell_type": "code",
   "execution_count": 5,
   "metadata": {},
   "outputs": [
    {
     "data": {
      "image/png": "[encoded data removed]",
      "text/plain": [
       "<Figure size 432x288 with 1 Axes>"
      ]
     },
     "metadata": {
      "needs_background": "light"
     },
     "output_type": "display_data"
    }
   ],
   "source": [
    "x = [0.5, 0.6, 0.7, 0.8, 0.9, 1.0, 1.1, 1.2, 1.3, 1.4, 1.5, 1.6, 1.7, 1.8, 1.9, 2.0]\n",
    "y = [3.0, 3.75, 4.125, 4.875, 5.375, 6.25, 6.813, 7.75, 8.5, 8.875, 9.875, 10.5, 11.0, 11.875, 12.375, 13.125]\n",
    "plt.plot(x,y, 'ms')\n",
    "plt.show()"
   ]
  },
  {
   "cell_type": "markdown",
   "metadata": {},
   "source": [
    "Now try to draw a imaginary line that represents this data. What would it look like?"
   ]
  },
  {
   "cell_type": "code",
   "execution_count": 8,
   "metadata": {},
   "outputs": [
    {
     "name": "stdout",
     "output_type": "stream",
     "text": [
      "best fit line: y = -0.55 + 6.84x\n"
     ]
    },
    {
     "data": {
      "text/plain": [
       "(-0.5495735294117576, 6.842808823529406)"
      ]
     },
     "execution_count": 8,
     "metadata": {},
     "output_type": "execute_result"
    }
   ],
   "source": [
    "def best_fit(X, Y):\n",
    "\n",
    "    xbar = sum(X)/len(X)\n",
    "    ybar = sum(Y)/len(Y)\n",
    "    n = len(X) # or len(Y)\n",
    "\n",
    "    numer = sum([xi*yi for xi,yi in zip(X, Y)]) - n * xbar * ybar\n",
    "    denum = sum([xi**2 for xi in X]) - n * xbar**2\n",
    "\n",
    "    b = numer / denum\n",
    "    a = ybar - b * xbar\n",
    "\n",
    "    print('best fit line: y = {:.2f} + {:.2f}x'.format(a, b))\n",
    "\n",
    "    return a, b\n",
    "\n",
    "_intercept, _slope = best_fit(x,y)\n",
    "\n"
   ]
  },
  {
   "cell_type": "code",
   "execution_count": 14,
   "metadata": {},
   "outputs": [
    {
     "data": {
      "image/png": "[encoded data removed]",
      "text/plain": [
       "<Figure size 432x288 with 1 Axes>"
      ]
     },
     "metadata": {
      "needs_background": "light"
     },
     "output_type": "display_data"
    }
   ],
   "source": [
    "approx = []\n",
    "for data in x:\n",
    "    approx.append(-0.55 + (6.84*data))\n",
    "\n",
    "plt.plot(x,y, 'ms')\n",
    "plt.plot(x,approx)\n",
    "plt.show()                  \n",
    "\n",
    "    "
   ]
  },
  {
   "cell_type": "markdown",
   "metadata": {},
   "source": [
    "<font size =3> Now you have a way to estimate distance traveled from seconds driven. You will need a new function <font face=\"Courier\">move_inches()</font> to make the conversion. Given the distance you want to drive, you can solve for the variable <font face=\"Courier\"> duration </font> by rearranging the equation of the line.\n",
    "    \n",
    "<img src=\"algebra.png\" width=500>\n",
    "\n",
    "Remember that \"x\" is a variable for the number of seconds you need to drive and \"y\" is the distance traveled in *inches*."
   ]
  },
  {
   "cell_type": "code",
   "execution_count": null,
   "metadata": {},
   "outputs": [],
   "source": [
    "def move_inches(distance,angle):\n",
    "    y_intercept = _intercept\n",
    "    slope = _slope\n",
    "    duration = (distance + y_intercept)/slope\n",
    "    zumi.forward(40,duration,angle)   "
   ]
  },
  {
   "cell_type": "markdown",
   "metadata": {},
   "source": [
    "## Why is this machine learning?\n",
    "<font size=3> You may not believe it, but the mathematical process that the computer just performed to find the best estimate was an example of very simple machine learning."
   ]
  }
 ],
 "metadata": {
  "kernelspec": {
   "display_name": "Python 3",
   "language": "python",
   "name": "python3"
  },
  "language_info": {
   "codemirror_mode": {
    "name": "ipython",
    "version": 3
   },
   "file_extension": ".py",
   "mimetype": "text/x-python",
   "name": "python",
   "nbconvert_exporter": "python",
   "pygments_lexer": "ipython3",
   "version": "3.5.3"
  }
 },
 "nbformat": 4,
 "nbformat_minor": 2
}
