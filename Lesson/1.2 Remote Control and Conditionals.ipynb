{
 "cells": [
  {
   "cell_type": "markdown",
   "metadata": {
    "deletable": false
   },
   "source": [
    "<img src=\"../Data/images/ZumiHeader.png\" width=700>"
   ]
  },
  {
   "cell_type": "markdown",
   "metadata": {
    "deletable": false
   },
   "source": [
    "# Remote Control\n",
    "\n",
    "<font size =3> Now that you understand drive commands, you can write your own remote control! First, import the Zumi library and create the object before you begin. </font>\n",
    "\n",
    "### Import libraries"
   ]
  },
  {
   "cell_type": "code",
   "execution_count": null,
   "metadata": {
    "deletable": false
   },
   "outputs": [],
   "source": [
    "from zumi.zumi import Zumi\n",
    "import time\n",
    "\n",
    "zumi = Zumi()"
   ]
  },
  {
   "cell_type": "markdown",
   "metadata": {
    "deletable": false
   },
   "source": [
    "## User input\n",
    "<font size =3> To make a remote control, you need a way to register your input and translate it to motor commands. Python includes a function <font face=\"Courier\">input()</font> that reads the keyboard input and saves it as a variable. To see how this works, run the following code, type in your name, and hit enter. Any input that you entered will be saved in <font face=\"Courier\">my_name</font>.\n",
    "</font>"
   ]
  },
  {
   "cell_type": "code",
   "execution_count": null,
   "metadata": {
    "deletable": false
   },
   "outputs": [],
   "source": [
    "my_name = input(\"What is your name? \")\n",
    "print(\"Hello,\",my_name)"
   ]
  },
  {
   "cell_type": "markdown",
   "metadata": {
    "deletable": false
   },
   "source": [
    "## Pseudocode\n",
    "<font size =3> Now that you have all the tools you need, put it together in pseudocode, which is a program that’s written in plain language that a human can understand. Pseudocode is a good way to figure out how your program will work before translating it to Python. One small problem: <font face=\"Courier\">input()</font> can’t read arrow key controls, so your remote control code will be checking for letter inputs \"w\", \"a\", \"s\", and \"d\". \n",
    "Look at the pseudocode below to see what we mean. <br> <br>\n",
    "\n",
    "<font face=\"Courier\">\n",
    "get input from user <br>\n",
    "if input is \"w\", go forward <br>\n",
    "if input is \"s\", reverse <br>\n",
    "if input is \"a\", turn left <br>\n",
    "if input is \"d\", turn right <br>  \n",
    "</font>\n",
    "\n",
    "</font>\n",
    "\n",
    "<img src=\"../Data/images/wasd.jpg\" width=700>\n",
    "\n",
    "## If statements\n",
    "<font size =3>In the pseudocode, your program will have to instruct Zumi to drive in a particular direction. based on the input. If statements, or **conditionals**, are used to help your program make decisions. You actually use conditionals every day! Some examples might include:\n",
    "\n",
    "\n",
    "* If my alarm goes off, then I will wake up. Else, I will stay asleep.\n",
    "* If I am hungry, I will eat something.\n",
    "* If it's sunny out, I will wear sunscreen.\n",
    "* If my room is clean, I will get my allowance. Else, I will make no money.\n",
    "\n",
    "\n",
    "If statements are written like this in Python: <br> <br>\n",
    "\n",
    "<font face=\"Courier\">\n",
    "    \n",
    "if insert condition here: <br>\n",
    "<span style=\"margin-left: 40px;\">Insert statements here</span> <br>\n",
    "else: <br>\n",
    "<span style=\"margin-left: 40px;\">Insert statements here</span> <br>\n",
    "\n",
    "if alarm goes off:<br>\n",
    "<span style=\"margin-left: 40px;\">I will wake up</span><br>\n",
    "else:<br>\n",
    "<span style=\"margin-left: 40px;\">Stay asleep</span><br>\n",
    "</font>\n",
    "\n",
    "<img src=\"../Data/images/conditional_flowchart.jpg\" width=700>\n",
    "\n",
    "\n",
    "\n",
    "The condition is what the computer checks to know if it is true or false.\n",
    "* If the condition is true, the computer will execute, or carry out, the statements underneath it.\n",
    "* If the condition is false, the computer will NOT execute the statements underneath it.\n",
    "* \"Else” has no condition! This is because “else” is the last option when using if-else statements.  When a computer reaches the “else” option after checking all the other conditions, then the else condition is automatically true and will run its statements.\n",
    "* One way to use “else” would be when something needs to happen when a condition is false. When the \"if\" condition is false and nothing needs to happen, don’t use an “else”.\n",
    "\n",
    "### Indentation\n",
    "\n",
    "Indentation is very important in the Python programming language. The indentations indicate which statements belong to a particular section in the code.\n",
    "\n",
    "You may have noticed that the statements below the if and else statements are indented 4 spaces or one tab space. Even if the indent is off by *one* space, you will get an error! Try to stick to either tabs or spaces, and don't combine the two."
   ]
  },
  {
   "cell_type": "markdown",
   "metadata": {
    "deletable": false
   },
   "source": [
    "## Comparators\n",
    "<font size =3> Next, translate your pseudocode to Python code. Before inputting drive commands, use print statements for testing, like this one: <br> <br>\n",
    "    \n",
    "<font face=\"Courier\"> \n",
    "direction = input(\"Please enter a command: \")\n",
    "\n",
    "if direction == \"w\": <br>\n",
    "<span style=\"margin-left: 40px;\">print(\"Go forward\")</span> <br>    \n",
    "</font>\n",
    "    \n",
    "The equal sign may look familiar, but in code it has a slightly different application! The <font face=\"Courier\">==</font> sign is an example of a **comparator**. Comparators can be used inside conditions to compare values. If the statement is true, the statement below it will execute. These are comparators:\n",
    "\n",
    "* \\> Greater Than\n",
    "* \\< Less Than\n",
    "* \\>= Greater Than or Equal To\n",
    "* <= Less Than or Equal To\n",
    "* == Equal To\n",
    "* != Not Equal To \n",
    "\n",
    "Run the cell below and make some changes to the conditionals to see how these work! If you want, you can change the variable names or the input statements. Make sure to test your code.\n",
    "</font>\n"
   ]
  },
  {
   "cell_type": "code",
   "execution_count": null,
   "metadata": {},
   "outputs": [],
   "source": [
    "X= 10\n",
    "Y = 100\n",
    "Z = 200\n",
    "\n",
    "if X != Y:\n",
    "    print(\"X is not equal to Y\")\n",
    "\n",
    "if Z > Y:\n",
    "    print(\"Z is greater than Y\")"
   ]
  },
  {
   "cell_type": "markdown",
   "metadata": {},
   "source": [
    "<font size =3> Now you have all the tools to write out the rest of the missing conditionals. Use if statements, comparators, and print statements to write code for the \"s\", \"a\", and \"d\" keys."
   ]
  },
  {
   "cell_type": "code",
   "execution_count": null,
   "metadata": {},
   "outputs": [],
   "source": [
    "#TODO Finish the rest of the missing if statements\n",
    "\n",
    "while True:\n",
    "    direction = input(\"Please enter a command: \")\n",
    "\n",
    "    if direction == \"w\":\n",
    "        print(\"Go forward\")"
   ]
  },
  {
   "cell_type": "markdown",
   "metadata": {
    "deletable": false
   },
   "source": [
    "<font size =3> Did you notice the code is running forever? Because this is a remote control code, you want to be able to continuously tell Zumi what to do. To do this, you need to use a while loop that runs forever. Currently, the only way to stop the code is by clicking the \"stop\" icon in the toolbar. To safely quit from this loop, it is better to include an if statement that checks for \"q\" input to break from the loop. <br> <br>\n",
    "    \n",
    "\n",
    "<font face=\"Courier\">\n",
    "if direction ==\"q\": <br>\n",
    "<span style=\"margin-left: 40px;\">break</span>\n",
    "</font>\n",
    "\n",
    "Add this code to your code above and test that you can exit your code without errors. </font>\n",
    "\n",
    "## Add drive commands\n",
    "<font size =3> Now that you have the logic down, add the drive commands with the correct command. Remember you can change the parameters for these controls or choose different keys to customize your remote control! </font>"
   ]
  },
  {
   "cell_type": "markdown",
   "metadata": {
    "deletable": false
   },
   "source": [
    "<hr>\n",
    "\n",
    "# Extension Activities <br> \n",
    "\n",
    "<img src=\"../Data/images/engineering_extension.png\" width=75 align=\"left\">\n",
    "\n",
    "###  Lombard Street <br> <br>\n",
    "Lombard Street is one of the most crooked streets in San Francisco. What would Zumi need to do to be able to drive down it? Construct your own model of Lombard Street with whatever materials you choose to use. Walls should be used around the street, and Lombard Street itself is at a 27% slope. Next, measure the turn degree of each hairpin turn to emulate on the model. After streets are finished, test it out with your remote code, noting how many degrees you had to turn their Zumi in order to navigate it safely.\n",
    "\n"
   ]
  }
 ],
 "metadata": {
  "kernelspec": {
   "display_name": "Python 3",
   "language": "python",
   "name": "python3"
  },
  "language_info": {
   "codemirror_mode": {
    "name": "ipython",
    "version": 3
   },
   "file_extension": ".py",
   "mimetype": "text/x-python",
   "name": "python",
   "nbconvert_exporter": "python",
   "pygments_lexer": "ipython3",
   "version": "3.5.3"
  },
  "pycharm": {
   "stem_cell": {
    "cell_type": "raw",
    "metadata": {
     "collapsed": false
    },
    "source": []
   }
  }
 },
 "nbformat": 4,
 "nbformat_minor": 2
}
