{
 "cells": [
  {
   "cell_type": "markdown",
   "metadata": {
    "deletable": false
   },
   "source": [
    "<img src=\"../Data/images/ZumiHeader.png\" width=700>"
   ]
  },
  {
   "cell_type": "markdown",
   "metadata": {
    "deletable": false
   },
   "source": [
    "# Remote Control\n",
    "<font size =3> Now that you understand drive commands, you can write your own remote control! First, import the Zumi library and create the object before you begin. </font>\n",
    "\n",
    "### Import libraries"
   ]
  },
  {
   "cell_type": "code",
   "execution_count": null,
   "metadata": {
    "deletable": false
   },
   "outputs": [],
   "source": [
    "from zumi.zumi import Zumi\n",
    "import time\n",
    "\n",
    "zumi = Zumi()"
   ]
  },
  {
   "cell_type": "markdown",
   "metadata": {
    "deletable": false
   },
   "source": [
    "## User input\n",
    "<font size =3> To make a remote control, you need a way to register your input and translate it to motor commands. Python includes a function ```input()``` that reads the keyboard input and saves it as a variable. To see how this works, run the following code, type in your name, and hit enter. Any input that you entered will be saved in ```my_name```.\n",
    "</font>"
   ]
  },
  {
   "cell_type": "code",
   "execution_count": null,
   "metadata": {
    "deletable": false
   },
   "outputs": [],
   "source": [
    "my_name = input(\"What is your name? \")\n",
    "print(\"Hello,\",my_name)"
   ]
  },
  {
   "cell_type": "markdown",
   "metadata": {
    "deletable": false
   },
   "source": [
    "## Pseudocode\n",
    "<font size =3> Now that you have all the tools you need, put it together in pseudocode, which is a program that’s written in plain language that a human can understand. Pseudocode is a good way to figure out how your program will work before translating it to Python. One small problem: ```input()``` can’t read arrow key controls, so your remote control code will be checking for letter inputs \"w\", \"a\", \"s\", and \"d\". \n",
    "Look at the pseudocode below to see what we mean.\n",
    "\n",
    "```\n",
    "get input from user\n",
    "if input is \"w\", go forward\n",
    "if input is \"s\", reverse\n",
    "if input is \"a\", turn left\n",
    "if input is \"d\", turn right\n",
    "```\n",
    "![keys](../Data/images/keys_wasd.png) </font>"
   ]
  },
  {
   "cell_type": "markdown",
   "metadata": {
    "deletable": false
   },
   "source": [
    "## Translate to Python\n",
    "<font size =3> Translate your pseudocode to Python code. Before inputting drive commands, use print statements for testing. In the cell below, one if statement is done for you. If you want, you can change the variable names or the input statements. Make sure to test your code.</font>\n"
   ]
  },
  {
   "cell_type": "code",
   "execution_count": null,
   "metadata": {},
   "outputs": [],
   "source": [
    "#TODO Finish the rest of the missing if statements\n",
    "\n",
    "while True:\n",
    "    direction = input(\"Please enter a command: \")\n",
    "\n",
    "    if direction == \"w\":\n",
    "        print(\"Go forward\")"
   ]
  },
  {
   "cell_type": "markdown",
   "metadata": {
    "deletable": false
   },
   "source": [
    "<font size =3> Did you notice the code is running forever? Because this is a remote control code, you want to be able to continuously tell Zumi what to do. To do this, you need to use a while loop that runs forever. Currently, the only way to stop the code is by clicking the \"stop\" icon in the toolbar. To safely quit from this loop, it is better to include an if statement that checks for \"q\" input to break from the loop.\n",
    "\n",
    "```\n",
    "if direction ==\"q\":\n",
    "    break\n",
    "```\n",
    "\n",
    "Add this code to your code above and test that you can exit your code without errors. </font>\n",
    "\n",
    "## Add drive commands\n",
    "<font size =3> Now that you have the logic down, add the drive commands with the correct command. The final code should look something like this: </font>"
   ]
  },
  {
   "cell_type": "code",
   "execution_count": null,
   "metadata": {},
   "outputs": [],
   "source": [
    "while True:\n",
    "\n",
    "    direction = input(\"Please enter a command\")\n",
    "\n",
    "    if direction == \"w\":\n",
    "        zumi.forward()\n",
    "    elif direction == \"s\":\n",
    "        zumi.reverse()\n",
    "    elif direction == \"a\":\n",
    "        zumi.turn_left(90)\n",
    "    elif direction == \"d\":\n",
    "        zumi.turn_right(90)\n",
    "    elif direction == \"q\":\n",
    "        break"
   ]
  },
  {
   "cell_type": "markdown",
   "metadata": {
    "deletable": false
   },
   "source": [
    "<font size =3>  Remember you can change the parameters for these controls or choose different keys to customize your remote control! </font>"
   ]
  }
 ],
 "metadata": {
  "celltoolbar": "Edit Metadata",
  "kernelspec": {
   "display_name": "Python 3",
   "language": "python",
   "name": "python3"
  },
  "language_info": {
   "codemirror_mode": {
    "name": "ipython",
    "version": 3
   },
   "file_extension": ".py",
   "mimetype": "text/x-python",
   "name": "python",
   "nbconvert_exporter": "python",
   "pygments_lexer": "ipython3",
   "version": "3.7.4"
  },
  "pycharm": {
   "stem_cell": {
    "cell_type": "raw",
    "metadata": {
     "collapsed": false
    },
    "source": []
   }
  }
 },
 "nbformat": 4,
 "nbformat_minor": 2
}
