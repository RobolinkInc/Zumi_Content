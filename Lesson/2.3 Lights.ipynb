{
 "cells": [
  {
   "cell_type": "markdown",
   "metadata": {
    "deletable": false
   },
   "source": [
    "<img src=\"../Data/images/ZumiHeader.png\" width=700>"
   ]
  },
  {
   "cell_type": "markdown",
   "metadata": {
    "deletable": false
   },
   "source": [
    "# Lights\n",
    "\n",
    "Like every car should have, Zumi has headlights and brake lights that you can program. On a circuit board, these lights are known as **LEDs**.\n",
    "\n",
    "## What is an LED?\n",
    "\n",
    "LED stands for “light-emitting diode”. A diode is an electronic device that allows an electronic current to flow in only one direction. LEDs are replacing traditional incandescent light bulbs because they are more efficient.\n",
    "\n",
    "## Zumi LED Functions\n",
    "To use the Zumi LED functions, you need to import the libraries and initialize a Zumi object.\n"
   ]
  },
  {
   "cell_type": "code",
   "execution_count": null,
   "metadata": {
    "deletable": false
   },
   "outputs": [],
   "source": [
    "from zumi.zumi import Zumi\n",
    "import time\n",
    "\n",
    "zumi = Zumi()"
   ]
  },
  {
   "cell_type": "markdown",
   "metadata": {
    "deletable": false
   },
   "source": [
    "In addition to turning the headlights and brake lights on and off, you can also use turn signals! \n",
    "Here are all of the functions available for you to use:\n",
    "\n",
    "```\n",
    "* all_lights_on()\n",
    "\n",
    "* all_lights_off()\n",
    "\n",
    "* headlights_on()\n",
    "\n",
    "* headlights_off()\n",
    "       \n",
    "* brake_lights_on()\n",
    "       \n",
    "* brake_lights_off()\n",
    "        \n",
    "* hazard_lights_on()\n",
    "        \n",
    "* hazard_lights_off()\n",
    "\n",
    "* signal_left_on()\n",
    "       \n",
    "* signal_left_off()\n",
    "       \n",
    "* signal_right_on()\n",
    "       \n",
    "* signal_right_off()\n",
    "```     \n",
    "\n",
    "Now try incorporating turn signals into your remote control code or writing some new code.\n",
    "Here’s an example that you can test out:\n"
   ]
  },
  {
   "cell_type": "code",
   "execution_count": null,
   "metadata": {
    "deletable": false
   },
   "outputs": [],
   "source": [
    "zumi.signal_right_on()\n",
    "zumi.forward()\n",
    "zumi.turn_right(90)\n",
    "zumi.signal_right_off()\n",
    "zumi.forward()"
   ]
  }
 ],
 "metadata": {
  "kernelspec": {
   "display_name": "Python 3",
   "language": "python",
   "name": "python3"
  },
  "language_info": {
   "codemirror_mode": {
    "name": "ipython",
    "version": 3
   },
   "file_extension": ".py",
   "mimetype": "text/x-python",
   "name": "python",
   "nbconvert_exporter": "python",
   "pygments_lexer": "ipython3",
   "version": "3.5.3"
  },
  "pycharm": {
   "stem_cell": {
    "cell_type": "raw",
    "source": [],
    "metadata": {
     "collapsed": false
    }
   }
  }
 },
 "nbformat": 4,
 "nbformat_minor": 2
}