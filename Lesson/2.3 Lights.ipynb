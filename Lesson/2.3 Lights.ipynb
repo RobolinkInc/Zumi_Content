{
 "cells": [
  {
   "cell_type": "markdown",
   "metadata": {
    "deletable": false
   },
   "source": [
    "<img src=\"../Data/images/ZumiHeader.png\" width=700>"
   ]
  },
  {
   "cell_type": "markdown",
   "metadata": {
    "deletable": false
   },
   "source": [
    "# Lights\n",
    "\n",
    "Like every car should have, Zumi has headlights and brake lights that you can program. On a circuit board, these lights are known as **LEDs**.\n",
    "\n",
    "### Import libraries"
   ]
  },
  {
   "cell_type": "code",
   "execution_count": null,
   "metadata": {
    "deletable": false
   },
   "outputs": [],
   "source": [
    "from zumi.zumi import Zumi\n",
    "import time\n",
    "\n",
    "zumi = Zumi()"
   ]
  },
  {
   "cell_type": "markdown",
   "metadata": {
    "deletable": false
   },
   "source": [
    "## What is an LED?\n",
    "\n",
    "LED stands for “light-emitting diode”. A diode is an electronic device that allows an electronic current to flow in only one direction. LEDs are replacing traditional incandescent light bulbs because they are more efficient.\n",
    "\n",
    "## Zumi LED Functions\n",
    "\n",
    "In addition to turning the headlights and brake lights on and off, you can also use turn signals! \n",
    "Here are all of the functions available for you to use:\n",
    "\n",
    "```\n",
    "* all_lights_on()\n",
    "\n",
    "* all_lights_off()\n",
    "\n",
    "* headlights_on()\n",
    "\n",
    "* headlights_off()\n",
    "       \n",
    "* brake_lights_on()\n",
    "       \n",
    "* brake_lights_off()\n",
    "        \n",
    "* hazard_lights_on()\n",
    "        \n",
    "* hazard_lights_off()\n",
    "\n",
    "* signal_left_on()\n",
    "       \n",
    "* signal_left_off()\n",
    "       \n",
    "* signal_right_on()\n",
    "       \n",
    "* signal_right_off()\n",
    "```     \n",
    "\n",
    "Now try incorporating turn signals into your remote control code or writing some new code.\n",
    "Here’s an example that you can test out:\n"
   ]
  },
  {
   "cell_type": "code",
   "execution_count": null,
   "metadata": {
    "deletable": false
   },
   "outputs": [],
   "source": [
    "zumi.signal_right_on()\n",
    "zumi.forward()\n",
    "zumi.turn_right()\n",
    "zumi.signal_right_off()\n",
    "zumi.forward()"
   ]
  }
 ],
 "metadata": {
  "kernelspec": {
   "display_name": "Python 3",
   "language": "python",
   "name": "python3"
  },
  "language_info": {
   "codemirror_mode": {
    "name": "ipython",
    "version": 3
   },
   "file_extension": ".py",
   "mimetype": "text/x-python",
   "name": "python",
   "nbconvert_exporter": "python",
   "pygments_lexer": "ipython3",
   "version": "3.7.0"
  },
  "pycharm": {
   "stem_cell": {
    "cell_type": "raw",
    "metadata": {
     "collapsed": false
    },
    "source": []
   }
  }
 },
 "nbformat": 4,
 "nbformat_minor": 2
}
