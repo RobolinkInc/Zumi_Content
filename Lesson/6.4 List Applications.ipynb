{
 "cells": [
  {
   "cell_type": "markdown",
   "metadata": {},
   "source": [
    "<img src=\"../Data/images/ZumiHeader.png\" width=700>"
   ]
  },
  {
   "cell_type": "code",
   "execution_count": 2,
   "metadata": {},
   "outputs": [
    {
     "name": "stdout",
     "output_type": "stream",
     "text": [
      " Starting Zumi \n",
      "Pi Zero I2C is available\n",
      "Gyro offset file already exists.\n",
      "Verified Pi Zero is the same\n",
      "Gyroscope previously calibrated\n"
     ]
    }
   ],
   "source": [
    "from zumi.zumi import Zumi\n",
    "from zumi.util.screen import Screen\n",
    "from zumi.personality import Personality\n",
    "from IPython.display import Image\n",
    "import time\n",
    "\n",
    "zumi = Zumi()\n",
    "screen = Screen()\n",
    "personality = Personality(zumi, screen)\n",
    "from zumi.protocol import Note "
   ]
  },
  {
   "cell_type": "markdown",
   "metadata": {},
   "source": [
    "# List Applications"
   ]
  },
  {
   "cell_type": "markdown",
   "metadata": {},
   "source": [
    "### List functions Sort & Reverse\n",
    "<font size =3> "
   ]
  },
  {
   "cell_type": "markdown",
   "metadata": {},
   "source": [
    "###### Sort\n",
    "<font size =3>  Lists can be sorted in ascending, descending, or user defined order by calling the .sort() method.  By defualt, calling the sort will order the items in ascending order.  Note, that the type of data does not have to be integer values, words, characters, and decimal values can be sorted as well."
   ]
  },
  {
   "cell_type": "code",
   "execution_count": 3,
   "metadata": {},
   "outputs": [
    {
     "name": "stdout",
     "output_type": "stream",
     "text": [
      "[1, 2, 3, 4, 5, 6, 7, 8, 9, 10]\n"
     ]
    }
   ],
   "source": [
    "List = [ 10, 9, 8, 7, 6, 5, 4, 3, 2, 1 ]\n",
    "List.sort() \n",
    "print( List )"
   ]
  },
  {
   "cell_type": "markdown",
   "metadata": {},
   "source": [
    "<font size =3>Setting the optional parameter **reverse** equal to True will sort the elements in descending order. "
   ]
  },
  {
   "cell_type": "code",
   "execution_count": 4,
   "metadata": {},
   "outputs": [
    {
     "name": "stdout",
     "output_type": "stream",
     "text": [
      "[8, 5, 3, 1]\n"
     ]
    }
   ],
   "source": [
    "random = [ 3, 5, 1, 8 ]\n",
    "random.sort(reverse=True)\n",
    "print( random )"
   ]
  },
  {
   "cell_type": "markdown",
   "metadata": {},
   "source": [
    "<font size =3> Words are sorted alphabetically. "
   ]
  },
  {
   "cell_type": "code",
   "execution_count": 5,
   "metadata": {},
   "outputs": [
    {
     "name": "stdout",
     "output_type": "stream",
     "text": [
      "['Alphabetically', 'Sort', 'These', 'Words']\n"
     ]
    }
   ],
   "source": [
    "words = [ \"Words\", \"Sort\", \"These\" , \"Alphabetically\" ]\n",
    "words.sort()\n",
    "print( words )"
   ]
  },
  {
   "cell_type": "markdown",
   "metadata": {},
   "source": [
    "<font size =3> **Activity**:  Given the code below, determine what would happen if you ran mystery_fx once, sorted the list \"times\", and ran mystery_fx again. "
   ]
  },
  {
   "cell_type": "code",
   "execution_count": 10,
   "metadata": {},
   "outputs": [
    {
     "name": "stdout",
     "output_type": "stream",
     "text": [
      "[5, 2]\n"
     ]
    }
   ],
   "source": [
    "THRESHOLD = 3\n",
    "POWER = 40\n",
    "TURN_ANG = 90\n",
    "\n",
    "times = [ 5, 2 ]\n",
    "print( times )\n",
    "\n",
    "def mystery_fx():\n",
    "    global THRESHOLD, POWER, TURN_ANG, times\n",
    "    element_one = times[0]\n",
    "    element_two = times[1]\n",
    "    \n",
    "    zumi.forward(POWER,element_one)\n",
    "\n",
    "    if( element_one > THRESHOLD ):\n",
    "        zumi.turn_left(TURN_ANG)\n",
    "    else:\n",
    "        zumi.turn_right(TURN_ANG)\n",
    "    \n",
    "    zumi.forward(POWER,element_two)"
   ]
  },
  {
   "cell_type": "code",
   "execution_count": 8,
   "metadata": {},
   "outputs": [],
   "source": [
    "mystery_fx()"
   ]
  },
  {
   "cell_type": "code",
   "execution_count": 11,
   "metadata": {},
   "outputs": [],
   "source": [
    "times.sort()"
   ]
  },
  {
   "cell_type": "code",
   "execution_count": null,
   "metadata": {},
   "outputs": [],
   "source": [
    "mystery_fx()"
   ]
  },
  {
   "cell_type": "markdown",
   "metadata": {},
   "source": [
    "<font size =3> Sort changed the order of the items in the list \"times\".  Originally, times ordered the elements as: 5,2 .  This made Zumi travel forward for 5 seconds, turn left, and travel for another 2 seconds forward.  After the sort, the element 2 was placed before 5.  When mystery_fx was run again, Zumi should have moved for 2 seconds forward, turned right, and  moved forward again for 5 seconds."
   ]
  },
  {
   "cell_type": "markdown",
   "metadata": {},
   "source": [
    "### An application of Sort()\n",
    "\n",
    "<font size =3>With any vehicle that navigates a course, finding the nearest destination or point is usually helpful.  One way find the nearest destination at any given location is to take all the points and calculate the difference in distances to the current location of the vehicle.  With the sort method, you could arrange a list to store elements in order of the closest to farthest destinations.\n",
    "\n",
    "Run through the following cells to see an example of this."
   ]
  },
  {
   "cell_type": "code",
   "execution_count": 7,
   "metadata": {},
   "outputs": [],
   "source": [
    "class Point:\n",
    "    \n",
    "    def __init__ (self,x,y):\n",
    "        self.x  = x\n",
    "        self.y  = y\n",
    "        self.dx = 0\n",
    "        self.dy = 0\n",
    "\n",
    "    # Overload the sort method to sort the difference in distance.\n",
    "    # Take the absolute values of both the x and y and compare \n",
    "    def __lt__(self, other):\n",
    "        return abs(self.dx+self.dy) < abs(other.dx+other.dy)"
   ]
  },
  {
   "cell_type": "markdown",
   "metadata": {},
   "source": [
    "<font size =3>Lets say the current position of Zumi is at **(7,7)** . Additionally, there are points located at **(10,10)**, **(10,7)**, **(6,8)**, and **(6,5)**.\n",
    "<img src=\"Zs.png\" width=500 height=500>"
   ]
  },
  {
   "cell_type": "markdown",
   "metadata": {},
   "source": [
    "<font size =3>With some math and visual aid, we as humans, can determine that the point **(6,8)** is the closest point to Zumi. However, our program cannot use a visual aid.  Instead, some math and a sort method will do the trick."
   ]
  },
  {
   "cell_type": "code",
   "execution_count": 8,
   "metadata": {},
   "outputs": [],
   "source": [
    "# Represting the above graph in code: \n",
    "points = [ Point(10,10), Point(10,7) , Point(6,8) , Point(6,5) ]\n",
    "ZumiPos = Point(7,7)"
   ]
  },
  {
   "cell_type": "code",
   "execution_count": 9,
   "metadata": {},
   "outputs": [],
   "source": [
    "# calculate distance between 2 points (ZumiPos and element in list)\n",
    "# performs the calculation no the entire list\n",
    "def calculateDistFromPoint( points, ZumiPos ): \n",
    "    for k in range(0, len(points)) :\n",
    "        x  = abs( points[k].x )\n",
    "        y  = abs( points[k].y )\n",
    "\n",
    "        points[k].dx = x - ZumiPos.x\n",
    "        points[k].dy = y - ZumiPos.y\n",
    "        \n",
    "calculateDistFromPoint( points, ZumiPos )"
   ]
  },
  {
   "cell_type": "markdown",
   "metadata": {},
   "source": [
    "<font size =3> All the destination ditances were calculated.  Sorting will place the elements in order of closest to farthest"
   ]
  },
  {
   "cell_type": "code",
   "execution_count": 10,
   "metadata": {},
   "outputs": [],
   "source": [
    "points.sort() # sort the list \"points\" to get the closest point"
   ]
  },
  {
   "cell_type": "code",
   "execution_count": 11,
   "metadata": {},
   "outputs": [
    {
     "name": "stdout",
     "output_type": "stream",
     "text": [
      "Point 1 @(X: 6 Y: 8 ) \n",
      "\t dist away in x: -1  ,dist away in y: 1\n",
      "Point 2 @(X: 10 Y: 7 ) \n",
      "\t dist away in x: 3  ,dist away in y: 0\n",
      "Point 3 @(X: 6 Y: 5 ) \n",
      "\t dist away in x: -1  ,dist away in y: -2\n",
      "Point 4 @(X: 10 Y: 10 ) \n",
      "\t dist away in x: 3  ,dist away in y: 3\n"
     ]
    }
   ],
   "source": [
    "# print the elements ordered closest to farthest\n",
    "# element 1 is closest ... \n",
    "for i,p in enumerate(points):\n",
    "    print( \"Point\",i+1,\"@(X:\", p.x , \"Y:\", p.y,\") \")\n",
    "    print( \"\\t dist away in x:\", p.dx , \" ,dist away in y:\" , p.dy )"
   ]
  },
  {
   "cell_type": "markdown",
   "metadata": {},
   "source": [
    "<img src=\"ZsN.png\" width=500 height=500>"
   ]
  },
  {
   "cell_type": "code",
   "execution_count": 14,
   "metadata": {},
   "outputs": [
    {
     "name": "stdout",
     "output_type": "stream",
     "text": [
      "(X: 6 ,Y: 8 ) is the closest Point to Zumi\n"
     ]
    }
   ],
   "source": [
    "ClosestPoint = points[0]\n",
    "print(\"(X:\", ClosestPoint.x , \",Y:\", ClosestPoint.y, \") is the closest Point to Zumi\")"
   ]
  },
  {
   "cell_type": "markdown",
   "metadata": {},
   "source": [
    "###### Reverse\n",
    "<font size =3>  reverse() is Python method that revereses every element in the list.  Note, do not get confused, elements are not sorted when the reverse method is called."
   ]
  },
  {
   "cell_type": "code",
   "execution_count": null,
   "metadata": {},
   "outputs": [],
   "source": [
    "nums = [ 10 , 50 , 0 , 100 , 99 ]\n",
    "nums.reverse()\n",
    "print( nums  )"
   ]
  },
  {
   "cell_type": "code",
   "execution_count": 12,
   "metadata": {},
   "outputs": [],
   "source": [
    "zumiSounds  = [Note.C4, Note.D4, Note.E4, Note.F4, Note.G4]  \n",
    "\n",
    "for s in zumiSounds:\n",
    "    zumi.play_note(s)\n",
    "    \n",
    "zumiSounds.reverse() \n",
    "\n",
    "for s in zumiSounds:\n",
    "    zumi.play_note(s)"
   ]
  },
  {
   "cell_type": "code",
   "execution_count": null,
   "metadata": {},
   "outputs": [],
   "source": [
    "#Reverse the order of the points list "
   ]
  },
  {
   "cell_type": "markdown",
   "metadata": {},
   "source": [
    "### Copy List\n",
    "<font size =3>  A list can be duplicated with the command .copy(). If you've ever done the following: "
   ]
  },
  {
   "cell_type": "code",
   "execution_count": 13,
   "metadata": {},
   "outputs": [
    {
     "name": "stdout",
     "output_type": "stream",
     "text": [
      "[1, 2, 3, 4]\n"
     ]
    }
   ],
   "source": [
    "originalList = [1, 2, 3]\n",
    "saveList     = originalList\n",
    "\n",
    "originalList.append(4) \n",
    "\n",
    "print( saveList ) # saveList was changed too :("
   ]
  },
  {
   "cell_type": "markdown",
   "metadata": {},
   "source": [
    "<font size =3>You'll notice that the saved list was altered even though it was not the list that was directly modified.  To mitigate this, use the copy command:"
   ]
  },
  {
   "cell_type": "code",
   "execution_count": 14,
   "metadata": {},
   "outputs": [
    {
     "name": "stdout",
     "output_type": "stream",
     "text": [
      "[1, 2, 3]\n"
     ]
    }
   ],
   "source": [
    "originalList = [1, 2, 3]\n",
    "saveList     = originalList.copy()\n",
    "\n",
    "originalList.append(4)\n",
    "\n",
    "print(saveList )"
   ]
  },
  {
   "cell_type": "code",
   "execution_count": null,
   "metadata": {},
   "outputs": [],
   "source": []
  }
 ],
 "metadata": {
  "kernelspec": {
   "display_name": "Python 3",
   "language": "python",
   "name": "python3"
  },
  "language_info": {
   "codemirror_mode": {
    "name": "ipython",
    "version": 3
   },
   "file_extension": ".py",
   "mimetype": "text/x-python",
   "name": "python",
   "nbconvert_exporter": "python",
   "pygments_lexer": "ipython3",
   "version": "3.5.3"
  }
 },
 "nbformat": 4,
 "nbformat_minor": 2
}
