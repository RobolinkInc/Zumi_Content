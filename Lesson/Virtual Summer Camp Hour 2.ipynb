{
 "cells": [
  {
   "cell_type": "markdown",
   "metadata": {
    "deletable": false
   },
   "source": [
    "<img src=\"../Data/images/ZumiHeader.png\" width=700>"
   ]
  },
  {
   "cell_type": "markdown",
   "metadata": {
    "deletable": false
   },
   "source": [
    "# Shapes with Loops\n",
    "\n",
    "<font size =3> Usually, certain shapes have a set number of degrees that the internal angles add up to. For example, a square's angles add up to 360°, while a triangle’s angles add up to 180°. In this lesson, you'll learn how to use loops to drive Zumi in shapes that have equal sides and angles.</font>\n",
    "\n",
    "<img src=\"../Data/images/shapes.png\">"
   ]
  },
  {
   "cell_type": "markdown",
   "metadata": {
    "deletable": false
   },
   "source": [
    "## Introduction\n",
    "<font size=3> Always remember to include the library! </font>\n",
    "\n",
    "### Import libraries "
   ]
  },
  {
   "cell_type": "code",
   "execution_count": null,
   "metadata": {
    "deletable": false
   },
   "outputs": [],
   "source": [
    "from zumi.zumi import Zumi\n",
    "import time\n",
    "\n",
    "zumi = Zumi()"
   ]
  },
  {
   "cell_type": "markdown",
   "metadata": {
    "deletable": false
   },
   "source": [
    "### Square code\n",
    "<font size =3> Just so you can see how great loops are in a program, think about the code for driving in a square. Since a square has four equal sides, you would need to go forward then turn left or right four times.</font>\n",
    "\n",
    "<img src=\"../Data/images/square.png\" width=200>\n",
    "\n",
    "<font size =3>Using drive commands from the previous lesson, write a code so Zumi can drive in a square.</font>"
   ]
  },
  {
   "cell_type": "code",
   "execution_count": null,
   "metadata": {
    "deletable": false
   },
   "outputs": [],
   "source": [
    "# Write a square code here."
   ]
  },
  {
   "cell_type": "markdown",
   "metadata": {
    "deletable": false
   },
   "source": [
    "## For Loops\n",
    "<font size =3> You probably noticed that you repeated the same section of code four times. That's a lot of typing (or copying and pasting), and it can also lead to more errors! To get around this, you can use a loop, which lets you repeat parts of your code. They're a great shortcut --- without them, you would always have to write the same lines over and over again. They are called loops because the last statement loops around back to the beginning.</font>\n",
    "\n",
    "<img src=\"../Data/images/loop_square.png\" width=300>\n",
    "\n",
    "### Structure\n",
    "<font size =3> A for loop will repeat as many times as it is programmed. This means you can choose how many times your code will repeat! Here is the same square code written as a loop in Python. What do you notice?<br><br>\n",
    "    \n",
    "<font face=\"Courier\">\n",
    "for x in range(4): <br>\n",
    "<span style=\"margin-left: 40px;\">zumi.forward()</span> <br>\n",
    "<span style=\"margin-left: 40px;\">zumi.turn_left()</span> <br>\n",
    "</font>\n",
    "\n",
    "### Indentation\n",
    "<font size=3> In order for Python to know which code needs to be part of the loop, the code must be **indented** after the colon. This is like indenting at the beginning of a paragraph to let the reader know there is a new topic and everything below is going to address that topic. A standard tab will be 4 spaces. Any code unindented after the loop will run after the loop is finished. Fix the indentations below:\n"
   ]
  },
  {
   "cell_type": "code",
   "execution_count": null,
   "metadata": {},
   "outputs": [],
   "source": [
    "# TODO Fix this code!\n",
    " for x in range(4):\n",
    "     print(\"Hello\")"
   ]
  },
  {
   "cell_type": "code",
   "execution_count": null,
   "metadata": {},
   "outputs": [],
   "source": [
    "# TODO Fix this code!\n",
    "for x in range(4):\n",
    "print(\"Hello\")"
   ]
  },
  {
   "cell_type": "code",
   "execution_count": null,
   "metadata": {},
   "outputs": [],
   "source": [
    "# TODO Fix this code!\n",
    "for x in range(4):\n",
    "   print(\"Hello\")"
   ]
  },
  {
   "cell_type": "markdown",
   "metadata": {
    "deletable": false
   },
   "source": [
    "<font size =3> In the codes above, try changing the value in the parentheses to control the number of iterations, or times the loop will repeat. </font>"
   ]
  },
  {
   "cell_type": "code",
   "execution_count": null,
   "metadata": {},
   "outputs": [],
   "source": [
    "# Use a loop to code your own square!"
   ]
  },
  {
   "cell_type": "markdown",
   "metadata": {},
   "source": [
    "## More shapes!\n",
    "\n",
    "<font size=3> What other shapes can you make with loops? The square is the easiest because each turn is 90 degrees, but what about other shapes? How many sides does a triangle have? This particular triangle will be an **equilateral** triangle, meaning all three sides are of equal length and every angle is the same number of degrees.\n",
    "Here's a hint: the exterior angles of all **regular** polygons, or shapes with equal sides, always add up to 360 degrees. <br>\n",
    "\n",
    "<img src=\"../Data/images/square_vs_triangle.png\" width=700>\n",
    "\n",
    "    "
   ]
  },
  {
   "cell_type": "code",
   "execution_count": null,
   "metadata": {},
   "outputs": [],
   "source": [
    "# Write your triangle code here! "
   ]
  },
  {
   "cell_type": "markdown",
   "metadata": {
    "deletable": false
   },
   "source": [
    "<font size =3> There are many other shapes you can teach Zumi. Try pentagons, hexagons, or octagons! You may need a pencil and paper to figure out how many degrees you need to turn. Remember, the number of degrees multiplied by the number of sides should be equal to 360 degrees. </font>\n",
    "\n",
    "<img src=\"../Data/images/shapes2.jpg\" width=700>\n",
    "\n"
   ]
  },
  {
   "cell_type": "code",
   "execution_count": null,
   "metadata": {
    "deletable": false
   },
   "outputs": [],
   "source": [
    "# Code a pentagon"
   ]
  },
  {
   "cell_type": "code",
   "execution_count": null,
   "metadata": {},
   "outputs": [],
   "source": [
    "# Code a hexagon"
   ]
  },
  {
   "cell_type": "code",
   "execution_count": null,
   "metadata": {},
   "outputs": [],
   "source": [
    "# Code an octagon"
   ]
  },
  {
   "cell_type": "markdown",
   "metadata": {},
   "source": [
    "## go_straight()\n",
    "<font size=3> When you use <font face=\"Courier\">forward()</font>, Zumi cannot do other things or check her sensors while driving. Imagine walking with your eyes closed because your senses are unreachable. It's really important that humans, and robots, multitask so we don't crash! We can take steps while scanning our surroundings at the same time. Zumi can also take \"steps\" forward with the motors with  <font face=\"Courier\">zumi.go_straight()</font>. If you call the function by itself, you won't see movement. Try it out below:</font>\n"
   ]
  },
  {
   "cell_type": "code",
   "execution_count": null,
   "metadata": {},
   "outputs": [],
   "source": [
    "zumi.reset_gyro()\n",
    "zumi.go_straight(40,0)\n",
    "zumi.stop() # Always put a stop after using go_straight()"
   ]
  },
  {
   "cell_type": "markdown",
   "metadata": {},
   "source": [
    "<font size=3>When these small steps are put in a loop, or executed over and over again, Zumi will drive forward. Unlike  <font face=\"Courier\"> zumi.forward()</font>, parameters are required. Zumi needs to know speed and **heading**, or direction. For this example, we set the speed to 40 and the heading to 0 to go straight ahead for 50 \"steps\".</font>\n",
    "\n",
    "<img src=\"../Data/images/go_straight.png\" width=270>\n",
    "\n",
    "<font size=3> Fill in the code below with the missing for loop and use <font face=\"Courier\">go_straight()</font> to see Zumi drive!"
   ]
  },
  {
   "cell_type": "code",
   "execution_count": null,
   "metadata": {},
   "outputs": [],
   "source": [
    "zumi.reset_gyro() # Resetting all angles to zero once at the start\n",
    "\n",
    "# TODO Add a for loop below for 50 steps and use go_straight(40, 0)\n",
    "    \n",
    "zumi.stop() # Keep this stop outside of the for loop"
   ]
  },
  {
   "cell_type": "markdown",
   "metadata": {},
   "source": [
    "<font size=3> Now instead of changing the duration to vary the distance, you will need to change the number of times the loop will run. Increase the for loop range and Zumi will take more steps. Experiment with changing the steps and heading. What happens? When you're feeling comfortable, try <font face=\"Courier\"> go_reverse(40,0) </font>."
   ]
  }
 ],
 "metadata": {
  "kernelspec": {
   "display_name": "Python 3",
   "language": "python",
   "name": "python3"
  },
  "language_info": {
   "codemirror_mode": {
    "name": "ipython",
    "version": 3
   },
   "file_extension": ".py",
   "mimetype": "text/x-python",
   "name": "python",
   "nbconvert_exporter": "python",
   "pygments_lexer": "ipython3",
   "version": "3.5.3"
  }
 },
 "nbformat": 4,
 "nbformat_minor": 2
}
