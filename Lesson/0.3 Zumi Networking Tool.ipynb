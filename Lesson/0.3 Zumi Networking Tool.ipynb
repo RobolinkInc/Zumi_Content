{
 "cells": [
  {
   "cell_type": "markdown",
   "metadata": {},
   "source": [
    "<img src=\"../Data/images/ZumiHeader.png\" width=700>"
   ]
  },
  {
   "cell_type": "markdown",
   "metadata": {},
   "source": [
    "# Zumi Networking Fix\n",
    "\n",
    "<font size =3>If you are experiencing issues connecting to the internet, this script may help fix the Zumi networking setup file. This is an specific issue related only with the earliest version of Zumi delivered to users. \n",
    "After running this patch, Zumi will be able to connect to a wifi network. If you have any trouble or any questions, please post to [forum.robolink.com](https://forum.robolink.com/).</font>\n"
   ]
  },
  {
   "cell_type": "code",
   "execution_count": null,
   "metadata": {},
   "outputs": [],
   "source": [
    "%%bash\n",
    "\n",
    "echo 'Fixing netwotking boot sequence file /bin/rpi-wifi.sh ...'\n",
    "sudo bash -c 'cat > /bin/rpi-wifi.sh' << EOF\n",
    "echo 'Starting Wifi AP and client...'\n",
    "sleep 30\n",
    "sudo ifdown --force wlan0\n",
    "sudo ifdown --force ap0\n",
    "sudo ifup ap0\n",
    "sudo ifup wlan0\n",
    "sudo sysctl -w net.ipv4.ip_forward=1\n",
    "sudo iptables -t nat -A POSTROUTING -s 192.168.10.0/24 ! -d 192.168.10.0/24 -j MASQUERADE\n",
    "sudo systemctl restart dnsmasq\n",
    "EOF\n",
    "\n",
    "echo 'File updated!'\n",
    "\n",
    "#: Grant execution permisions to script\n",
    "sudo chmod +x /bin/rpi-wifi.sh\n",
    "\n"
   ]
  },
  {
   "cell_type": "markdown",
   "metadata": {},
   "source": [
    "<font size=3> After running the script above, please reboot Zumi by executing the code below and go to the dashboard to connect to a network. </font>"
   ]
  },
  {
   "cell_type": "code",
   "execution_count": null,
   "metadata": {},
   "outputs": [],
   "source": [
    "!sudo reboot"
   ]
  }
 ],
 "metadata": {
  "kernelspec": {
   "display_name": "Python 3",
   "language": "python",
   "name": "python3"
  },
  "language_info": {
   "codemirror_mode": {
    "name": "ipython",
    "version": 3
   },
   "file_extension": ".py",
   "mimetype": "text/x-python",
   "name": "python",
   "nbconvert_exporter": "python",
   "pygments_lexer": "ipython3",
   "version": "3.5.3"
  }
 },
 "nbformat": 4,
 "nbformat_minor": 2
}
