{
 "cells": [
  {
   "cell_type": "markdown",
   "metadata": {},
   "source": [
    "<img src=\"../Data/images/ZumiHeader.png\" width=700>"
   ]
  },
  {
   "cell_type": "markdown",
   "metadata": {},
   "source": [
    "## Zumi Temperature and Application\n",
    "<font size =3>  Electronics obviously get hot after an extended period of time of use or when the CPU is processing a large amount of data over a short period of time.  The on board Motion Processing Unit (MPU) has a sensor that reads the temperature of the board at any given time. \n",
    "    \n",
    "In this lesson, we will be accessing the on board MPU temperature sensor and displaying the current temperature as we move Zumi around. </font>"
   ]
  },
  {
   "cell_type": "code",
   "execution_count": 1,
   "metadata": {},
   "outputs": [
    {
     "name": "stdout",
     "output_type": "stream",
     "text": [
      " Starting Zumi \n",
      "Pi Zero I2C is available\n",
      "Gyro offset file already exists.\n",
      "Verified Pi Zero is the same\n",
      "Gyroscope previously calibrated\n"
     ]
    }
   ],
   "source": [
    "from zumi.zumi import Zumi\n",
    "from zumi.util.screen import Screen\n",
    "from zumi.personality import Personality\n",
    "import time\n",
    "\n",
    "zumi = Zumi()\n",
    "screen = Screen()\n",
    "personality = Personality(zumi, screen)"
   ]
  },
  {
   "cell_type": "markdown",
   "metadata": {},
   "source": [
    "### get_temp()\n",
    "<font size =3>  The get_temp() method reads the temperature from the onboard temperature sensor and returns the temperature in degrees Celcius.  "
   ]
  },
  {
   "cell_type": "code",
   "execution_count": 10,
   "metadata": {},
   "outputs": [
    {
     "name": "stdout",
     "output_type": "stream",
     "text": [
      "39.78°C\n"
     ]
    }
   ],
   "source": [
    "#Check and print the current temperature of MPU \n",
    "degrees_c = str(format(zumi.mpu.get_temp(), '.2f') + \"°C\")\n",
    "print(degrees_c)\n",
    "screen.draw_text_center(degrees_c)"
   ]
  },
  {
   "cell_type": "code",
   "execution_count": 11,
   "metadata": {},
   "outputs": [],
   "source": [
    "#Converts the temperature in celcius to fahrenheit\n",
    "def convertToFahrenheit(celsius):\n",
    "    degrees_f = (celsius * (9/5)) + 32\n",
    "    formatted = format(degrees_f, '.2f') # Round to two decimal places\n",
    "    return formatted"
   ]
  },
  {
   "cell_type": "code",
   "execution_count": 12,
   "metadata": {},
   "outputs": [
    {
     "name": "stdout",
     "output_type": "stream",
     "text": [
      "103.43°F\n"
     ]
    }
   ],
   "source": [
    "degrees_f = str(convertToFahrenheit(zumi.mpu.get_temp())) + \"°F\"\n",
    "print(degrees_f)\n",
    "screen.draw_text_center(degrees_f)"
   ]
  },
  {
   "cell_type": "markdown",
   "metadata": {},
   "source": [
    "<font size=3>In comparison:</font>\n",
    "* <font size=3>The average temperature of your body is around **98.0°F**</font>\n",
    "* <font size=3>The average room temperature is about **75°F**</font>\n",
    "* <font size=3>Water boils at **212°F**</font>\n",
    "* <font size=3>Most silicon transistors will fail around **248°F - 302°F**</font>\n",
    "* <font size=3>Almost all transistors will fail around **356°F**</font>"
   ]
  },
  {
   "cell_type": "markdown",
   "metadata": {},
   "source": [
    "<font size=3> Now try driving Zumi around for a few minutes and see how the temperature changes!"
   ]
  },
  {
   "cell_type": "code",
   "execution_count": null,
   "metadata": {},
   "outputs": [],
   "source": [
    "# Drive Zumi here"
   ]
  },
  {
   "cell_type": "markdown",
   "metadata": {},
   "source": [
    "## Display your current weather on the Zumi screen\n",
    "<font size=3>Now that you know how to get Zumi's temperature, what about the temperature from another part of the world?"
   ]
  },
  {
   "cell_type": "code",
   "execution_count": 5,
   "metadata": {},
   "outputs": [],
   "source": [
    "import requests\n",
    "from bs4 import BeautifulSoup"
   ]
  },
  {
   "cell_type": "code",
   "execution_count": null,
   "metadata": {},
   "outputs": [],
   "source": [
    "!sudo pip install bs4"
   ]
  },
  {
   "cell_type": "markdown",
   "metadata": {},
   "source": [
    "<font size=3> You will need to provide the two-letter state code, city name (no spaces), and zip code for the city you are seeking information from. Here is an example using the Robolink office as the location."
   ]
  },
  {
   "cell_type": "code",
   "execution_count": 6,
   "metadata": {},
   "outputs": [],
   "source": [
    "# Set the argument values:\n",
    "state   = 'ca'\n",
    "city    = 'sandiego'\n",
    "zip_code = '92122'   "
   ]
  },
  {
   "cell_type": "markdown",
   "metadata": {},
   "source": [
    "<font size=3> The next step is to generate a url from this information in the right format. Here we **concatenate** the main url for forecast data with the state, city, and zipcode. Run the cell below to see the output."
   ]
  },
  {
   "cell_type": "code",
   "execution_count": 7,
   "metadata": {},
   "outputs": [
    {
     "name": "stdout",
     "output_type": "stream",
     "text": [
      "https://www.wunderground.com/forecast/us/ca/sandiego/92122\n"
     ]
    }
   ],
   "source": [
    "core    = 'https://www.wunderground.com/forecast/us/'\n",
    "sentence = core + state + '/' + city + '/' + zip_code\n",
    "print(sentence)"
   ]
  },
  {
   "cell_type": "markdown",
   "metadata": {},
   "source": [
    "<font size=3> Time to send a request to the web page! Using the requests <font face=\"Courier\"> get() </font> function, you can **parse** the HTML code that makes up the website. Parsing means to divide up the code and search for the key components. In this case, we want to extract the temperature for the given location."
   ]
  },
  {
   "cell_type": "code",
   "execution_count": 8,
   "metadata": {},
   "outputs": [
    {
     "name": "stdout",
     "output_type": "stream",
     "text": [
      "66\n"
     ]
    }
   ],
   "source": [
    "page = requests.get(sentence)\n",
    "soup = BeautifulSoup(page.text, 'html.parser')\n",
    "temperature = soup.find(class_=\"wu-value wu-value-to\").get_text(strip=True)\n",
    "print(temperature)"
   ]
  },
  {
   "cell_type": "markdown",
   "metadata": {},
   "source": [
    "<font size=3> Now you can format this information on Zumi's screen!"
   ]
  },
  {
   "cell_type": "code",
   "execution_count": 9,
   "metadata": {},
   "outputs": [],
   "source": [
    "screen.draw_text_center(str(temperature)+\"°F in \" + city +\", \" + state )"
   ]
  },
  {
   "cell_type": "markdown",
   "metadata": {},
   "source": [
    "<font size=3> As an added challenge, make different reactions for Zumi depending on the temperature. Does she like fall or summer weather? You decide!"
   ]
  },
  {
   "cell_type": "code",
   "execution_count": 19,
   "metadata": {},
   "outputs": [
    {
     "ename": "TypeError",
     "evalue": "unorderable types: str() >= int()",
     "output_type": "error",
     "traceback": [
      "\u001b[0;31m---------------------------------------------------------------------------\u001b[0m",
      "\u001b[0;31mTypeError\u001b[0m                                 Traceback (most recent call last)",
      "\u001b[0;32m<ipython-input-19-cefec8ef59e9>\u001b[0m in \u001b[0;36m<module>\u001b[0;34m\u001b[0m\n\u001b[0;32m----> 1\u001b[0;31m \u001b[0;32mif\u001b[0m\u001b[0;34m(\u001b[0m\u001b[0mtemperature\u001b[0m \u001b[0;34m>=\u001b[0m \u001b[0;36m70\u001b[0m\u001b[0;34m)\u001b[0m\u001b[0;34m:\u001b[0m\u001b[0;34m\u001b[0m\u001b[0m\n\u001b[0m\u001b[1;32m      2\u001b[0m     \u001b[0mscreen\u001b[0m\u001b[0;34m.\u001b[0m\u001b[0mhappy\u001b[0m\u001b[0;34m(\u001b[0m\u001b[0;34m)\u001b[0m\u001b[0;34m\u001b[0m\u001b[0m\n\u001b[1;32m      3\u001b[0m \u001b[0;34m\u001b[0m\u001b[0m\n\u001b[1;32m      4\u001b[0m \u001b[0;32melse\u001b[0m\u001b[0;34m:\u001b[0m\u001b[0;34m\u001b[0m\u001b[0m\n\u001b[1;32m      5\u001b[0m     \u001b[0mscreen\u001b[0m\u001b[0;34m.\u001b[0m\u001b[0msad\u001b[0m\u001b[0;34m(\u001b[0m\u001b[0;34m)\u001b[0m\u001b[0;34m\u001b[0m\u001b[0m\n",
      "\u001b[0;31mTypeError\u001b[0m: unorderable types: str() >= int()"
     ]
    }
   ],
   "source": [
    "if(temperature >= 70):\n",
    "    screen.happy()\n",
    "    \n",
    "else:\n",
    "    screen.sad()"
   ]
  },
  {
   "cell_type": "code",
   "execution_count": null,
   "metadata": {},
   "outputs": [],
   "source": []
  }
 ],
 "metadata": {
  "kernelspec": {
   "display_name": "Python 3",
   "language": "python",
   "name": "python3"
  },
  "language_info": {
   "codemirror_mode": {
    "name": "ipython",
    "version": 3
   },
   "file_extension": ".py",
   "mimetype": "text/x-python",
   "name": "python",
   "nbconvert_exporter": "python",
   "pygments_lexer": "ipython3",
   "version": "3.5.3"
  }
 },
 "nbformat": 4,
 "nbformat_minor": 2
}
