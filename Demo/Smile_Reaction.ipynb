{
 "cells": [
  {
   "cell_type": "markdown",
   "metadata": {},
   "source": [
    "## Emotion&React\n",
    "\n",
    "* Place Zumi somewhere so that your face is level with the camera.\n",
    "* Place your nose in front of the camera, but leave a small gap in between you and Zumi. Otherwise, she can’t see your whole face and can’t detect your emotion. \n",
    "* Try grinning or frowning in front of Zumi. If Zumi can find your face, she will react to your emotions."
   ]
  },
  {
   "cell_type": "code",
   "execution_count": null,
   "metadata": {},
   "outputs": [],
   "source": [
    "import sys\n",
    "sys.path.insert(0,'/home/pi/Zumi_Contents/Datas')\n",
    "import demo_Smile_reaction as demo\n",
    "\n",
    "demo.run()"
   ]
  }
 ],
 "metadata": {
  "kernelspec": {
   "display_name": "Python 3",
   "language": "python",
   "name": "python3"
  },
  "language_info": {
   "codemirror_mode": {
    "name": "ipython",
    "version": 3
   },
   "file_extension": ".py",
   "mimetype": "text/x-python",
   "name": "python",
   "nbconvert_exporter": "python",
   "pygments_lexer": "ipython3",
   "version": "3.5.3"
  }
 },
 "nbformat": 4,
 "nbformat_minor": 2
}
