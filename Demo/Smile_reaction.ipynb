{
 "cells": [
  {
   "cell_type": "markdown",
   "metadata": {
    "deletable": false
   },
   "source": [
    "## Emote & React\n",
    "Zumi can read your emotions. Run this demo to see how she reacts to you being happy or sad.\n",
    "\n",
    "### Step 1: Setup\n",
    "<div>\n",
    "<br/><p>In Jupyter Notebook, code is written inside boxes called \"cells\". You can run a cell by clicking on it, then clicking the \"Run\" button <img src=\"../Data/images/run.png\" style=\"display: inline\"> in the second toolbar.<p/>\n",
    "</div>\n",
    "\n",
    "Try running the cell below to set up Zumi to recognize emotions."
   ]
  },
  {
   "cell_type": "code",
   "execution_count": null,
   "metadata": {
    "deletable": false
   },
   "outputs": [],
   "source": [
    "print(\"Cell activated!\\n\")\n",
    "print(\"Now setting up Zumi...\\n\")\n",
    "\n",
    "import sys\n",
    "sys.path.insert(0,'../Data/demo-run')\n",
    "import demo_Smile_reaction as demo\n",
    "\n",
    "print(\"\\n\\nDone!\")"
   ]
  },
  {
   "cell_type": "markdown",
   "metadata": {
    "deletable": false
   },
   "source": [
    "<div>\n",
    "If you run into any errors, you can click the \"Restart\" button <img src=\"../Data/images/reset.png\" style=\"display: inline\"> in the second toolbar to try again. Clicking this button will force you to restart from Step 1.\n",
    "</div>\n",
    "\n",
    "Also, did you notice the \"In \\[ \\]:\" text next to the cell? While the code in a cell is still running, there will be an asterisk inside the box, like this: \"In \\[\\*\\]:\". You can tell a cell is finished because there will be a number in there instead, like this: \"In \\[1\\]\". The number is the number of cells you've ran since you started the notebook, so the first cell you run will have a \"1\" inside the box, the second cell will have a \"2\", and so on.\n",
    "\n",
    "### Step 2: Play with Zumi\n",
    "\n",
    "Now that Zumi has been set up, run the cell below to see how she reacts to your facial expressions.\n",
    "\n",
    "* Place Zumi somewhere so that your face is level with the camera.\n",
    "* Place your nose in front of the camera, but leave a small gap in between you and Zumi. Otherwise, she can’t see your whole face and can’t detect your emotions. \n",
    "* Try grinning or frowning in front of Zumi. If Zumi can find your face, she will react.\n",
    "* <div>You can end the demo by pressing the \"Stop\" button <img src=\"../Data/images/stop.png\" style=\"display: inline\"> in the second toolbar.</div>"
   ]
  },
  {
   "cell_type": "code",
   "execution_count": null,
   "metadata": {
    "deletable": false
   },
   "outputs": [],
   "source": [
    "demo.run()"
   ]
  }
 ],
 "metadata": {
  "kernelspec": {
   "display_name": "Python 3",
   "language": "python",
   "name": "python3"
  },
  "language_info": {
   "codemirror_mode": {
    "name": "ipython",
    "version": 3
   },
   "file_extension": ".py",
   "mimetype": "text/x-python",
   "name": "python",
   "nbconvert_exporter": "python",
   "pygments_lexer": "ipython3",
   "version": "3.7.2"
  },
  "pycharm": {
   "stem_cell": {
    "cell_type": "raw",
    "metadata": {
     "collapsed": false
    },
    "source": []
   }
  }
 },
 "nbformat": 4,
 "nbformat_minor": 2
}
