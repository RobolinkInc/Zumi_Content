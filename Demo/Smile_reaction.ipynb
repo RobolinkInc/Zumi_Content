{
 "cells": [
  {
   "cell_type": "markdown",
   "metadata": {},
   "source": [
    "#### _How to use Jupyter notebook_\n",
    "![menu](../Datas/images/menu.jpg)\n",
    "* _In Jupyter Notebook, code is written inside boxes called \"cells\"._\n",
    "* _Click inside the cell below_\n",
    "* _Click the 'Run' button in the second toolbar to run the code inside the cell_\n",
    "* _Click the black square to stop the cell_\n",
    "* _Click the circular arrow to restart the notebook. You can use this to recover from software issues._\n",
    "***  \n",
    "\n",
    "## Emotion&React\n",
    "\n",
    "* Place Zumi somewhere so that your face is level with the camera.\n",
    "* Place your nose in front of the camera, but leave a small gap in between you and Zumi. Otherwise, she can’t see your whole face and can’t detect your emotion. \n",
    "* Try grinning or frowning in front of Zumi. If Zumi can find your face, she will react to your emotions."
   ]
  },
  {
   "cell_type": "code",
   "execution_count": null,
   "metadata": {},
   "outputs": [],
   "source": [
    "import sys\n",
    "sys.path.insert(0,'/home/pi/Zumi_Contents/Datas/demo_run')\n",
    "import demo_Smile_reaction as demo\n",
    "\n",
    "\n",
    "demo.run()"
   ]
  },
  {
   "cell_type": "markdown",
   "metadata": {},
   "source": [
    "***\n",
    "_Did you notice the \"In \\[ \\]:\" text next to the cell? While the code in a cell is still running, there will be an asterisk inside the box, like this: \"In \\[\\*\\]:\". You can tell a cell is finished because there will be a number in there instead, like this: \"In \\[1\\]\". The number is the number of cells you've ran since you started the notebook, so the first cell you run will have a \"1\" inside the box, the second cell will have a \"2\", and so on._"
   ]
  }
 ],
 "metadata": {
  "kernelspec": {
   "display_name": "Python 3",
   "language": "python",
   "name": "python3"
  },
  "language_info": {
   "codemirror_mode": {
    "name": "ipython",
    "version": 3
   },
   "file_extension": ".py",
   "mimetype": "text/x-python",
   "name": "python",
   "nbconvert_exporter": "python",
   "pygments_lexer": "ipython3",
   "version": "3.5.3"
  }
 },
 "nbformat": 4,
 "nbformat_minor": 2
}
