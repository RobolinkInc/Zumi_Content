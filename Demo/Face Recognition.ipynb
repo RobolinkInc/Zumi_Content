{
 "cells": [
  {
   "cell_type": "markdown",
   "metadata": {},
   "source": [
    "## Face Recognition\n",
    "\n",
    "In this demo, we will be training Zumi to recognize faces.\n",
    "\n",
    "### Step 1: Import Libraries"
   ]
  },
  {
   "cell_type": "code",
   "execution_count": null,
   "metadata": {},
   "outputs": [],
   "source": [
    "print(\"Importing libraries...\")\n",
    "\n",
    "import sys\n",
    "\n",
    "sys.path.insert(0, '/home/pi/zumi-python-library')\n",
    "\n",
    "from util.camera import Camera\n",
    "from util.screen import Screen\n",
    "\n",
    "import cv2\n",
    "import os\n",
    "import numpy as np\n",
    "import time\n",
    "import pickle\n",
    "\n",
    "from PIL import Image\n",
    "\n",
    "print(\"Done!\")"
   ]
  },
  {
   "cell_type": "markdown",
   "metadata": {},
   "source": [
    "### Step 2: Setup"
   ]
  },
  {
   "cell_type": "markdown",
   "metadata": {},
   "source": [
    "#### Step 2.1 Initialize Variables"
   ]
  },
  {
   "cell_type": "code",
   "execution_count": null,
   "metadata": {
    "scrolled": true
   },
   "outputs": [],
   "source": [
    "face_detector = cv2.CascadeClassifier(\"haarcascade_frontalface_default.xml\")\n",
    "recognizer = cv2.face.LBPHFaceRecognizer_create()\n",
    "font = cv2.FONT_HERSHEY_SIMPLEX\n",
    "name = None\n",
    "streaming_image = None\n",
    "cap = 0"
   ]
  },
  {
   "cell_type": "markdown",
   "metadata": {},
   "source": [
    "#### Step 2.2 Initialize Camera and Screen"
   ]
  },
  {
   "cell_type": "code",
   "execution_count": null,
   "metadata": {},
   "outputs": [],
   "source": [
    "camera = Camera()\n",
    "screen = Screen()"
   ]
  },
  {
   "cell_type": "markdown",
   "metadata": {},
   "source": [
    "#### Step 2.3 Initialize Functions"
   ]
  },
  {
   "cell_type": "code",
   "execution_count": null,
   "metadata": {},
   "outputs": [],
   "source": [
    "def makeLabel():\n",
    "    labels = 0\n",
    "    write = False\n",
    "\n",
    "    if not os.path.exists(\"./labels.pickle\"):\n",
    "        with open('labels.pickle', 'wb') as labelFile:\n",
    "            pickle.dump({}, labelFile, protocol=pickle.HIGHEST_PROTOCOL)\n",
    "\n",
    "    with open('labels.pickle', 'rb') as labelFile:\n",
    "        labels = pickle.load(labelFile)\n",
    "        names = list(labels.values())\n",
    "\n",
    "        if not name in names and name is not None:\n",
    "            number = len(labels)\n",
    "            labels[number] = name\n",
    "            write = True\n",
    "\n",
    "    if write:\n",
    "        with open('labels.pickle', 'wb') as labelFile:\n",
    "            pickle.dump(labels, labelFile, protocol=pickle.HIGHEST_PROTOCOL)\n",
    "\n",
    "def save_image(image):\n",
    "    if not os.path.isdir('faces'):\n",
    "        os.makedirs(os.path.join('faces'))\n",
    "    file_name = './faces/'\n",
    "\n",
    "    if name is not None:\n",
    "        number = 0\n",
    "        lists = os.listdir('faces')\n",
    "        for list in lists:\n",
    "            if name in list:\n",
    "                number += 1\n",
    "\n",
    "        file_name = file_name + name + '_' + str(number) + '.jpg'\n",
    "        cv2.imwrite(file_name, image)\n",
    "\n",
    "def makeDataset(image):\n",
    "    global cap\n",
    "    global streaming_image\n",
    "    \n",
    "    makeLabel()\n",
    "    gray = cv2.cvtColor(image, cv2.COLOR_BGR2GRAY)\n",
    "    faces = face_detector.detectMultiScale(gray, 1.2, 5)\n",
    "\n",
    "    for(x, y, w, h) in faces:\n",
    "        cv2.rectangle(image, (x,y), (x+w, y+h), (255,255,255), 4)\n",
    "        face_image = gray[y:y+h, x:x+w]\n",
    "        save_image(face_image)\n",
    "        cap += 1\n",
    "\n",
    "        cv2.rectangle(gray, (x,y), (x+w, y+h), (255,255,255), 4)\n",
    "\n",
    "    streaming_image = cv2.resize(gray, (128, 64))\n",
    "\n",
    "def getImagesAndLabels(path):\n",
    "    labels = 0\n",
    "\n",
    "    with open('labels.pickle', 'rb') as labelFile:\n",
    "        labels = pickle.load(labelFile)\n",
    "\n",
    "    imagePaths = [os.path.join(path,f) for f in os.listdir(path)]\n",
    "\n",
    "    faces = []\n",
    "    ids = []\n",
    "\n",
    "    for imagePath in imagePaths:\n",
    "        PIL_img = Image.open(imagePath).convert('L')\n",
    "        img_numpy = np.array(PIL_img, 'uint8')\n",
    "\n",
    "        name = os.path.split(imagePath)[-1].split('_')[0]\n",
    "        id = -1\n",
    "        for label in labels:\n",
    "            if labels[label] == name:\n",
    "                id = label\n",
    "\n",
    "        faces.append(img_numpy)\n",
    "        ids.append(id)\n",
    "\n",
    "    return faces, ids\n",
    "\n",
    "def recognition(image):\n",
    "    global streaming_image\n",
    "\n",
    "    labels = 0\n",
    "\n",
    "    with open('labels.pickle', 'rb') as labelFile:\n",
    "        labels = pickle.load(labelFile)\n",
    "\n",
    "    gray = cv2.cvtColor(image, cv2.COLOR_BGR2GRAY)\n",
    "    faces = face_detector.detectMultiScale(gray, 1.2, 5)\n",
    "\n",
    "    for(x, y, w, h) in faces:\n",
    "        cv2.rectangle(image, (x,y), (x+w, y+h), (255,255,255), 4)\n",
    "        Id = recognizer.predict(gray[y:y+h, x:x+w])\n",
    "        name = labels[Id[0]]\n",
    "        cv2.putText(image, name, (x, y-5), font, 1, (255,255,255), 3)\n",
    "        print(name)\n",
    "\n",
    "        cv2.rectangle(gray, (x,y), (x+w, y+h), (255,255,255), 4)\n",
    "        cv2.putText(gray, name, (x, y-5), font, 0.5, (255,255,255), 3)\n",
    "\n",
    "    streaming_image = cv2.resize(gray, (128, 64))\n",
    "\n",
    "def deleteDataset(name):\n",
    "    imagePaths = [os.path.join('faces',f) for f in os.listdir('faces')]\n",
    "    for imagePath in imagePaths:\n",
    "        imgName = os.path.split(imagePath)[-1].split('_')[0]\n",
    "        if imgName == name:\n",
    "            os.remove(imagePath)\n",
    "    labels = 0\n",
    "    with open('labels.pickle', 'rb') as labelFile:\n",
    "        labels = pickle.load(labelFile)\n",
    "    for key in labels.keys():\n",
    "        if labels.get(key) == name:\n",
    "            del labels[key]\n",
    "            break\n",
    "    with open('labels.pickle', 'wb') as labelFile:\n",
    "        pickle.dump(labels, labelFile, protocol=pickle.HIGHEST_PROTOCOL)"
   ]
  },
  {
   "cell_type": "markdown",
   "metadata": {},
   "source": [
    "### Step 3: Collect Data\n",
    "\n",
    "* Place Zumi somewhere so that your face is level with her camera.\n",
    "* Enter a name.\n",
    "* Have the person whose name you entered look into Zumi's camera.\n",
    "* Once she sees that person's face, she will take a picture and remember it for later. You can tell she can see a face because a box will be drawn around it on her screen.\n",
    "* Keep looking into Zumi's camera until the screen says \"Done!\"."
   ]
  },
  {
   "cell_type": "code",
   "execution_count": null,
   "metadata": {},
   "outputs": [],
   "source": [
    "name = input(\"Please enter a name: \")\n",
    "\n",
    "screen.draw_text(\"Let's take some pictures!\")\n",
    "\n",
    "time.sleep(1)\n",
    "\n",
    "cap = 0\n",
    "\n",
    "while True:\n",
    "    try:\n",
    "        image = camera.capture()\n",
    "        makeDataset(image)\n",
    "        screen.draw_image(Image.fromarray(streaming_image).convert('1'))\n",
    "\n",
    "        if cap > 50:\n",
    "            screen.draw_text(\"Done!\")\n",
    "            break\n",
    "    except Exception as e:\n",
    "        print(e)\n",
    "        camera.close()\n",
    "        screen.draw_text(\"\")\n",
    "\n",
    "time.sleep(1)\n",
    "\n",
    "camera.close()\n",
    "screen.draw_text(\"\")"
   ]
  },
  {
   "cell_type": "markdown",
   "metadata": {},
   "source": [
    "### Step 4: Training\n",
    "\n",
    "Now that Zumi has pictures of faces, she will now try to sort them out."
   ]
  },
  {
   "cell_type": "code",
   "execution_count": null,
   "metadata": {},
   "outputs": [],
   "source": [
    "print(\"Now training...\")\n",
    "\n",
    "faces, ids = getImagesAndLabels('faces')\n",
    "recognizer.train(faces, np.array(ids))\n",
    "if not os.path.isdir('trainer'):\n",
    "    os.makedirs(os.path.join('trainer'))\n",
    "recognizer.save('trainer/trainer.yml')\n",
    "\n",
    "print(\"Done!\")"
   ]
  },
  {
   "cell_type": "markdown",
   "metadata": {},
   "source": [
    "### Step 5: Run Model\n",
    "\n",
    "How did Zumi do? Put a face in front of the camera and Zumi will try to identify it!"
   ]
  },
  {
   "cell_type": "code",
   "execution_count": null,
   "metadata": {},
   "outputs": [],
   "source": [
    "recognizer.read('trainer/trainer.yml')\n",
    "\n",
    "current_time = time.time()\n",
    "\n",
    "while(time.time() - current_time < 30):\n",
    "    try:\n",
    "        image = camera.capture()\n",
    "        recognition(image)\n",
    "        screen.draw_image(Image.fromarray(streaming_image).convert('1'))\n",
    "    except Exception as e:\n",
    "        print(e)\n",
    "        camera.close()\n",
    "        screen.draw_text(\"\")"
   ]
  },
  {
   "cell_type": "markdown",
   "metadata": {},
   "source": [
    "### Utilities\n",
    "\n",
    "These cells aren't necessary for the demo, but they may come in hand."
   ]
  },
  {
   "cell_type": "markdown",
   "metadata": {},
   "source": [
    "#### Delete 1 Dataset"
   ]
  },
  {
   "cell_type": "code",
   "execution_count": null,
   "metadata": {},
   "outputs": [],
   "source": [
    "labels = 0\n",
    "try:\n",
    "    with open('labels.pickle', 'rb') as labelFile:\n",
    "        labels = pickle.load(labelFile)\n",
    "    names = list(labels.values())\n",
    "    print(names)\n",
    "    name = input(\"Please enter a name: \")\n",
    "    deleteDataset(name)\n",
    "except:\n",
    "    print(\"Error: no dataset\")"
   ]
  },
  {
   "cell_type": "markdown",
   "metadata": {},
   "source": [
    "#### Delete All Datasets"
   ]
  },
  {
   "cell_type": "code",
   "execution_count": null,
   "metadata": {},
   "outputs": [],
   "source": [
    "imagePaths = [os.path.join('faces',f) for f in os.listdir('faces')]\n",
    "for imagePath in imagePaths:\n",
    "    os.remove(imagePath)\n",
    "if os.path.isfile('labels.pickle'):\n",
    "    os.remove('labels.pickle')\n",
    "if os.path.isfile('trainer/trainer.yml'):\n",
    "    os.remove('trainer/trainer.yml')"
   ]
  },
  {
   "cell_type": "markdown",
   "metadata": {},
   "source": [
    "#### Reset Camera and Screen"
   ]
  },
  {
   "cell_type": "code",
   "execution_count": null,
   "metadata": {},
   "outputs": [],
   "source": [
    "camera.close()\n",
    "screen.draw_text(\"\")"
   ]
  }
 ],
 "metadata": {
  "kernelspec": {
   "display_name": "Python 3",
   "language": "python",
   "name": "python3"
  },
  "language_info": {
   "codemirror_mode": {
    "name": "ipython",
    "version": 3
   },
   "file_extension": ".py",
   "mimetype": "text/x-python",
   "name": "python",
   "nbconvert_exporter": "python",
   "pygments_lexer": "ipython3",
   "version": "3.5.3"
  }
 },
 "nbformat": 4,
 "nbformat_minor": 2
}
