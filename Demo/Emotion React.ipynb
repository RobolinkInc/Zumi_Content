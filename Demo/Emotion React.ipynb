{
 "cells": [
  {
   "cell_type": "markdown",
   "metadata": {},
   "source": [
    "## Emotion&React\n",
    "\n",
    "\n",
    "### Step 1: Import Libraries"
   ]
  },
  {
   "cell_type": "code",
   "execution_count": null,
   "metadata": {},
   "outputs": [],
   "source": [
    "from zumi.zumi import Zumi\n",
    "from zumi.util.camera import Camera\n",
    "from zumi.util.screen import Screen\n",
    "from zumi.personality import Personality\n",
    "from zumi.util.image_processor import FaceDetector\n",
    "\n",
    "import time"
   ]
  },
  {
   "cell_type": "markdown",
   "metadata": {},
   "source": [
    "### Step 2: Initialize Objects"
   ]
  },
  {
   "cell_type": "code",
   "execution_count": null,
   "metadata": {},
   "outputs": [],
   "source": [
    "zumi = Zumi()\n",
    "camera = Camera(auto_start=True)\n",
    "screen = Screen()\n",
    "personality = Personality(zumi, screen)\n",
    "faceDetector = FaceDetector() "
   ]
  },
  {
   "cell_type": "markdown",
   "metadata": {},
   "source": [
    "### Step 3: Let's Play With Zumi!\n",
    "\n",
    "* Place Zumi somewhere so that your face is level with the camera.\n",
    "* Place your nose in front of the camera, but leave a small gap in between you and Zumi. Otherwise, she can’t see your whole face and can’t detect your emotion. \n",
    "* Try grinning or frowning in front of Zumi. If Zumi can find your face, she will react to your emotions."
   ]
  },
  {
   "cell_type": "code",
   "execution_count": null,
   "metadata": {},
   "outputs": [],
   "source": [
    "while True:\n",
    "    image = camera.capture()\n",
    "    face = faceDetector.detect_face(image)\n",
    "    if face:\n",
    "        face_roi = faceDetector.get_face_roi()\n",
    "        smile = faceDetector.detect_smile(face_roi)\n",
    "        if smile:\n",
    "            personality.happy()\n",
    "        else:\n",
    "            personality.angry()\n",
    "    else:\n",
    "        screen.close_eyes()"
   ]
  },
  {
   "cell_type": "markdown",
   "metadata": {},
   "source": [
    "### Clean up"
   ]
  },
  {
   "cell_type": "code",
   "execution_count": null,
   "metadata": {},
   "outputs": [],
   "source": [
    "zumi.stop()\n",
    "camera.shutdown()\n",
    "eye.draw_text(\"\")"
   ]
  }
 ],
 "metadata": {
  "kernelspec": {
   "display_name": "Python 3",
   "language": "python",
   "name": "python3"
  },
  "language_info": {
   "codemirror_mode": {
    "name": "ipython",
    "version": 3
   },
   "file_extension": ".py",
   "mimetype": "text/x-python",
   "name": "python",
   "nbconvert_exporter": "python",
   "pygments_lexer": "ipython3",
   "version": "3.5.3"
  }
 },
 "nbformat": 4,
 "nbformat_minor": 2
}
