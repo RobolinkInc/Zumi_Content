{
 "cells": [
  {
   "cell_type": "markdown",
   "metadata": {},
   "source": [
    "# Black Light, White Light\n",
    "\n",
    "### Step 1: Import Libraries"
   ]
  },
  {
   "cell_type": "code",
   "execution_count": null,
   "metadata": {},
   "outputs": [],
   "source": [
    "from zumi.zumi import Zumi\n",
    "from zumi.util.camera import Camera\n",
    "from zumi.util.knn_classifier import ColorClassifier\n",
    "from threading import Thread"
   ]
  },
  {
   "cell_type": "markdown",
   "metadata": {},
   "source": [
    "### Step 2: Setup"
   ]
  },
  {
   "cell_type": "code",
   "execution_count": null,
   "metadata": {},
   "outputs": [],
   "source": [
    "zumi = Zumi()\n",
    "camera = Camera()\n",
    "knn = ColorClassifier(path='/home/pi/Zumi_Contents/Datas')"
   ]
  },
  {
   "cell_type": "markdown",
   "metadata": {},
   "source": [
    "### Step 3: Define Functions"
   ]
  },
  {
   "cell_type": "code",
   "execution_count": null,
   "metadata": {},
   "outputs": [],
   "source": [
    "global is_white\n",
    "is_white = False\n",
    "\n",
    "def continue_straight():\n",
    "    while is_white:\n",
    "        zumi.go_straight(20, 0)\n",
    "    zumi.stop(0)"
   ]
  },
  {
   "cell_type": "markdown",
   "metadata": {},
   "source": [
    "### Step 4:  Let's Play with Zumi!\n",
    "\n",
    "* Place Zumi somewhere so she can move around.\n",
    "* Once the demo starts, place a white or black card in front of Zumi, and press enter.\n",
    "* A white card will make Zumi go forward, while a black card will make her stop."
   ]
  },
  {
   "cell_type": "code",
   "execution_count": null,
   "metadata": {},
   "outputs": [],
   "source": [
    "knn.load_model(\"black_and_white_light\")\n",
    "camera.start_camera()\n",
    "\n",
    "while True:\n",
    "    if input(\"Press Enter to read a card, or type q first to exit. \") == \"q\":\n",
    "        break\n",
    "    image = camera.capture()\n",
    "    predict = knn.predict(image)\n",
    "    print(predict)\n",
    "    \n",
    "    if predict == \"white\":\n",
    "        is_white = True\n",
    "        drive_thread = Thread(target=continue_straight)\n",
    "        drive_thread.start()\n",
    "    if predict == \"black\":\n",
    "        is_white = False\n",
    "        zumi.stop()\n",
    "\n",
    "is_white = False"
   ]
  },
  {
   "cell_type": "markdown",
   "metadata": {},
   "source": [
    "### Clean Up"
   ]
  },
  {
   "cell_type": "code",
   "execution_count": null,
   "metadata": {},
   "outputs": [],
   "source": [
    "zumi.stop()\n",
    "camera.close()"
   ]
  }
 ],
 "metadata": {
  "kernelspec": {
   "display_name": "Python 3",
   "language": "python",
   "name": "python3"
  },
  "language_info": {
   "codemirror_mode": {
    "name": "ipython",
    "version": 3
   },
   "file_extension": ".py",
   "mimetype": "text/x-python",
   "name": "python",
   "nbconvert_exporter": "python",
   "pygments_lexer": "ipython3",
   "version": "3.5.3"
  }
 },
 "nbformat": 4,
 "nbformat_minor": 2
}
