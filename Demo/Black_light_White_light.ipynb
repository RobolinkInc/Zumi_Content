{
 "cells": [
  {
   "cell_type": "markdown",
   "metadata": {
    "deletable": false
   },
   "source": [
    "## Black Light, White Light\n",
    "Zumi can recognize simple colors. In this demo, we will control Zumi using black and white cards.\n",
    "\n",
    "### Step 1: Setup\n",
    "<div>\n",
    "<br/><p>In Jupyter Notebook, code is written inside boxes called \"cells\". You can run a cell by clicking on it, then clicking the \"Run\" button <img src=\"../Data/images/run.png\" style=\"display: inline\"> in the second toolbar.<p/>\n",
    "</div>\n",
    "\n",
    "Try running the cell below to set up Zumi to recognize black and white."
   ]
  },
  {
   "cell_type": "code",
   "execution_count": null,
   "metadata": {
    "deletable": false
   },
   "outputs": [],
   "source": [
    "print(\"Cell activated!\\n\")\n",
    "print(\"Now setting up Zumi...\\n\")\n",
    "\n",
    "import sys\n",
    "sys.path.insert(0,'../Data/demo-run')\n",
    "import demo_BW_light as demo\n",
    "\n",
    "print(\"\\n\\nDone!\")"
   ]
  },
  {
   "cell_type": "markdown",
   "metadata": {
    "deletable": false
   },
   "source": [
    "<div>\n",
    "If you run into any errors, you can click the \"Restart\" button <img src=\"../Data/images/reset.png\" style=\"display: inline\"> in the second toolbar to try again. Clicking this button will force you to restart from Step 1.\n",
    "</div>\n",
    "\n",
    "Also, did you notice the \"In \\[ \\]:\" text next to the cell? While the code in a cell is still running, there will be an asterisk inside the box, like this: \"In \\[\\*\\]:\". You can tell a cell is finished because there will be a number in there instead, like this: \"In \\[1\\]\". The number is the number of cells you've ran since you started the notebook, so the first cell you run will have a \"1\" inside the box, the second cell will have a \"2\", and so on.\n",
    "\n",
    "### Step 2: Play with Zumi\n",
    "\n",
    "Now that Zumi has been set up, run the cell below to start controlling Zumi.\n",
    "\n",
    "* Place Zumi somewhere so she can move around.\n",
    "* Once the demo starts, place a white or black card in front of Zumi, and press enter.\n",
    "* A white card will make Zumi go forward, while a black card will make her stop.\n",
    "* <div>You can end the demo by pressing the \"Stop\" button <img src=\"../Data/images/stop.png\" style=\"display: inline\"> in the second toolbar, or by typing \"q\" before pressing enter.</div>"
   ]
  },
  {
   "cell_type": "code",
   "execution_count": null,
   "metadata": {
    "deletable": false
   },
   "outputs": [],
   "source": [
    "demo.run()"
   ]
  }
 ],
 "metadata": {
  "kernelspec": {
   "display_name": "Python 3",
   "language": "python",
   "name": "python3"
  },
  "language_info": {
   "codemirror_mode": {
    "name": "ipython",
    "version": 3
   },
   "file_extension": ".py",
   "mimetype": "text/x-python",
   "name": "python",
   "nbconvert_exporter": "python",
   "pygments_lexer": "ipython3",
   "version": "3.7.2"
  }
 },
 "nbformat": 4,
 "nbformat_minor": 2
}
