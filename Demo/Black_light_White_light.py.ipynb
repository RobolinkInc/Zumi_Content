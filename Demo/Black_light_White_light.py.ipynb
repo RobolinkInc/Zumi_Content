{
 "cells": [
  {
   "cell_type": "markdown",
   "metadata": {},
   "source": [
    "# Black Light, White Light\n",
    "\n",
    "* Place Zumi somewhere so she can move around.\n",
    "* Once the demo starts, place a white or black card in front of Zumi, and press enter.\n",
    "* A white card will make Zumi go forward, while a black card will make her stop."
   ]
  },
  {
   "cell_type": "code",
   "execution_count": 6,
   "metadata": {},
   "outputs": [
    {
     "name": "stdout",
     "output_type": "stream",
     "text": [
      "Press Enter to read a card, or type q first to exit. \n",
      "51 152 107\n",
      "['white']\n"
     ]
    },
    {
     "name": "stderr",
     "output_type": "stream",
     "text": [
      "Exception in thread Thread-26:\n",
      "Traceback (most recent call last):\n",
      "  File \"/usr/local/lib/python3.5/dist-packages/zumi/zumi.py\", line 907, in control_motors\n",
      "    self.bus.write_i2c_block_data(Device.Arduino, _create_command(CommandType.Motor,MotorCommand.SetMotorsToSpeed, acceleration),[left, right])\n",
      "OSError: [Errno 121] Remote I/O error\n",
      "\n",
      "During handling of the above exception, another exception occurred:\n",
      "\n",
      "Traceback (most recent call last):\n",
      "  File \"/usr/lib/python3.5/threading.py\", line 914, in _bootstrap_inner\n",
      "    self.run()\n",
      "  File \"/usr/lib/python3.5/threading.py\", line 862, in run\n",
      "    self._target(*self._args, **self._kwargs)\n",
      "  File \"/home/pi/Zumi_Contents/Datas/demo_BW_light.py\", line 17, in continue_straight\n",
      "  File \"/usr/local/lib/python3.5/dist-packages/zumi/zumi.py\", line 595, in go_straight\n",
      "    self.drive_at_angle(max_speed, abs(speed), desired_angle, k_p, k_d, k_i, accuracy)\n",
      "  File \"/usr/local/lib/python3.5/dist-packages/zumi/zumi.py\", line 540, in drive_at_angle\n",
      "    self.control_motors(final_right_speed, final_left_speed, 0)\n",
      "  File \"/usr/local/lib/python3.5/dist-packages/zumi/zumi.py\", line 911, in control_motors\n",
      "    self.stop(0)\n",
      "  File \"/usr/local/lib/python3.5/dist-packages/zumi/zumi.py\", line 874, in stop\n",
      "    self.bus.write_byte(Device.Arduino, _create_command(CommandType.Motor, MotorCommand.Stop, acceleration))\n",
      "OSError: [Errno 121] Remote I/O error\n",
      "\n"
     ]
    },
    {
     "name": "stdout",
     "output_type": "stream",
     "text": [
      "Press Enter to read a card, or type q first to exit. q\n",
      "stopping PiCamera\n"
     ]
    }
   ],
   "source": [
    "import sys\n",
    "sys.path.insert(0,'/home/pi/Zumi_Contents/Datas')\n",
    "import demo_BW_light as demo\n",
    "\n",
    "demo.run()"
   ]
  },
  {
   "cell_type": "code",
   "execution_count": null,
   "metadata": {},
   "outputs": [],
   "source": [
    "\n",
    "\n"
   ]
  },
  {
   "cell_type": "code",
   "execution_count": null,
   "metadata": {},
   "outputs": [],
   "source": []
  }
 ],
 "metadata": {
  "kernelspec": {
   "display_name": "Python 3",
   "language": "python",
   "name": "python3"
  },
  "language_info": {
   "codemirror_mode": {
    "name": "ipython",
    "version": 3
   },
   "file_extension": ".py",
   "mimetype": "text/x-python",
   "name": "python",
   "nbconvert_exporter": "python",
   "pygments_lexer": "ipython3",
   "version": "3.5.3"
  }
 },
 "nbformat": 4,
 "nbformat_minor": 2
}
