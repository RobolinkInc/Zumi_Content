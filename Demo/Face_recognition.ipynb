{
 "cells": [
  {
   "cell_type": "markdown",
   "metadata": {
    "deletable": false
   },
   "source": [
    "## Face Recognition\n",
    "Zumi can be trained to recognize your face! In this demo, we will give Zumi pictures of your face, have her train a model, and then run the model.\n",
    "\n",
    "### Step 1: Setup\n",
    "<div>\n",
    "<br/><p>In Jupyter Notebook, code is written inside boxes called \"cells\". You can run a cell by clicking on it, then clicking the \"Run\" button <img src=\"../Data/images/run.png\" style=\"display: inline\"> in the second toolbar.<p/>\n",
    "</div>\n",
    "\n",
    "Try running the cell below to set up Zumi to recognize faces."
   ]
  },
  {
   "cell_type": "code",
   "execution_count": null,
   "metadata": {
    "deletable": false
   },
   "outputs": [],
   "source": [
    "print(\"Cell activated!\\n\")\n",
    "print(\"Now setting up Zumi...\\n\")\n",
    "\n",
    "import sys\n",
    "sys.path.insert(0,'../Data/demo-run')\n",
    "import demo_Face_recognition as demo\n",
    "\n",
    "print(\"\\n\\nDone!\")"
   ]
  },
  {
   "cell_type": "markdown",
   "metadata": {
    "deletable": false
   },
   "source": [
    "<div>\n",
    "If you run into any errors, you can click the \"Restart\" button <img src=\"../Data/images/reset.png\" style=\"display: inline\"> in the second toolbar to try again. Clicking this button will force you to restart from Step 1.\n",
    "</div>\n",
    "\n",
    "Also, did you notice the \"In \\[ \\]:\" text next to the cell? While the code in a cell is still running, there will be an asterisk inside the box, like this: \"In \\[\\*\\]:\". You can tell a cell is finished because there will be a number in there instead, like this: \"In \\[1\\]\". The number is the number of cells you've ran since you started the notebook, so the first cell you run will have a \"1\" inside the box, the second cell will have a \"2\", and so on."
   ]
  },
  {
   "cell_type": "markdown",
   "metadata": {
    "deletable": false
   },
   "source": [
    "### Step 2: Collect Pictures\n",
    "\n",
    "This cell will turn on Zumi's camera so that she can start taking pictures of faces.\n",
    "\n",
    "* Place Zumi somewhere so that your face is level with her camera.\n",
    "* Enter your name.\n",
    "* Look into Zumi's camera, but be sure to leave enough room so she can see your face!\n",
    "* Once she sees your face, she will take a picture and remember it for later. You can tell she can see your face because a box will be drawn around it on her screen.\n",
    "* Keep looking into Zumi's camera until her screen says \"Done!\"."
   ]
  },
  {
   "cell_type": "code",
   "execution_count": null,
   "metadata": {
    "deletable": false
   },
   "outputs": [],
   "source": [
    "demo.collectPictures()"
   ]
  },
  {
   "cell_type": "markdown",
   "metadata": {
    "deletable": false
   },
   "source": [
    "Zumi can learn more than one face, by the way. Try running the cell again with a different person."
   ]
  },
  {
   "cell_type": "markdown",
   "metadata": {
    "deletable": false
   },
   "source": [
    "### Step 3: Train a Model\n",
    "\n",
    "Once Zumi has enough pictures of faces, she will need time to learn the different faces and sort them out.\n",
    "\n",
    "In computer language, this process is called \"training\". The purpose of this training is to create a \"model\", which Zumi will be using in the next step to recognize the faces that she learned."
   ]
  },
  {
   "cell_type": "code",
   "execution_count": null,
   "metadata": {
    "deletable": false
   },
   "outputs": [],
   "source": [
    "demo.trainModel()"
   ]
  },
  {
   "cell_type": "markdown",
   "metadata": {
    "deletable": false
   },
   "source": [
    "### Step 4: Run Model\n",
    "<div>\n",
    "<br/>\n",
    "<p>How did Zumi do? Run this cell, and Zumi will start to recognize faces using the trained model from the previous step.<p/>\n",
    "<p>Once ran, this cell will run forever. You can end it by pressing the \"Stop\" button <img src=\"../Data/images/stop.png\" style=\"display: inline\"> in the second toolbar.<p/>\n",
    "</div>"
   ]
  },
  {
   "cell_type": "code",
   "execution_count": null,
   "metadata": {
    "deletable": false
   },
   "outputs": [],
   "source": [
    "demo.runModel()"
   ]
  },
  {
   "cell_type": "markdown",
   "metadata": {
    "deletable": false
   },
   "source": [
    "### Step 5: Cleanup\n",
    "\n",
    "All done? Shutdown the camera and screen so they can be used for another demo."
   ]
  },
  {
   "cell_type": "code",
   "execution_count": null,
   "metadata": {
    "deletable": false
   },
   "outputs": [],
   "source": [
    "demo.camera.close()\n",
    "demo.screen.draw_text(\"\")"
   ]
  },
  {
   "cell_type": "markdown",
   "metadata": {
    "deletable": false
   },
   "source": [
    "### Options\n",
    "\n",
    "These cells aren't necessary for the demo, but they may come in hand.\n",
    "\n",
    "#### Delete One Dataset\n",
    "\n",
    "Not satisfied with your pictures? Run this cell to remove one set of faces from Zumi's memory."
   ]
  },
  {
   "cell_type": "code",
   "execution_count": null,
   "metadata": {
    "deletable": false
   },
   "outputs": [],
   "source": [
    "demo.deleteOneDataset()"
   ]
  },
  {
   "cell_type": "markdown",
   "metadata": {
    "deletable": false
   },
   "source": [
    "#### Delete All Datasets\n",
    "\n",
    "Want to reset the demo? Run this cell to wipe Zumi's memory clean of all traces of faces."
   ]
  },
  {
   "cell_type": "code",
   "execution_count": null,
   "metadata": {
    "deletable": false
   },
   "outputs": [],
   "source": [
    "demo.deleteAllDatasets()"
   ]
  }
 ],
 "metadata": {
  "celltoolbar": "Edit Metadata",
  "kernelspec": {
   "display_name": "Python 3",
   "language": "python",
   "name": "python3"
  },
  "language_info": {
   "codemirror_mode": {
    "name": "ipython",
    "version": 3
   },
   "file_extension": ".py",
   "mimetype": "text/x-python",
   "name": "python",
   "nbconvert_exporter": "python",
   "pygments_lexer": "ipython3",
   "version": "3.7.2"
  }
 },
 "nbformat": 4,
 "nbformat_minor": 2
}
