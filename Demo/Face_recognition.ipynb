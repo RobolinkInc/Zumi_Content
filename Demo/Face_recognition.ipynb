{
 "cells": [
  {
   "cell_type": "markdown",
   "metadata": {},
   "source": [
    "#### _How to use Jupyter notebook_\n",
    "![menu](../Datas/images/menu.jpg)\n",
    "* _In Jupyter Notebook, code is written inside boxes called \"cells\"._\n",
    "* _Click inside the cell below_\n",
    "* _Click the 'Run' button in the second toolbar to run the code inside the cell_\n",
    "* _Click the black square to stop the cell_\n",
    "* _Click the circular arrow to restart the notebook. You can use this to recover from software issues._\n",
    "***  \n",
    "\n",
    "# Face Recognition\n",
    "\n",
    "Zumi can be trained to recognize your face! In this demo, we will give Zumi pictures of your face, have her train a model, and then run the model.\n",
    "\n",
    "\n",
    "### Step 1: Collect Pictures\n",
    "\n",
    "* Place Zumi somewhere so that your face is level with her camera.\n",
    "* Enter your name.\n",
    "* Look into Zumi's camera, but be sure to leave enough room so she can see your face!\n",
    "* Once she sees your face, she will take a picture and remember it for later. You can tell she can see your face because a box will be drawn around it on her screen.\n",
    "* Keep looking into Zumi's camera until her screen says \"Done!\"."
   ]
  },
  {
   "cell_type": "code",
   "execution_count": null,
   "metadata": {},
   "outputs": [],
   "source": [
    "import sys\n",
    "sys.path.insert(0,'/home/pi/Zumi_Contents/Datas/demo_run')\n",
    "import demo_Face_recognition as demo\n",
    "\n",
    "\n",
    "demo.collectPictures()"
   ]
  },
  {
   "cell_type": "markdown",
   "metadata": {},
   "source": [
    "Zumi can learn more than one face, by the way. Try running the cell again with a different person.  "
   ]
  },
  {
   "cell_type": "markdown",
   "metadata": {},
   "source": [
    "***\n",
    "_Did you notice the \"In \\[ \\]:\" text next to the cell? While the code in a cell is still running, there will be an asterisk inside the box, like this: \"In \\[\\*\\]:\". You can tell a cell is finished because there will be a number in there instead, like this: \"In \\[1\\]\". The number is the number of cells you've ran since you started the notebook, so the first cell you run will have a \"1\" inside the box, the second cell will have a \"2\", and so on._\n",
    "***"
   ]
  },
  {
   "cell_type": "markdown",
   "metadata": {},
   "source": [
    "### Step 2: Train a Model\n",
    "\n",
    "Once Zumi has enough pictures of faces, she will need time to learn the different faces and sort them out.\n",
    "\n",
    "In computer language, this process is called \"training\". The purpose of this training is to create a \"model\", which Zumi will be using in the next step to recognize the faces that she learned."
   ]
  },
  {
   "cell_type": "code",
   "execution_count": null,
   "metadata": {},
   "outputs": [],
   "source": [
    "demo.trainModel()"
   ]
  },
  {
   "cell_type": "markdown",
   "metadata": {},
   "source": [
    "### Step 3: Run Model\n",
    "\n",
    "How did Zumi do? Run this cell, and Zumi will start to recognize faces using the trained model from the previous step.\n",
    "\n",
    "Once this cell is ran, it will stop running automatically after 30 seconds. You can end it earlier by clicking on the cell, and then clicking the black square in the toolbar."
   ]
  },
  {
   "cell_type": "code",
   "execution_count": null,
   "metadata": {},
   "outputs": [],
   "source": [
    "demo.runModel()"
   ]
  },
  {
   "cell_type": "markdown",
   "metadata": {},
   "source": [
    "### Options\n",
    "\n",
    "These cells aren't necessary for the demo, but they may come in hand.\n",
    "\n",
    "#### Delete One Dataset\n",
    "\n",
    "Not satisfied with your pictures? Run this cell to remove one set of faces from Zumi's memory."
   ]
  },
  {
   "cell_type": "code",
   "execution_count": null,
   "metadata": {},
   "outputs": [],
   "source": [
    "demo.deleteOneDataset()"
   ]
  },
  {
   "cell_type": "markdown",
   "metadata": {},
   "source": [
    "#### Delete All Datasets\n",
    "\n",
    "Want to reset the demo? Run this cell to wipe Zumi's memory clean of all traces of faces."
   ]
  },
  {
   "cell_type": "code",
   "execution_count": null,
   "metadata": {},
   "outputs": [],
   "source": [
    "demo.deleteAllDatasets()"
   ]
  },
  {
   "cell_type": "code",
   "execution_count": null,
   "metadata": {},
   "outputs": [],
   "source": []
  }
 ],
 "metadata": {
  "kernelspec": {
   "display_name": "Python 3",
   "language": "python",
   "name": "python3"
  },
  "language_info": {
   "codemirror_mode": {
    "name": "ipython",
    "version": 3
   },
   "file_extension": ".py",
   "mimetype": "text/x-python",
   "name": "python",
   "nbconvert_exporter": "python",
   "pygments_lexer": "ipython3",
   "version": "3.5.3"
  }
 },
 "nbformat": 4,
 "nbformat_minor": 2
}
