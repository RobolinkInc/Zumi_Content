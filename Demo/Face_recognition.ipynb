{
 "cells": [
  {
   "cell_type": "markdown",
   "metadata": {},
   "source": [
    "## Face Recognition\n",
    "\n",
    "Zumi can be trained to recognize your face! In this demo, we will give Zumi pictures of your face, have her train a model, and then run the model.\n",
    "\n",
    "### Step 1: Setup\n",
    "\n",
    "In Jupyter Notebook, code is written inside boxes called \"cells\". You can run a cell by clicking on the small black arrow next to it. Try running the cell below, which will set Zumi up to start recognizing faces."
   ]
  },
  {
   "cell_type": "code",
   "execution_count": null,
   "metadata": {},
   "outputs": [],
   "source": [
    "import sys\n",
    "sys.path.insert(0,'/home/pi/Zumi_Contents/Datas/Face_recognition')\n",
    "from recognition import Recognition\n",
    "\n",
    "from zumi.util.camera import Camera\n",
    "from zumi.util.screen import Screen\n",
    "\n",
    "import time\n",
    "import cv2\n",
    "import IPython.display\n",
    "import PIL.Image\n",
    "import numpy as np\n",
    "import os\n",
    "\n",
    "fd = Recognition()\n",
    "camera = Camera(auto_start=False)\n",
    "screen = Screen()"
   ]
  },
  {
   "cell_type": "markdown",
   "metadata": {},
   "source": [
    "Did you notice the \"In \\[ \\]:\" text next to the cell? While the code in a cell is still running, there will be an asterisk inside the box, like this: \"In \\[\\*\\]:\". You can tell a cell is finished because there will be a number in there instead, like this: \"In \\[1\\]\". The number is the number of cells you've ran since you started the notebook, so the first cell you run will have a \"1\" inside the box, the second cell will have a \"2\", and so on."
   ]
  },
  {
   "cell_type": "markdown",
   "metadata": {},
   "source": [
    "### Step 2: Collect Pictures\n",
    "\n",
    "This cell will turn on Zumi's camera so that she can start taking pictures of faces.\n",
    "\n",
    "* Place Zumi somewhere so that your face is level with her camera.\n",
    "* Enter your name.\n",
    "* Look into Zumi's camera, but be sure to leave enough room so she can see your face!\n",
    "* Once she sees your face, she will take a picture and remember it for later. You can tell she can see your face because a box will be drawn around it on her screen.\n",
    "* Keep looking into Zumi's camera until her screen says \"Done!\"."
   ]
  },
  {
   "cell_type": "code",
   "execution_count": null,
   "metadata": {},
   "outputs": [],
   "source": [
    "def collectPictures():\n",
    "    camera.start_camera()\n",
    "    fd.name = input(\"input name : \")\n",
    "    print(\"Capture 50 pictures\")\n",
    "    time.sleep(1)\n",
    "    \n",
    "    while True:\n",
    "        try:\n",
    "            image = camera.capture()\n",
    "            fd.makeDataset(image)\n",
    "            IPython.display.display(PIL.Image.fromarray(image))\n",
    "            screen.draw_image(PIL.Image.fromarray(fd.streaming_image).convert('1'))\n",
    "            IPython.display.clear_output(wait=True)\n",
    "            \n",
    "            if fd.cap > 50:\n",
    "                print(\"done\")\n",
    "                screen.draw_text_center(\"Done!\")\n",
    "                camera.close()\n",
    "                break\n",
    "        except Exception as e:\n",
    "            print(e)\n",
    "            screen.draw_text(\"\")\n",
    "            camera.close()\n",
    "            break\n",
    "            \n",
    "    fd.cap = 0\n",
    "    time.sleep(1)\n",
    "    screen.draw_text(\"\")\n",
    "    camera.close()\n",
    "    \n",
    "collectPictures()"
   ]
  },
  {
   "cell_type": "markdown",
   "metadata": {},
   "source": [
    "Zumi can learn more than one face, by the way. Try running the cell again with a different person."
   ]
  },
  {
   "cell_type": "markdown",
   "metadata": {},
   "source": [
    "### Step 3: Train a Model\n",
    "\n",
    "Once Zumi has enough pictures of faces, she will need time to learn the different faces and sort them out.\n",
    "\n",
    "In computer language, this process is called \"training\". The purpose of this training is to create a \"model\", which Zumi will be using in the next step to recognize the faces that she learned."
   ]
  },
  {
   "cell_type": "code",
   "execution_count": null,
   "metadata": {},
   "outputs": [],
   "source": [
    "print(\"Training model...\")\n",
    "\n",
    "fd.trainModel()\n",
    "\n",
    "print(\"Done!\")"
   ]
  },
  {
   "cell_type": "markdown",
   "metadata": {},
   "source": [
    "### Step 4: Run Model\n",
    "\n",
    "How did Zumi do? Run this cell, and Zumi will start to recognize faces using the trained model from the previous step.\n",
    "\n",
    "Once this cell is ran, it will stop running automatically after 30 seconds. You can end it earlier by clicking on the cell, and then clicking the black square in the toolbar."
   ]
  },
  {
   "cell_type": "code",
   "execution_count": null,
   "metadata": {},
   "outputs": [],
   "source": [
    "def runModel():\n",
    "    camera.start_camera()\n",
    "    print(\"loading...\")\n",
    "    fd.recognizer.read('../Datas/Face_recognition/trainer/trainer.yml')\n",
    "    print(\"start\")\n",
    "    \n",
    "    currentTime = time.time()\n",
    "    \n",
    "    while time.time() - currentTime < 30:\n",
    "        try:\n",
    "            image = camera.capture()\n",
    "            fd.recognition(image)\n",
    "            IPython.display.display(PIL.Image.fromarray(image))\n",
    "            screen.draw_image(PIL.Image.fromarray(fd.streaming_image).convert('1'))\n",
    "            IPython.display.clear_output(wait=True)\n",
    "        except Exception as e:\n",
    "            print(e)\n",
    "            screen.draw_text(\"\")\n",
    "            camera.close()\n",
    "            break\n",
    "    camera.close()\n",
    "    \n",
    "runModel()"
   ]
  },
  {
   "cell_type": "markdown",
   "metadata": {},
   "source": [
    "### Step 5: Cleanup\n",
    "\n",
    "All done? Shutdown the camera and screen so they can be used for another demo."
   ]
  },
  {
   "cell_type": "code",
   "execution_count": null,
   "metadata": {},
   "outputs": [],
   "source": [
    "camera.close()\n",
    "screen.draw_text(\"\")"
   ]
  },
  {
   "cell_type": "markdown",
   "metadata": {},
   "source": [
    "### Options\n",
    "\n",
    "These cells aren't necessary for the demo, but they may come in hand.\n",
    "\n",
    "#### Delete One Dataset\n",
    "\n",
    "Not satisfied with your pictures? Run this cell to remove one set of faces from Zumi's memory."
   ]
  },
  {
   "cell_type": "code",
   "execution_count": null,
   "metadata": {},
   "outputs": [],
   "source": [
    "import pickle\n",
    "\n",
    "labels = 0    \n",
    "try:\n",
    "    with open('../Datas/Face_recognition/labels.pickle', 'rb') as labelFile:\n",
    "        labels = pickle.load(labelFile)\n",
    "    names = list(labels.values())\n",
    "    print(names)\n",
    "    name = input(\"Please enter a name: \")\n",
    "    print(\"?\")\n",
    "    fd.deleteDataset(name)\n",
    "    print(\"??\")\n",
    "except:\n",
    "    print(\"[Error] No dataset\")"
   ]
  },
  {
   "cell_type": "markdown",
   "metadata": {},
   "source": [
    "#### Delete All Datasets\n",
    "\n",
    "Want to reset the demo? Run this cell to wipe Zumi's memory clean of all traces of faces."
   ]
  },
  {
   "cell_type": "code",
   "execution_count": null,
   "metadata": {},
   "outputs": [],
   "source": [
    "fd.deleteAllDatasets()"
   ]
  }
 ],
 "metadata": {
  "kernelspec": {
   "display_name": "Python 3",
   "language": "python",
   "name": "python3"
  },
  "language_info": {
   "codemirror_mode": {
    "name": "ipython",
    "version": 3
   },
   "file_extension": ".py",
   "mimetype": "text/x-python",
   "name": "python",
   "nbconvert_exporter": "python",
   "pygments_lexer": "ipython3",
   "version": "3.5.3"
  }
 },
 "nbformat": 4,
 "nbformat_minor": 2
}
