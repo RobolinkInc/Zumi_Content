{
 "cells": [
  {
   "cell_type": "markdown",
   "metadata": {},
   "source": [
    "\n",
    "![Page under construction](../Data/images/page_under_construction.jpg)\n",
    "\n",
    "<font size=3>Please excuse our dust. Our Zumi demos were not working the way we expected for a lot of people.\n",
    "To make sure you have the best user experience, we are temporarily taking the demos down off of Jupyter Notebook\n",
    "while we work on them. Stay tuned! </font>\n",
    " "
   ]
  }
 ],
 "metadata": {
  "kernelspec": {
   "display_name": "Python 3",
   "language": "python",
   "name": "python3"
  },
  "language_info": {
   "codemirror_mode": {
    "name": "ipython",
    "version": 3
   },
   "file_extension": ".py",
   "mimetype": "text/x-python",
   "name": "python",
   "nbconvert_exporter": "python",
   "pygments_lexer": "ipython3",
   "version": "3.5.3"
  }
 },
 "nbformat": 4,
 "nbformat_minor": 2
}
