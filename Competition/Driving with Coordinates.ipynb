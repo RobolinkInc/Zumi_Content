{
 "cells": [
  {
   "cell_type": "markdown",
   "metadata": {},
   "source": [
    "move_to_coordinate()\n",
    "Description\n",
    "This method uses a best fit linear approximation of the distance traveled over time. It uses the equation y = mx + b, where:\n",
    "\n",
    "y is the distance traveled\n",
    "m is the predicted speed in centimeters per second\n",
    "x is the time elapsed\n",
    "b is the slope intercept\n",
    "Syntax\n",
    "move_to_coordinate(desired_x, desired_y)\n",
    "move_to_coordinate(desired_x, desired_y, k_p=None, k_i=None, k_d=None, units=\"in\"):\n",
    "\n",
    "Parameters\n",
    "desired_x: The x coordinate to travel to.\n",
    "desired_y: The y coordinate to travel to.\n",
    "k_p: P-gain. Default to None.\n",
    "k_i: I-gain. Default to None.\n",
    "k_d: D-gain. Default to None.\n",
    "units: The units that the input coordinate will be in. Defaults to \"in\" or inches, other option is \"cm\" or centimeters.\n",
    "\n",
    "Returns"
   ]
  },
  {
   "cell_type": "markdown",
   "metadata": {},
   "source": [
    "move_inches()\n",
    "This method uses a best fit linear approximation of the distance traveled over time. It uses the equation y = mx + b, where:\n",
    "\n",
    "y is the distance traveled\n",
    "m is the predicted speed in inches per second\n",
    "x is the time elapsed\n",
    "b is the slope intercept\n",
    "If the PID values are not set the internal default values will be set.\n",
    "\n",
    "If the angle is not input Zumi will drive to whatever angle it is currently facing.\n",
    "\n",
    "Syntax\n",
    "move_inches(distance, angle)\n",
    "move_inches(distance, angle=None, k_p=None, k_i=None, k_d=None)\n",
    "\n",
    "Parameters\n",
    "distance: the distance in inches you want to travel\n",
    "angle: heading (0 degrees is defined when the Zumi object is created.) Default to None\n",
    "k_p: P-gain. Default to None.\n",
    "k_i: I-gain. Default to None.\n",
    "k_d: D-gain. Default to None."
   ]
  },
  {
   "cell_type": "markdown",
   "metadata": {},
   "source": [
    "move_centimeters()\n",
    "Description\n",
    "This method uses a best fit linear approximation of the distance traveled over time. It uses the equation y = mx + b, where:\n",
    "\n",
    "y is the distance traveled\n",
    "m is the predicted speed in centimeters per second\n",
    "x is the time elapsed\n",
    "b is the slope intercept\n",
    "If the PID values are not set the internal default values will be set.\n",
    "\n",
    "If the angle is not input Zumi will drive to whatever angle it is currently facing.\n",
    "\n",
    "Syntax\n",
    "move_centimeters(distance, angle)\n",
    "move_centimeters(distance, angle=None, k_p=None, k_i=None, k_d=None)\n",
    "\n",
    "Parameters\n",
    "distance: the distance in centimeters you want to travel\n",
    "angle: heading (0 degrees is defined when the Zumi object is created.) Default to None\n",
    "k_p: P-gain. Default to None.\n",
    "k_i: I-gain. Default to None.\n",
    "k_d: D-gain. Default to None."
   ]
  },
  {
   "cell_type": "code",
   "execution_count": null,
   "metadata": {},
   "outputs": [],
   "source": []
  }
 ],
 "metadata": {
  "kernelspec": {
   "display_name": "Python 3",
   "language": "python",
   "name": "python3"
  },
  "language_info": {
   "codemirror_mode": {
    "name": "ipython",
    "version": 3
   },
   "file_extension": ".py",
   "mimetype": "text/x-python",
   "name": "python",
   "nbconvert_exporter": "python",
   "pygments_lexer": "ipython3",
   "version": "3.5.3"
  }
 },
 "nbformat": 4,
 "nbformat_minor": 2
}
