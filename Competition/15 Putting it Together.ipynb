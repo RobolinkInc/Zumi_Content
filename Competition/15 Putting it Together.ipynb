{
 "cells": [
  {
   "cell_type": "markdown",
   "metadata": {},
   "source": [
    "<img src=\"../Data/images/ZumiHeader.png\" width=700>"
   ]
  },
  {
   "cell_type": "markdown",
   "metadata": {},
   "source": [
    "# Creating Custom Functions\n",
    "\n",
    "<font size =3> Functions are a way to save time and energy by storing commonly used blocks of code into one named set. You have been using Zumi’s functions already by calling <font face=\"Courier\">zumi.forward()</font> or <font face=\"Courier\">zumi.reverse()</font>.\n",
    "But did you know you can make your own functions?\n",
    "</font>\n",
    "\n",
    "### Defining functions\n",
    "<font size=3> The first step to writing your own function is the keyword <font face=\"Courier\">def</font>. You are letting Python know that you are about to **define** a function. Next, provide your function name followed by parenthesis and a colon. After the colon, indent and include the body of the function, which will contain what you want your function to do. For example, let's create a function that greets you!</font>"
   ]
  },
  {
   "cell_type": "code",
   "execution_count": null,
   "metadata": {},
   "outputs": [],
   "source": [
    "def greet_user():\n",
    "    print(\"Hello\")"
   ]
  },
  {
   "cell_type": "markdown",
   "metadata": {},
   "source": [
    "<font size=3>If you run the code above, nothing will happen. This code only defines the function but won't run until you call it. </font>"
   ]
  },
  {
   "cell_type": "code",
   "execution_count": null,
   "metadata": {},
   "outputs": [],
   "source": [
    "greet_user() # Call the function"
   ]
  },
  {
   "cell_type": "markdown",
   "metadata": {},
   "source": [
    "### Defining functions with parameters\n",
    "<font size=3> What if we want the function to do something different depending on the parameters we provide? Remember that you can change the number of seconds Zumi drives forward in <font face=\"Courier\">zumi.forward()</font>. You can also add parameters to your functions! </font>"
   ]
  },
  {
   "cell_type": "code",
   "execution_count": null,
   "metadata": {},
   "outputs": [],
   "source": [
    "def greet_user(name):\n",
    "    print(\"Hello\", name)\n",
    "\n",
    "greet_user(\"Zumi\")"
   ]
  },
  {
   "cell_type": "markdown",
   "metadata": {},
   "source": [
    "<font size=3> We've modified the function definition to say \"hello\" to whichever name is provided as a parameter. In the example, we **pass** \"Zumi\" as a parameter to the function. Try calling the function again, but with a different name. Make sure it's in quotation marks! </font>"
   ]
  },
  {
   "cell_type": "code",
   "execution_count": null,
   "metadata": {},
   "outputs": [],
   "source": [
    "greet_user(\"CHANGE ME!\")"
   ]
  },
  {
   "cell_type": "markdown",
   "metadata": {},
   "source": [
    "<font size=3> What do you think would happen if there weren't any quotation marks in the function call? Or if we put numbers?  </font>"
   ]
  },
  {
   "cell_type": "code",
   "execution_count": null,
   "metadata": {},
   "outputs": [],
   "source": [
    "greet_user(12345)"
   ]
  },
  {
   "cell_type": "markdown",
   "metadata": {},
   "source": [
    "<font size=3> Since we defined the function to print to the screen, any input needs to be in quotation marks. That does not mean you can't write functions that can use numbers! Most of Zumi's parameters, like speed and duration, are numbers. </font>\n",
    "\n",
    "### Multiple parameters\n",
    "<font size=3> Just like with <font face=\"Courier\">zumi.forward()</font>, you can make functions that require more than one parameter. The example below shows a function that requires two inputs and adds them together.\n",
    "\n",
    "</font>"
   ]
  },
  {
   "cell_type": "code",
   "execution_count": null,
   "metadata": {},
   "outputs": [],
   "source": [
    "def add(x,y):\n",
    "    print(x+y)"
   ]
  },
  {
   "cell_type": "markdown",
   "metadata": {},
   "source": [
    "<font size=3> Try calling the function with the numbers 2 and 3 separated by a comma. What do you think will happen? </font>"
   ]
  },
  {
   "cell_type": "code",
   "execution_count": null,
   "metadata": {},
   "outputs": [],
   "source": [
    "# Call the add() function"
   ]
  },
  {
   "cell_type": "markdown",
   "metadata": {},
   "source": [
    "### Functions with Zumi\n",
    "<font size=3> You have the basics down, so now try and create a function that uses drive commands. Here is an example that uses drive commands to make a square:"
   ]
  },
  {
   "cell_type": "code",
   "execution_count": null,
   "metadata": {},
   "outputs": [],
   "source": [
    "from zumi.zumi import Zumi # Don't forget to import the zumi library!\n",
    "zumi = Zumi() # ...and create Zumi object!"
   ]
  },
  {
   "cell_type": "code",
   "execution_count": null,
   "metadata": {},
   "outputs": [],
   "source": [
    "def my_square(): # Function definition \n",
    "    zumi.forward() \n",
    "    zumi.turn_left()\n",
    "    zumi.forward()\n",
    "    zumi.turn_left()\n",
    "    zumi.forward()\n",
    "    zumi.turn_left()\n",
    "    zumi.forward()\n",
    "    zumi.turn_left()\n",
    "    \n",
    "my_square() # Call the function with the parameter to change the square size\n",
    "    "
   ]
  },
  {
   "cell_type": "markdown",
   "metadata": {},
   "source": [
    "<font size=3> Make new functions below! If you want a challenge, try modifying the square function above to accept a seconds parameter to make your square bigger or smaller. "
   ]
  },
  {
   "cell_type": "code",
   "execution_count": null,
   "metadata": {
    "hide_input": false
   },
   "outputs": [],
   "source": [
    "# CODE ME!"
   ]
  }
 ],
 "metadata": {
  "kernelspec": {
   "display_name": "Python 3",
   "language": "python",
   "name": "python3"
  },
  "language_info": {
   "codemirror_mode": {
    "name": "ipython",
    "version": 3
   },
   "file_extension": ".py",
   "mimetype": "text/x-python",
   "name": "python",
   "nbconvert_exporter": "python",
   "pygments_lexer": "ipython3",
   "version": "3.5.3"
  }
 },
 "nbformat": 4,
 "nbformat_minor": 2
}
