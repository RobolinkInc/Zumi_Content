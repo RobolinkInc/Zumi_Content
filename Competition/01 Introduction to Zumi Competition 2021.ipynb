{
 "cells": [
  {
   "cell_type": "markdown",
   "metadata": {},
   "source": [
    "<img src=\"../Data/images/ZumiHeader.png\" width=700>"
   ]
  },
  {
   "cell_type": "markdown",
   "metadata": {},
   "source": [
    "# Welcome to the Zumi Competition!\n",
    "\n",
    "<font size =3> Join the competition from anywhere this year, and put your AI knowledge to the test! The challenge is called Cruise to the Park. This year’s challenge will require you to really master some of Zumi’s AI capabilities by utilizing her camera to recognize a STOP sign, teaching her about red and green, and reading QR codes to navigate the field. For this challenge, you’ll be coding in Blockly or Python. If you are going to write Python code for this competition, you're in the right place! If you would like to see some general info about the competition, check out the webpage [here](https://shop.robolink.com/pages/irc-2021).</font>\n",
    "\n",
    "## Challenge Description\n",
    "<img src=\"../Data/images/competition_challenge_a.jpg\" width=400>\n",
    "<img src=\"../Data/images/competition_challenge_b.jpg\" width=400>\n",
    "<img src=\"../Data/images/competition_challenge_c.jpg\" width=400><br>\n",
    "<font size =3>The competition is split up into three separate challenges. The first one involves using QR codes to tell Zumi where to park. The second one requires zumi to stop at a stop sign and then move through a road segment without touching any walls after the stop sign has been removed. For the third challenge, Zumi must stop at a red card and wait until the card is swapped to a green card. Afterwards, Zumi must follow the line path until it reaches the QR code and reads it, continuing in the direction stored in the QR code until she reachs the finish line. </font>\n",
    "\n",
    "\n",
    "## The Rules\n",
    "<font size =3>All rules related to this competition can be found at the link [here](https://shop.robolink.com/pages/irc-2021-rules).</font>\n",
    "\n",
    "\n",
    "## How To Get the Field/Register\n",
    "<font size =3>If you haven't purchased the competition field or registered for the competition yet, you can do so by going to the link [here](https://shop.robolink.com/collections/search-all-products/products/cruise-to-the-park-2021-competition-field)!</font>\n",
    "\n",
    "## Lessons and Resources\n",
    "<font size =3>There are several lessons included with Zumi to get you started with learning how to complete the competition. These lessons range from basic driving commands to QR code detection, and include everything you might need to succeed!</font>"
   ]
  },
  {
   "cell_type": "code",
   "execution_count": null,
   "metadata": {},
   "outputs": [],
   "source": []
  }
 ],
 "metadata": {
  "kernelspec": {
   "display_name": "Python 3",
   "language": "python",
   "name": "python3"
  },
  "language_info": {
   "codemirror_mode": {
    "name": "ipython",
    "version": 3
   },
   "file_extension": ".py",
   "mimetype": "text/x-python",
   "name": "python",
   "nbconvert_exporter": "python",
   "pygments_lexer": "ipython3",
   "version": "3.5.3"
  }
 },
 "nbformat": 4,
 "nbformat_minor": 2
}
