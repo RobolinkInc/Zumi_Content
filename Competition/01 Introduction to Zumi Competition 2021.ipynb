{
 "cells": [
  {
   "cell_type": "markdown",
   "metadata": {},
   "source": [
    "<img src=\"../Data/images/ZumiHeader.png\" width=700>"
   ]
  },
  {
   "cell_type": "markdown",
   "metadata": {},
   "source": [
    "# Welcome to the Zumi Competition!\n",
    "\n",
    "<font size =3> Join the competition from anywhere this year, and put your AI knowledge to the test!The challenge is called Cruise to the Park. This year’s challenge will require you to really master some of Zumi’s AI capabilities by utilizing her camera to recognize a STOP sign, teaching her about red and green, and reading QR codes to navigate the field. For this challenge, you’ll be coding in Blockly or Python. If you are going to write Python code for this competition, you're in the right place! </font>\n",
    "\n",
    "## Challenge Description\n",
    "<font size =3> </font>"
   ]
  }
 ],
 "metadata": {
  "kernelspec": {
   "display_name": "Python 3",
   "language": "python",
   "name": "python3"
  },
  "language_info": {
   "codemirror_mode": {
    "name": "ipython",
    "version": 3
   },
   "file_extension": ".py",
   "mimetype": "text/x-python",
   "name": "python",
   "nbconvert_exporter": "python",
   "pygments_lexer": "ipython3",
   "version": "3.5.3"
  }
 },
 "nbformat": 4,
 "nbformat_minor": 2
}
