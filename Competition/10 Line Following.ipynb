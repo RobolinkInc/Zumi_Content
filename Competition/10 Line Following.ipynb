{
 "cells": [
  {
   "cell_type": "markdown",
   "metadata": {
    "deletable": false
   },
   "source": [
    "<img src=\"../Data/images/ZumiHeader.png\" width=700>"
   ]
  },
  {
   "cell_type": "markdown",
   "metadata": {
    "deletable": false
   },
   "source": [
    "# Crosswalks and Line Following (Bottom IR)\n",
    "\n",
    "<font size =3> Cars need to share the road with pedestrians and cyclists. This is why there are safe distances for cars to stop at an intersection. In these activities, you will use the bottom IR sensors to stop at a crosswalk and follow lines. </font>\n",
    "\n",
    "<img src=\"../Data/images/crosswalk.png\" width=600>\n",
    "\n",
    "## Import libraries"
   ]
  },
  {
   "cell_type": "code",
   "execution_count": null,
   "metadata": {
    "deletable": false
   },
   "outputs": [],
   "source": [
    "from zumi.zumi import Zumi\n",
    "import time\n",
    "\n",
    "zumi = Zumi()"
   ]
  },
  {
   "cell_type": "markdown",
   "metadata": {
    "deletable": false
   },
   "source": [
    "## Stop at the crosswalk\n",
    "<font size=3> In the previous lesson, you used Zumi's front IR sensors to avoid obstacles. Now you will use the bottom IR sensors to sense a white or black line on the road and stop. In order to detect the line to stop at, the road Zumi is driving on must be the opposite color. For example, to stop at a white line the road must be black, or the Zumi will not move.</font>\n",
    "\n",
    "### Pseudocode\n",
    "<font size=3> Like you did in the obstacle avoidance lesson, write each line of pseudocode as a **comment**. You will be translating this to code later."
   ]
  },
  {
   "cell_type": "code",
   "execution_count": null,
   "metadata": {},
   "outputs": [],
   "source": [
    "# Write pseudocode in here"
   ]
  },
  {
   "cell_type": "markdown",
   "metadata": {},
   "source": [
    "### Test!\n",
    "<font size=3> Once you have your pseudocode, translate each line of code into Python and fill it in the for loop below. Remember that the **index** for the bottom right IR is 1 and the bottom left IR is 3."
   ]
  },
  {
   "cell_type": "code",
   "execution_count": null,
   "metadata": {},
   "outputs": [],
   "source": [
    "for x in range(300):\n",
    "    # Write your code here\n",
    "\n",
    "zumi.stop() # Don't forget to stop at the end!\n",
    "print(\"Done!\")"
   ]
  },
  {
   "cell_type": "markdown",
   "metadata": {},
   "source": [
    "### Solution Code\n",
    "<br>\n",
    "<font size =3>\n",
    "    <details>\n",
    "        <summary><span style=\"color:blue\"><u>Click Here for the Solution!</u></span></summary>\n",
    "            <font face=\"Courier\"><br>\n",
    "                zumi.reset_PID()<br>\n",
    "                try:<br>\n",
    "                <span style=\"margin-left: 40px;\">for x in range(300):<br>\n",
    "                <span style=\"margin-left: 80px;\">ir_readings = zumi.get_all_IR_data()<br></span>\n",
    "                <span style=\"margin-left: 80px;\">bottom_right_ir = ir_readings[1]<br></span>\n",
    "                <span style=\"margin-left: 80px;\">bottom_left_ir = ir_readings[3]<br></span>\n",
    "                <span style=\"margin-left: 80px;\">if bottom_right_ir < 50 and bottom_left_ir < 50: </span><br>\n",
    "                <span style=\"margin-left: 120px;\">print(\"Detecting white\")</span><br>\n",
    "                <span style=\"margin-left: 120px;\">zumi.stop()</span><br>\n",
    "                <span style=\"margin-left: 80px;\">else:</span><br>\n",
    "                <span style=\"margin-left: 120px;\">zumi.forward_step(40, 0)</span><br>\n",
    "                finally:<br>\n",
    "                <span style=\"margin-left: 40px;\">zumi.stop()</span><br>\n",
    "                print(\"Done!\")<br>\n",
    "            </font>\n",
    "    </details>\n",
    "</font>"
   ]
  },
  {
   "cell_type": "markdown",
   "metadata": {},
   "source": [
    "<font size=3> Use electrical tape on a light surface or the worksheet included [here](https://drive.google.com/file/d/1QQRkhAL7k7et0Qm_h0UMTNAopj15zqfI/view) with the lesson guide to test your code. If you don't want your code to keep running even after Zumi has stopped, replace <font face=\"Courier\">zumi.stop()</font> in the if statement with <font face=\"Courier\">break</font>. For example:</font> <br> <br>\n",
    "\n",
    "<font face=\"Courier\">\n",
    "    \n",
    "if left_ir < 50 and right_ir < 50: <br>\n",
    "<span style=\"margin-left: 40px;\">break</span> <br>\n",
    "</font>\n",
    "\n",
    "\n",
    "<font size=3>Using a break statement will stop your for loop, even if all of the iterations haven't finished. This will allow you to move on to the rest of your code (if there is any) without waiting for the for loop to finish. Test it in your code above!</font>\n",
    "\n",
    "## Line Following\n",
    "<font size=3> Now instead of stopping when Zumi sees the line, she is going to follow it. On the road, Zumi uses the camera to detect lanes and stay inside of them. In this case, you will make Zumi stay on the line by calling a function. First, let's learn how it works.\n",
    "    \n",
    "<img src=\"../Data/images/line_follower.png\" width=400>\n",
    "\n",
    "Since this lesson is all about bottom IR sensors, this code uses both of them to check the line. Pretend you are walking on a piece of tape on the floor. If your right foot steps off the line, which way do you turn? What about your left foot? The IR sensors use the same logic. <br> <br>\n",
    "    \n",
    "<img src=\"../Data/images/black_line.png\" width=400></font>\n",
    "\n",
    "### Line_follower()\n",
    "<font size=3> Let's test the function! Use electrical tape or the driving school mat (if you have one) and line Zumi up on the starting black line. The function <font face=\"Courier\">zumi.line_follower()</font> needs at least one parameter: duration. For example, let's have the program run for 3 seconds."
   ]
  },
  {
   "cell_type": "code",
   "execution_count": null,
   "metadata": {},
   "outputs": [],
   "source": [
    "zumi.line_follower(3)"
   ]
  },
  {
   "cell_type": "markdown",
   "metadata": {},
   "source": [
    "<font size=3> If you think that Zumi is not detecting the lines very well, or that the difference between dark and light is not big enough, you might need to adjust the **thresholds**, or limits, that the IR sensors will detect. Their default is set to 100. Refer to lesson 3.1 to test your IR sensors and figure out your thresholds.</font><br>\n",
    "\n",
    "<font size=3><font face=\"Courier\">zumi.line_follower(3, left_thresh=100,right_thresh=100)</font>\n",
    "\n",
    "<font size=3>**Note**: This function calls a while loop. If both of the IR sensors see white (the end of the line), the code will automatically stop, even if the time was not completed.</font>"
   ]
  },
  {
   "cell_type": "markdown",
   "metadata": {},
   "source": [
    "# Competition: Code in Action! <br>\n",
    "<img src=\"../Data/images/competition_challenge_c.jpg\" width=400 align=\"center\"> <br>\n",
    "<font size=3> In the competition field, you may have noticed the paths in the last section are made up of only lines. For this section, the line_follower() function can be used to make sure that the Zumi is properly following the path. Check out the sample code below to see how the Zumi would follow a line on the competition field!"
   ]
  },
  {
   "cell_type": "markdown",
   "metadata": {},
   "source": [
    "<font size=3>insert line following code here"
   ]
  },
  {
   "cell_type": "code",
   "execution_count": null,
   "metadata": {},
   "outputs": [],
   "source": []
  }
 ],
 "metadata": {
  "kernelspec": {
   "display_name": "Python 3",
   "language": "python",
   "name": "python3"
  },
  "language_info": {
   "codemirror_mode": {
    "name": "ipython",
    "version": 3
   },
   "file_extension": ".py",
   "mimetype": "text/x-python",
   "name": "python",
   "nbconvert_exporter": "python",
   "pygments_lexer": "ipython3",
   "version": "3.5.3"
  }
 },
 "nbformat": 4,
 "nbformat_minor": 2
}
