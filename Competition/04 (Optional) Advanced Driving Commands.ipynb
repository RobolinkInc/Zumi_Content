{
 "cells": [
  {
   "cell_type": "markdown",
   "metadata": {
    "deletable": false
   },
   "source": [
    "<img src=\"../Data/images/ZumiHeader.png\" width=700>"
   ]
  },
  {
   "cell_type": "markdown",
   "metadata": {
    "deletable": false
   },
   "source": [
    "# Shapes with Loops\n",
    "\n",
    "<font size =3> Usually, certain shapes have a set number of degrees that the internal angles add up to. For example, a square's angles add up to 360°, while a triangle’s angles add up to 180°. For shapes that have sides of equal length, you will learn how to use a loop to write more efficient code.</font>\n",
    "\n",
    "<img src=\"../Data/images/shapes.png\">"
   ]
  },
  {
   "cell_type": "markdown",
   "metadata": {
    "deletable": false
   },
   "source": [
    "## Introduction\n",
    "<font size=3> Always remember to include the library! </font>\n",
    "\n",
    "### Import libraries "
   ]
  },
  {
   "cell_type": "code",
   "execution_count": null,
   "metadata": {
    "deletable": false
   },
   "outputs": [],
   "source": [
    "from zumi.zumi import Zumi\n",
    "import time\n",
    "\n",
    "zumi = Zumi()"
   ]
  },
  {
   "cell_type": "markdown",
   "metadata": {
    "deletable": false
   },
   "source": [
    "### Square code\n",
    "<font size =3> To appreciate the value of a for loop, first think about the code for driving in a square. Since a square has four equal sides, you would need to go forward then turn left or right four times.</font>\n",
    "\n",
    "<img src=\"../Data/images/square.png\" width=200>\n",
    "\n",
    "<font size =3>Using drive commands from Lesson 1.1, write a simple square code.</font>"
   ]
  },
  {
   "cell_type": "code",
   "execution_count": null,
   "metadata": {
    "deletable": false
   },
   "outputs": [],
   "source": [
    "# Write a square code here."
   ]
  },
  {
   "cell_type": "markdown",
   "metadata": {
    "deletable": false
   },
   "source": [
    "## Loops\n",
    "<font size =3> You have probably noticed that you repeat the same section of code four times. That's a lot of typing! To get around this, you can use a loop, which lets you repeat parts of your code. They're a great shortcut --- without them, you would always have to write the same lines over and over again. They are called loops because the last statement loops around back to the beginning.</font>\n",
    "\n",
    "<img src=\"../Data/images/loop_square.png\" width=300>\n",
    "\n",
    "### For loops\n",
    "<font size =3> A for loop will repeat as many times as it is programmed. This means you can choose how many times your code will repeat! Here is the same square code written as a loop in Python. What do you notice?<br><br>\n",
    "    \n",
    "<font face=\"Courier\">\n",
    "for x in range(4): <br>\n",
    "<span style=\"margin-left: 40px;\">zumi.forward()</span> <br>\n",
    "<span style=\"margin-left: 40px;\">zumi.turn_left()</span> <br>\n",
    "</font>\n",
    "\n",
    " In this example, x is a **variable**, or placeholder, to keep track of how many times the loop has run. What number do you think the loop starts at? Run the cell below and count the outputs. We have separated the outputs with a one second delay to make it easier to count. See how the loop prints the value of x, our variable, as it increases by one each **iteration**. </font>\n"
   ]
  },
  {
   "cell_type": "code",
   "execution_count": null,
   "metadata": {
    "deletable": false
   },
   "outputs": [],
   "source": [
    "for number in range(4):\n",
    "    print(number)\n",
    "    time.sleep(1)"
   ]
  },
  {
   "cell_type": "markdown",
   "metadata": {
    "deletable": false
   },
   "source": [
    "<font size =3> Did you see that the variable starts at 0 and ends at 3? In Python, loops start at 0 and increment by 1\n",
    "by default. At the beginning of the program, x = 0. By the end of the program, x=3. The variable stops at 3 because the loop will continue as long as long as x is less than the value in the parentheses. Adding one more to three means x=4. 4 is not less than 4, so the loop stops. Try changing the value in the parenthesis to control the number of iterations. What number does it stop at?\n",
    "\n",
    "In the cell below, practice for loops by making a square with four **right** turns instead of left turns. </font>"
   ]
  },
  {
   "cell_type": "code",
   "execution_count": null,
   "metadata": {},
   "outputs": [],
   "source": [
    "# Use a loop to code your own square!"
   ]
  },
  {
   "cell_type": "markdown",
   "metadata": {},
   "source": [
    "## More shapes!\n",
    "\n",
    "<font size=3> What other shapes can you make with loops? The square is the easiest because each turn is 90 degrees, but what about other shapes? How many sides does a triangle have? This particular triangle will be an **equilateral** triangle, meaning all three sides are of equal length and every angle is the same number of degrees.\n",
    "Here's a hint: the exterior angles of all **regular** polygons, or shapes with equal sides, always add up to 360 degrees. <br>\n",
    "\n",
    "<img src=\"../Data/images/square_vs_triangle.png\" width=700>\n",
    "\n",
    "    "
   ]
  },
  {
   "cell_type": "code",
   "execution_count": null,
   "metadata": {},
   "outputs": [],
   "source": [
    "# Write your triangle code here! "
   ]
  },
  {
   "cell_type": "markdown",
   "metadata": {
    "deletable": false
   },
   "source": [
    "<font size =3> There are many other shapes you can teach Zumi. Try pentagons, hexagons, or octagons! You may need a pencil and paper to figure out how many degrees you need to turn. Remember, the number of degrees multiplied by the number of sides should be equal to 360 degrees. </font>\n",
    "\n",
    "<img src=\"../Data/images/shapes2.jpg\" width=700>\n",
    "\n"
   ]
  },
  {
   "cell_type": "code",
   "execution_count": null,
   "metadata": {
    "deletable": false
   },
   "outputs": [],
   "source": [
    "# Code a pentagon"
   ]
  },
  {
   "cell_type": "code",
   "execution_count": null,
   "metadata": {},
   "outputs": [],
   "source": [
    "# Code a hexagon"
   ]
  },
  {
   "cell_type": "code",
   "execution_count": null,
   "metadata": {},
   "outputs": [],
   "source": [
    "# Code an octagon"
   ]
  },
  {
   "cell_type": "markdown",
   "metadata": {},
   "source": [
    "<hr>\n",
    "\n",
    "# Extension Activities <br> \n",
    "\n",
    "<img src=\"../Data/images/math_extension.jpg\" width=70 align=\"left\">\n",
    "\n",
    "### Perimeters and areas<br> <br>\n",
    "<font size=3>Use tape or a large mat to design a coordinate plane on the floor. Mark when your Zumi stops and turn to determine the points of the shape. Next, measure the length of the shape’s sides and find the perimeter(or circumference) and area of the shape.</font>\n",
    "\n",
    "\n",
    "<img src=\"../Data/images/math_extension.jpg\" width=70 align=\"left\">\n",
    "\n",
    "### Transformations <br> <br>\n",
    "<font size=3> For each shape you program, program a rotation, reflection, or translation of their original shape.<br> <br>\n",
    "**Rotation** means a shape is turned around one central point.<br>\n",
    "**Reflection** means a shape is flipped over a line.<br>\n",
    "**Transformation** means every point of a shape is moved the same distance in the same direction.<br> <br>\n",
    "\n",
    "In all three, the shape still has the same size, area, angles, and line lengths.\n",
    "</font>\n",
    "\n",
    "\n",
    "\n",
    "\n",
    "\n",
    "\n",
    "\n"
   ]
  }
 ],
 "metadata": {
  "kernelspec": {
   "display_name": "Python 3",
   "language": "python",
   "name": "python3"
  },
  "language_info": {
   "codemirror_mode": {
    "name": "ipython",
    "version": 3
   },
   "file_extension": ".py",
   "mimetype": "text/x-python",
   "name": "python",
   "nbconvert_exporter": "python",
   "pygments_lexer": "ipython3",
   "version": "3.5.3"
  }
 },
 "nbformat": 4,
 "nbformat_minor": 2
}
