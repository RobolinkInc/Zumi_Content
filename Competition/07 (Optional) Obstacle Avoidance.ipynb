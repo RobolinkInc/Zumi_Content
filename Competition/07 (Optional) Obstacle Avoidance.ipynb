{
 "cells": [
  {
   "cell_type": "markdown",
   "metadata": {
    "deletable": false
   },
   "source": [
    "<img src=\"../Data/images/ZumiHeader.png\" width=700>"
   ]
  },
  {
   "cell_type": "markdown",
   "metadata": {
    "deletable": false
   },
   "source": [
    "# Obstacle Avoidance (Front IR)\n",
    "\n",
    "<font size =3> Have you ever been in a car when the emergency auto brakes went on? What happened? How was the car able to tell when to stop? Self-driving cars need to be able to avoid obstacles in an emergency. Instead of infrared, they use more advanced sensors like **LIDAR** (Light Imaging Detection and Ranging) and **RADAR**. LIDAR uses laser light to map out the environment while RADAR uses radio waves. Despite not having this technology, Zumi can still avoid obstacles! </font>\n",
    "\n",
    "<img src=\"../Data/images/zumi_ir_detect.jpg\" width=600>\n",
    "\n",
    "## Import libraries"
   ]
  },
  {
   "cell_type": "code",
   "execution_count": null,
   "metadata": {
    "deletable": false
   },
   "outputs": [],
   "source": [
    "from zumi.zumi import Zumi\n",
    "import time\n",
    "\n",
    "zumi = Zumi()"
   ]
  },
  {
   "cell_type": "markdown",
   "metadata": {
    "deletable": false
   },
   "source": [
    "## Stop for Pedestrians\n",
    "<font size=3> As you saw in the video, it is extremely important for self-driving cars to be able to detect dangers up ahead, especially if they are pedetrians! In this activity, you will code Zumi to drive forward using <font face=\"Courier\">go_straight()</font> until she detects your hand with either the front left or front right IR sensor. now When you take your hand away, Zumi should keep driving.</font>\n",
    "\n",
    "### Pseudocode\n",
    "<font size=3> This time, you will be writing the pseudocode for this mission! In the cell below, write each line of pseudocode as a **comment**. You can do this by putting the pound sign (#) at the beginning of the line. The computer will ignore them but they are a great way to organize your code and provide documentation. "
   ]
  },
  {
   "cell_type": "code",
   "execution_count": null,
   "metadata": {},
   "outputs": [],
   "source": [
    "# Write pseudocode in here"
   ]
  },
  {
   "cell_type": "markdown",
   "metadata": {},
   "source": [
    "<font size=3> Once you have your pseudocode, translate each line of code into Python and fill it in the for loop below:"
   ]
  },
  {
   "cell_type": "code",
   "execution_count": null,
   "metadata": {},
   "outputs": [],
   "source": [
    "for x in range(300):\n",
    "    # Write your code here\n",
    "\n",
    "zumi.stop() # Don't forget to stop at the end!\n",
    "print(\"Done!\")"
   ]
  },
  {
   "cell_type": "markdown",
   "metadata": {},
   "source": [
    "## Zumi Maze\n",
    "\n",
    "<font size=3> Collision avoidance is an essential feature in any car, but a self-driving car would have to go around the obstacles. In this section, you will learn about how to change direction if Zumi encounters an obstacle.<br>\n",
    "\n",
    "<img src=\"../Data/images/blank_maze.png\" width=300>\n",
    "\n",
    "For this activity, you will need both of your front IR sensors. This time, instead of stopping and waiting for the obstacle to be removed, you will tell Zumi to turn a little to the left or to the right to go around, depending on which sensor is triggered.</font>\n",
    "\n",
    "### Initialize heading\n",
    "\n",
    "<font size=3> In the beginning of the program, set your heading to 0. You can create a variable with a different name, like <font face=\"Courier\">angle</font> or <font face=\"Courier\">direction</font>, but we will use <font face=\"Courier\">heading</font> in this example. The reason you will be using a variable is because your direction will constantly be changing depending on what obstacles get in Zumi's way!<br><br>\n",
    "    \n",
    "<font face=\"Courier\">\n",
    "    heading=0</font>\n",
    "    \n",
    "For all of our programs, it is very important to set the heading to zero to make sure you start off going straight!</font>\n",
    "\n",
    "### Change heading\n",
    "    \n",
    "<font size=3>For this mission, your goal is to turn a little to the left if your right sensor is triggered, and a little to the right if your left sensor is triggered. If both sensors are triggered, something is directly in front! Zumi will need to do a complete 180 to avoid what could possible be a dead end. Instead of calling <font face=\"Courier\">turn_left()</font> or <font face=\"Courier\">turn_right()</font>, you will instruct Zumi to change heading by adding or subtracting degrees. For example: <br><br>\n",
    "\n",
    "<font face=\"Courier\">\n",
    "if front_right_ir < 100: <br>\n",
    "<span style=\"margin-left: 40px;\"> heading = heading + 30 </span><br>\n",
    "    </font>\n",
    "    \n",
    "Since the right sensor being triggered means we go **left**, you need to **add** degrees, not subtract. Look back to the lesson gyroscopes if you need help remembering absolute angles.</font>\n",
    "    \n",
    "### Pseudocode\n",
    "\n",
    "<font face=\"Courier\">\n",
    "set heading to zero<br>\n",
    "check IR sensors<br>\n",
    "if front right sensor is triggered, change heading by positive degrees to go left<br>\n",
    "else if front left sensor is triggered, change heading by negative degrees to go right<br>\n",
    "else if both sensors are triggered, stop, reverse a little bit, and change heading by 180 (positive or negative)<br>\n",
    "keep going straight with the new heading<br>\n",
    "repeat!<br>\n",
    "</font>\n",
    "\n",
    "### Logical operators\n",
    "\n",
    "<font size=3> Before you go into writing your code, notice that the third if statement is checking if both are triggered. In Python, you would use the **and** operator, just like in English! <br><br>\n",
    "    \n",
    "<font face=\"Courier\">\n",
    "if front_right_ir < 100 and front_left_ir < 100: <br>\n",
    "<span style=\"margin-left: 40px;\"> # Write code here to stop, reverse, and change directions by 180 </span><br>\n",
    "    </font>\n",
    "    "
   ]
  },
  {
   "cell_type": "code",
   "execution_count": null,
   "metadata": {},
   "outputs": [],
   "source": [
    "# Write out your code here!\n",
    "\n",
    "heading = 0\n",
    "zumi.reset_gyro()\n",
    "\n",
    "for x in range(1000):\n",
    "    # Statements\n",
    "\n",
    "zumi.stop()"
   ]
  }
 ],
 "metadata": {
  "kernelspec": {
   "display_name": "Python 3",
   "language": "python",
   "name": "python3"
  },
  "language_info": {
   "codemirror_mode": {
    "name": "ipython",
    "version": 3
   },
   "file_extension": ".py",
   "mimetype": "text/x-python",
   "name": "python",
   "nbconvert_exporter": "python",
   "pygments_lexer": "ipython3",
   "version": "3.5.3"
  }
 },
 "nbformat": 4,
 "nbformat_minor": 2
}
