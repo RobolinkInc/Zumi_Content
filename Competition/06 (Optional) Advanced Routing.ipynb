{
 "cells": [
  {
   "cell_type": "markdown",
   "metadata": {},
   "source": [
    "<img src=\"../Data/images/ZumiHeader.png\" width=700>"
   ]
  },
  {
   "cell_type": "markdown",
   "metadata": {},
   "source": [
    "# Lesson: Advanced Routing<br>\n",
    "<font size =3>You have learned about the gyroscope to keep track of which direction you are facing, but what about keeping track of your coordinates? In this lesson, you will learn how to use the move_to_coordinate() function to complete challenges.\n"
   ]
  },
  {
   "cell_type": "markdown",
   "metadata": {},
   "source": [
    "## Coordinate System<br>\n",
    "<font size =3>When you think about a coordinate system, what do you think of? You might think of the Cartesian plane taught in math class:\n"
   ]
  },
  {
   "cell_type": "markdown",
   "metadata": {},
   "source": [
    "<img src=\"../Data/images/coordinate_grid.png\" width=300>"
   ]
  },
  {
   "cell_type": "markdown",
   "metadata": {},
   "source": [
    "<font size =3>The “origin” is your starting point, located at x=0 and y=0, or where the two lines intersect.\n",
    "X-Values to the right of the origin (greater than 0) are positive, and x-values to the left of the origin (less than 0) are negative. Similarly, y-values above the origin are positive and y-values below the origin are negative. We can define any point on the plane with an ordered pair. In the picture above, (-1,-2) means that from the origin, we are one unit to the left and 2 units down.<br><br>\n",
    "Let’s practice! What are the coordinates of these points?\n",
    "\n"
   ]
  },
  {
   "cell_type": "markdown",
   "metadata": {},
   "source": [
    "<img src=\"../Data/images/coordinate_grid_2.png\" width=300>"
   ]
  },
  {
   "cell_type": "markdown",
   "metadata": {},
   "source": [
    "### Solution Code\n",
    "<br>\n",
    "<font size =3>\n",
    "    <details>\n",
    "        <summary><span style=\"color:blue\"><u>Click Here for the Solution!</u></span></summary>\n",
    "            <font face=\"Courier\"><br>\n",
    "                <span style=\"margin-left: 40px;\"> a) (-2,2) </span><br>\n",
    "                <span style=\"margin-left: 40px;\"> b) (4,-2) </span><br>\n",
    "                <span style=\"margin-left: 40px;\"> c) (4,4) </span><br>\n",
    "                <span style=\"margin-left: 40px;\"> d) (-2,4) </span><br>\n",
    "            </font>\n",
    "    </details>\n",
    "</font>"
   ]
  },
  {
   "cell_type": "markdown",
   "metadata": {},
   "source": [
    "[Add visual] \n",
    "\n",
    "\n",
    "<font size =3>Now, imagine Zumi is on this plane starting at the origin facing the positive x-axis. If you told Zumi to go to point C -> B -> Origin, what would the path look like?\n"
   ]
  },
  {
   "cell_type": "markdown",
   "metadata": {},
   "source": [
    "<img src=\"../Data/images/zumi_coordinate_grid.png\" width=300>"
   ]
  },
  {
   "cell_type": "markdown",
   "metadata": {},
   "source": [
    "## Speed Calibration\n",
    "<font size =3>https://learn.robolink.com/docs/zumi-library/speed_calibration%28%29\n",
    "\n",
    "First, you need to calibrate your Zumi to drive at accurate distances.\n",
    "The speed calibration works by measuring the black and white line markers on the speed calibration road piece which you can download and print here. \n",
    "\n",
    "https://learn.robolink.com/wp-content/uploads/2021/06/calibration.pdf\n",
    "    \n",
    "With this piece you can run the speed calibration function which will drive zumi over 5 road markers. \n",
    "The speed calibration piece must be printed to scale in order for it to work successfully. \n",
    "Each of the road marker pieces are spaced 2 centimeters apart. Zumi uses this information to predict the speed it travels at.\n"
   ]
  },
  {
   "cell_type": "code",
   "execution_count": null,
   "metadata": {},
   "outputs": [],
   "source": [
    "from zumi.zumi import Zumi\n",
    "\n",
    "zumi = Zumi()\n",
    "zumi.speed_calibration()"
   ]
  },
  {
   "cell_type": "markdown",
   "metadata": {},
   "source": [
    "<font size =3>When you run the speed calibration code some values will be displayed which you will need to save and run each time you wish to use the move coordinate code. The following are examples for a specific Zumi that has been tested, your values will be different.<br>\n",
    "\n",
    "zumi.PRED_SPEED_INCHES_SEC = 6.62421011725638<br>\n",
    "zumi.PRED_SLOPE_INT_INCH = -0.7770715897402587<br>\n",
    "zumi.PRED_SET_SPEED = 40<br>\n",
    "<br>\n",
    "The predicted speed is in inches per second.<br> \n",
    "The predicted slope intercept is in inches.<br>\n",
    "The predicted set speed is the speed or percentage of battery power at which zumi was set to when doing the speed prediction.<br>\n"
   ]
  },
  {
   "cell_type": "markdown",
   "metadata": {},
   "source": [
    "## move_to_coordinate()\n",
    "<font size =3>move_to_coordinate() uses the speed calibration values to drive to desired locations it takes in two values which are the x and y coordinates. When using move coordinates you cannot increase the speed. The function will take care of turning depending on the desired coordinate.<br>\n",
    "\n",
    "When you are first going to us the coordinate function you must:<br>\n",
    "<span style=\"margin-left: 40px;\">1) Set the speed prediction values do this whenever creating the Zumi object “zumi= Zumi()”</span><br>\n",
    "<span style=\"margin-left: 40px;\">2) Reset the gyroscope to reset the angle zumi thinks she is at.</span><br>\n",
    "<span style=\"margin-left: 40px;\">3) Reset the coordinate at which Zumi thinks it is at.</span><br>\n"
   ]
  },
  {
   "cell_type": "code",
   "execution_count": null,
   "metadata": {},
   "outputs": [],
   "source": [
    "zumi.PRED_SPEED_INCHES_SEC = 6.62421011725638\n",
    "zumi.PRED_SLOPE_INT_INCH = -0.7770715897402587\n",
    "zumi.PRED_SET_SPEED = 40\n",
    "zumi.reset_gyro()\n",
    "zumi.reset_coordinate()"
   ]
  },
  {
   "cell_type": "markdown",
   "metadata": {},
   "source": [
    "<font size =3>The reset coordinate function will reset Zumi’s memory as to where she thinks she is at. It sets the coordinate back to (0,0) or x = 0 and y = 0."
   ]
  },
  {
   "cell_type": "markdown",
   "metadata": {},
   "source": [
    "## Units\n",
    "<font size =3>Now in order to use the move coordinate function you must select the units in which you want the grid to be measured in. You can select either inches or centimeters with the “units” parameter. If you set it to “cm” you will be using centimeters and “in” will be inches.<br>\n",
    "\n",
    "zumi.move_to_coordinate(10,0,units=\"cm\")\n",
    "\n",
    "The default will be inches.\n",
    "\n",
    "If you want to know what coordinate Zumi think she is in you can do so with this \n",
    "print(zumi.coordinate)\n",
    "\n",
    "Zumi’s internal program keeps track of the grid in inches so keep that in mind.\n",
    "\n",
    "### Example Code"
   ]
  },
  {
   "cell_type": "code",
   "execution_count": null,
   "metadata": {},
   "outputs": [],
   "source": [
    "zumi.reset_gyro()\n",
    "zumi.reset_coordinate()\n",
    "zumi.move_to_coordinate(10,0,units=\"cm\")\n",
    "print(zumi.coordinate) # will still be in inches"
   ]
  },
  {
   "cell_type": "code",
   "execution_count": null,
   "metadata": {},
   "outputs": [],
   "source": [
    "zumi.reset_gyro()\n",
    "zumi.reset_coordinate()\n",
    "zumi.move_to_coordinate(10,0,units=\"in\")\n",
    "print(zumi.coordinate) # will still be in inches"
   ]
  },
  {
   "cell_type": "markdown",
   "metadata": {},
   "source": [
    "<font size =3>Sometimes when using the move coordinate it is not 100% accurate and will every now and then be off by a couple of inches and degrees.\n",
    "\n",
    "It is recommended that if you change the motors, add weight to zumi, or if the motors have had heavy use you redo the speed calibration and the gyro calibration for best results.\n",
    "One tip as well is do multiple speed calibration\n",
    "\n",
    "Also note: One common mistake will be to call the move_to_coordinate() block twice to the same coordinate. Zumi will not move because she thinks she has reached her desired coordinate already. \n",
    "Another common mistake is not setting Zumi facing 0 degrees which is making zumi face the positive x axis.\n"
   ]
  },
  {
   "cell_type": "markdown",
   "metadata": {},
   "source": [
    "## Activity: Zumi Coordinate Square\n",
    "\n",
    "<font size =3>Using the move_to_coordinate() command, try to make the Zumi drive in a square formation!"
   ]
  },
  {
   "cell_type": "markdown",
   "metadata": {},
   "source": [
    "### Solution Code\n",
    "<br>\n",
    "<font size =3>\n",
    "    <details>\n",
    "        <summary><span style=\"color:blue\"><u>Click Here for the Solution!</u></span></summary>\n",
    "            <font face=\"Courier\"><br>\n",
    "                zumi.reset_gyro()<br>\n",
    "                zumi.reset_coordinate()<br>\n",
    "                zumi.move_to_coordinate(10,0) #move along x axis<br>\n",
    "                zumi.move_to_coordinate(10,10) # move along the y axis only<br>\n",
    "                zumi.move_to_coordinate(0,10) #move along the x axis only<br>\n",
    "                zumi.move_to_coordinate(0,0) #move along y axis only go back to origin<br>\n",
    "            </font>\n",
    "    </details>\n",
    "</font>"
   ]
  },
  {
   "cell_type": "code",
   "execution_count": null,
   "metadata": {},
   "outputs": [],
   "source": []
  }
 ],
 "metadata": {
  "kernelspec": {
   "display_name": "Python 3",
   "language": "python",
   "name": "python3"
  },
  "language_info": {
   "codemirror_mode": {
    "name": "ipython",
    "version": 3
   },
   "file_extension": ".py",
   "mimetype": "text/x-python",
   "name": "python",
   "nbconvert_exporter": "python",
   "pygments_lexer": "ipython3",
   "version": "3.5.3"
  }
 },
 "nbformat": 4,
 "nbformat_minor": 2
}
