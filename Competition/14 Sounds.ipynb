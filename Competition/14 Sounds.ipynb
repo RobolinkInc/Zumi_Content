{
 "cells": [
  {
   "cell_type": "markdown",
   "metadata": {},
   "source": [
    "<img src=\"../Data/images/ZumiHeader.png\" width=700>"
   ]
  },
  {
   "cell_type": "markdown",
   "metadata": {},
   "source": [
    "# Sounds\n",
    "<font size =3>Zumi can play sounds to match her emotions! Sound can be measured in frequency and amplitude. \n",
    "\n",
    "*   Frequency is the number of pulses or vibrations per second, and is measured in hertz. The higher the frequency, the higher the pitch of the sound is. \n",
    "*   Amplitude is how loud or strong the sound is and is measured in decibels. The higher the amplitude, the louder the sound is. \n",
    "\n",
    "Video: [Sound: Wavelength, Frequency, and Amplitude](https://www.youtube.com/watch?v=TsQL-sXZOLc)\n",
    "\n",
    "What does each emotion sounds like? Is happy a low or high frequency? Is angry a low or high amplitude? How does this apply to Zumi?<br></font>"
   ]
  },
  {
   "cell_type": "markdown",
   "metadata": {},
   "source": [
    "## Playing Sounds\n",
    "<font size =3>You can use <font face=\"Courier\">play_note()</font> to play various notes. The first parameter is the note you want to play (anywhere from C2 to B6). The second parameter is optional and denotes the amount of time you want the note to play in milliseconds. The default value is set to 500ms, but you can change that by adding a second parameter like this: <br><br>\n",
    "<font face=\"Courier\">play_note(Note.GS3, 400)</font>. <br><br>\n",
    "This plays the note G Sharp below middle C for 400 milliseconds. Try the code below to hear a scale and then compose your own music!</font>\n",
    "### Import Libraries"
   ]
  },
  {
   "cell_type": "code",
   "execution_count": null,
   "metadata": {},
   "outputs": [],
   "source": [
    "from zumi.protocol import Note \n",
    "from zumi.zumi import Zumi\n",
    "\n",
    "zumi = Zumi()"
   ]
  },
  {
   "cell_type": "markdown",
   "metadata": {},
   "source": [
    "<font size =3>Run the code below after importing Zumi's libraries to heard Zumi play a scale!"
   ]
  },
  {
   "cell_type": "code",
   "execution_count": null,
   "metadata": {},
   "outputs": [],
   "source": [
    "zumi.play_note(Note.C4)\n",
    "zumi.play_note(Note.D4)\n",
    "zumi.play_note(Note.E4)\n",
    "zumi.play_note(Note.F4)\n",
    "zumi.play_note(Note.G4)\n",
    "zumi.play_note(Note.A4)\n",
    "zumi.play_note(Note.B4)\n",
    "zumi.play_note(Note.C5)"
   ]
  },
  {
   "cell_type": "markdown",
   "metadata": {},
   "source": [
    "<font size =3> Try coding your own melodies here! These notes can be used for anything ranging from alerting you that the Zumi has completed a task or detected an object."
   ]
  },
  {
   "cell_type": "code",
   "execution_count": null,
   "metadata": {},
   "outputs": [],
   "source": [
    "# Make your melodies here 🎵 "
   ]
  },
  {
   "cell_type": "markdown",
   "metadata": {},
   "source": [
    "### Integrating Sounds Into Your Code"
   ]
  },
  {
   "cell_type": "markdown",
   "metadata": {},
   "source": [
    "<font size =3>After some experimentation, you might have discovered that Zumi's sounds can be combined with other code. Mixing sounds into your programs can make them fun and interesting, but those sounds can also play important parts in alerting users. Here are a few code examples of how notes have been combined with Zumi's other functions!"
   ]
  },
  {
   "cell_type": "code",
   "execution_count": null,
   "metadata": {},
   "outputs": [],
   "source": [
    "#Example 1: play a sound after Zumi has completed the loop to drive in a heaxagon\n",
    "zumi.reset_gyro()\n",
    "try:\n",
    "    for x in range(6):\n",
    "        zumi.forward()\n",
    "        zumi.turn_right(60)\n",
    "finally:\n",
    "    zumi.play_note(Note.E4)\n",
    "    zumi.play_note(Note.F4)\n",
    "    zumi.play_note(Note.D4)"
   ]
  },
  {
   "cell_type": "code",
   "execution_count": null,
   "metadata": {},
   "outputs": [],
   "source": [
    "#Example 2: play a sound when Zumi has detected an object in front of it\n",
    "# set the gyro to zero degrees\n",
    "zumi.reset_gyro()\n",
    "try:\n",
    "    for x in range(300):\n",
    "        ir_readings = zumi.get_all_IR_data()\n",
    "        front_right_ir = ir_readings[0]\n",
    "        front_left_ir = ir_readings[5]\n",
    "        if front_right_ir < 100 or front_left_ir < 100:\n",
    "            zumi.stop()\n",
    "            zumi.play_note(Note.C4)\n",
    "            zumi.play_note(Note.D4)\n",
    "        else:\n",
    "            zumi.forward_step(40, 0)\n",
    "finally:\n",
    "    zumi.stop()\n",
    "print(\"Done!\")"
   ]
  },
  {
   "cell_type": "markdown",
   "metadata": {},
   "source": [
    "# Competition: Code in Action! <br>\n",
    "<font size=3> With the examples above, you can see how Zumi can play sounds to alert you to when a task has been completed or if an obstacle has been detected. In the competition, the challenges require Zumi to play a \"do-re-mi\" sound after detecting QR codes, stop signs, or color cards. Try experimenting with the different notes to find the correct tune to play whenever Zumi detects something!<br>"
   ]
  }
 ],
 "metadata": {
  "kernelspec": {
   "display_name": "Python 3",
   "language": "python",
   "name": "python3"
  },
  "language_info": {
   "codemirror_mode": {
    "name": "ipython",
    "version": 3
   },
   "file_extension": ".py",
   "mimetype": "text/x-python",
   "name": "python",
   "nbconvert_exporter": "python",
   "pygments_lexer": "ipython3",
   "version": "3.5.3"
  }
 },
 "nbformat": 4,
 "nbformat_minor": 2
}
